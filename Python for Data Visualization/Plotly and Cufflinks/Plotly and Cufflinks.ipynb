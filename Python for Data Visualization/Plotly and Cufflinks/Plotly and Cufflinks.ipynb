{
 "cells": [
  {
   "cell_type": "markdown",
   "metadata": {},
   "source": [
    "___\n",
    "# Plotly and Cufflinks"
   ]
  },
  {
   "cell_type": "markdown",
   "metadata": {},
   "source": [
    "Plotly is a library that allows you to create interactive plots that you can use in dashboards or websites (you can save them as html files or static images).\n",
    "\n",
    "## Installation\n",
    "\n",
    "In order for this all to work, you'll need to install plotly and cufflinks to call plots directly off of a pandas dataframe. These libraries are not currently available through **conda** but are available through **pip**. Install the libraries at your command line/terminal using:\n",
    "\n",
    "    pip install plotly\n",
    "    pip install cufflinks\n",
    "\n",
    "** NOTE: Make sure you only have one installation of Python on your computer when you do this, otherwise the installation may not work. **\n",
    "\n",
    "## Imports and Set-up"
   ]
  },
  {
   "cell_type": "code",
   "execution_count": 1,
   "metadata": {
    "collapsed": true
   },
   "outputs": [],
   "source": [
    "import pandas as pd\n",
    "import numpy as np\n",
    "%matplotlib inline"
   ]
  },
  {
   "cell_type": "code",
   "execution_count": 2,
   "metadata": {
    "collapsed": false
   },
   "outputs": [
    {
     "output_type": "stream",
     "name": "stdout",
     "text": [
      "5.0.0\n"
     ]
    }
   ],
   "source": [
    "from plotly import __version__\n",
    "from plotly.offline import download_plotlyjs, init_notebook_mode, plot, iplot\n",
    "\n",
    "print(__version__) # requires version >= 1.9.0"
   ]
  },
  {
   "cell_type": "code",
   "execution_count": 3,
   "metadata": {
    "collapsed": true
   },
   "outputs": [],
   "source": [
    "import cufflinks as cf"
   ]
  },
  {
   "cell_type": "code",
   "execution_count": 4,
   "metadata": {
    "collapsed": false
   },
   "outputs": [
    {
     "output_type": "display_data",
     "data": {
      "text/html": "        <script type=\"text/javascript\">\n        window.PlotlyConfig = {MathJaxConfig: 'local'};\n        if (window.MathJax) {MathJax.Hub.Config({SVG: {font: \"STIX-Web\"}});}\n        if (typeof require !== 'undefined') {\n        require.undef(\"plotly\");\n        requirejs.config({\n            paths: {\n                'plotly': ['https://cdn.plot.ly/plotly-2.1.0.min']\n            }\n        });\n        require(['plotly'], function(Plotly) {\n            window._Plotly = Plotly;\n        });\n        }\n        </script>\n        "
     },
     "metadata": {}
    }
   ],
   "source": [
    "# For Notebooks\n",
    "init_notebook_mode(connected=True)"
   ]
  },
  {
   "cell_type": "code",
   "execution_count": 5,
   "metadata": {
    "collapsed": false
   },
   "outputs": [
    {
     "output_type": "display_data",
     "data": {
      "text/html": "        <script type=\"text/javascript\">\n        window.PlotlyConfig = {MathJaxConfig: 'local'};\n        if (window.MathJax) {MathJax.Hub.Config({SVG: {font: \"STIX-Web\"}});}\n        if (typeof require !== 'undefined') {\n        require.undef(\"plotly\");\n        requirejs.config({\n            paths: {\n                'plotly': ['https://cdn.plot.ly/plotly-2.1.0.min']\n            }\n        });\n        require(['plotly'], function(Plotly) {\n            window._Plotly = Plotly;\n        });\n        }\n        </script>\n        "
     },
     "metadata": {}
    }
   ],
   "source": [
    "# For offline use\n",
    "cf.go_offline()"
   ]
  },
  {
   "cell_type": "markdown",
   "metadata": {},
   "source": [
    "### Fake Data"
   ]
  },
  {
   "cell_type": "code",
   "execution_count": 6,
   "metadata": {
    "collapsed": false
   },
   "outputs": [],
   "source": [
    "df = pd.DataFrame(np.random.randn(100,4),columns='A B C D'.split())"
   ]
  },
  {
   "cell_type": "code",
   "execution_count": 7,
   "metadata": {
    "collapsed": false
   },
   "outputs": [
    {
     "output_type": "execute_result",
     "data": {
      "text/plain": [
       "          A         B         C         D\n",
       "0 -0.282253  0.285739 -2.042778  0.213526\n",
       "1  0.111780  1.361361 -0.808629  1.163782\n",
       "2 -0.103651 -1.524084  0.079513 -1.493148\n",
       "3  0.026561 -0.190530  0.522175 -1.489665\n",
       "4 -1.558976  0.475866 -0.315393 -3.034823"
      ],
      "text/html": "<div>\n<style scoped>\n    .dataframe tbody tr th:only-of-type {\n        vertical-align: middle;\n    }\n\n    .dataframe tbody tr th {\n        vertical-align: top;\n    }\n\n    .dataframe thead th {\n        text-align: right;\n    }\n</style>\n<table border=\"1\" class=\"dataframe\">\n  <thead>\n    <tr style=\"text-align: right;\">\n      <th></th>\n      <th>A</th>\n      <th>B</th>\n      <th>C</th>\n      <th>D</th>\n    </tr>\n  </thead>\n  <tbody>\n    <tr>\n      <th>0</th>\n      <td>-0.282253</td>\n      <td>0.285739</td>\n      <td>-2.042778</td>\n      <td>0.213526</td>\n    </tr>\n    <tr>\n      <th>1</th>\n      <td>0.111780</td>\n      <td>1.361361</td>\n      <td>-0.808629</td>\n      <td>1.163782</td>\n    </tr>\n    <tr>\n      <th>2</th>\n      <td>-0.103651</td>\n      <td>-1.524084</td>\n      <td>0.079513</td>\n      <td>-1.493148</td>\n    </tr>\n    <tr>\n      <th>3</th>\n      <td>0.026561</td>\n      <td>-0.190530</td>\n      <td>0.522175</td>\n      <td>-1.489665</td>\n    </tr>\n    <tr>\n      <th>4</th>\n      <td>-1.558976</td>\n      <td>0.475866</td>\n      <td>-0.315393</td>\n      <td>-3.034823</td>\n    </tr>\n  </tbody>\n</table>\n</div>"
     },
     "metadata": {},
     "execution_count": 7
    }
   ],
   "source": [
    "df.head()"
   ]
  },
  {
   "cell_type": "code",
   "execution_count": 8,
   "metadata": {
    "collapsed": true
   },
   "outputs": [],
   "source": [
    "df2 = pd.DataFrame({'Category':['A','B','C'],'Values':[32,43,50]})"
   ]
  },
  {
   "cell_type": "code",
   "execution_count": 9,
   "metadata": {
    "collapsed": false
   },
   "outputs": [
    {
     "output_type": "execute_result",
     "data": {
      "text/plain": [
       "  Category  Values\n",
       "0        A      32\n",
       "1        B      43\n",
       "2        C      50"
      ],
      "text/html": "<div>\n<style scoped>\n    .dataframe tbody tr th:only-of-type {\n        vertical-align: middle;\n    }\n\n    .dataframe tbody tr th {\n        vertical-align: top;\n    }\n\n    .dataframe thead th {\n        text-align: right;\n    }\n</style>\n<table border=\"1\" class=\"dataframe\">\n  <thead>\n    <tr style=\"text-align: right;\">\n      <th></th>\n      <th>Category</th>\n      <th>Values</th>\n    </tr>\n  </thead>\n  <tbody>\n    <tr>\n      <th>0</th>\n      <td>A</td>\n      <td>32</td>\n    </tr>\n    <tr>\n      <th>1</th>\n      <td>B</td>\n      <td>43</td>\n    </tr>\n    <tr>\n      <th>2</th>\n      <td>C</td>\n      <td>50</td>\n    </tr>\n  </tbody>\n</table>\n</div>"
     },
     "metadata": {},
     "execution_count": 9
    }
   ],
   "source": [
    "df2.head()"
   ]
  },
  {
   "cell_type": "code",
   "execution_count": 10,
   "metadata": {},
   "outputs": [
    {
     "output_type": "execute_result",
     "data": {
      "text/plain": [
       "<AxesSubplot:>"
      ]
     },
     "metadata": {},
     "execution_count": 10
    },
    {
     "output_type": "display_data",
     "data": {
      "text/plain": "<Figure size 432x288 with 1 Axes>",
      "image/svg+xml": "<?xml version=\"1.0\" encoding=\"utf-8\" standalone=\"no\"?>\n<!DOCTYPE svg PUBLIC \"-//W3C//DTD SVG 1.1//EN\"\n  \"http://www.w3.org/Graphics/SVG/1.1/DTD/svg11.dtd\">\n<!-- Created with matplotlib (https://matplotlib.org/) -->\n<svg height=\"251.511649pt\" version=\"1.1\" viewBox=\"0 0 370.942187 251.511649\" width=\"370.942187pt\" xmlns=\"http://www.w3.org/2000/svg\" xmlns:xlink=\"http://www.w3.org/1999/xlink\">\n <metadata>\n  <rdf:RDF xmlns:cc=\"http://creativecommons.org/ns#\" xmlns:dc=\"http://purl.org/dc/elements/1.1/\" xmlns:rdf=\"http://www.w3.org/1999/02/22-rdf-syntax-ns#\">\n   <cc:Work>\n    <dc:type rdf:resource=\"http://purl.org/dc/dcmitype/StillImage\"/>\n    <dc:date>2021-06-26T19:07:41.951692</dc:date>\n    <dc:format>image/svg+xml</dc:format>\n    <dc:creator>\n     <cc:Agent>\n      <dc:title>Matplotlib v3.3.4, https://matplotlib.org/</dc:title>\n     </cc:Agent>\n    </dc:creator>\n   </cc:Work>\n  </rdf:RDF>\n </metadata>\n <defs>\n  <style type=\"text/css\">*{stroke-linecap:butt;stroke-linejoin:round;}</style>\n </defs>\n <g id=\"figure_1\">\n  <g id=\"patch_1\">\n   <path d=\"M 0 251.511649 \nL 370.942187 251.511649 \nL 370.942187 0 \nL 0 0 \nz\n\" style=\"fill:none;\"/>\n  </g>\n  <g id=\"axes_1\">\n   <g id=\"patch_2\">\n    <path d=\"M 28.942188 227.633524 \nL 363.742188 227.633524 \nL 363.742188 10.193524 \nL 28.942188 10.193524 \nz\n\" style=\"fill:#ffffff;\"/>\n   </g>\n   <g id=\"matplotlib.axis_1\">\n    <g id=\"xtick_1\">\n     <g id=\"line2d_1\">\n      <defs>\n       <path d=\"M 0 0 \nL 0 3.5 \n\" id=\"m80d179386e\" style=\"stroke:#000000;stroke-width:0.8;\"/>\n      </defs>\n      <g>\n       <use style=\"stroke:#000000;stroke-width:0.8;\" x=\"44.160369\" xlink:href=\"#m80d179386e\" y=\"227.633524\"/>\n      </g>\n     </g>\n     <g id=\"text_1\">\n      <!-- 0 -->\n      <g transform=\"translate(40.979119 242.231961)scale(0.1 -0.1)\">\n       <defs>\n        <path d=\"M 31.78125 66.40625 \nQ 24.171875 66.40625 20.328125 58.90625 \nQ 16.5 51.421875 16.5 36.375 \nQ 16.5 21.390625 20.328125 13.890625 \nQ 24.171875 6.390625 31.78125 6.390625 \nQ 39.453125 6.390625 43.28125 13.890625 \nQ 47.125 21.390625 47.125 36.375 \nQ 47.125 51.421875 43.28125 58.90625 \nQ 39.453125 66.40625 31.78125 66.40625 \nz\nM 31.78125 74.21875 \nQ 44.046875 74.21875 50.515625 64.515625 \nQ 56.984375 54.828125 56.984375 36.375 \nQ 56.984375 17.96875 50.515625 8.265625 \nQ 44.046875 -1.421875 31.78125 -1.421875 \nQ 19.53125 -1.421875 13.0625 8.265625 \nQ 6.59375 17.96875 6.59375 36.375 \nQ 6.59375 54.828125 13.0625 64.515625 \nQ 19.53125 74.21875 31.78125 74.21875 \nz\n\" id=\"DejaVuSans-48\"/>\n       </defs>\n       <use xlink:href=\"#DejaVuSans-48\"/>\n      </g>\n     </g>\n    </g>\n    <g id=\"xtick_2\">\n     <g id=\"line2d_2\">\n      <g>\n       <use style=\"stroke:#000000;stroke-width:0.8;\" x=\"105.647973\" xlink:href=\"#m80d179386e\" y=\"227.633524\"/>\n      </g>\n     </g>\n     <g id=\"text_2\">\n      <!-- 20 -->\n      <g transform=\"translate(99.285473 242.231961)scale(0.1 -0.1)\">\n       <defs>\n        <path d=\"M 19.1875 8.296875 \nL 53.609375 8.296875 \nL 53.609375 0 \nL 7.328125 0 \nL 7.328125 8.296875 \nQ 12.9375 14.109375 22.625 23.890625 \nQ 32.328125 33.6875 34.8125 36.53125 \nQ 39.546875 41.84375 41.421875 45.53125 \nQ 43.3125 49.21875 43.3125 52.78125 \nQ 43.3125 58.59375 39.234375 62.25 \nQ 35.15625 65.921875 28.609375 65.921875 \nQ 23.96875 65.921875 18.8125 64.3125 \nQ 13.671875 62.703125 7.8125 59.421875 \nL 7.8125 69.390625 \nQ 13.765625 71.78125 18.9375 73 \nQ 24.125 74.21875 28.421875 74.21875 \nQ 39.75 74.21875 46.484375 68.546875 \nQ 53.21875 62.890625 53.21875 53.421875 \nQ 53.21875 48.921875 51.53125 44.890625 \nQ 49.859375 40.875 45.40625 35.40625 \nQ 44.1875 33.984375 37.640625 27.21875 \nQ 31.109375 20.453125 19.1875 8.296875 \nz\n\" id=\"DejaVuSans-50\"/>\n       </defs>\n       <use xlink:href=\"#DejaVuSans-50\"/>\n       <use x=\"63.623047\" xlink:href=\"#DejaVuSans-48\"/>\n      </g>\n     </g>\n    </g>\n    <g id=\"xtick_3\">\n     <g id=\"line2d_3\">\n      <g>\n       <use style=\"stroke:#000000;stroke-width:0.8;\" x=\"167.135576\" xlink:href=\"#m80d179386e\" y=\"227.633524\"/>\n      </g>\n     </g>\n     <g id=\"text_3\">\n      <!-- 40 -->\n      <g transform=\"translate(160.773076 242.231961)scale(0.1 -0.1)\">\n       <defs>\n        <path d=\"M 37.796875 64.3125 \nL 12.890625 25.390625 \nL 37.796875 25.390625 \nz\nM 35.203125 72.90625 \nL 47.609375 72.90625 \nL 47.609375 25.390625 \nL 58.015625 25.390625 \nL 58.015625 17.1875 \nL 47.609375 17.1875 \nL 47.609375 0 \nL 37.796875 0 \nL 37.796875 17.1875 \nL 4.890625 17.1875 \nL 4.890625 26.703125 \nz\n\" id=\"DejaVuSans-52\"/>\n       </defs>\n       <use xlink:href=\"#DejaVuSans-52\"/>\n       <use x=\"63.623047\" xlink:href=\"#DejaVuSans-48\"/>\n      </g>\n     </g>\n    </g>\n    <g id=\"xtick_4\">\n     <g id=\"line2d_4\">\n      <g>\n       <use style=\"stroke:#000000;stroke-width:0.8;\" x=\"228.623179\" xlink:href=\"#m80d179386e\" y=\"227.633524\"/>\n      </g>\n     </g>\n     <g id=\"text_4\">\n      <!-- 60 -->\n      <g transform=\"translate(222.260679 242.231961)scale(0.1 -0.1)\">\n       <defs>\n        <path d=\"M 33.015625 40.375 \nQ 26.375 40.375 22.484375 35.828125 \nQ 18.609375 31.296875 18.609375 23.390625 \nQ 18.609375 15.53125 22.484375 10.953125 \nQ 26.375 6.390625 33.015625 6.390625 \nQ 39.65625 6.390625 43.53125 10.953125 \nQ 47.40625 15.53125 47.40625 23.390625 \nQ 47.40625 31.296875 43.53125 35.828125 \nQ 39.65625 40.375 33.015625 40.375 \nz\nM 52.59375 71.296875 \nL 52.59375 62.3125 \nQ 48.875 64.0625 45.09375 64.984375 \nQ 41.3125 65.921875 37.59375 65.921875 \nQ 27.828125 65.921875 22.671875 59.328125 \nQ 17.53125 52.734375 16.796875 39.40625 \nQ 19.671875 43.65625 24.015625 45.921875 \nQ 28.375 48.1875 33.59375 48.1875 \nQ 44.578125 48.1875 50.953125 41.515625 \nQ 57.328125 34.859375 57.328125 23.390625 \nQ 57.328125 12.15625 50.6875 5.359375 \nQ 44.046875 -1.421875 33.015625 -1.421875 \nQ 20.359375 -1.421875 13.671875 8.265625 \nQ 6.984375 17.96875 6.984375 36.375 \nQ 6.984375 53.65625 15.1875 63.9375 \nQ 23.390625 74.21875 37.203125 74.21875 \nQ 40.921875 74.21875 44.703125 73.484375 \nQ 48.484375 72.75 52.59375 71.296875 \nz\n\" id=\"DejaVuSans-54\"/>\n       </defs>\n       <use xlink:href=\"#DejaVuSans-54\"/>\n       <use x=\"63.623047\" xlink:href=\"#DejaVuSans-48\"/>\n      </g>\n     </g>\n    </g>\n    <g id=\"xtick_5\">\n     <g id=\"line2d_5\">\n      <g>\n       <use style=\"stroke:#000000;stroke-width:0.8;\" x=\"290.110783\" xlink:href=\"#m80d179386e\" y=\"227.633524\"/>\n      </g>\n     </g>\n     <g id=\"text_5\">\n      <!-- 80 -->\n      <g transform=\"translate(283.748283 242.231961)scale(0.1 -0.1)\">\n       <defs>\n        <path d=\"M 31.78125 34.625 \nQ 24.75 34.625 20.71875 30.859375 \nQ 16.703125 27.09375 16.703125 20.515625 \nQ 16.703125 13.921875 20.71875 10.15625 \nQ 24.75 6.390625 31.78125 6.390625 \nQ 38.8125 6.390625 42.859375 10.171875 \nQ 46.921875 13.96875 46.921875 20.515625 \nQ 46.921875 27.09375 42.890625 30.859375 \nQ 38.875 34.625 31.78125 34.625 \nz\nM 21.921875 38.8125 \nQ 15.578125 40.375 12.03125 44.71875 \nQ 8.5 49.078125 8.5 55.328125 \nQ 8.5 64.0625 14.71875 69.140625 \nQ 20.953125 74.21875 31.78125 74.21875 \nQ 42.671875 74.21875 48.875 69.140625 \nQ 55.078125 64.0625 55.078125 55.328125 \nQ 55.078125 49.078125 51.53125 44.71875 \nQ 48 40.375 41.703125 38.8125 \nQ 48.828125 37.15625 52.796875 32.3125 \nQ 56.78125 27.484375 56.78125 20.515625 \nQ 56.78125 9.90625 50.3125 4.234375 \nQ 43.84375 -1.421875 31.78125 -1.421875 \nQ 19.734375 -1.421875 13.25 4.234375 \nQ 6.78125 9.90625 6.78125 20.515625 \nQ 6.78125 27.484375 10.78125 32.3125 \nQ 14.796875 37.15625 21.921875 38.8125 \nz\nM 18.3125 54.390625 \nQ 18.3125 48.734375 21.84375 45.5625 \nQ 25.390625 42.390625 31.78125 42.390625 \nQ 38.140625 42.390625 41.71875 45.5625 \nQ 45.3125 48.734375 45.3125 54.390625 \nQ 45.3125 60.0625 41.71875 63.234375 \nQ 38.140625 66.40625 31.78125 66.40625 \nQ 25.390625 66.40625 21.84375 63.234375 \nQ 18.3125 60.0625 18.3125 54.390625 \nz\n\" id=\"DejaVuSans-56\"/>\n       </defs>\n       <use xlink:href=\"#DejaVuSans-56\"/>\n       <use x=\"63.623047\" xlink:href=\"#DejaVuSans-48\"/>\n      </g>\n     </g>\n    </g>\n    <g id=\"xtick_6\">\n     <g id=\"line2d_6\">\n      <g>\n       <use style=\"stroke:#000000;stroke-width:0.8;\" x=\"351.598386\" xlink:href=\"#m80d179386e\" y=\"227.633524\"/>\n      </g>\n     </g>\n     <g id=\"text_6\">\n      <!-- 100 -->\n      <g transform=\"translate(342.054636 242.231961)scale(0.1 -0.1)\">\n       <defs>\n        <path d=\"M 12.40625 8.296875 \nL 28.515625 8.296875 \nL 28.515625 63.921875 \nL 10.984375 60.40625 \nL 10.984375 69.390625 \nL 28.421875 72.90625 \nL 38.28125 72.90625 \nL 38.28125 8.296875 \nL 54.390625 8.296875 \nL 54.390625 0 \nL 12.40625 0 \nz\n\" id=\"DejaVuSans-49\"/>\n       </defs>\n       <use xlink:href=\"#DejaVuSans-49\"/>\n       <use x=\"63.623047\" xlink:href=\"#DejaVuSans-48\"/>\n       <use x=\"127.246094\" xlink:href=\"#DejaVuSans-48\"/>\n      </g>\n     </g>\n    </g>\n   </g>\n   <g id=\"matplotlib.axis_2\">\n    <g id=\"ytick_1\">\n     <g id=\"line2d_7\">\n      <defs>\n       <path d=\"M 0 0 \nL -3.5 0 \n\" id=\"md9a95544dd\" style=\"stroke:#000000;stroke-width:0.8;\"/>\n      </defs>\n      <g>\n       <use style=\"stroke:#000000;stroke-width:0.8;\" x=\"28.942188\" xlink:href=\"#md9a95544dd\" y=\"216.726462\"/>\n      </g>\n     </g>\n     <g id=\"text_7\">\n      <!-- −3 -->\n      <g transform=\"translate(7.2 220.525681)scale(0.1 -0.1)\">\n       <defs>\n        <path d=\"M 10.59375 35.5 \nL 73.1875 35.5 \nL 73.1875 27.203125 \nL 10.59375 27.203125 \nz\n\" id=\"DejaVuSans-8722\"/>\n        <path d=\"M 40.578125 39.3125 \nQ 47.65625 37.796875 51.625 33 \nQ 55.609375 28.21875 55.609375 21.1875 \nQ 55.609375 10.40625 48.1875 4.484375 \nQ 40.765625 -1.421875 27.09375 -1.421875 \nQ 22.515625 -1.421875 17.65625 -0.515625 \nQ 12.796875 0.390625 7.625 2.203125 \nL 7.625 11.71875 \nQ 11.71875 9.328125 16.59375 8.109375 \nQ 21.484375 6.890625 26.8125 6.890625 \nQ 36.078125 6.890625 40.9375 10.546875 \nQ 45.796875 14.203125 45.796875 21.1875 \nQ 45.796875 27.640625 41.28125 31.265625 \nQ 36.765625 34.90625 28.71875 34.90625 \nL 20.21875 34.90625 \nL 20.21875 43.015625 \nL 29.109375 43.015625 \nQ 36.375 43.015625 40.234375 45.921875 \nQ 44.09375 48.828125 44.09375 54.296875 \nQ 44.09375 59.90625 40.109375 62.90625 \nQ 36.140625 65.921875 28.71875 65.921875 \nQ 24.65625 65.921875 20.015625 65.03125 \nQ 15.375 64.15625 9.8125 62.3125 \nL 9.8125 71.09375 \nQ 15.4375 72.65625 20.34375 73.4375 \nQ 25.25 74.21875 29.59375 74.21875 \nQ 40.828125 74.21875 47.359375 69.109375 \nQ 53.90625 64.015625 53.90625 55.328125 \nQ 53.90625 49.265625 50.4375 45.09375 \nQ 46.96875 40.921875 40.578125 39.3125 \nz\n\" id=\"DejaVuSans-51\"/>\n       </defs>\n       <use xlink:href=\"#DejaVuSans-8722\"/>\n       <use x=\"83.789062\" xlink:href=\"#DejaVuSans-51\"/>\n      </g>\n     </g>\n    </g>\n    <g id=\"ytick_2\">\n     <g id=\"line2d_8\">\n      <g>\n       <use style=\"stroke:#000000;stroke-width:0.8;\" x=\"28.942188\" xlink:href=\"#md9a95544dd\" y=\"187.336856\"/>\n      </g>\n     </g>\n     <g id=\"text_8\">\n      <!-- −2 -->\n      <g transform=\"translate(7.2 191.136075)scale(0.1 -0.1)\">\n       <use xlink:href=\"#DejaVuSans-8722\"/>\n       <use x=\"83.789062\" xlink:href=\"#DejaVuSans-50\"/>\n      </g>\n     </g>\n    </g>\n    <g id=\"ytick_3\">\n     <g id=\"line2d_9\">\n      <g>\n       <use style=\"stroke:#000000;stroke-width:0.8;\" x=\"28.942188\" xlink:href=\"#md9a95544dd\" y=\"157.94725\"/>\n      </g>\n     </g>\n     <g id=\"text_9\">\n      <!-- −1 -->\n      <g transform=\"translate(7.2 161.746469)scale(0.1 -0.1)\">\n       <use xlink:href=\"#DejaVuSans-8722\"/>\n       <use x=\"83.789062\" xlink:href=\"#DejaVuSans-49\"/>\n      </g>\n     </g>\n    </g>\n    <g id=\"ytick_4\">\n     <g id=\"line2d_10\">\n      <g>\n       <use style=\"stroke:#000000;stroke-width:0.8;\" x=\"28.942188\" xlink:href=\"#md9a95544dd\" y=\"128.557644\"/>\n      </g>\n     </g>\n     <g id=\"text_10\">\n      <!-- 0 -->\n      <g transform=\"translate(15.579688 132.356862)scale(0.1 -0.1)\">\n       <use xlink:href=\"#DejaVuSans-48\"/>\n      </g>\n     </g>\n    </g>\n    <g id=\"ytick_5\">\n     <g id=\"line2d_11\">\n      <g>\n       <use style=\"stroke:#000000;stroke-width:0.8;\" x=\"28.942188\" xlink:href=\"#md9a95544dd\" y=\"99.168037\"/>\n      </g>\n     </g>\n     <g id=\"text_11\">\n      <!-- 1 -->\n      <g transform=\"translate(15.579688 102.967256)scale(0.1 -0.1)\">\n       <use xlink:href=\"#DejaVuSans-49\"/>\n      </g>\n     </g>\n    </g>\n    <g id=\"ytick_6\">\n     <g id=\"line2d_12\">\n      <g>\n       <use style=\"stroke:#000000;stroke-width:0.8;\" x=\"28.942188\" xlink:href=\"#md9a95544dd\" y=\"69.778431\"/>\n      </g>\n     </g>\n     <g id=\"text_12\">\n      <!-- 2 -->\n      <g transform=\"translate(15.579688 73.57765)scale(0.1 -0.1)\">\n       <use xlink:href=\"#DejaVuSans-50\"/>\n      </g>\n     </g>\n    </g>\n    <g id=\"ytick_7\">\n     <g id=\"line2d_13\">\n      <g>\n       <use style=\"stroke:#000000;stroke-width:0.8;\" x=\"28.942188\" xlink:href=\"#md9a95544dd\" y=\"40.388825\"/>\n      </g>\n     </g>\n     <g id=\"text_13\">\n      <!-- 3 -->\n      <g transform=\"translate(15.579688 44.188044)scale(0.1 -0.1)\">\n       <use xlink:href=\"#DejaVuSans-51\"/>\n      </g>\n     </g>\n    </g>\n    <g id=\"ytick_8\">\n     <g id=\"line2d_14\">\n      <g>\n       <use style=\"stroke:#000000;stroke-width:0.8;\" x=\"28.942188\" xlink:href=\"#md9a95544dd\" y=\"10.999219\"/>\n      </g>\n     </g>\n     <g id=\"text_14\">\n      <!-- 4 -->\n      <g transform=\"translate(15.579688 14.798438)scale(0.1 -0.1)\">\n       <use xlink:href=\"#DejaVuSans-52\"/>\n      </g>\n     </g>\n    </g>\n   </g>\n   <g id=\"line2d_15\">\n    <path clip-path=\"url(#p30379c3761)\" d=\"M 44.160369 136.852951 \nL 47.234749 125.272487 \nL 50.30913 131.603892 \nL 53.38351 127.777019 \nL 56.45789 174.375343 \nL 59.53227 98.779473 \nL 62.60665 137.471175 \nL 65.68103 149.717401 \nL 68.755411 171.024502 \nL 71.829791 125.999945 \nL 74.904171 124.489381 \nL 77.978551 115.908817 \nL 81.052931 121.342828 \nL 84.127311 101.596133 \nL 87.201692 82.502379 \nL 90.276072 145.007996 \nL 93.350452 117.100251 \nL 96.424832 165.960009 \nL 99.499212 103.215798 \nL 102.573592 149.222196 \nL 105.647973 151.840958 \nL 108.722353 173.425605 \nL 111.796733 155.823152 \nL 114.871113 158.909034 \nL 117.945493 117.816617 \nL 121.019873 214.486973 \nL 124.094254 103.701283 \nL 127.168634 163.077904 \nL 130.243014 183.420784 \nL 133.317394 180.22815 \nL 136.391774 70.813838 \nL 139.466154 88.914135 \nL 142.540535 128.328467 \nL 145.614915 149.528772 \nL 148.689295 123.348992 \nL 151.763675 68.305645 \nL 154.838055 132.574208 \nL 157.912435 179.419756 \nL 160.986816 108.107766 \nL 164.061196 143.940473 \nL 167.135576 128.923085 \nL 170.209956 76.827566 \nL 173.284336 123.834389 \nL 176.358716 146.717559 \nL 179.433097 81.023822 \nL 182.507477 177.382665 \nL 185.581857 109.699295 \nL 188.656237 121.05513 \nL 191.730617 137.840673 \nL 194.804997 141.331826 \nL 197.879378 142.393295 \nL 200.953758 105.558675 \nL 204.028138 114.14486 \nL 207.102518 113.947431 \nL 210.176898 144.745488 \nL 213.251278 146.648717 \nL 216.325659 92.22214 \nL 219.400039 140.578597 \nL 222.474419 152.93767 \nL 225.548799 156.37136 \nL 228.623179 137.311485 \nL 231.697559 118.926388 \nL 234.77194 144.973236 \nL 237.84632 183.920058 \nL 240.9207 137.195258 \nL 243.99508 185.536446 \nL 247.06946 153.643023 \nL 250.14384 117.343935 \nL 253.218221 117.214575 \nL 256.292601 74.063808 \nL 259.366981 152.329346 \nL 262.441361 130.054687 \nL 265.515741 180.920435 \nL 268.590121 168.817627 \nL 271.664502 148.218208 \nL 274.738882 101.494739 \nL 277.813262 94.124411 \nL 280.887642 106.954121 \nL 283.962022 73.932905 \nL 287.036402 66.7412 \nL 290.110783 93.885518 \nL 293.185163 88.519566 \nL 296.259543 148.235589 \nL 299.333923 110.645518 \nL 302.408303 122.611623 \nL 305.482683 117.78561 \nL 308.557064 108.887626 \nL 311.631444 144.317307 \nL 314.705824 134.649292 \nL 317.780204 181.853389 \nL 320.854584 167.3906 \nL 323.928964 61.700855 \nL 327.003345 155.383347 \nL 330.077725 86.292832 \nL 333.152105 120.153661 \nL 336.226485 108.276579 \nL 339.300865 96.757264 \nL 342.375245 130.740701 \nL 345.449626 156.447774 \nL 348.524006 132.391958 \n\" style=\"fill:none;stroke:#1f77b4;stroke-linecap:square;stroke-width:1.5;\"/>\n   </g>\n   <g id=\"line2d_16\">\n    <path clip-path=\"url(#p30379c3761)\" d=\"M 44.160369 120.159896 \nL 47.234749 88.547793 \nL 50.30913 173.349878 \nL 53.38351 134.157254 \nL 56.45789 114.572117 \nL 59.53227 121.543246 \nL 62.60665 127.426216 \nL 65.68103 175.179095 \nL 68.755411 175.689248 \nL 71.829791 112.641843 \nL 74.904171 125.46157 \nL 77.978551 152.829715 \nL 81.052931 147.119312 \nL 84.127311 36.040552 \nL 87.201692 148.242433 \nL 90.276072 148.759012 \nL 93.350452 126.292858 \nL 96.424832 89.289459 \nL 99.499212 72.130162 \nL 102.573592 131.696526 \nL 105.647973 125.933943 \nL 108.722353 123.469524 \nL 111.796733 112.227612 \nL 114.871113 174.312594 \nL 117.945493 113.550515 \nL 121.019873 80.912387 \nL 124.094254 113.222842 \nL 127.168634 102.690625 \nL 130.243014 124.594624 \nL 133.317394 20.07716 \nL 136.391774 199.570776 \nL 139.466154 59.907172 \nL 142.540535 76.487068 \nL 145.614915 138.91624 \nL 148.689295 81.592792 \nL 151.763675 104.005623 \nL 154.838055 98.083122 \nL 157.912435 140.697926 \nL 160.986816 125.02663 \nL 164.061196 153.717115 \nL 167.135576 95.73451 \nL 170.209956 99.419917 \nL 173.284336 112.728787 \nL 176.358716 143.112818 \nL 179.433097 152.012869 \nL 182.507477 136.674987 \nL 185.581857 160.328968 \nL 188.656237 94.460205 \nL 191.730617 183.10928 \nL 194.804997 128.973188 \nL 197.879378 141.81828 \nL 200.953758 84.626747 \nL 204.028138 118.067607 \nL 207.102518 145.196668 \nL 210.176898 127.850605 \nL 213.251278 132.842728 \nL 216.325659 157.964101 \nL 219.400039 127.34258 \nL 222.474419 77.099395 \nL 225.548799 100.302487 \nL 228.623179 122.923265 \nL 231.697559 161.307074 \nL 234.77194 159.360465 \nL 237.84632 104.696816 \nL 240.9207 118.151092 \nL 243.99508 132.910126 \nL 247.06946 155.236424 \nL 250.14384 158.340784 \nL 253.218221 107.233023 \nL 256.292601 89.075048 \nL 259.366981 158.273487 \nL 262.441361 123.82616 \nL 265.515741 112.039072 \nL 268.590121 151.508132 \nL 271.664502 151.795506 \nL 274.738882 150.81941 \nL 277.813262 110.341893 \nL 280.887642 139.319155 \nL 283.962022 117.41332 \nL 287.036402 76.367239 \nL 290.110783 127.630264 \nL 293.185163 121.898087 \nL 296.259543 173.479794 \nL 299.333923 150.64212 \nL 302.408303 185.932006 \nL 305.482683 69.942639 \nL 308.557064 129.285948 \nL 311.631444 83.00516 \nL 314.705824 123.86292 \nL 317.780204 120.942655 \nL 320.854584 70.917467 \nL 323.928964 167.448165 \nL 327.003345 114.413445 \nL 330.077725 117.146023 \nL 333.152105 131.891409 \nL 336.226485 181.251826 \nL 339.300865 176.210367 \nL 342.375245 64.42413 \nL 345.449626 141.032521 \nL 348.524006 142.340333 \n\" style=\"fill:none;stroke:#ff7f0e;stroke-linecap:square;stroke-width:1.5;\"/>\n   </g>\n   <g id=\"line2d_17\">\n    <path clip-path=\"url(#p30379c3761)\" d=\"M 44.160369 188.594097 \nL 47.234749 152.322939 \nL 50.30913 126.220799 \nL 53.38351 113.21112 \nL 56.45789 137.826918 \nL 59.53227 79.911432 \nL 62.60665 105.509418 \nL 65.68103 121.155753 \nL 68.755411 110.841027 \nL 71.829791 95.247046 \nL 74.904171 107.815715 \nL 77.978551 97.366383 \nL 81.052931 133.022815 \nL 84.127311 96.611278 \nL 87.201692 103.450547 \nL 90.276072 115.718142 \nL 93.350452 173.681452 \nL 96.424832 134.089212 \nL 99.499212 140.276413 \nL 102.573592 119.593464 \nL 105.647973 110.782774 \nL 108.722353 161.714553 \nL 111.796733 130.899857 \nL 114.871113 101.276909 \nL 117.945493 143.164726 \nL 121.019873 130.005452 \nL 124.094254 114.831986 \nL 127.168634 153.926401 \nL 130.243014 89.819954 \nL 133.317394 153.587931 \nL 136.391774 141.269648 \nL 139.466154 141.405173 \nL 142.540535 94.621773 \nL 145.614915 129.603158 \nL 148.689295 152.592684 \nL 151.763675 104.135659 \nL 154.838055 138.911254 \nL 157.912435 148.554582 \nL 160.986816 125.182182 \nL 164.061196 118.88777 \nL 167.135576 108.581945 \nL 170.209956 80.670906 \nL 173.284336 129.675448 \nL 176.358716 83.333219 \nL 179.433097 113.911209 \nL 182.507477 118.345661 \nL 185.581857 119.818061 \nL 188.656237 131.314147 \nL 191.730617 175.766203 \nL 194.804997 95.61109 \nL 197.879378 72.272381 \nL 200.953758 112.219651 \nL 204.028138 131.41429 \nL 207.102518 176.580313 \nL 210.176898 136.710561 \nL 213.251278 167.901249 \nL 216.325659 131.821994 \nL 219.400039 123.917447 \nL 222.474419 115.490778 \nL 225.548799 96.171344 \nL 228.623179 173.517805 \nL 231.697559 117.327248 \nL 234.77194 127.933406 \nL 237.84632 154.001662 \nL 240.9207 101.267307 \nL 243.99508 130.899669 \nL 247.06946 117.288146 \nL 250.14384 161.675658 \nL 253.218221 137.888547 \nL 256.292601 121.233269 \nL 259.366981 112.028345 \nL 262.441361 169.446015 \nL 265.515741 138.338154 \nL 268.590121 106.422201 \nL 271.664502 85.362997 \nL 274.738882 121.185318 \nL 277.813262 90.497832 \nL 280.887642 112.021555 \nL 283.962022 109.172324 \nL 287.036402 134.607224 \nL 290.110783 102.246231 \nL 293.185163 166.084286 \nL 296.259543 104.652531 \nL 299.333923 113.171055 \nL 302.408303 98.255915 \nL 305.482683 155.855139 \nL 308.557064 85.355643 \nL 311.631444 129.058916 \nL 314.705824 141.903964 \nL 317.780204 134.860444 \nL 320.854584 169.211043 \nL 323.928964 138.741727 \nL 327.003345 116.878538 \nL 330.077725 117.249793 \nL 333.152105 68.693253 \nL 336.226485 132.511929 \nL 339.300865 124.92431 \nL 342.375245 99.00879 \nL 345.449626 99.173392 \nL 348.524006 106.579322 \n\" style=\"fill:none;stroke:#2ca02c;stroke-linecap:square;stroke-width:1.5;\"/>\n   </g>\n   <g id=\"line2d_18\">\n    <path clip-path=\"url(#p30379c3761)\" d=\"M 44.160369 122.282193 \nL 47.234749 94.354535 \nL 50.30913 172.44068 \nL 53.38351 172.338306 \nL 56.45789 217.749887 \nL 59.53227 94.746483 \nL 62.60665 135.4298 \nL 65.68103 170.541672 \nL 68.755411 133.777329 \nL 71.829791 75.039497 \nL 74.904171 175.066035 \nL 77.978551 111.471819 \nL 81.052931 120.602728 \nL 84.127311 125.444532 \nL 87.201692 122.593582 \nL 90.276072 119.011476 \nL 93.350452 120.74775 \nL 96.424832 89.721965 \nL 99.499212 174.717455 \nL 102.573592 87.026192 \nL 105.647973 128.781185 \nL 108.722353 112.538237 \nL 111.796733 162.516358 \nL 114.871113 88.951129 \nL 117.945493 159.125847 \nL 121.019873 136.792446 \nL 124.094254 86.17844 \nL 127.168634 107.841032 \nL 130.243014 110.069108 \nL 133.317394 92.094433 \nL 136.391774 191.623303 \nL 139.466154 122.70924 \nL 142.540535 120.39549 \nL 145.614915 117.93456 \nL 148.689295 141.744579 \nL 151.763675 135.784867 \nL 154.838055 117.343138 \nL 157.912435 119.434165 \nL 160.986816 140.583875 \nL 164.061196 118.96785 \nL 167.135576 131.557815 \nL 170.209956 113.204038 \nL 173.284336 118.209771 \nL 176.358716 60.599092 \nL 179.433097 157.72239 \nL 182.507477 156.290522 \nL 185.581857 137.527493 \nL 188.656237 154.963501 \nL 191.730617 71.078572 \nL 194.804997 101.333432 \nL 197.879378 189.197947 \nL 200.953758 154.743761 \nL 204.028138 105.748263 \nL 207.102518 87.928495 \nL 210.176898 136.158237 \nL 213.251278 173.903481 \nL 216.325659 53.92979 \nL 219.400039 62.279263 \nL 222.474419 81.055135 \nL 225.548799 85.062526 \nL 228.623179 124.636254 \nL 231.697559 106.976962 \nL 234.77194 55.621763 \nL 237.84632 113.274524 \nL 240.9207 147.221668 \nL 243.99508 106.148977 \nL 247.06946 108.245226 \nL 250.14384 173.362541 \nL 253.218221 167.388644 \nL 256.292601 108.621139 \nL 259.366981 180.01251 \nL 262.441361 152.29272 \nL 265.515741 93.992821 \nL 268.590121 99.280953 \nL 271.664502 107.134605 \nL 274.738882 148.193316 \nL 277.813262 110.192859 \nL 280.887642 75.502664 \nL 283.962022 144.16562 \nL 287.036402 179.854122 \nL 290.110783 97.360455 \nL 293.185163 177.571656 \nL 296.259543 65.049771 \nL 299.333923 80.676498 \nL 302.408303 108.857929 \nL 305.482683 129.789974 \nL 308.557064 156.052955 \nL 311.631444 135.551981 \nL 314.705824 136.172489 \nL 317.780204 157.91392 \nL 320.854584 108.443232 \nL 323.928964 159.492108 \nL 327.003345 107.836142 \nL 330.077725 140.787997 \nL 333.152105 121.858028 \nL 336.226485 154.116407 \nL 339.300865 114.814121 \nL 342.375245 116.580667 \nL 345.449626 113.553217 \nL 348.524006 122.787754 \n\" style=\"fill:none;stroke:#d62728;stroke-linecap:square;stroke-width:1.5;\"/>\n   </g>\n   <g id=\"patch_3\">\n    <path d=\"M 28.942188 227.633524 \nL 28.942188 10.193524 \n\" style=\"fill:none;stroke:#000000;stroke-linecap:square;stroke-linejoin:miter;stroke-width:0.8;\"/>\n   </g>\n   <g id=\"patch_4\">\n    <path d=\"M 363.742188 227.633524 \nL 363.742188 10.193524 \n\" style=\"fill:none;stroke:#000000;stroke-linecap:square;stroke-linejoin:miter;stroke-width:0.8;\"/>\n   </g>\n   <g id=\"patch_5\">\n    <path d=\"M 28.942188 227.633524 \nL 363.742188 227.633524 \n\" style=\"fill:none;stroke:#000000;stroke-linecap:square;stroke-linejoin:miter;stroke-width:0.8;\"/>\n   </g>\n   <g id=\"patch_6\">\n    <path d=\"M 28.942188 10.193524 \nL 363.742188 10.193524 \n\" style=\"fill:none;stroke:#000000;stroke-linecap:square;stroke-linejoin:miter;stroke-width:0.8;\"/>\n   </g>\n   <g id=\"legend_1\">\n    <g id=\"patch_7\">\n     <path d=\"M 35.942188 76.906024 \nL 75.642188 76.906024 \nQ 77.642188 76.906024 77.642188 74.906024 \nL 77.642188 17.193524 \nQ 77.642188 15.193524 75.642188 15.193524 \nL 35.942188 15.193524 \nQ 33.942188 15.193524 33.942188 17.193524 \nL 33.942188 74.906024 \nQ 33.942188 76.906024 35.942188 76.906024 \nz\n\" style=\"fill:#ffffff;opacity:0.8;stroke:#cccccc;stroke-linejoin:miter;\"/>\n    </g>\n    <g id=\"line2d_19\">\n     <path d=\"M 37.942188 23.291961 \nL 57.942188 23.291961 \n\" style=\"fill:none;stroke:#1f77b4;stroke-linecap:square;stroke-width:1.5;\"/>\n    </g>\n    <g id=\"line2d_20\"/>\n    <g id=\"text_15\">\n     <!-- A -->\n     <g transform=\"translate(65.942188 26.791961)scale(0.1 -0.1)\">\n      <defs>\n       <path d=\"M 34.1875 63.1875 \nL 20.796875 26.90625 \nL 47.609375 26.90625 \nz\nM 28.609375 72.90625 \nL 39.796875 72.90625 \nL 67.578125 0 \nL 57.328125 0 \nL 50.6875 18.703125 \nL 17.828125 18.703125 \nL 11.1875 0 \nL 0.78125 0 \nz\n\" id=\"DejaVuSans-65\"/>\n      </defs>\n      <use xlink:href=\"#DejaVuSans-65\"/>\n     </g>\n    </g>\n    <g id=\"line2d_21\">\n     <path d=\"M 37.942188 37.970086 \nL 57.942188 37.970086 \n\" style=\"fill:none;stroke:#ff7f0e;stroke-linecap:square;stroke-width:1.5;\"/>\n    </g>\n    <g id=\"line2d_22\"/>\n    <g id=\"text_16\">\n     <!-- B -->\n     <g transform=\"translate(65.942188 41.470086)scale(0.1 -0.1)\">\n      <defs>\n       <path d=\"M 19.671875 34.8125 \nL 19.671875 8.109375 \nL 35.5 8.109375 \nQ 43.453125 8.109375 47.28125 11.40625 \nQ 51.125 14.703125 51.125 21.484375 \nQ 51.125 28.328125 47.28125 31.5625 \nQ 43.453125 34.8125 35.5 34.8125 \nz\nM 19.671875 64.796875 \nL 19.671875 42.828125 \nL 34.28125 42.828125 \nQ 41.5 42.828125 45.03125 45.53125 \nQ 48.578125 48.25 48.578125 53.8125 \nQ 48.578125 59.328125 45.03125 62.0625 \nQ 41.5 64.796875 34.28125 64.796875 \nz\nM 9.8125 72.90625 \nL 35.015625 72.90625 \nQ 46.296875 72.90625 52.390625 68.21875 \nQ 58.5 63.53125 58.5 54.890625 \nQ 58.5 48.1875 55.375 44.234375 \nQ 52.25 40.28125 46.1875 39.3125 \nQ 53.46875 37.75 57.5 32.78125 \nQ 61.53125 27.828125 61.53125 20.40625 \nQ 61.53125 10.640625 54.890625 5.3125 \nQ 48.25 0 35.984375 0 \nL 9.8125 0 \nz\n\" id=\"DejaVuSans-66\"/>\n      </defs>\n      <use xlink:href=\"#DejaVuSans-66\"/>\n     </g>\n    </g>\n    <g id=\"line2d_23\">\n     <path d=\"M 37.942188 52.648211 \nL 57.942188 52.648211 \n\" style=\"fill:none;stroke:#2ca02c;stroke-linecap:square;stroke-width:1.5;\"/>\n    </g>\n    <g id=\"line2d_24\"/>\n    <g id=\"text_17\">\n     <!-- C -->\n     <g transform=\"translate(65.942188 56.148211)scale(0.1 -0.1)\">\n      <defs>\n       <path d=\"M 64.40625 67.28125 \nL 64.40625 56.890625 \nQ 59.421875 61.53125 53.78125 63.8125 \nQ 48.140625 66.109375 41.796875 66.109375 \nQ 29.296875 66.109375 22.65625 58.46875 \nQ 16.015625 50.828125 16.015625 36.375 \nQ 16.015625 21.96875 22.65625 14.328125 \nQ 29.296875 6.6875 41.796875 6.6875 \nQ 48.140625 6.6875 53.78125 8.984375 \nQ 59.421875 11.28125 64.40625 15.921875 \nL 64.40625 5.609375 \nQ 59.234375 2.09375 53.4375 0.328125 \nQ 47.65625 -1.421875 41.21875 -1.421875 \nQ 24.65625 -1.421875 15.125 8.703125 \nQ 5.609375 18.84375 5.609375 36.375 \nQ 5.609375 53.953125 15.125 64.078125 \nQ 24.65625 74.21875 41.21875 74.21875 \nQ 47.75 74.21875 53.53125 72.484375 \nQ 59.328125 70.75 64.40625 67.28125 \nz\n\" id=\"DejaVuSans-67\"/>\n      </defs>\n      <use xlink:href=\"#DejaVuSans-67\"/>\n     </g>\n    </g>\n    <g id=\"line2d_25\">\n     <path d=\"M 37.942188 67.326336 \nL 57.942188 67.326336 \n\" style=\"fill:none;stroke:#d62728;stroke-linecap:square;stroke-width:1.5;\"/>\n    </g>\n    <g id=\"line2d_26\"/>\n    <g id=\"text_18\">\n     <!-- D -->\n     <g transform=\"translate(65.942188 70.826336)scale(0.1 -0.1)\">\n      <defs>\n       <path d=\"M 19.671875 64.796875 \nL 19.671875 8.109375 \nL 31.59375 8.109375 \nQ 46.6875 8.109375 53.6875 14.9375 \nQ 60.6875 21.78125 60.6875 36.53125 \nQ 60.6875 51.171875 53.6875 57.984375 \nQ 46.6875 64.796875 31.59375 64.796875 \nz\nM 9.8125 72.90625 \nL 30.078125 72.90625 \nQ 51.265625 72.90625 61.171875 64.09375 \nQ 71.09375 55.28125 71.09375 36.53125 \nQ 71.09375 17.671875 61.125 8.828125 \nQ 51.171875 0 30.078125 0 \nL 9.8125 0 \nz\n\" id=\"DejaVuSans-68\"/>\n      </defs>\n      <use xlink:href=\"#DejaVuSans-68\"/>\n     </g>\n    </g>\n   </g>\n  </g>\n </g>\n <defs>\n  <clipPath id=\"p30379c3761\">\n   <rect height=\"217.44\" width=\"334.8\" x=\"28.942188\" y=\"10.193524\"/>\n  </clipPath>\n </defs>\n</svg>\n",
      "image/png": "[encoded data removed]"
     },
     "metadata": {
      "needs_background": "light"
     }
    }
   ],
   "source": [
    "df.plot()"
   ]
  },
  {
   "cell_type": "code",
   "execution_count": 12,
   "metadata": {},
   "outputs": [
    {
     "output_type": "display_data",
     "data": {
      "application/vnd.plotly.v1+json": {
       "config": {
        "linkText": "Export to plot.ly",
        "plotlyServerURL": "https://plot.ly",
        "showLink": true
       },
       "data": [
        {
         "line": {
          "color": "rgba(255, 153, 51, 1.0)",
          "dash": "solid",
          "shape": "linear",
          "width": 1.3
         },
         "mode": "lines",
         "name": "A",
         "text": "",
         "type": "scatter",
         "x": [
          0,
          1,
          2,
          3,
          4,
          5,
          6,
          7,
          8,
          9,
          10,
          11,
          12,
          13,
          14,
          15,
          16,
          17,
          18,
          19,
          20,
          21,
          22,
          23,
          24,
          25,
          26,
          27,
          28,
          29,
          30,
          31,
          32,
          33,
          34,
          35,
          36,
          37,
          38,
          39,
          40,
          41,
          42,
          43,
          44,
          45,
          46,
          47,
          48,
          49,
          50,
          51,
          52,
          53,
          54,
          55,
          56,
          57,
          58,
          59,
          60,
          61,
          62,
          63,
          64,
          65,
          66,
          67,
          68,
          69,
          70,
          71,
          72,
          73,
          74,
          75,
          76,
          77,
          78,
          79,
          80,
          81,
          82,
          83,
          84,
          85,
          86,
          87,
          88,
          89,
          90,
          91,
          92,
          93,
          94,
          95,
          96,
          97,
          98,
          99
         ],
         "y": [
          -0.2822530812767983,
          0.11177954270024573,
          -0.10365053788588582,
          0.02656124579063317,
          -1.5589762977346808,
          1.0132211350937634,
          -0.30328857726453073,
          -0.7199741772120288,
          -1.4449618003020752,
          0.0870273201912875,
          0.13842521090460083,
          0.430384357522352,
          0.24548869156932343,
          0.9173824994784092,
          1.5670595993621765,
          -0.5597336939751391,
          0.3898450558594656,
          -1.2726392312466468,
          0.8622723710962631,
          -0.7031244930099043,
          -0.7922295293843453,
          -1.526660849216027,
          -0.9277262077287288,
          -1.032725325183833,
          0.36547026069353317,
          -2.9237999576647544,
          0.8457534337661701,
          -1.174573749139029,
          -1.8667531585437849,
          -1.7581217668063733,
          1.9647696317289618,
          1.3488955495460921,
          0.007797896873515592,
          -0.713555939517463,
          0.17722768128904726,
          2.050112489389013,
          -0.13666616615644142,
          -1.7306156405475168,
          0.6958200536519168,
          -0.5234105337037703,
          -0.012434379264582445,
          1.7601487144634653,
          0.16071172012279475,
          -0.6179026304787749,
          1.6173684311937226,
          -1.6613023488402456,
          0.6416672817496606,
          0.2552777817375178,
          -0.31586097972365856,
          -0.43464965175484643,
          -0.4707668184016685,
          0.7825544921529582,
          0.4904041179307361,
          0.49712174374281376,
          -0.5508016730368818,
          -0.6155602534305868,
          1.2363385679967063,
          -0.4090205668728628,
          -0.8295458759775213,
          -0.9463793504279688,
          -0.2978550232150625,
          0.3277095730284602,
          -0.5585509506509643,
          -1.8837412762168402,
          -0.29390030744052,
          -1.9387398942484106,
          -0.8535459371008373,
          0.38155356585509215,
          0.3859550942665604,
          1.854187328079297,
          -0.8088472594273697,
          -0.05093786320031386,
          -1.7816772063980535,
          -1.3698714683779434,
          -0.6689631639333197,
          0.9208324986188126,
          1.171612601728039,
          0.735073565394661,
          1.8586413975072043,
          2.1033437082366806,
          1.1797410879822996,
          1.3623210111835407,
          -0.6695545916497564,
          0.6094714502999233,
          0.20231711883368697,
          0.36652528304522175,
          0.6692848390348893,
          -0.5362325536190167,
          -0.2072721963452957,
          -1.8134215513227876,
          -1.3213159843282267,
          2.2748446484983593,
          -0.9127615638698073,
          1.4380870293753036,
          0.28595084250096153,
          0.690076109191434,
          1.0820280780993259,
          -0.07427992417706594,
          -0.9489793708263293,
          -0.13046497946610547
         ]
        },
        {
         "line": {
          "color": "rgba(55, 128, 191, 1.0)",
          "dash": "solid",
          "shape": "linear",
          "width": 1.3
         },
         "mode": "lines",
         "name": "B",
         "text": "",
         "type": "scatter",
         "x": [
          0,
          1,
          2,
          3,
          4,
          5,
          6,
          7,
          8,
          9,
          10,
          11,
          12,
          13,
          14,
          15,
          16,
          17,
          18,
          19,
          20,
          21,
          22,
          23,
          24,
          25,
          26,
          27,
          28,
          29,
          30,
          31,
          32,
          33,
          34,
          35,
          36,
          37,
          38,
          39,
          40,
          41,
          42,
          43,
          44,
          45,
          46,
          47,
          48,
          49,
          50,
          51,
          52,
          53,
          54,
          55,
          56,
          57,
          58,
          59,
          60,
          61,
          62,
          63,
          64,
          65,
          66,
          67,
          68,
          69,
          70,
          71,
          72,
          73,
          74,
          75,
          76,
          77,
          78,
          79,
          80,
          81,
          82,
          83,
          84,
          85,
          86,
          87,
          88,
          89,
          90,
          91,
          92,
          93,
          94,
          95,
          96,
          97,
          98,
          99
         ],
         "y": [
          0.2857386885991392,
          1.3613605645425968,
          -1.5240841919229546,
          -0.19053029907959318,
          0.47586643338111534,
          0.23866931721636384,
          0.03849755079147557,
          -1.5863244800631007,
          -1.6036827562026346,
          0.5415452310375376,
          0.1053458688466647,
          -0.8258726250824163,
          -0.6315725363056894,
          3.147952750166804,
          -0.669787435180034,
          -0.6873643894824005,
          0.07706076780628347,
          1.3361248975596374,
          1.9199808549225474,
          -0.10680244920371619,
          0.0892730917399342,
          0.1731264936089252,
          0.5556396737408577,
          -1.5568412285756597,
          0.5106270667600499,
          1.621160087994081,
          0.5217763586682169,
          0.8801417066064525,
          0.13484425897085406,
          3.691117288126378,
          -2.416266876399665,
          2.3358758727550786,
          1.7717343918717456,
          -0.35245780956044287,
          1.598008885504917,
          0.8353980697830011,
          1.036914935509509,
          -0.4130808037182943,
          0.1201449736941742,
          -0.8560669733450633,
          1.1168279489678494,
          0.9914296507492363,
          0.5385868766604014,
          -0.4952490314342355,
          -0.7980789270390236,
          -0.276197765895527,
          -1.081039485521479,
          1.1601869793849855,
          -1.8561540423239895,
          -0.01413914636690662,
          -0.45120155101035647,
          1.494776628782351,
          0.3569301694084583,
          -0.5661533477437096,
          0.02405744946508679,
          -0.1458027064281945,
          -1.0005733547461824,
          0.04134330108130965,
          1.7508995724054792,
          0.9613996351748723,
          0.19171330202927173,
          -1.1143201492623325,
          -1.0480855304767178,
          0.8118797983557221,
          0.3540895209241299,
          -0.1480959699243474,
          -0.9077624257210148,
          -1.0133902514104611,
          0.725583758296143,
          1.3434203600702546,
          -1.0111004234311245,
          0.16099173659542268,
          0.5620548780360328,
          -0.7809049351081959,
          -0.7906830188788375,
          -0.7574707429971221,
          0.6198024901306802,
          -0.36616725339190975,
          0.3791926906692904,
          1.7758116380194198,
          0.03155468046961385,
          0.22659562984623716,
          -1.5285046833911937,
          -0.7514383379478631,
          -1.952199098494278,
          1.9944127407462582,
          -0.024781028419175816,
          1.5499521688785374,
          0.15974094960209048,
          0.25910483068898826,
          1.9612435767526173,
          -1.3232746510455575,
          0.4812653233251102,
          0.38828762353513996,
          -0.11343348104144958,
          -1.7929529835971845,
          -1.6214141619592952,
          2.182183479899491,
          -0.4244656015207121,
          -0.46896476201010595
         ]
        },
        {
         "line": {
          "color": "rgba(50, 171, 96, 1.0)",
          "dash": "solid",
          "shape": "linear",
          "width": 1.3
         },
         "mode": "lines",
         "name": "C",
         "text": "",
         "type": "scatter",
         "x": [
          0,
          1,
          2,
          3,
          4,
          5,
          6,
          7,
          8,
          9,
          10,
          11,
          12,
          13,
          14,
          15,
          16,
          17,
          18,
          19,
          20,
          21,
          22,
          23,
          24,
          25,
          26,
          27,
          28,
          29,
          30,
          31,
          32,
          33,
          34,
          35,
          36,
          37,
          38,
          39,
          40,
          41,
          42,
          43,
          44,
          45,
          46,
          47,
          48,
          49,
          50,
          51,
          52,
          53,
          54,
          55,
          56,
          57,
          58,
          59,
          60,
          61,
          62,
          63,
          64,
          65,
          66,
          67,
          68,
          69,
          70,
          71,
          72,
          73,
          74,
          75,
          76,
          77,
          78,
          79,
          80,
          81,
          82,
          83,
          84,
          85,
          86,
          87,
          88,
          89,
          90,
          91,
          92,
          93,
          94,
          95,
          96,
          97,
          98,
          99
         ],
         "y": [
          -2.042778404283279,
          -0.8086292637776729,
          0.07951262165046988,
          0.5221752048840469,
          -0.31539294377363086,
          1.6552182074808222,
          0.7842305019855476,
          0.2518540138158609,
          0.6028191373953553,
          1.133414218047674,
          0.7057572974418603,
          1.061302449196972,
          -0.15193029600118366,
          1.086995370761806,
          0.8542849027410467,
          0.43687219363659485,
          -1.5353662097562972,
          -0.18821510810952413,
          -0.39873856038919375,
          0.3050118904736824,
          0.6048012190588143,
          -1.128184871158203,
          -0.07969530508528032,
          0.9282442933538346,
          -0.49701525531565216,
          -0.049262585191651005,
          0.46702421946671085,
          -0.8631880750946351,
          1.3180744638286963,
          -0.8516713949612197,
          -0.43253403130686424,
          -0.43714533279034096,
          1.154689519144097,
          -0.03557429822214948,
          -0.8178075029669404,
          0.8309735296995683,
          -0.35228814722999535,
          -0.6804085264023645,
          0.11485223356235473,
          0.3290235748940473,
          0.6796858056962815,
          1.629376636963166,
          -0.038034006221677734,
          1.5387897285455612,
          0.49835421966936355,
          0.3474691935983347,
          0.29736983700182157,
          -0.09379177036687593,
          -1.6063011815658392,
          1.121027406747829,
          1.9151417756899665,
          0.5559105720546942,
          -0.09719919127589059,
          -1.6340017947621939,
          -0.2774081751433951,
          -1.3386911417915015,
          -0.1110715982119898,
          0.15788564415209594,
          0.4446083782583594,
          1.1019643973721855,
          -1.52979801909996,
          0.3821213253326914,
          0.021240080127985644,
          -0.8657488538101223,
          0.9285710236801532,
          -0.0796888981481265,
          0.38345179842387705,
          -1.1268614499472618,
          -0.31748990866568905,
          0.24921650383247856,
          0.5624198749105934,
          -1.3912527799203176,
          -0.33278807132259114,
          0.7531724868108812,
          1.4697252707622481,
          0.25084807347507365,
          1.2950092444613501,
          0.5626508956179024,
          0.6595977984168403,
          -0.2058408203813848,
          0.8952625053288772,
          -1.2768678299174205,
          0.8133866097559699,
          0.5235384394259246,
          1.0310355324645997,
          -0.9288145909581881,
          1.4699754739675475,
          -0.01705610040426772,
          -0.4541170299626405,
          -0.21445678611486685,
          -1.38325769334619,
          -0.34651989912308095,
          0.39738897362751685,
          0.38475679717484423,
          2.036923859633159,
          -0.13454706446498002,
          0.12362648712871724,
          1.0054184788709257,
          0.9998178160475131,
          0.7478263247617388
         ]
        },
        {
         "line": {
          "color": "rgba(128, 0, 128, 1.0)",
          "dash": "solid",
          "shape": "linear",
          "width": 1.3
         },
         "mode": "lines",
         "name": "D",
         "text": "",
         "type": "scatter",
         "x": [
          0,
          1,
          2,
          3,
          4,
          5,
          6,
          7,
          8,
          9,
          10,
          11,
          12,
          13,
          14,
          15,
          16,
          17,
          18,
          19,
          20,
          21,
          22,
          23,
          24,
          25,
          26,
          27,
          28,
          29,
          30,
          31,
          32,
          33,
          34,
          35,
          36,
          37,
          38,
          39,
          40,
          41,
          42,
          43,
          44,
          45,
          46,
          47,
          48,
          49,
          50,
          51,
          52,
          53,
          54,
          55,
          56,
          57,
          58,
          59,
          60,
          61,
          62,
          63,
          64,
          65,
          66,
          67,
          68,
          69,
          70,
          71,
          72,
          73,
          74,
          75,
          76,
          77,
          78,
          79,
          80,
          81,
          82,
          83,
          84,
          85,
          86,
          87,
          88,
          89,
          90,
          91,
          92,
          93,
          94,
          95,
          96,
          97,
          98,
          99
         ],
         "y": [
          0.21352617752379416,
          1.1637824690301222,
          -1.4931481485996636,
          -1.4896648104474222,
          -3.0348226849697357,
          1.150446186421357,
          -0.2338294911858345,
          -1.4285332179452923,
          -0.17760310723053468,
          1.8209888898509967,
          -1.5824775135439781,
          0.5813560338140691,
          0.2706710369918996,
          0.10592558803220144,
          0.20293098029983603,
          0.32481441038540887,
          0.2657365985831384,
          1.321408612300714,
          -1.5706168811920116,
          1.413133992301557,
          -0.007606133532852909,
          0.5450704773904292,
          -1.1554668205199132,
          1.3476367870747348,
          -1.0401025147198106,
          -0.2801943612820007,
          1.4419792914301068,
          0.7048958498789932,
          0.6290841675073214,
          1.240683868648425,
          -2.145849079938842,
          0.1989956605541811,
          0.27772245927343137,
          0.36145717449729836,
          -0.4486938517017833,
          -0.24591086144844643,
          0.3815806835760504,
          0.3104321420932512,
          -0.40920015275440624,
          0.3262988295908662,
          -0.10208272212128097,
          0.5224161576180808,
          0.3520929297955739,
          2.3123328320468786,
          -0.9923490052730541,
          -0.943628782591049,
          -0.3052048305824391,
          -0.898476051808812,
          1.9557618736900368,
          0.9263210681274484,
          -2.063324814304645,
          -0.8909992444503797,
          0.7761036506815269,
          1.3824325691835206,
          -0.2586150002790573,
          -1.5429208869558502,
          2.539260088818922,
          2.2551639589649533,
          1.6163029818176344,
          1.4799489787482678,
          0.1334277642766795,
          0.7342963957001469,
          2.481689616364864,
          0.5200178542332247,
          -0.6350552597482032,
          0.7624691148413545,
          0.6911428888111949,
          -1.5245150481087488,
          -1.321249439351069,
          0.6783522350033809,
          -1.7507844878894656,
          -0.8076010385957816,
          1.1760900128092935,
          0.9961579816476411,
          0.7289324726303708,
          -0.6681162160012537,
          0.6248734665768974,
          1.8052293411681473,
          -0.5310712980601926,
          -1.745395237767626,
          1.06150413984027,
          -1.6677328560027864,
          2.160895647219647,
          1.6291863750644477,
          0.670295275246841,
          -0.041930824730600794,
          -0.9355454000813688,
          -0.2379867746188871,
          -0.259099933089217,
          -0.9988659142244501,
          0.6844056130362455,
          -1.0525647950209562,
          0.7050622287508195,
          -0.4161455446067074,
          0.2279586588385351,
          -0.8696531268094576,
          0.46763206679049024,
          0.40752421998524807,
          0.5105351400950412,
          0.19632414885767147
         ]
        }
       ],
       "layout": {
        "legend": {
         "bgcolor": "#F5F6F9",
         "font": {
          "color": "#4D5663"
         }
        },
        "paper_bgcolor": "#F5F6F9",
        "plot_bgcolor": "#F5F6F9",
        "template": {
         "data": {
          "bar": [
           {
            "error_x": {
             "color": "#2a3f5f"
            },
            "error_y": {
             "color": "#2a3f5f"
            },
            "marker": {
             "line": {
              "color": "#E5ECF6",
              "width": 0.5
             },
             "pattern": {
              "fillmode": "overlay",
              "size": 10,
              "solidity": 0.2
             }
            },
            "type": "bar"
           }
          ],
          "barpolar": [
           {
            "marker": {
             "line": {
              "color": "#E5ECF6",
              "width": 0.5
             },
             "pattern": {
              "fillmode": "overlay",
              "size": 10,
              "solidity": 0.2
             }
            },
            "type": "barpolar"
           }
          ],
          "carpet": [
           {
            "aaxis": {
             "endlinecolor": "#2a3f5f",
             "gridcolor": "white",
             "linecolor": "white",
             "minorgridcolor": "white",
             "startlinecolor": "#2a3f5f"
            },
            "baxis": {
             "endlinecolor": "#2a3f5f",
             "gridcolor": "white",
             "linecolor": "white",
             "minorgridcolor": "white",
             "startlinecolor": "#2a3f5f"
            },
            "type": "carpet"
           }
          ],
          "choropleth": [
           {
            "colorbar": {
             "outlinewidth": 0,
             "ticks": ""
            },
            "type": "choropleth"
           }
          ],
          "contour": [
           {
            "colorbar": {
             "outlinewidth": 0,
             "ticks": ""
            },
            "colorscale": [
             [
              0,
              "#0d0887"
             ],
             [
              0.1111111111111111,
              "#46039f"
             ],
             [
              0.2222222222222222,
              "#7201a8"
             ],
             [
              0.3333333333333333,
              "#9c179e"
             ],
             [
              0.4444444444444444,
              "#bd3786"
             ],
             [
              0.5555555555555556,
              "#d8576b"
             ],
             [
              0.6666666666666666,
              "#ed7953"
             ],
             [
              0.7777777777777778,
              "#fb9f3a"
             ],
             [
              0.8888888888888888,
              "#fdca26"
             ],
             [
              1,
              "#f0f921"
             ]
            ],
            "type": "contour"
           }
          ],
          "contourcarpet": [
           {
            "colorbar": {
             "outlinewidth": 0,
             "ticks": ""
            },
            "type": "contourcarpet"
           }
          ],
          "heatmap": [
           {
            "colorbar": {
             "outlinewidth": 0,
             "ticks": ""
            },
            "colorscale": [
             [
              0,
              "#0d0887"
             ],
             [
              0.1111111111111111,
              "#46039f"
             ],
             [
              0.2222222222222222,
              "#7201a8"
             ],
             [
              0.3333333333333333,
              "#9c179e"
             ],
             [
              0.4444444444444444,
              "#bd3786"
             ],
             [
              0.5555555555555556,
              "#d8576b"
             ],
             [
              0.6666666666666666,
              "#ed7953"
             ],
             [
              0.7777777777777778,
              "#fb9f3a"
             ],
             [
              0.8888888888888888,
              "#fdca26"
             ],
             [
              1,
              "#f0f921"
             ]
            ],
            "type": "heatmap"
           }
          ],
          "heatmapgl": [
           {
            "colorbar": {
             "outlinewidth": 0,
             "ticks": ""
            },
            "colorscale": [
             [
              0,
              "#0d0887"
             ],
             [
              0.1111111111111111,
              "#46039f"
             ],
             [
              0.2222222222222222,
              "#7201a8"
             ],
             [
              0.3333333333333333,
              "#9c179e"
             ],
             [
              0.4444444444444444,
              "#bd3786"
             ],
             [
              0.5555555555555556,
              "#d8576b"
             ],
             [
              0.6666666666666666,
              "#ed7953"
             ],
             [
              0.7777777777777778,
              "#fb9f3a"
             ],
             [
              0.8888888888888888,
              "#fdca26"
             ],
             [
              1,
              "#f0f921"
             ]
            ],
            "type": "heatmapgl"
           }
          ],
          "histogram": [
           {
            "marker": {
             "pattern": {
              "fillmode": "overlay",
              "size": 10,
              "solidity": 0.2
             }
            },
            "type": "histogram"
           }
          ],
          "histogram2d": [
           {
            "colorbar": {
             "outlinewidth": 0,
             "ticks": ""
            },
            "colorscale": [
             [
              0,
              "#0d0887"
             ],
             [
              0.1111111111111111,
              "#46039f"
             ],
             [
              0.2222222222222222,
              "#7201a8"
             ],
             [
              0.3333333333333333,
              "#9c179e"
             ],
             [
              0.4444444444444444,
              "#bd3786"
             ],
             [
              0.5555555555555556,
              "#d8576b"
             ],
             [
              0.6666666666666666,
              "#ed7953"
             ],
             [
              0.7777777777777778,
              "#fb9f3a"
             ],
             [
              0.8888888888888888,
              "#fdca26"
             ],
             [
              1,
              "#f0f921"
             ]
            ],
            "type": "histogram2d"
           }
          ],
          "histogram2dcontour": [
           {
            "colorbar": {
             "outlinewidth": 0,
             "ticks": ""
            },
            "colorscale": [
             [
              0,
              "#0d0887"
             ],
             [
              0.1111111111111111,
              "#46039f"
             ],
             [
              0.2222222222222222,
              "#7201a8"
             ],
             [
              0.3333333333333333,
              "#9c179e"
             ],
             [
              0.4444444444444444,
              "#bd3786"
             ],
             [
              0.5555555555555556,
              "#d8576b"
             ],
             [
              0.6666666666666666,
              "#ed7953"
             ],
             [
              0.7777777777777778,
              "#fb9f3a"
             ],
             [
              0.8888888888888888,
              "#fdca26"
             ],
             [
              1,
              "#f0f921"
             ]
            ],
            "type": "histogram2dcontour"
           }
          ],
          "mesh3d": [
           {
            "colorbar": {
             "outlinewidth": 0,
             "ticks": ""
            },
            "type": "mesh3d"
           }
          ],
          "parcoords": [
           {
            "line": {
             "colorbar": {
              "outlinewidth": 0,
              "ticks": ""
             }
            },
            "type": "parcoords"
           }
          ],
          "pie": [
           {
            "automargin": true,
            "type": "pie"
           }
          ],
          "scatter": [
           {
            "marker": {
             "colorbar": {
              "outlinewidth": 0,
              "ticks": ""
             }
            },
            "type": "scatter"
           }
          ],
          "scatter3d": [
           {
            "line": {
             "colorbar": {
              "outlinewidth": 0,
              "ticks": ""
             }
            },
            "marker": {
             "colorbar": {
              "outlinewidth": 0,
              "ticks": ""
             }
            },
            "type": "scatter3d"
           }
          ],
          "scattercarpet": [
           {
            "marker": {
             "colorbar": {
              "outlinewidth": 0,
              "ticks": ""
             }
            },
            "type": "scattercarpet"
           }
          ],
          "scattergeo": [
           {
            "marker": {
             "colorbar": {
              "outlinewidth": 0,
              "ticks": ""
             }
            },
            "type": "scattergeo"
           }
          ],
          "scattergl": [
           {
            "marker": {
             "colorbar": {
              "outlinewidth": 0,
              "ticks": ""
             }
            },
            "type": "scattergl"
           }
          ],
          "scattermapbox": [
           {
            "marker": {
             "colorbar": {
              "outlinewidth": 0,
              "ticks": ""
             }
            },
            "type": "scattermapbox"
           }
          ],
          "scatterpolar": [
           {
            "marker": {
             "colorbar": {
              "outlinewidth": 0,
              "ticks": ""
             }
            },
            "type": "scatterpolar"
           }
          ],
          "scatterpolargl": [
           {
            "marker": {
             "colorbar": {
              "outlinewidth": 0,
              "ticks": ""
             }
            },
            "type": "scatterpolargl"
           }
          ],
          "scatterternary": [
           {
            "marker": {
             "colorbar": {
              "outlinewidth": 0,
              "ticks": ""
             }
            },
            "type": "scatterternary"
           }
          ],
          "surface": [
           {
            "colorbar": {
             "outlinewidth": 0,
             "ticks": ""
            },
            "colorscale": [
             [
              0,
              "#0d0887"
             ],
             [
              0.1111111111111111,
              "#46039f"
             ],
             [
              0.2222222222222222,
              "#7201a8"
             ],
             [
              0.3333333333333333,
              "#9c179e"
             ],
             [
              0.4444444444444444,
              "#bd3786"
             ],
             [
              0.5555555555555556,
              "#d8576b"
             ],
             [
              0.6666666666666666,
              "#ed7953"
             ],
             [
              0.7777777777777778,
              "#fb9f3a"
             ],
             [
              0.8888888888888888,
              "#fdca26"
             ],
             [
              1,
              "#f0f921"
             ]
            ],
            "type": "surface"
           }
          ],
          "table": [
           {
            "cells": {
             "fill": {
              "color": "#EBF0F8"
             },
             "line": {
              "color": "white"
             }
            },
            "header": {
             "fill": {
              "color": "#C8D4E3"
             },
             "line": {
              "color": "white"
             }
            },
            "type": "table"
           }
          ]
         },
         "layout": {
          "annotationdefaults": {
           "arrowcolor": "#2a3f5f",
           "arrowhead": 0,
           "arrowwidth": 1
          },
          "autotypenumbers": "strict",
          "coloraxis": {
           "colorbar": {
            "outlinewidth": 0,
            "ticks": ""
           }
          },
          "colorscale": {
           "diverging": [
            [
             0,
             "#8e0152"
            ],
            [
             0.1,
             "#c51b7d"
            ],
            [
             0.2,
             "#de77ae"
            ],
            [
             0.3,
             "#f1b6da"
            ],
            [
             0.4,
             "#fde0ef"
            ],
            [
             0.5,
             "#f7f7f7"
            ],
            [
             0.6,
             "#e6f5d0"
            ],
            [
             0.7,
             "#b8e186"
            ],
            [
             0.8,
             "#7fbc41"
            ],
            [
             0.9,
             "#4d9221"
            ],
            [
             1,
             "#276419"
            ]
           ],
           "sequential": [
            [
             0,
             "#0d0887"
            ],
            [
             0.1111111111111111,
             "#46039f"
            ],
            [
             0.2222222222222222,
             "#7201a8"
            ],
            [
             0.3333333333333333,
             "#9c179e"
            ],
            [
             0.4444444444444444,
             "#bd3786"
            ],
            [
             0.5555555555555556,
             "#d8576b"
            ],
            [
             0.6666666666666666,
             "#ed7953"
            ],
            [
             0.7777777777777778,
             "#fb9f3a"
            ],
            [
             0.8888888888888888,
             "#fdca26"
            ],
            [
             1,
             "#f0f921"
            ]
           ],
           "sequentialminus": [
            [
             0,
             "#0d0887"
            ],
            [
             0.1111111111111111,
             "#46039f"
            ],
            [
             0.2222222222222222,
             "#7201a8"
            ],
            [
             0.3333333333333333,
             "#9c179e"
            ],
            [
             0.4444444444444444,
             "#bd3786"
            ],
            [
             0.5555555555555556,
             "#d8576b"
            ],
            [
             0.6666666666666666,
             "#ed7953"
            ],
            [
             0.7777777777777778,
             "#fb9f3a"
            ],
            [
             0.8888888888888888,
             "#fdca26"
            ],
            [
             1,
             "#f0f921"
            ]
           ]
          },
          "colorway": [
           "#636efa",
           "#EF553B",
           "#00cc96",
           "#ab63fa",
           "#FFA15A",
           "#19d3f3",
           "#FF6692",
           "#B6E880",
           "#FF97FF",
           "#FECB52"
          ],
          "font": {
           "color": "#2a3f5f"
          },
          "geo": {
           "bgcolor": "white",
           "lakecolor": "white",
           "landcolor": "#E5ECF6",
           "showlakes": true,
           "showland": true,
           "subunitcolor": "white"
          },
          "hoverlabel": {
           "align": "left"
          },
          "hovermode": "closest",
          "mapbox": {
           "style": "light"
          },
          "paper_bgcolor": "white",
          "plot_bgcolor": "#E5ECF6",
          "polar": {
           "angularaxis": {
            "gridcolor": "white",
            "linecolor": "white",
            "ticks": ""
           },
           "bgcolor": "#E5ECF6",
           "radialaxis": {
            "gridcolor": "white",
            "linecolor": "white",
            "ticks": ""
           }
          },
          "scene": {
           "xaxis": {
            "backgroundcolor": "#E5ECF6",
            "gridcolor": "white",
            "gridwidth": 2,
            "linecolor": "white",
            "showbackground": true,
            "ticks": "",
            "zerolinecolor": "white"
           },
           "yaxis": {
            "backgroundcolor": "#E5ECF6",
            "gridcolor": "white",
            "gridwidth": 2,
            "linecolor": "white",
            "showbackground": true,
            "ticks": "",
            "zerolinecolor": "white"
           },
           "zaxis": {
            "backgroundcolor": "#E5ECF6",
            "gridcolor": "white",
            "gridwidth": 2,
            "linecolor": "white",
            "showbackground": true,
            "ticks": "",
            "zerolinecolor": "white"
           }
          },
          "shapedefaults": {
           "line": {
            "color": "#2a3f5f"
           }
          },
          "ternary": {
           "aaxis": {
            "gridcolor": "white",
            "linecolor": "white",
            "ticks": ""
           },
           "baxis": {
            "gridcolor": "white",
            "linecolor": "white",
            "ticks": ""
           },
           "bgcolor": "#E5ECF6",
           "caxis": {
            "gridcolor": "white",
            "linecolor": "white",
            "ticks": ""
           }
          },
          "title": {
           "x": 0.05
          },
          "xaxis": {
           "automargin": true,
           "gridcolor": "white",
           "linecolor": "white",
           "ticks": "",
           "title": {
            "standoff": 15
           },
           "zerolinecolor": "white",
           "zerolinewidth": 2
          },
          "yaxis": {
           "automargin": true,
           "gridcolor": "white",
           "linecolor": "white",
           "ticks": "",
           "title": {
            "standoff": 15
           },
           "zerolinecolor": "white",
           "zerolinewidth": 2
          }
         }
        },
        "title": {
         "font": {
          "color": "#4D5663"
         }
        },
        "xaxis": {
         "gridcolor": "#E1E5ED",
         "showgrid": true,
         "tickfont": {
          "color": "#4D5663"
         },
         "title": {
          "font": {
           "color": "#4D5663"
          },
          "text": ""
         },
         "zerolinecolor": "#E1E5ED"
        },
        "yaxis": {
         "gridcolor": "#E1E5ED",
         "showgrid": true,
         "tickfont": {
          "color": "#4D5663"
         },
         "title": {
          "font": {
           "color": "#4D5663"
          },
          "text": ""
         },
         "zerolinecolor": "#E1E5ED"
        }
       }
      },
      "text/html": "<div>                            <div id=\"72fe689f-c865-4606-acf9-e7cefdb2d1b4\" class=\"plotly-graph-div\" style=\"height:525px; width:100%;\"></div>            <script type=\"text/javascript\">                require([\"plotly\"], function(Plotly) {                    window.PLOTLYENV=window.PLOTLYENV || {};\n                    window.PLOTLYENV.BASE_URL='https://plot.ly';                                    if (document.getElementById(\"72fe689f-c865-4606-acf9-e7cefdb2d1b4\")) {                    Plotly.newPlot(                        \"72fe689f-c865-4606-acf9-e7cefdb2d1b4\",                        [{\"line\":{\"color\":\"rgba(255, 153, 51, 1.0)\",\"dash\":\"solid\",\"shape\":\"linear\",\"width\":1.3},\"mode\":\"lines\",\"name\":\"A\",\"text\":\"\",\"type\":\"scatter\",\"x\":[0,1,2,3,4,5,6,7,8,9,10,11,12,13,14,15,16,17,18,19,20,21,22,23,24,25,26,27,28,29,30,31,32,33,34,35,36,37,38,39,40,41,42,43,44,45,46,47,48,49,50,51,52,53,54,55,56,57,58,59,60,61,62,63,64,65,66,67,68,69,70,71,72,73,74,75,76,77,78,79,80,81,82,83,84,85,86,87,88,89,90,91,92,93,94,95,96,97,98,99],\"y\":[-0.2822530812767983,0.11177954270024573,-0.10365053788588582,0.02656124579063317,-1.5589762977346808,1.0132211350937634,-0.30328857726453073,-0.7199741772120288,-1.4449618003020752,0.0870273201912875,0.13842521090460083,0.430384357522352,0.24548869156932343,0.9173824994784092,1.5670595993621765,-0.5597336939751391,0.3898450558594656,-1.2726392312466468,0.8622723710962631,-0.7031244930099043,-0.7922295293843453,-1.526660849216027,-0.9277262077287288,-1.032725325183833,0.36547026069353317,-2.9237999576647544,0.8457534337661701,-1.174573749139029,-1.8667531585437849,-1.7581217668063733,1.9647696317289618,1.3488955495460921,0.007797896873515592,-0.713555939517463,0.17722768128904726,2.050112489389013,-0.13666616615644142,-1.7306156405475168,0.6958200536519168,-0.5234105337037703,-0.012434379264582445,1.7601487144634653,0.16071172012279475,-0.6179026304787749,1.6173684311937226,-1.6613023488402456,0.6416672817496606,0.2552777817375178,-0.31586097972365856,-0.43464965175484643,-0.4707668184016685,0.7825544921529582,0.4904041179307361,0.49712174374281376,-0.5508016730368818,-0.6155602534305868,1.2363385679967063,-0.4090205668728628,-0.8295458759775213,-0.9463793504279688,-0.2978550232150625,0.3277095730284602,-0.5585509506509643,-1.8837412762168402,-0.29390030744052,-1.9387398942484106,-0.8535459371008373,0.38155356585509215,0.3859550942665604,1.854187328079297,-0.8088472594273697,-0.05093786320031386,-1.7816772063980535,-1.3698714683779434,-0.6689631639333197,0.9208324986188126,1.171612601728039,0.735073565394661,1.8586413975072043,2.1033437082366806,1.1797410879822996,1.3623210111835407,-0.6695545916497564,0.6094714502999233,0.20231711883368697,0.36652528304522175,0.6692848390348893,-0.5362325536190167,-0.2072721963452957,-1.8134215513227876,-1.3213159843282267,2.2748446484983593,-0.9127615638698073,1.4380870293753036,0.28595084250096153,0.690076109191434,1.0820280780993259,-0.07427992417706594,-0.9489793708263293,-0.13046497946610547]},{\"line\":{\"color\":\"rgba(55, 128, 191, 1.0)\",\"dash\":\"solid\",\"shape\":\"linear\",\"width\":1.3},\"mode\":\"lines\",\"name\":\"B\",\"text\":\"\",\"type\":\"scatter\",\"x\":[0,1,2,3,4,5,6,7,8,9,10,11,12,13,14,15,16,17,18,19,20,21,22,23,24,25,26,27,28,29,30,31,32,33,34,35,36,37,38,39,40,41,42,43,44,45,46,47,48,49,50,51,52,53,54,55,56,57,58,59,60,61,62,63,64,65,66,67,68,69,70,71,72,73,74,75,76,77,78,79,80,81,82,83,84,85,86,87,88,89,90,91,92,93,94,95,96,97,98,99],\"y\":[0.2857386885991392,1.3613605645425968,-1.5240841919229546,-0.19053029907959318,0.47586643338111534,0.23866931721636384,0.03849755079147557,-1.5863244800631007,-1.6036827562026346,0.5415452310375376,0.1053458688466647,-0.8258726250824163,-0.6315725363056894,3.147952750166804,-0.669787435180034,-0.6873643894824005,0.07706076780628347,1.3361248975596374,1.9199808549225474,-0.10680244920371619,0.0892730917399342,0.1731264936089252,0.5556396737408577,-1.5568412285756597,0.5106270667600499,1.621160087994081,0.5217763586682169,0.8801417066064525,0.13484425897085406,3.691117288126378,-2.416266876399665,2.3358758727550786,1.7717343918717456,-0.35245780956044287,1.598008885504917,0.8353980697830011,1.036914935509509,-0.4130808037182943,0.1201449736941742,-0.8560669733450633,1.1168279489678494,0.9914296507492363,0.5385868766604014,-0.4952490314342355,-0.7980789270390236,-0.276197765895527,-1.081039485521479,1.1601869793849855,-1.8561540423239895,-0.01413914636690662,-0.45120155101035647,1.494776628782351,0.3569301694084583,-0.5661533477437096,0.02405744946508679,-0.1458027064281945,-1.0005733547461824,0.04134330108130965,1.7508995724054792,0.9613996351748723,0.19171330202927173,-1.1143201492623325,-1.0480855304767178,0.8118797983557221,0.3540895209241299,-0.1480959699243474,-0.9077624257210148,-1.0133902514104611,0.725583758296143,1.3434203600702546,-1.0111004234311245,0.16099173659542268,0.5620548780360328,-0.7809049351081959,-0.7906830188788375,-0.7574707429971221,0.6198024901306802,-0.36616725339190975,0.3791926906692904,1.7758116380194198,0.03155468046961385,0.22659562984623716,-1.5285046833911937,-0.7514383379478631,-1.952199098494278,1.9944127407462582,-0.024781028419175816,1.5499521688785374,0.15974094960209048,0.25910483068898826,1.9612435767526173,-1.3232746510455575,0.4812653233251102,0.38828762353513996,-0.11343348104144958,-1.7929529835971845,-1.6214141619592952,2.182183479899491,-0.4244656015207121,-0.46896476201010595]},{\"line\":{\"color\":\"rgba(50, 171, 96, 1.0)\",\"dash\":\"solid\",\"shape\":\"linear\",\"width\":1.3},\"mode\":\"lines\",\"name\":\"C\",\"text\":\"\",\"type\":\"scatter\",\"x\":[0,1,2,3,4,5,6,7,8,9,10,11,12,13,14,15,16,17,18,19,20,21,22,23,24,25,26,27,28,29,30,31,32,33,34,35,36,37,38,39,40,41,42,43,44,45,46,47,48,49,50,51,52,53,54,55,56,57,58,59,60,61,62,63,64,65,66,67,68,69,70,71,72,73,74,75,76,77,78,79,80,81,82,83,84,85,86,87,88,89,90,91,92,93,94,95,96,97,98,99],\"y\":[-2.042778404283279,-0.8086292637776729,0.07951262165046988,0.5221752048840469,-0.31539294377363086,1.6552182074808222,0.7842305019855476,0.2518540138158609,0.6028191373953553,1.133414218047674,0.7057572974418603,1.061302449196972,-0.15193029600118366,1.086995370761806,0.8542849027410467,0.43687219363659485,-1.5353662097562972,-0.18821510810952413,-0.39873856038919375,0.3050118904736824,0.6048012190588143,-1.128184871158203,-0.07969530508528032,0.9282442933538346,-0.49701525531565216,-0.049262585191651005,0.46702421946671085,-0.8631880750946351,1.3180744638286963,-0.8516713949612197,-0.43253403130686424,-0.43714533279034096,1.154689519144097,-0.03557429822214948,-0.8178075029669404,0.8309735296995683,-0.35228814722999535,-0.6804085264023645,0.11485223356235473,0.3290235748940473,0.6796858056962815,1.629376636963166,-0.038034006221677734,1.5387897285455612,0.49835421966936355,0.3474691935983347,0.29736983700182157,-0.09379177036687593,-1.6063011815658392,1.121027406747829,1.9151417756899665,0.5559105720546942,-0.09719919127589059,-1.6340017947621939,-0.2774081751433951,-1.3386911417915015,-0.1110715982119898,0.15788564415209594,0.4446083782583594,1.1019643973721855,-1.52979801909996,0.3821213253326914,0.021240080127985644,-0.8657488538101223,0.9285710236801532,-0.0796888981481265,0.38345179842387705,-1.1268614499472618,-0.31748990866568905,0.24921650383247856,0.5624198749105934,-1.3912527799203176,-0.33278807132259114,0.7531724868108812,1.4697252707622481,0.25084807347507365,1.2950092444613501,0.5626508956179024,0.6595977984168403,-0.2058408203813848,0.8952625053288772,-1.2768678299174205,0.8133866097559699,0.5235384394259246,1.0310355324645997,-0.9288145909581881,1.4699754739675475,-0.01705610040426772,-0.4541170299626405,-0.21445678611486685,-1.38325769334619,-0.34651989912308095,0.39738897362751685,0.38475679717484423,2.036923859633159,-0.13454706446498002,0.12362648712871724,1.0054184788709257,0.9998178160475131,0.7478263247617388]},{\"line\":{\"color\":\"rgba(128, 0, 128, 1.0)\",\"dash\":\"solid\",\"shape\":\"linear\",\"width\":1.3},\"mode\":\"lines\",\"name\":\"D\",\"text\":\"\",\"type\":\"scatter\",\"x\":[0,1,2,3,4,5,6,7,8,9,10,11,12,13,14,15,16,17,18,19,20,21,22,23,24,25,26,27,28,29,30,31,32,33,34,35,36,37,38,39,40,41,42,43,44,45,46,47,48,49,50,51,52,53,54,55,56,57,58,59,60,61,62,63,64,65,66,67,68,69,70,71,72,73,74,75,76,77,78,79,80,81,82,83,84,85,86,87,88,89,90,91,92,93,94,95,96,97,98,99],\"y\":[0.21352617752379416,1.1637824690301222,-1.4931481485996636,-1.4896648104474222,-3.0348226849697357,1.150446186421357,-0.2338294911858345,-1.4285332179452923,-0.17760310723053468,1.8209888898509967,-1.5824775135439781,0.5813560338140691,0.2706710369918996,0.10592558803220144,0.20293098029983603,0.32481441038540887,0.2657365985831384,1.321408612300714,-1.5706168811920116,1.413133992301557,-0.007606133532852909,0.5450704773904292,-1.1554668205199132,1.3476367870747348,-1.0401025147198106,-0.2801943612820007,1.4419792914301068,0.7048958498789932,0.6290841675073214,1.240683868648425,-2.145849079938842,0.1989956605541811,0.27772245927343137,0.36145717449729836,-0.4486938517017833,-0.24591086144844643,0.3815806835760504,0.3104321420932512,-0.40920015275440624,0.3262988295908662,-0.10208272212128097,0.5224161576180808,0.3520929297955739,2.3123328320468786,-0.9923490052730541,-0.943628782591049,-0.3052048305824391,-0.898476051808812,1.9557618736900368,0.9263210681274484,-2.063324814304645,-0.8909992444503797,0.7761036506815269,1.3824325691835206,-0.2586150002790573,-1.5429208869558502,2.539260088818922,2.2551639589649533,1.6163029818176344,1.4799489787482678,0.1334277642766795,0.7342963957001469,2.481689616364864,0.5200178542332247,-0.6350552597482032,0.7624691148413545,0.6911428888111949,-1.5245150481087488,-1.321249439351069,0.6783522350033809,-1.7507844878894656,-0.8076010385957816,1.1760900128092935,0.9961579816476411,0.7289324726303708,-0.6681162160012537,0.6248734665768974,1.8052293411681473,-0.5310712980601926,-1.745395237767626,1.06150413984027,-1.6677328560027864,2.160895647219647,1.6291863750644477,0.670295275246841,-0.041930824730600794,-0.9355454000813688,-0.2379867746188871,-0.259099933089217,-0.9988659142244501,0.6844056130362455,-1.0525647950209562,0.7050622287508195,-0.4161455446067074,0.2279586588385351,-0.8696531268094576,0.46763206679049024,0.40752421998524807,0.5105351400950412,0.19632414885767147]}],                        {\"legend\":{\"bgcolor\":\"#F5F6F9\",\"font\":{\"color\":\"#4D5663\"}},\"paper_bgcolor\":\"#F5F6F9\",\"plot_bgcolor\":\"#F5F6F9\",\"template\":{\"data\":{\"bar\":[{\"error_x\":{\"color\":\"#2a3f5f\"},\"error_y\":{\"color\":\"#2a3f5f\"},\"marker\":{\"line\":{\"color\":\"#E5ECF6\",\"width\":0.5},\"pattern\":{\"fillmode\":\"overlay\",\"size\":10,\"solidity\":0.2}},\"type\":\"bar\"}],\"barpolar\":[{\"marker\":{\"line\":{\"color\":\"#E5ECF6\",\"width\":0.5},\"pattern\":{\"fillmode\":\"overlay\",\"size\":10,\"solidity\":0.2}},\"type\":\"barpolar\"}],\"carpet\":[{\"aaxis\":{\"endlinecolor\":\"#2a3f5f\",\"gridcolor\":\"white\",\"linecolor\":\"white\",\"minorgridcolor\":\"white\",\"startlinecolor\":\"#2a3f5f\"},\"baxis\":{\"endlinecolor\":\"#2a3f5f\",\"gridcolor\":\"white\",\"linecolor\":\"white\",\"minorgridcolor\":\"white\",\"startlinecolor\":\"#2a3f5f\"},\"type\":\"carpet\"}],\"choropleth\":[{\"colorbar\":{\"outlinewidth\":0,\"ticks\":\"\"},\"type\":\"choropleth\"}],\"contour\":[{\"colorbar\":{\"outlinewidth\":0,\"ticks\":\"\"},\"colorscale\":[[0.0,\"#0d0887\"],[0.1111111111111111,\"#46039f\"],[0.2222222222222222,\"#7201a8\"],[0.3333333333333333,\"#9c179e\"],[0.4444444444444444,\"#bd3786\"],[0.5555555555555556,\"#d8576b\"],[0.6666666666666666,\"#ed7953\"],[0.7777777777777778,\"#fb9f3a\"],[0.8888888888888888,\"#fdca26\"],[1.0,\"#f0f921\"]],\"type\":\"contour\"}],\"contourcarpet\":[{\"colorbar\":{\"outlinewidth\":0,\"ticks\":\"\"},\"type\":\"contourcarpet\"}],\"heatmap\":[{\"colorbar\":{\"outlinewidth\":0,\"ticks\":\"\"},\"colorscale\":[[0.0,\"#0d0887\"],[0.1111111111111111,\"#46039f\"],[0.2222222222222222,\"#7201a8\"],[0.3333333333333333,\"#9c179e\"],[0.4444444444444444,\"#bd3786\"],[0.5555555555555556,\"#d8576b\"],[0.6666666666666666,\"#ed7953\"],[0.7777777777777778,\"#fb9f3a\"],[0.8888888888888888,\"#fdca26\"],[1.0,\"#f0f921\"]],\"type\":\"heatmap\"}],\"heatmapgl\":[{\"colorbar\":{\"outlinewidth\":0,\"ticks\":\"\"},\"colorscale\":[[0.0,\"#0d0887\"],[0.1111111111111111,\"#46039f\"],[0.2222222222222222,\"#7201a8\"],[0.3333333333333333,\"#9c179e\"],[0.4444444444444444,\"#bd3786\"],[0.5555555555555556,\"#d8576b\"],[0.6666666666666666,\"#ed7953\"],[0.7777777777777778,\"#fb9f3a\"],[0.8888888888888888,\"#fdca26\"],[1.0,\"#f0f921\"]],\"type\":\"heatmapgl\"}],\"histogram\":[{\"marker\":{\"pattern\":{\"fillmode\":\"overlay\",\"size\":10,\"solidity\":0.2}},\"type\":\"histogram\"}],\"histogram2d\":[{\"colorbar\":{\"outlinewidth\":0,\"ticks\":\"\"},\"colorscale\":[[0.0,\"#0d0887\"],[0.1111111111111111,\"#46039f\"],[0.2222222222222222,\"#7201a8\"],[0.3333333333333333,\"#9c179e\"],[0.4444444444444444,\"#bd3786\"],[0.5555555555555556,\"#d8576b\"],[0.6666666666666666,\"#ed7953\"],[0.7777777777777778,\"#fb9f3a\"],[0.8888888888888888,\"#fdca26\"],[1.0,\"#f0f921\"]],\"type\":\"histogram2d\"}],\"histogram2dcontour\":[{\"colorbar\":{\"outlinewidth\":0,\"ticks\":\"\"},\"colorscale\":[[0.0,\"#0d0887\"],[0.1111111111111111,\"#46039f\"],[0.2222222222222222,\"#7201a8\"],[0.3333333333333333,\"#9c179e\"],[0.4444444444444444,\"#bd3786\"],[0.5555555555555556,\"#d8576b\"],[0.6666666666666666,\"#ed7953\"],[0.7777777777777778,\"#fb9f3a\"],[0.8888888888888888,\"#fdca26\"],[1.0,\"#f0f921\"]],\"type\":\"histogram2dcontour\"}],\"mesh3d\":[{\"colorbar\":{\"outlinewidth\":0,\"ticks\":\"\"},\"type\":\"mesh3d\"}],\"parcoords\":[{\"line\":{\"colorbar\":{\"outlinewidth\":0,\"ticks\":\"\"}},\"type\":\"parcoords\"}],\"pie\":[{\"automargin\":true,\"type\":\"pie\"}],\"scatter\":[{\"marker\":{\"colorbar\":{\"outlinewidth\":0,\"ticks\":\"\"}},\"type\":\"scatter\"}],\"scatter3d\":[{\"line\":{\"colorbar\":{\"outlinewidth\":0,\"ticks\":\"\"}},\"marker\":{\"colorbar\":{\"outlinewidth\":0,\"ticks\":\"\"}},\"type\":\"scatter3d\"}],\"scattercarpet\":[{\"marker\":{\"colorbar\":{\"outlinewidth\":0,\"ticks\":\"\"}},\"type\":\"scattercarpet\"}],\"scattergeo\":[{\"marker\":{\"colorbar\":{\"outlinewidth\":0,\"ticks\":\"\"}},\"type\":\"scattergeo\"}],\"scattergl\":[{\"marker\":{\"colorbar\":{\"outlinewidth\":0,\"ticks\":\"\"}},\"type\":\"scattergl\"}],\"scattermapbox\":[{\"marker\":{\"colorbar\":{\"outlinewidth\":0,\"ticks\":\"\"}},\"type\":\"scattermapbox\"}],\"scatterpolar\":[{\"marker\":{\"colorbar\":{\"outlinewidth\":0,\"ticks\":\"\"}},\"type\":\"scatterpolar\"}],\"scatterpolargl\":[{\"marker\":{\"colorbar\":{\"outlinewidth\":0,\"ticks\":\"\"}},\"type\":\"scatterpolargl\"}],\"scatterternary\":[{\"marker\":{\"colorbar\":{\"outlinewidth\":0,\"ticks\":\"\"}},\"type\":\"scatterternary\"}],\"surface\":[{\"colorbar\":{\"outlinewidth\":0,\"ticks\":\"\"},\"colorscale\":[[0.0,\"#0d0887\"],[0.1111111111111111,\"#46039f\"],[0.2222222222222222,\"#7201a8\"],[0.3333333333333333,\"#9c179e\"],[0.4444444444444444,\"#bd3786\"],[0.5555555555555556,\"#d8576b\"],[0.6666666666666666,\"#ed7953\"],[0.7777777777777778,\"#fb9f3a\"],[0.8888888888888888,\"#fdca26\"],[1.0,\"#f0f921\"]],\"type\":\"surface\"}],\"table\":[{\"cells\":{\"fill\":{\"color\":\"#EBF0F8\"},\"line\":{\"color\":\"white\"}},\"header\":{\"fill\":{\"color\":\"#C8D4E3\"},\"line\":{\"color\":\"white\"}},\"type\":\"table\"}]},\"layout\":{\"annotationdefaults\":{\"arrowcolor\":\"#2a3f5f\",\"arrowhead\":0,\"arrowwidth\":1},\"autotypenumbers\":\"strict\",\"coloraxis\":{\"colorbar\":{\"outlinewidth\":0,\"ticks\":\"\"}},\"colorscale\":{\"diverging\":[[0,\"#8e0152\"],[0.1,\"#c51b7d\"],[0.2,\"#de77ae\"],[0.3,\"#f1b6da\"],[0.4,\"#fde0ef\"],[0.5,\"#f7f7f7\"],[0.6,\"#e6f5d0\"],[0.7,\"#b8e186\"],[0.8,\"#7fbc41\"],[0.9,\"#4d9221\"],[1,\"#276419\"]],\"sequential\":[[0.0,\"#0d0887\"],[0.1111111111111111,\"#46039f\"],[0.2222222222222222,\"#7201a8\"],[0.3333333333333333,\"#9c179e\"],[0.4444444444444444,\"#bd3786\"],[0.5555555555555556,\"#d8576b\"],[0.6666666666666666,\"#ed7953\"],[0.7777777777777778,\"#fb9f3a\"],[0.8888888888888888,\"#fdca26\"],[1.0,\"#f0f921\"]],\"sequentialminus\":[[0.0,\"#0d0887\"],[0.1111111111111111,\"#46039f\"],[0.2222222222222222,\"#7201a8\"],[0.3333333333333333,\"#9c179e\"],[0.4444444444444444,\"#bd3786\"],[0.5555555555555556,\"#d8576b\"],[0.6666666666666666,\"#ed7953\"],[0.7777777777777778,\"#fb9f3a\"],[0.8888888888888888,\"#fdca26\"],[1.0,\"#f0f921\"]]},\"colorway\":[\"#636efa\",\"#EF553B\",\"#00cc96\",\"#ab63fa\",\"#FFA15A\",\"#19d3f3\",\"#FF6692\",\"#B6E880\",\"#FF97FF\",\"#FECB52\"],\"font\":{\"color\":\"#2a3f5f\"},\"geo\":{\"bgcolor\":\"white\",\"lakecolor\":\"white\",\"landcolor\":\"#E5ECF6\",\"showlakes\":true,\"showland\":true,\"subunitcolor\":\"white\"},\"hoverlabel\":{\"align\":\"left\"},\"hovermode\":\"closest\",\"mapbox\":{\"style\":\"light\"},\"paper_bgcolor\":\"white\",\"plot_bgcolor\":\"#E5ECF6\",\"polar\":{\"angularaxis\":{\"gridcolor\":\"white\",\"linecolor\":\"white\",\"ticks\":\"\"},\"bgcolor\":\"#E5ECF6\",\"radialaxis\":{\"gridcolor\":\"white\",\"linecolor\":\"white\",\"ticks\":\"\"}},\"scene\":{\"xaxis\":{\"backgroundcolor\":\"#E5ECF6\",\"gridcolor\":\"white\",\"gridwidth\":2,\"linecolor\":\"white\",\"showbackground\":true,\"ticks\":\"\",\"zerolinecolor\":\"white\"},\"yaxis\":{\"backgroundcolor\":\"#E5ECF6\",\"gridcolor\":\"white\",\"gridwidth\":2,\"linecolor\":\"white\",\"showbackground\":true,\"ticks\":\"\",\"zerolinecolor\":\"white\"},\"zaxis\":{\"backgroundcolor\":\"#E5ECF6\",\"gridcolor\":\"white\",\"gridwidth\":2,\"linecolor\":\"white\",\"showbackground\":true,\"ticks\":\"\",\"zerolinecolor\":\"white\"}},\"shapedefaults\":{\"line\":{\"color\":\"#2a3f5f\"}},\"ternary\":{\"aaxis\":{\"gridcolor\":\"white\",\"linecolor\":\"white\",\"ticks\":\"\"},\"baxis\":{\"gridcolor\":\"white\",\"linecolor\":\"white\",\"ticks\":\"\"},\"bgcolor\":\"#E5ECF6\",\"caxis\":{\"gridcolor\":\"white\",\"linecolor\":\"white\",\"ticks\":\"\"}},\"title\":{\"x\":0.05},\"xaxis\":{\"automargin\":true,\"gridcolor\":\"white\",\"linecolor\":\"white\",\"ticks\":\"\",\"title\":{\"standoff\":15},\"zerolinecolor\":\"white\",\"zerolinewidth\":2},\"yaxis\":{\"automargin\":true,\"gridcolor\":\"white\",\"linecolor\":\"white\",\"ticks\":\"\",\"title\":{\"standoff\":15},\"zerolinecolor\":\"white\",\"zerolinewidth\":2}}},\"title\":{\"font\":{\"color\":\"#4D5663\"}},\"xaxis\":{\"gridcolor\":\"#E1E5ED\",\"showgrid\":true,\"tickfont\":{\"color\":\"#4D5663\"},\"title\":{\"font\":{\"color\":\"#4D5663\"},\"text\":\"\"},\"zerolinecolor\":\"#E1E5ED\"},\"yaxis\":{\"gridcolor\":\"#E1E5ED\",\"showgrid\":true,\"tickfont\":{\"color\":\"#4D5663\"},\"title\":{\"font\":{\"color\":\"#4D5663\"},\"text\":\"\"},\"zerolinecolor\":\"#E1E5ED\"}},                        {\"showLink\": true, \"linkText\": \"Export to plot.ly\", \"plotlyServerURL\": \"https://plot.ly\", \"responsive\": true}                    ).then(function(){\n                            \nvar gd = document.getElementById('72fe689f-c865-4606-acf9-e7cefdb2d1b4');\nvar x = new MutationObserver(function (mutations, observer) {{\n        var display = window.getComputedStyle(gd).display;\n        if (!display || display === 'none') {{\n            console.log([gd, 'removed!']);\n            Plotly.purge(gd);\n            observer.disconnect();\n        }}\n}});\n\n// Listen for the removal of the full notebook cells\nvar notebookContainer = gd.closest('#notebook-container');\nif (notebookContainer) {{\n    x.observe(notebookContainer, {childList: true});\n}}\n\n// Listen for the clearing of the current output cell\nvar outputEl = gd.closest('.output');\nif (outputEl) {{\n    x.observe(outputEl, {childList: true});\n}}\n\n                        })                };                });            </script>        </div>"
     },
     "metadata": {}
    }
   ],
   "source": [
    "#interactive visuals\n",
    "df.iplot()        "
   ]
  },
  {
   "cell_type": "markdown",
   "metadata": {},
   "source": [
    "## Using Cufflinks and iplot()\n",
    "\n",
    "* scatter\n",
    "* bar\n",
    "* box\n",
    "* spread\n",
    "* ratio\n",
    "* heatmap\n",
    "* surface\n",
    "* histogram\n",
    "* bubble"
   ]
  },
  {
   "cell_type": "markdown",
   "metadata": {},
   "source": [
    "## Scatter"
   ]
  },
  {
   "cell_type": "code",
   "execution_count": 10,
   "metadata": {
    "collapsed": false
   },
   "outputs": [
    {
     "output_type": "display_data",
     "data": {
      "application/vnd.plotly.v1+json": {
       "config": {
        "linkText": "Export to plot.ly",
        "plotlyServerURL": "https://plot.ly",
        "showLink": true
       },
       "data": [
        {
         "line": {
          "color": "rgba(255, 153, 51, 1.0)",
          "dash": "solid",
          "shape": "linear",
          "width": 1.3
         },
         "marker": {
          "size": 10,
          "symbol": "circle"
         },
         "mode": "markers",
         "name": "B",
         "text": "",
         "type": "scatter",
         "x": [
          -0.25227118008665145,
          0.06172597997312884,
          -0.09007588736177649,
          0.9655665553973772,
          0.4854660192833101,
          0.26701802645320244,
          1.0923931195785344,
          1.6867856846022133,
          0.1055984372563579,
          1.4884028777300893,
          1.2544325383218051,
          -0.7041177662348228,
          -0.6119001641424259,
          0.18014447538600833,
          1.155263713036101,
          -0.3425063374551015,
          -1.067126111336395,
          -0.7221525466373608,
          0.7651090750646531,
          -1.004545495950125,
          -0.2637463201554845,
          0.9270246371655807,
          -0.5193031631501195,
          2.2167780068744793,
          0.3862748792441888,
          1.1991319730362835,
          -1.557404376140031,
          -0.14901869535222126,
          -1.0024020287011886,
          0.13131176544298556,
          0.264598537852816,
          1.5531042912324888,
          0.4723615756752949,
          1.2296567723864706,
          1.4838948908571272,
          -0.27145625647809307,
          1.221844725244573,
          0.01469204642486503,
          1.3665996903567188,
          1.5443386446287324,
          -1.025123286950699,
          0.9819935474844267,
          1.1611796816047524,
          0.6991418032344212,
          -0.09106560471621786,
          -0.28426957089284277,
          -0.4016892297490613,
          -0.7774782732898965,
          -1.7223561231552598,
          2.460641905242768,
          0.4815183047281549,
          0.035806349576061165,
          0.910594759012117,
          -2.111067286320529,
          0.4238597156449524,
          1.9696836406375793,
          1.2332022682950836,
          -0.36656460758235637,
          1.8230451716552216,
          0.06966636861757851,
          1.1458785678701724,
          1.7385076252864209,
          -0.7410792987434056,
          -1.03176211548569,
          -0.10499217997687547,
          0.8659742608682182,
          -1.5783493333238372,
          -0.3489892902332464,
          1.4205913357741387,
          0.3282768542802037,
          1.20624805647062,
          0.2784530549906407,
          -0.7660315306574534,
          -0.3624752352324765,
          0.16231001478679416,
          0.9015722306033053,
          -0.7315391441263145,
          0.12354605275732658,
          0.4762171976821261,
          -2.0282995125317,
          0.46788204967415586,
          -0.2701368232370625,
          -0.9321784813202924,
          1.1780347596600362,
          -0.11206602609647033,
          0.21176886719477322,
          -0.8424944426011093,
          -1.166873584439773,
          -0.26288821705556603,
          -1.1033996783872577,
          0.6627858300113253,
          -0.6656295927166045,
          1.1961132505894427,
          1.9949738834989803,
          0.07004738586976976,
          -0.7715662014536142,
          -0.4528018588980907,
          -1.25185572951221,
          0.7625147154525329,
          -0.6660630083136009
         ],
         "y": [
          -0.24429798139803324,
          -0.08140072026070258,
          -0.3440352221324289,
          -2.3053151000556555,
          -0.6497290247349842,
          0.995013179423379,
          1.4482732817312591,
          -0.9725458639710425,
          -0.0466569137740196,
          -1.3294228665276946,
          -0.8247119481275208,
          0.27609613535962857,
          -0.09473417124123408,
          1.2352309586310322,
          -1.9737731840246349,
          1.61911094645423,
          -0.26661304242337575,
          -0.2883173900689931,
          -1.1166915254776921,
          -0.2944092679714753,
          -0.8519120009667719,
          1.5669506335703582,
          1.3055588979130333,
          1.2996456459533428,
          0.9298325077994817,
          0.5737059413597119,
          0.901327794240818,
          -0.6131682683010122,
          1.9757524385077965,
          0.02801892591066275,
          1.169958911979349,
          0.8337790525973593,
          -1.0860858018918167,
          2.127483822808999,
          -1.1224068626293964,
          0.14436058310809521,
          0.8523129002351462,
          -0.9339966382509564,
          -0.5246945159001554,
          1.7368746659269374,
          0.7841996410852168,
          0.24964765334285305,
          2.0156034157433926,
          1.0005055998758337,
          1.661505139907902,
          1.2799660531362713,
          0.7706834184475058,
          0.5369875645341228,
          -0.09155641558534112,
          -0.49511281408638624,
          1.5529183028908848,
          2.4609964757075518,
          1.1664358569786706,
          -2.0914361872843417,
          -0.6989200878865848,
          0.5066218678795223,
          -0.49718418195862507,
          -0.8960658802881825,
          0.7227373881394722,
          -0.13499945108069203,
          -0.8630493471228109,
          0.15196771672118464,
          -1.2069214985814378,
          0.8226934690856887,
          -0.71909089288083,
          0.45993752341927757,
          -0.034813632030634006,
          -0.28989428438974524,
          -1.8318618123062496,
          -1.221478771149326,
          -1.600010335978149,
          -0.7345603641391674,
          -0.15027775675031024,
          -1.3646714770060189,
          -0.7785787421800132,
          -0.9751390197139149,
          0.6132892263431378,
          -1.3768478976549485,
          -1.4490455174948522,
          -0.03822645435966252,
          0.31517972419972795,
          -0.8588798522560479,
          1.1898640603599298,
          -1.6626037943520315,
          0.2667829198371369,
          2.1921221149600263,
          0.29320163830816354,
          0.43158584935104316,
          -0.4676397959356081,
          -0.5065838296651279,
          0.6305038259893719,
          0.2450240269975526,
          0.2752188120259105,
          0.6218735185660969,
          -1.69428883235597,
          -0.1425658102952103,
          -0.38355665675155454,
          -0.2571761083843813,
          -0.571611317316897,
          -0.9584551972239918
         ]
        }
       ],
       "layout": {
        "legend": {
         "bgcolor": "#F5F6F9",
         "font": {
          "color": "#4D5663"
         }
        },
        "paper_bgcolor": "#F5F6F9",
        "plot_bgcolor": "#F5F6F9",
        "template": {
         "data": {
          "bar": [
           {
            "error_x": {
             "color": "#2a3f5f"
            },
            "error_y": {
             "color": "#2a3f5f"
            },
            "marker": {
             "line": {
              "color": "#E5ECF6",
              "width": 0.5
             },
             "pattern": {
              "fillmode": "overlay",
              "size": 10,
              "solidity": 0.2
             }
            },
            "type": "bar"
           }
          ],
          "barpolar": [
           {
            "marker": {
             "line": {
              "color": "#E5ECF6",
              "width": 0.5
             },
             "pattern": {
              "fillmode": "overlay",
              "size": 10,
              "solidity": 0.2
             }
            },
            "type": "barpolar"
           }
          ],
          "carpet": [
           {
            "aaxis": {
             "endlinecolor": "#2a3f5f",
             "gridcolor": "white",
             "linecolor": "white",
             "minorgridcolor": "white",
             "startlinecolor": "#2a3f5f"
            },
            "baxis": {
             "endlinecolor": "#2a3f5f",
             "gridcolor": "white",
             "linecolor": "white",
             "minorgridcolor": "white",
             "startlinecolor": "#2a3f5f"
            },
            "type": "carpet"
           }
          ],
          "choropleth": [
           {
            "colorbar": {
             "outlinewidth": 0,
             "ticks": ""
            },
            "type": "choropleth"
           }
          ],
          "contour": [
           {
            "colorbar": {
             "outlinewidth": 0,
             "ticks": ""
            },
            "colorscale": [
             [
              0,
              "#0d0887"
             ],
             [
              0.1111111111111111,
              "#46039f"
             ],
             [
              0.2222222222222222,
              "#7201a8"
             ],
             [
              0.3333333333333333,
              "#9c179e"
             ],
             [
              0.4444444444444444,
              "#bd3786"
             ],
             [
              0.5555555555555556,
              "#d8576b"
             ],
             [
              0.6666666666666666,
              "#ed7953"
             ],
             [
              0.7777777777777778,
              "#fb9f3a"
             ],
             [
              0.8888888888888888,
              "#fdca26"
             ],
             [
              1,
              "#f0f921"
             ]
            ],
            "type": "contour"
           }
          ],
          "contourcarpet": [
           {
            "colorbar": {
             "outlinewidth": 0,
             "ticks": ""
            },
            "type": "contourcarpet"
           }
          ],
          "heatmap": [
           {
            "colorbar": {
             "outlinewidth": 0,
             "ticks": ""
            },
            "colorscale": [
             [
              0,
              "#0d0887"
             ],
             [
              0.1111111111111111,
              "#46039f"
             ],
             [
              0.2222222222222222,
              "#7201a8"
             ],
             [
              0.3333333333333333,
              "#9c179e"
             ],
             [
              0.4444444444444444,
              "#bd3786"
             ],
             [
              0.5555555555555556,
              "#d8576b"
             ],
             [
              0.6666666666666666,
              "#ed7953"
             ],
             [
              0.7777777777777778,
              "#fb9f3a"
             ],
             [
              0.8888888888888888,
              "#fdca26"
             ],
             [
              1,
              "#f0f921"
             ]
            ],
            "type": "heatmap"
           }
          ],
          "heatmapgl": [
           {
            "colorbar": {
             "outlinewidth": 0,
             "ticks": ""
            },
            "colorscale": [
             [
              0,
              "#0d0887"
             ],
             [
              0.1111111111111111,
              "#46039f"
             ],
             [
              0.2222222222222222,
              "#7201a8"
             ],
             [
              0.3333333333333333,
              "#9c179e"
             ],
             [
              0.4444444444444444,
              "#bd3786"
             ],
             [
              0.5555555555555556,
              "#d8576b"
             ],
             [
              0.6666666666666666,
              "#ed7953"
             ],
             [
              0.7777777777777778,
              "#fb9f3a"
             ],
             [
              0.8888888888888888,
              "#fdca26"
             ],
             [
              1,
              "#f0f921"
             ]
            ],
            "type": "heatmapgl"
           }
          ],
          "histogram": [
           {
            "marker": {
             "pattern": {
              "fillmode": "overlay",
              "size": 10,
              "solidity": 0.2
             }
            },
            "type": "histogram"
           }
          ],
          "histogram2d": [
           {
            "colorbar": {
             "outlinewidth": 0,
             "ticks": ""
            },
            "colorscale": [
             [
              0,
              "#0d0887"
             ],
             [
              0.1111111111111111,
              "#46039f"
             ],
             [
              0.2222222222222222,
              "#7201a8"
             ],
             [
              0.3333333333333333,
              "#9c179e"
             ],
             [
              0.4444444444444444,
              "#bd3786"
             ],
             [
              0.5555555555555556,
              "#d8576b"
             ],
             [
              0.6666666666666666,
              "#ed7953"
             ],
             [
              0.7777777777777778,
              "#fb9f3a"
             ],
             [
              0.8888888888888888,
              "#fdca26"
             ],
             [
              1,
              "#f0f921"
             ]
            ],
            "type": "histogram2d"
           }
          ],
          "histogram2dcontour": [
           {
            "colorbar": {
             "outlinewidth": 0,
             "ticks": ""
            },
            "colorscale": [
             [
              0,
              "#0d0887"
             ],
             [
              0.1111111111111111,
              "#46039f"
             ],
             [
              0.2222222222222222,
              "#7201a8"
             ],
             [
              0.3333333333333333,
              "#9c179e"
             ],
             [
              0.4444444444444444,
              "#bd3786"
             ],
             [
              0.5555555555555556,
              "#d8576b"
             ],
             [
              0.6666666666666666,
              "#ed7953"
             ],
             [
              0.7777777777777778,
              "#fb9f3a"
             ],
             [
              0.8888888888888888,
              "#fdca26"
             ],
             [
              1,
              "#f0f921"
             ]
            ],
            "type": "histogram2dcontour"
           }
          ],
          "mesh3d": [
           {
            "colorbar": {
             "outlinewidth": 0,
             "ticks": ""
            },
            "type": "mesh3d"
           }
          ],
          "parcoords": [
           {
            "line": {
             "colorbar": {
              "outlinewidth": 0,
              "ticks": ""
             }
            },
            "type": "parcoords"
           }
          ],
          "pie": [
           {
            "automargin": true,
            "type": "pie"
           }
          ],
          "scatter": [
           {
            "marker": {
             "colorbar": {
              "outlinewidth": 0,
              "ticks": ""
             }
            },
            "type": "scatter"
           }
          ],
          "scatter3d": [
           {
            "line": {
             "colorbar": {
              "outlinewidth": 0,
              "ticks": ""
             }
            },
            "marker": {
             "colorbar": {
              "outlinewidth": 0,
              "ticks": ""
             }
            },
            "type": "scatter3d"
           }
          ],
          "scattercarpet": [
           {
            "marker": {
             "colorbar": {
              "outlinewidth": 0,
              "ticks": ""
             }
            },
            "type": "scattercarpet"
           }
          ],
          "scattergeo": [
           {
            "marker": {
             "colorbar": {
              "outlinewidth": 0,
              "ticks": ""
             }
            },
            "type": "scattergeo"
           }
          ],
          "scattergl": [
           {
            "marker": {
             "colorbar": {
              "outlinewidth": 0,
              "ticks": ""
             }
            },
            "type": "scattergl"
           }
          ],
          "scattermapbox": [
           {
            "marker": {
             "colorbar": {
              "outlinewidth": 0,
              "ticks": ""
             }
            },
            "type": "scattermapbox"
           }
          ],
          "scatterpolar": [
           {
            "marker": {
             "colorbar": {
              "outlinewidth": 0,
              "ticks": ""
             }
            },
            "type": "scatterpolar"
           }
          ],
          "scatterpolargl": [
           {
            "marker": {
             "colorbar": {
              "outlinewidth": 0,
              "ticks": ""
             }
            },
            "type": "scatterpolargl"
           }
          ],
          "scatterternary": [
           {
            "marker": {
             "colorbar": {
              "outlinewidth": 0,
              "ticks": ""
             }
            },
            "type": "scatterternary"
           }
          ],
          "surface": [
           {
            "colorbar": {
             "outlinewidth": 0,
             "ticks": ""
            },
            "colorscale": [
             [
              0,
              "#0d0887"
             ],
             [
              0.1111111111111111,
              "#46039f"
             ],
             [
              0.2222222222222222,
              "#7201a8"
             ],
             [
              0.3333333333333333,
              "#9c179e"
             ],
             [
              0.4444444444444444,
              "#bd3786"
             ],
             [
              0.5555555555555556,
              "#d8576b"
             ],
             [
              0.6666666666666666,
              "#ed7953"
             ],
             [
              0.7777777777777778,
              "#fb9f3a"
             ],
             [
              0.8888888888888888,
              "#fdca26"
             ],
             [
              1,
              "#f0f921"
             ]
            ],
            "type": "surface"
           }
          ],
          "table": [
           {
            "cells": {
             "fill": {
              "color": "#EBF0F8"
             },
             "line": {
              "color": "white"
             }
            },
            "header": {
             "fill": {
              "color": "#C8D4E3"
             },
             "line": {
              "color": "white"
             }
            },
            "type": "table"
           }
          ]
         },
         "layout": {
          "annotationdefaults": {
           "arrowcolor": "#2a3f5f",
           "arrowhead": 0,
           "arrowwidth": 1
          },
          "autotypenumbers": "strict",
          "coloraxis": {
           "colorbar": {
            "outlinewidth": 0,
            "ticks": ""
           }
          },
          "colorscale": {
           "diverging": [
            [
             0,
             "#8e0152"
            ],
            [
             0.1,
             "#c51b7d"
            ],
            [
             0.2,
             "#de77ae"
            ],
            [
             0.3,
             "#f1b6da"
            ],
            [
             0.4,
             "#fde0ef"
            ],
            [
             0.5,
             "#f7f7f7"
            ],
            [
             0.6,
             "#e6f5d0"
            ],
            [
             0.7,
             "#b8e186"
            ],
            [
             0.8,
             "#7fbc41"
            ],
            [
             0.9,
             "#4d9221"
            ],
            [
             1,
             "#276419"
            ]
           ],
           "sequential": [
            [
             0,
             "#0d0887"
            ],
            [
             0.1111111111111111,
             "#46039f"
            ],
            [
             0.2222222222222222,
             "#7201a8"
            ],
            [
             0.3333333333333333,
             "#9c179e"
            ],
            [
             0.4444444444444444,
             "#bd3786"
            ],
            [
             0.5555555555555556,
             "#d8576b"
            ],
            [
             0.6666666666666666,
             "#ed7953"
            ],
            [
             0.7777777777777778,
             "#fb9f3a"
            ],
            [
             0.8888888888888888,
             "#fdca26"
            ],
            [
             1,
             "#f0f921"
            ]
           ],
           "sequentialminus": [
            [
             0,
             "#0d0887"
            ],
            [
             0.1111111111111111,
             "#46039f"
            ],
            [
             0.2222222222222222,
             "#7201a8"
            ],
            [
             0.3333333333333333,
             "#9c179e"
            ],
            [
             0.4444444444444444,
             "#bd3786"
            ],
            [
             0.5555555555555556,
             "#d8576b"
            ],
            [
             0.6666666666666666,
             "#ed7953"
            ],
            [
             0.7777777777777778,
             "#fb9f3a"
            ],
            [
             0.8888888888888888,
             "#fdca26"
            ],
            [
             1,
             "#f0f921"
            ]
           ]
          },
          "colorway": [
           "#636efa",
           "#EF553B",
           "#00cc96",
           "#ab63fa",
           "#FFA15A",
           "#19d3f3",
           "#FF6692",
           "#B6E880",
           "#FF97FF",
           "#FECB52"
          ],
          "font": {
           "color": "#2a3f5f"
          },
          "geo": {
           "bgcolor": "white",
           "lakecolor": "white",
           "landcolor": "#E5ECF6",
           "showlakes": true,
           "showland": true,
           "subunitcolor": "white"
          },
          "hoverlabel": {
           "align": "left"
          },
          "hovermode": "closest",
          "mapbox": {
           "style": "light"
          },
          "paper_bgcolor": "white",
          "plot_bgcolor": "#E5ECF6",
          "polar": {
           "angularaxis": {
            "gridcolor": "white",
            "linecolor": "white",
            "ticks": ""
           },
           "bgcolor": "#E5ECF6",
           "radialaxis": {
            "gridcolor": "white",
            "linecolor": "white",
            "ticks": ""
           }
          },
          "scene": {
           "xaxis": {
            "backgroundcolor": "#E5ECF6",
            "gridcolor": "white",
            "gridwidth": 2,
            "linecolor": "white",
            "showbackground": true,
            "ticks": "",
            "zerolinecolor": "white"
           },
           "yaxis": {
            "backgroundcolor": "#E5ECF6",
            "gridcolor": "white",
            "gridwidth": 2,
            "linecolor": "white",
            "showbackground": true,
            "ticks": "",
            "zerolinecolor": "white"
           },
           "zaxis": {
            "backgroundcolor": "#E5ECF6",
            "gridcolor": "white",
            "gridwidth": 2,
            "linecolor": "white",
            "showbackground": true,
            "ticks": "",
            "zerolinecolor": "white"
           }
          },
          "shapedefaults": {
           "line": {
            "color": "#2a3f5f"
           }
          },
          "ternary": {
           "aaxis": {
            "gridcolor": "white",
            "linecolor": "white",
            "ticks": ""
           },
           "baxis": {
            "gridcolor": "white",
            "linecolor": "white",
            "ticks": ""
           },
           "bgcolor": "#E5ECF6",
           "caxis": {
            "gridcolor": "white",
            "linecolor": "white",
            "ticks": ""
           }
          },
          "title": {
           "x": 0.05
          },
          "xaxis": {
           "automargin": true,
           "gridcolor": "white",
           "linecolor": "white",
           "ticks": "",
           "title": {
            "standoff": 15
           },
           "zerolinecolor": "white",
           "zerolinewidth": 2
          },
          "yaxis": {
           "automargin": true,
           "gridcolor": "white",
           "linecolor": "white",
           "ticks": "",
           "title": {
            "standoff": 15
           },
           "zerolinecolor": "white",
           "zerolinewidth": 2
          }
         }
        },
        "title": {
         "font": {
          "color": "#4D5663"
         }
        },
        "xaxis": {
         "gridcolor": "#E1E5ED",
         "showgrid": true,
         "tickfont": {
          "color": "#4D5663"
         },
         "title": {
          "font": {
           "color": "#4D5663"
          },
          "text": ""
         },
         "zerolinecolor": "#E1E5ED"
        },
        "yaxis": {
         "gridcolor": "#E1E5ED",
         "showgrid": true,
         "tickfont": {
          "color": "#4D5663"
         },
         "title": {
          "font": {
           "color": "#4D5663"
          },
          "text": ""
         },
         "zerolinecolor": "#E1E5ED"
        }
       }
      },
      "text/html": "<div>                            <div id=\"e4c1547a-4c93-4ce1-a370-a559f5a8c7a3\" class=\"plotly-graph-div\" style=\"height:525px; width:100%;\"></div>            <script type=\"text/javascript\">                require([\"plotly\"], function(Plotly) {                    window.PLOTLYENV=window.PLOTLYENV || {};\n                    window.PLOTLYENV.BASE_URL='https://plot.ly';                                    if (document.getElementById(\"e4c1547a-4c93-4ce1-a370-a559f5a8c7a3\")) {                    Plotly.newPlot(                        \"e4c1547a-4c93-4ce1-a370-a559f5a8c7a3\",                        [{\"line\":{\"color\":\"rgba(255, 153, 51, 1.0)\",\"dash\":\"solid\",\"shape\":\"linear\",\"width\":1.3},\"marker\":{\"size\":10,\"symbol\":\"circle\"},\"mode\":\"markers\",\"name\":\"B\",\"text\":\"\",\"type\":\"scatter\",\"x\":[-0.25227118008665145,0.06172597997312884,-0.09007588736177649,0.9655665553973772,0.4854660192833101,0.26701802645320244,1.0923931195785344,1.6867856846022133,0.1055984372563579,1.4884028777300893,1.2544325383218051,-0.7041177662348228,-0.6119001641424259,0.18014447538600833,1.155263713036101,-0.3425063374551015,-1.067126111336395,-0.7221525466373608,0.7651090750646531,-1.004545495950125,-0.2637463201554845,0.9270246371655807,-0.5193031631501195,2.2167780068744793,0.3862748792441888,1.1991319730362835,-1.557404376140031,-0.14901869535222126,-1.0024020287011886,0.13131176544298556,0.264598537852816,1.5531042912324888,0.4723615756752949,1.2296567723864706,1.4838948908571272,-0.27145625647809307,1.221844725244573,0.01469204642486503,1.3665996903567188,1.5443386446287324,-1.025123286950699,0.9819935474844267,1.1611796816047524,0.6991418032344212,-0.09106560471621786,-0.28426957089284277,-0.4016892297490613,-0.7774782732898965,-1.7223561231552598,2.460641905242768,0.4815183047281549,0.035806349576061165,0.910594759012117,-2.111067286320529,0.4238597156449524,1.9696836406375793,1.2332022682950836,-0.36656460758235637,1.8230451716552216,0.06966636861757851,1.1458785678701724,1.7385076252864209,-0.7410792987434056,-1.03176211548569,-0.10499217997687547,0.8659742608682182,-1.5783493333238372,-0.3489892902332464,1.4205913357741387,0.3282768542802037,1.20624805647062,0.2784530549906407,-0.7660315306574534,-0.3624752352324765,0.16231001478679416,0.9015722306033053,-0.7315391441263145,0.12354605275732658,0.4762171976821261,-2.0282995125317,0.46788204967415586,-0.2701368232370625,-0.9321784813202924,1.1780347596600362,-0.11206602609647033,0.21176886719477322,-0.8424944426011093,-1.166873584439773,-0.26288821705556603,-1.1033996783872577,0.6627858300113253,-0.6656295927166045,1.1961132505894427,1.9949738834989803,0.07004738586976976,-0.7715662014536142,-0.4528018588980907,-1.25185572951221,0.7625147154525329,-0.6660630083136009],\"y\":[-0.24429798139803324,-0.08140072026070258,-0.3440352221324289,-2.3053151000556555,-0.6497290247349842,0.995013179423379,1.4482732817312591,-0.9725458639710425,-0.0466569137740196,-1.3294228665276946,-0.8247119481275208,0.27609613535962857,-0.09473417124123408,1.2352309586310322,-1.9737731840246349,1.61911094645423,-0.26661304242337575,-0.2883173900689931,-1.1166915254776921,-0.2944092679714753,-0.8519120009667719,1.5669506335703582,1.3055588979130333,1.2996456459533428,0.9298325077994817,0.5737059413597119,0.901327794240818,-0.6131682683010122,1.9757524385077965,0.02801892591066275,1.169958911979349,0.8337790525973593,-1.0860858018918167,2.127483822808999,-1.1224068626293964,0.14436058310809521,0.8523129002351462,-0.9339966382509564,-0.5246945159001554,1.7368746659269374,0.7841996410852168,0.24964765334285305,2.0156034157433926,1.0005055998758337,1.661505139907902,1.2799660531362713,0.7706834184475058,0.5369875645341228,-0.09155641558534112,-0.49511281408638624,1.5529183028908848,2.4609964757075518,1.1664358569786706,-2.0914361872843417,-0.6989200878865848,0.5066218678795223,-0.49718418195862507,-0.8960658802881825,0.7227373881394722,-0.13499945108069203,-0.8630493471228109,0.15196771672118464,-1.2069214985814378,0.8226934690856887,-0.71909089288083,0.45993752341927757,-0.034813632030634006,-0.28989428438974524,-1.8318618123062496,-1.221478771149326,-1.600010335978149,-0.7345603641391674,-0.15027775675031024,-1.3646714770060189,-0.7785787421800132,-0.9751390197139149,0.6132892263431378,-1.3768478976549485,-1.4490455174948522,-0.03822645435966252,0.31517972419972795,-0.8588798522560479,1.1898640603599298,-1.6626037943520315,0.2667829198371369,2.1921221149600263,0.29320163830816354,0.43158584935104316,-0.4676397959356081,-0.5065838296651279,0.6305038259893719,0.2450240269975526,0.2752188120259105,0.6218735185660969,-1.69428883235597,-0.1425658102952103,-0.38355665675155454,-0.2571761083843813,-0.571611317316897,-0.9584551972239918]}],                        {\"legend\":{\"bgcolor\":\"#F5F6F9\",\"font\":{\"color\":\"#4D5663\"}},\"paper_bgcolor\":\"#F5F6F9\",\"plot_bgcolor\":\"#F5F6F9\",\"template\":{\"data\":{\"bar\":[{\"error_x\":{\"color\":\"#2a3f5f\"},\"error_y\":{\"color\":\"#2a3f5f\"},\"marker\":{\"line\":{\"color\":\"#E5ECF6\",\"width\":0.5},\"pattern\":{\"fillmode\":\"overlay\",\"size\":10,\"solidity\":0.2}},\"type\":\"bar\"}],\"barpolar\":[{\"marker\":{\"line\":{\"color\":\"#E5ECF6\",\"width\":0.5},\"pattern\":{\"fillmode\":\"overlay\",\"size\":10,\"solidity\":0.2}},\"type\":\"barpolar\"}],\"carpet\":[{\"aaxis\":{\"endlinecolor\":\"#2a3f5f\",\"gridcolor\":\"white\",\"linecolor\":\"white\",\"minorgridcolor\":\"white\",\"startlinecolor\":\"#2a3f5f\"},\"baxis\":{\"endlinecolor\":\"#2a3f5f\",\"gridcolor\":\"white\",\"linecolor\":\"white\",\"minorgridcolor\":\"white\",\"startlinecolor\":\"#2a3f5f\"},\"type\":\"carpet\"}],\"choropleth\":[{\"colorbar\":{\"outlinewidth\":0,\"ticks\":\"\"},\"type\":\"choropleth\"}],\"contour\":[{\"colorbar\":{\"outlinewidth\":0,\"ticks\":\"\"},\"colorscale\":[[0.0,\"#0d0887\"],[0.1111111111111111,\"#46039f\"],[0.2222222222222222,\"#7201a8\"],[0.3333333333333333,\"#9c179e\"],[0.4444444444444444,\"#bd3786\"],[0.5555555555555556,\"#d8576b\"],[0.6666666666666666,\"#ed7953\"],[0.7777777777777778,\"#fb9f3a\"],[0.8888888888888888,\"#fdca26\"],[1.0,\"#f0f921\"]],\"type\":\"contour\"}],\"contourcarpet\":[{\"colorbar\":{\"outlinewidth\":0,\"ticks\":\"\"},\"type\":\"contourcarpet\"}],\"heatmap\":[{\"colorbar\":{\"outlinewidth\":0,\"ticks\":\"\"},\"colorscale\":[[0.0,\"#0d0887\"],[0.1111111111111111,\"#46039f\"],[0.2222222222222222,\"#7201a8\"],[0.3333333333333333,\"#9c179e\"],[0.4444444444444444,\"#bd3786\"],[0.5555555555555556,\"#d8576b\"],[0.6666666666666666,\"#ed7953\"],[0.7777777777777778,\"#fb9f3a\"],[0.8888888888888888,\"#fdca26\"],[1.0,\"#f0f921\"]],\"type\":\"heatmap\"}],\"heatmapgl\":[{\"colorbar\":{\"outlinewidth\":0,\"ticks\":\"\"},\"colorscale\":[[0.0,\"#0d0887\"],[0.1111111111111111,\"#46039f\"],[0.2222222222222222,\"#7201a8\"],[0.3333333333333333,\"#9c179e\"],[0.4444444444444444,\"#bd3786\"],[0.5555555555555556,\"#d8576b\"],[0.6666666666666666,\"#ed7953\"],[0.7777777777777778,\"#fb9f3a\"],[0.8888888888888888,\"#fdca26\"],[1.0,\"#f0f921\"]],\"type\":\"heatmapgl\"}],\"histogram\":[{\"marker\":{\"pattern\":{\"fillmode\":\"overlay\",\"size\":10,\"solidity\":0.2}},\"type\":\"histogram\"}],\"histogram2d\":[{\"colorbar\":{\"outlinewidth\":0,\"ticks\":\"\"},\"colorscale\":[[0.0,\"#0d0887\"],[0.1111111111111111,\"#46039f\"],[0.2222222222222222,\"#7201a8\"],[0.3333333333333333,\"#9c179e\"],[0.4444444444444444,\"#bd3786\"],[0.5555555555555556,\"#d8576b\"],[0.6666666666666666,\"#ed7953\"],[0.7777777777777778,\"#fb9f3a\"],[0.8888888888888888,\"#fdca26\"],[1.0,\"#f0f921\"]],\"type\":\"histogram2d\"}],\"histogram2dcontour\":[{\"colorbar\":{\"outlinewidth\":0,\"ticks\":\"\"},\"colorscale\":[[0.0,\"#0d0887\"],[0.1111111111111111,\"#46039f\"],[0.2222222222222222,\"#7201a8\"],[0.3333333333333333,\"#9c179e\"],[0.4444444444444444,\"#bd3786\"],[0.5555555555555556,\"#d8576b\"],[0.6666666666666666,\"#ed7953\"],[0.7777777777777778,\"#fb9f3a\"],[0.8888888888888888,\"#fdca26\"],[1.0,\"#f0f921\"]],\"type\":\"histogram2dcontour\"}],\"mesh3d\":[{\"colorbar\":{\"outlinewidth\":0,\"ticks\":\"\"},\"type\":\"mesh3d\"}],\"parcoords\":[{\"line\":{\"colorbar\":{\"outlinewidth\":0,\"ticks\":\"\"}},\"type\":\"parcoords\"}],\"pie\":[{\"automargin\":true,\"type\":\"pie\"}],\"scatter\":[{\"marker\":{\"colorbar\":{\"outlinewidth\":0,\"ticks\":\"\"}},\"type\":\"scatter\"}],\"scatter3d\":[{\"line\":{\"colorbar\":{\"outlinewidth\":0,\"ticks\":\"\"}},\"marker\":{\"colorbar\":{\"outlinewidth\":0,\"ticks\":\"\"}},\"type\":\"scatter3d\"}],\"scattercarpet\":[{\"marker\":{\"colorbar\":{\"outlinewidth\":0,\"ticks\":\"\"}},\"type\":\"scattercarpet\"}],\"scattergeo\":[{\"marker\":{\"colorbar\":{\"outlinewidth\":0,\"ticks\":\"\"}},\"type\":\"scattergeo\"}],\"scattergl\":[{\"marker\":{\"colorbar\":{\"outlinewidth\":0,\"ticks\":\"\"}},\"type\":\"scattergl\"}],\"scattermapbox\":[{\"marker\":{\"colorbar\":{\"outlinewidth\":0,\"ticks\":\"\"}},\"type\":\"scattermapbox\"}],\"scatterpolar\":[{\"marker\":{\"colorbar\":{\"outlinewidth\":0,\"ticks\":\"\"}},\"type\":\"scatterpolar\"}],\"scatterpolargl\":[{\"marker\":{\"colorbar\":{\"outlinewidth\":0,\"ticks\":\"\"}},\"type\":\"scatterpolargl\"}],\"scatterternary\":[{\"marker\":{\"colorbar\":{\"outlinewidth\":0,\"ticks\":\"\"}},\"type\":\"scatterternary\"}],\"surface\":[{\"colorbar\":{\"outlinewidth\":0,\"ticks\":\"\"},\"colorscale\":[[0.0,\"#0d0887\"],[0.1111111111111111,\"#46039f\"],[0.2222222222222222,\"#7201a8\"],[0.3333333333333333,\"#9c179e\"],[0.4444444444444444,\"#bd3786\"],[0.5555555555555556,\"#d8576b\"],[0.6666666666666666,\"#ed7953\"],[0.7777777777777778,\"#fb9f3a\"],[0.8888888888888888,\"#fdca26\"],[1.0,\"#f0f921\"]],\"type\":\"surface\"}],\"table\":[{\"cells\":{\"fill\":{\"color\":\"#EBF0F8\"},\"line\":{\"color\":\"white\"}},\"header\":{\"fill\":{\"color\":\"#C8D4E3\"},\"line\":{\"color\":\"white\"}},\"type\":\"table\"}]},\"layout\":{\"annotationdefaults\":{\"arrowcolor\":\"#2a3f5f\",\"arrowhead\":0,\"arrowwidth\":1},\"autotypenumbers\":\"strict\",\"coloraxis\":{\"colorbar\":{\"outlinewidth\":0,\"ticks\":\"\"}},\"colorscale\":{\"diverging\":[[0,\"#8e0152\"],[0.1,\"#c51b7d\"],[0.2,\"#de77ae\"],[0.3,\"#f1b6da\"],[0.4,\"#fde0ef\"],[0.5,\"#f7f7f7\"],[0.6,\"#e6f5d0\"],[0.7,\"#b8e186\"],[0.8,\"#7fbc41\"],[0.9,\"#4d9221\"],[1,\"#276419\"]],\"sequential\":[[0.0,\"#0d0887\"],[0.1111111111111111,\"#46039f\"],[0.2222222222222222,\"#7201a8\"],[0.3333333333333333,\"#9c179e\"],[0.4444444444444444,\"#bd3786\"],[0.5555555555555556,\"#d8576b\"],[0.6666666666666666,\"#ed7953\"],[0.7777777777777778,\"#fb9f3a\"],[0.8888888888888888,\"#fdca26\"],[1.0,\"#f0f921\"]],\"sequentialminus\":[[0.0,\"#0d0887\"],[0.1111111111111111,\"#46039f\"],[0.2222222222222222,\"#7201a8\"],[0.3333333333333333,\"#9c179e\"],[0.4444444444444444,\"#bd3786\"],[0.5555555555555556,\"#d8576b\"],[0.6666666666666666,\"#ed7953\"],[0.7777777777777778,\"#fb9f3a\"],[0.8888888888888888,\"#fdca26\"],[1.0,\"#f0f921\"]]},\"colorway\":[\"#636efa\",\"#EF553B\",\"#00cc96\",\"#ab63fa\",\"#FFA15A\",\"#19d3f3\",\"#FF6692\",\"#B6E880\",\"#FF97FF\",\"#FECB52\"],\"font\":{\"color\":\"#2a3f5f\"},\"geo\":{\"bgcolor\":\"white\",\"lakecolor\":\"white\",\"landcolor\":\"#E5ECF6\",\"showlakes\":true,\"showland\":true,\"subunitcolor\":\"white\"},\"hoverlabel\":{\"align\":\"left\"},\"hovermode\":\"closest\",\"mapbox\":{\"style\":\"light\"},\"paper_bgcolor\":\"white\",\"plot_bgcolor\":\"#E5ECF6\",\"polar\":{\"angularaxis\":{\"gridcolor\":\"white\",\"linecolor\":\"white\",\"ticks\":\"\"},\"bgcolor\":\"#E5ECF6\",\"radialaxis\":{\"gridcolor\":\"white\",\"linecolor\":\"white\",\"ticks\":\"\"}},\"scene\":{\"xaxis\":{\"backgroundcolor\":\"#E5ECF6\",\"gridcolor\":\"white\",\"gridwidth\":2,\"linecolor\":\"white\",\"showbackground\":true,\"ticks\":\"\",\"zerolinecolor\":\"white\"},\"yaxis\":{\"backgroundcolor\":\"#E5ECF6\",\"gridcolor\":\"white\",\"gridwidth\":2,\"linecolor\":\"white\",\"showbackground\":true,\"ticks\":\"\",\"zerolinecolor\":\"white\"},\"zaxis\":{\"backgroundcolor\":\"#E5ECF6\",\"gridcolor\":\"white\",\"gridwidth\":2,\"linecolor\":\"white\",\"showbackground\":true,\"ticks\":\"\",\"zerolinecolor\":\"white\"}},\"shapedefaults\":{\"line\":{\"color\":\"#2a3f5f\"}},\"ternary\":{\"aaxis\":{\"gridcolor\":\"white\",\"linecolor\":\"white\",\"ticks\":\"\"},\"baxis\":{\"gridcolor\":\"white\",\"linecolor\":\"white\",\"ticks\":\"\"},\"bgcolor\":\"#E5ECF6\",\"caxis\":{\"gridcolor\":\"white\",\"linecolor\":\"white\",\"ticks\":\"\"}},\"title\":{\"x\":0.05},\"xaxis\":{\"automargin\":true,\"gridcolor\":\"white\",\"linecolor\":\"white\",\"ticks\":\"\",\"title\":{\"standoff\":15},\"zerolinecolor\":\"white\",\"zerolinewidth\":2},\"yaxis\":{\"automargin\":true,\"gridcolor\":\"white\",\"linecolor\":\"white\",\"ticks\":\"\",\"title\":{\"standoff\":15},\"zerolinecolor\":\"white\",\"zerolinewidth\":2}}},\"title\":{\"font\":{\"color\":\"#4D5663\"}},\"xaxis\":{\"gridcolor\":\"#E1E5ED\",\"showgrid\":true,\"tickfont\":{\"color\":\"#4D5663\"},\"title\":{\"font\":{\"color\":\"#4D5663\"},\"text\":\"\"},\"zerolinecolor\":\"#E1E5ED\"},\"yaxis\":{\"gridcolor\":\"#E1E5ED\",\"showgrid\":true,\"tickfont\":{\"color\":\"#4D5663\"},\"title\":{\"font\":{\"color\":\"#4D5663\"},\"text\":\"\"},\"zerolinecolor\":\"#E1E5ED\"}},                        {\"showLink\": true, \"linkText\": \"Export to plot.ly\", \"plotlyServerURL\": \"https://plot.ly\", \"responsive\": true}                    ).then(function(){\n                            \nvar gd = document.getElementById('e4c1547a-4c93-4ce1-a370-a559f5a8c7a3');\nvar x = new MutationObserver(function (mutations, observer) {{\n        var display = window.getComputedStyle(gd).display;\n        if (!display || display === 'none') {{\n            console.log([gd, 'removed!']);\n            Plotly.purge(gd);\n            observer.disconnect();\n        }}\n}});\n\n// Listen for the removal of the full notebook cells\nvar notebookContainer = gd.closest('#notebook-container');\nif (notebookContainer) {{\n    x.observe(notebookContainer, {childList: true});\n}}\n\n// Listen for the clearing of the current output cell\nvar outputEl = gd.closest('.output');\nif (outputEl) {{\n    x.observe(outputEl, {childList: true});\n}}\n\n                        })                };                });            </script>        </div>"
     },
     "metadata": {}
    }
   ],
   "source": [
    "df.iplot(kind='scatter',x='A',y='B',mode='markers',size=10)"
   ]
  },
  {
   "cell_type": "markdown",
   "metadata": {},
   "source": [
    "## Bar Plots"
   ]
  },
  {
   "cell_type": "code",
   "execution_count": 12,
   "metadata": {
    "collapsed": false
   },
   "outputs": [
    {
     "output_type": "display_data",
     "data": {
      "application/vnd.plotly.v1+json": {
       "config": {
        "linkText": "Export to plot.ly",
        "plotlyServerURL": "https://plot.ly",
        "showLink": true
       },
       "data": [
        {
         "marker": {
          "color": "rgba(255, 153, 51, 0.6)",
          "line": {
           "color": "rgba(255, 153, 51, 1.0)",
           "width": 1
          }
         },
         "name": "Values",
         "orientation": "v",
         "text": "",
         "type": "bar",
         "x": [
          "A",
          "B",
          "C"
         ],
         "y": [
          32,
          43,
          50
         ]
        }
       ],
       "layout": {
        "legend": {
         "bgcolor": "#F5F6F9",
         "font": {
          "color": "#4D5663"
         }
        },
        "paper_bgcolor": "#F5F6F9",
        "plot_bgcolor": "#F5F6F9",
        "template": {
         "data": {
          "bar": [
           {
            "error_x": {
             "color": "#2a3f5f"
            },
            "error_y": {
             "color": "#2a3f5f"
            },
            "marker": {
             "line": {
              "color": "#E5ECF6",
              "width": 0.5
             },
             "pattern": {
              "fillmode": "overlay",
              "size": 10,
              "solidity": 0.2
             }
            },
            "type": "bar"
           }
          ],
          "barpolar": [
           {
            "marker": {
             "line": {
              "color": "#E5ECF6",
              "width": 0.5
             },
             "pattern": {
              "fillmode": "overlay",
              "size": 10,
              "solidity": 0.2
             }
            },
            "type": "barpolar"
           }
          ],
          "carpet": [
           {
            "aaxis": {
             "endlinecolor": "#2a3f5f",
             "gridcolor": "white",
             "linecolor": "white",
             "minorgridcolor": "white",
             "startlinecolor": "#2a3f5f"
            },
            "baxis": {
             "endlinecolor": "#2a3f5f",
             "gridcolor": "white",
             "linecolor": "white",
             "minorgridcolor": "white",
             "startlinecolor": "#2a3f5f"
            },
            "type": "carpet"
           }
          ],
          "choropleth": [
           {
            "colorbar": {
             "outlinewidth": 0,
             "ticks": ""
            },
            "type": "choropleth"
           }
          ],
          "contour": [
           {
            "colorbar": {
             "outlinewidth": 0,
             "ticks": ""
            },
            "colorscale": [
             [
              0,
              "#0d0887"
             ],
             [
              0.1111111111111111,
              "#46039f"
             ],
             [
              0.2222222222222222,
              "#7201a8"
             ],
             [
              0.3333333333333333,
              "#9c179e"
             ],
             [
              0.4444444444444444,
              "#bd3786"
             ],
             [
              0.5555555555555556,
              "#d8576b"
             ],
             [
              0.6666666666666666,
              "#ed7953"
             ],
             [
              0.7777777777777778,
              "#fb9f3a"
             ],
             [
              0.8888888888888888,
              "#fdca26"
             ],
             [
              1,
              "#f0f921"
             ]
            ],
            "type": "contour"
           }
          ],
          "contourcarpet": [
           {
            "colorbar": {
             "outlinewidth": 0,
             "ticks": ""
            },
            "type": "contourcarpet"
           }
          ],
          "heatmap": [
           {
            "colorbar": {
             "outlinewidth": 0,
             "ticks": ""
            },
            "colorscale": [
             [
              0,
              "#0d0887"
             ],
             [
              0.1111111111111111,
              "#46039f"
             ],
             [
              0.2222222222222222,
              "#7201a8"
             ],
             [
              0.3333333333333333,
              "#9c179e"
             ],
             [
              0.4444444444444444,
              "#bd3786"
             ],
             [
              0.5555555555555556,
              "#d8576b"
             ],
             [
              0.6666666666666666,
              "#ed7953"
             ],
             [
              0.7777777777777778,
              "#fb9f3a"
             ],
             [
              0.8888888888888888,
              "#fdca26"
             ],
             [
              1,
              "#f0f921"
             ]
            ],
            "type": "heatmap"
           }
          ],
          "heatmapgl": [
           {
            "colorbar": {
             "outlinewidth": 0,
             "ticks": ""
            },
            "colorscale": [
             [
              0,
              "#0d0887"
             ],
             [
              0.1111111111111111,
              "#46039f"
             ],
             [
              0.2222222222222222,
              "#7201a8"
             ],
             [
              0.3333333333333333,
              "#9c179e"
             ],
             [
              0.4444444444444444,
              "#bd3786"
             ],
             [
              0.5555555555555556,
              "#d8576b"
             ],
             [
              0.6666666666666666,
              "#ed7953"
             ],
             [
              0.7777777777777778,
              "#fb9f3a"
             ],
             [
              0.8888888888888888,
              "#fdca26"
             ],
             [
              1,
              "#f0f921"
             ]
            ],
            "type": "heatmapgl"
           }
          ],
          "histogram": [
           {
            "marker": {
             "pattern": {
              "fillmode": "overlay",
              "size": 10,
              "solidity": 0.2
             }
            },
            "type": "histogram"
           }
          ],
          "histogram2d": [
           {
            "colorbar": {
             "outlinewidth": 0,
             "ticks": ""
            },
            "colorscale": [
             [
              0,
              "#0d0887"
             ],
             [
              0.1111111111111111,
              "#46039f"
             ],
             [
              0.2222222222222222,
              "#7201a8"
             ],
             [
              0.3333333333333333,
              "#9c179e"
             ],
             [
              0.4444444444444444,
              "#bd3786"
             ],
             [
              0.5555555555555556,
              "#d8576b"
             ],
             [
              0.6666666666666666,
              "#ed7953"
             ],
             [
              0.7777777777777778,
              "#fb9f3a"
             ],
             [
              0.8888888888888888,
              "#fdca26"
             ],
             [
              1,
              "#f0f921"
             ]
            ],
            "type": "histogram2d"
           }
          ],
          "histogram2dcontour": [
           {
            "colorbar": {
             "outlinewidth": 0,
             "ticks": ""
            },
            "colorscale": [
             [
              0,
              "#0d0887"
             ],
             [
              0.1111111111111111,
              "#46039f"
             ],
             [
              0.2222222222222222,
              "#7201a8"
             ],
             [
              0.3333333333333333,
              "#9c179e"
             ],
             [
              0.4444444444444444,
              "#bd3786"
             ],
             [
              0.5555555555555556,
              "#d8576b"
             ],
             [
              0.6666666666666666,
              "#ed7953"
             ],
             [
              0.7777777777777778,
              "#fb9f3a"
             ],
             [
              0.8888888888888888,
              "#fdca26"
             ],
             [
              1,
              "#f0f921"
             ]
            ],
            "type": "histogram2dcontour"
           }
          ],
          "mesh3d": [
           {
            "colorbar": {
             "outlinewidth": 0,
             "ticks": ""
            },
            "type": "mesh3d"
           }
          ],
          "parcoords": [
           {
            "line": {
             "colorbar": {
              "outlinewidth": 0,
              "ticks": ""
             }
            },
            "type": "parcoords"
           }
          ],
          "pie": [
           {
            "automargin": true,
            "type": "pie"
           }
          ],
          "scatter": [
           {
            "marker": {
             "colorbar": {
              "outlinewidth": 0,
              "ticks": ""
             }
            },
            "type": "scatter"
           }
          ],
          "scatter3d": [
           {
            "line": {
             "colorbar": {
              "outlinewidth": 0,
              "ticks": ""
             }
            },
            "marker": {
             "colorbar": {
              "outlinewidth": 0,
              "ticks": ""
             }
            },
            "type": "scatter3d"
           }
          ],
          "scattercarpet": [
           {
            "marker": {
             "colorbar": {
              "outlinewidth": 0,
              "ticks": ""
             }
            },
            "type": "scattercarpet"
           }
          ],
          "scattergeo": [
           {
            "marker": {
             "colorbar": {
              "outlinewidth": 0,
              "ticks": ""
             }
            },
            "type": "scattergeo"
           }
          ],
          "scattergl": [
           {
            "marker": {
             "colorbar": {
              "outlinewidth": 0,
              "ticks": ""
             }
            },
            "type": "scattergl"
           }
          ],
          "scattermapbox": [
           {
            "marker": {
             "colorbar": {
              "outlinewidth": 0,
              "ticks": ""
             }
            },
            "type": "scattermapbox"
           }
          ],
          "scatterpolar": [
           {
            "marker": {
             "colorbar": {
              "outlinewidth": 0,
              "ticks": ""
             }
            },
            "type": "scatterpolar"
           }
          ],
          "scatterpolargl": [
           {
            "marker": {
             "colorbar": {
              "outlinewidth": 0,
              "ticks": ""
             }
            },
            "type": "scatterpolargl"
           }
          ],
          "scatterternary": [
           {
            "marker": {
             "colorbar": {
              "outlinewidth": 0,
              "ticks": ""
             }
            },
            "type": "scatterternary"
           }
          ],
          "surface": [
           {
            "colorbar": {
             "outlinewidth": 0,
             "ticks": ""
            },
            "colorscale": [
             [
              0,
              "#0d0887"
             ],
             [
              0.1111111111111111,
              "#46039f"
             ],
             [
              0.2222222222222222,
              "#7201a8"
             ],
             [
              0.3333333333333333,
              "#9c179e"
             ],
             [
              0.4444444444444444,
              "#bd3786"
             ],
             [
              0.5555555555555556,
              "#d8576b"
             ],
             [
              0.6666666666666666,
              "#ed7953"
             ],
             [
              0.7777777777777778,
              "#fb9f3a"
             ],
             [
              0.8888888888888888,
              "#fdca26"
             ],
             [
              1,
              "#f0f921"
             ]
            ],
            "type": "surface"
           }
          ],
          "table": [
           {
            "cells": {
             "fill": {
              "color": "#EBF0F8"
             },
             "line": {
              "color": "white"
             }
            },
            "header": {
             "fill": {
              "color": "#C8D4E3"
             },
             "line": {
              "color": "white"
             }
            },
            "type": "table"
           }
          ]
         },
         "layout": {
          "annotationdefaults": {
           "arrowcolor": "#2a3f5f",
           "arrowhead": 0,
           "arrowwidth": 1
          },
          "autotypenumbers": "strict",
          "coloraxis": {
           "colorbar": {
            "outlinewidth": 0,
            "ticks": ""
           }
          },
          "colorscale": {
           "diverging": [
            [
             0,
             "#8e0152"
            ],
            [
             0.1,
             "#c51b7d"
            ],
            [
             0.2,
             "#de77ae"
            ],
            [
             0.3,
             "#f1b6da"
            ],
            [
             0.4,
             "#fde0ef"
            ],
            [
             0.5,
             "#f7f7f7"
            ],
            [
             0.6,
             "#e6f5d0"
            ],
            [
             0.7,
             "#b8e186"
            ],
            [
             0.8,
             "#7fbc41"
            ],
            [
             0.9,
             "#4d9221"
            ],
            [
             1,
             "#276419"
            ]
           ],
           "sequential": [
            [
             0,
             "#0d0887"
            ],
            [
             0.1111111111111111,
             "#46039f"
            ],
            [
             0.2222222222222222,
             "#7201a8"
            ],
            [
             0.3333333333333333,
             "#9c179e"
            ],
            [
             0.4444444444444444,
             "#bd3786"
            ],
            [
             0.5555555555555556,
             "#d8576b"
            ],
            [
             0.6666666666666666,
             "#ed7953"
            ],
            [
             0.7777777777777778,
             "#fb9f3a"
            ],
            [
             0.8888888888888888,
             "#fdca26"
            ],
            [
             1,
             "#f0f921"
            ]
           ],
           "sequentialminus": [
            [
             0,
             "#0d0887"
            ],
            [
             0.1111111111111111,
             "#46039f"
            ],
            [
             0.2222222222222222,
             "#7201a8"
            ],
            [
             0.3333333333333333,
             "#9c179e"
            ],
            [
             0.4444444444444444,
             "#bd3786"
            ],
            [
             0.5555555555555556,
             "#d8576b"
            ],
            [
             0.6666666666666666,
             "#ed7953"
            ],
            [
             0.7777777777777778,
             "#fb9f3a"
            ],
            [
             0.8888888888888888,
             "#fdca26"
            ],
            [
             1,
             "#f0f921"
            ]
           ]
          },
          "colorway": [
           "#636efa",
           "#EF553B",
           "#00cc96",
           "#ab63fa",
           "#FFA15A",
           "#19d3f3",
           "#FF6692",
           "#B6E880",
           "#FF97FF",
           "#FECB52"
          ],
          "font": {
           "color": "#2a3f5f"
          },
          "geo": {
           "bgcolor": "white",
           "lakecolor": "white",
           "landcolor": "#E5ECF6",
           "showlakes": true,
           "showland": true,
           "subunitcolor": "white"
          },
          "hoverlabel": {
           "align": "left"
          },
          "hovermode": "closest",
          "mapbox": {
           "style": "light"
          },
          "paper_bgcolor": "white",
          "plot_bgcolor": "#E5ECF6",
          "polar": {
           "angularaxis": {
            "gridcolor": "white",
            "linecolor": "white",
            "ticks": ""
           },
           "bgcolor": "#E5ECF6",
           "radialaxis": {
            "gridcolor": "white",
            "linecolor": "white",
            "ticks": ""
           }
          },
          "scene": {
           "xaxis": {
            "backgroundcolor": "#E5ECF6",
            "gridcolor": "white",
            "gridwidth": 2,
            "linecolor": "white",
            "showbackground": true,
            "ticks": "",
            "zerolinecolor": "white"
           },
           "yaxis": {
            "backgroundcolor": "#E5ECF6",
            "gridcolor": "white",
            "gridwidth": 2,
            "linecolor": "white",
            "showbackground": true,
            "ticks": "",
            "zerolinecolor": "white"
           },
           "zaxis": {
            "backgroundcolor": "#E5ECF6",
            "gridcolor": "white",
            "gridwidth": 2,
            "linecolor": "white",
            "showbackground": true,
            "ticks": "",
            "zerolinecolor": "white"
           }
          },
          "shapedefaults": {
           "line": {
            "color": "#2a3f5f"
           }
          },
          "ternary": {
           "aaxis": {
            "gridcolor": "white",
            "linecolor": "white",
            "ticks": ""
           },
           "baxis": {
            "gridcolor": "white",
            "linecolor": "white",
            "ticks": ""
           },
           "bgcolor": "#E5ECF6",
           "caxis": {
            "gridcolor": "white",
            "linecolor": "white",
            "ticks": ""
           }
          },
          "title": {
           "x": 0.05
          },
          "xaxis": {
           "automargin": true,
           "gridcolor": "white",
           "linecolor": "white",
           "ticks": "",
           "title": {
            "standoff": 15
           },
           "zerolinecolor": "white",
           "zerolinewidth": 2
          },
          "yaxis": {
           "automargin": true,
           "gridcolor": "white",
           "linecolor": "white",
           "ticks": "",
           "title": {
            "standoff": 15
           },
           "zerolinecolor": "white",
           "zerolinewidth": 2
          }
         }
        },
        "title": {
         "font": {
          "color": "#4D5663"
         }
        },
        "xaxis": {
         "gridcolor": "#E1E5ED",
         "showgrid": true,
         "tickfont": {
          "color": "#4D5663"
         },
         "title": {
          "font": {
           "color": "#4D5663"
          },
          "text": ""
         },
         "zerolinecolor": "#E1E5ED"
        },
        "yaxis": {
         "gridcolor": "#E1E5ED",
         "showgrid": true,
         "tickfont": {
          "color": "#4D5663"
         },
         "title": {
          "font": {
           "color": "#4D5663"
          },
          "text": ""
         },
         "zerolinecolor": "#E1E5ED"
        }
       }
      },
      "text/html": "<div>                            <div id=\"fdabe2ee-d02e-4335-9bb6-c8ffc092f114\" class=\"plotly-graph-div\" style=\"height:525px; width:100%;\"></div>            <script type=\"text/javascript\">                require([\"plotly\"], function(Plotly) {                    window.PLOTLYENV=window.PLOTLYENV || {};\n                    window.PLOTLYENV.BASE_URL='https://plot.ly';                                    if (document.getElementById(\"fdabe2ee-d02e-4335-9bb6-c8ffc092f114\")) {                    Plotly.newPlot(                        \"fdabe2ee-d02e-4335-9bb6-c8ffc092f114\",                        [{\"marker\":{\"color\":\"rgba(255, 153, 51, 0.6)\",\"line\":{\"color\":\"rgba(255, 153, 51, 1.0)\",\"width\":1}},\"name\":\"Values\",\"orientation\":\"v\",\"text\":\"\",\"type\":\"bar\",\"x\":[\"A\",\"B\",\"C\"],\"y\":[32,43,50]}],                        {\"legend\":{\"bgcolor\":\"#F5F6F9\",\"font\":{\"color\":\"#4D5663\"}},\"paper_bgcolor\":\"#F5F6F9\",\"plot_bgcolor\":\"#F5F6F9\",\"template\":{\"data\":{\"bar\":[{\"error_x\":{\"color\":\"#2a3f5f\"},\"error_y\":{\"color\":\"#2a3f5f\"},\"marker\":{\"line\":{\"color\":\"#E5ECF6\",\"width\":0.5},\"pattern\":{\"fillmode\":\"overlay\",\"size\":10,\"solidity\":0.2}},\"type\":\"bar\"}],\"barpolar\":[{\"marker\":{\"line\":{\"color\":\"#E5ECF6\",\"width\":0.5},\"pattern\":{\"fillmode\":\"overlay\",\"size\":10,\"solidity\":0.2}},\"type\":\"barpolar\"}],\"carpet\":[{\"aaxis\":{\"endlinecolor\":\"#2a3f5f\",\"gridcolor\":\"white\",\"linecolor\":\"white\",\"minorgridcolor\":\"white\",\"startlinecolor\":\"#2a3f5f\"},\"baxis\":{\"endlinecolor\":\"#2a3f5f\",\"gridcolor\":\"white\",\"linecolor\":\"white\",\"minorgridcolor\":\"white\",\"startlinecolor\":\"#2a3f5f\"},\"type\":\"carpet\"}],\"choropleth\":[{\"colorbar\":{\"outlinewidth\":0,\"ticks\":\"\"},\"type\":\"choropleth\"}],\"contour\":[{\"colorbar\":{\"outlinewidth\":0,\"ticks\":\"\"},\"colorscale\":[[0.0,\"#0d0887\"],[0.1111111111111111,\"#46039f\"],[0.2222222222222222,\"#7201a8\"],[0.3333333333333333,\"#9c179e\"],[0.4444444444444444,\"#bd3786\"],[0.5555555555555556,\"#d8576b\"],[0.6666666666666666,\"#ed7953\"],[0.7777777777777778,\"#fb9f3a\"],[0.8888888888888888,\"#fdca26\"],[1.0,\"#f0f921\"]],\"type\":\"contour\"}],\"contourcarpet\":[{\"colorbar\":{\"outlinewidth\":0,\"ticks\":\"\"},\"type\":\"contourcarpet\"}],\"heatmap\":[{\"colorbar\":{\"outlinewidth\":0,\"ticks\":\"\"},\"colorscale\":[[0.0,\"#0d0887\"],[0.1111111111111111,\"#46039f\"],[0.2222222222222222,\"#7201a8\"],[0.3333333333333333,\"#9c179e\"],[0.4444444444444444,\"#bd3786\"],[0.5555555555555556,\"#d8576b\"],[0.6666666666666666,\"#ed7953\"],[0.7777777777777778,\"#fb9f3a\"],[0.8888888888888888,\"#fdca26\"],[1.0,\"#f0f921\"]],\"type\":\"heatmap\"}],\"heatmapgl\":[{\"colorbar\":{\"outlinewidth\":0,\"ticks\":\"\"},\"colorscale\":[[0.0,\"#0d0887\"],[0.1111111111111111,\"#46039f\"],[0.2222222222222222,\"#7201a8\"],[0.3333333333333333,\"#9c179e\"],[0.4444444444444444,\"#bd3786\"],[0.5555555555555556,\"#d8576b\"],[0.6666666666666666,\"#ed7953\"],[0.7777777777777778,\"#fb9f3a\"],[0.8888888888888888,\"#fdca26\"],[1.0,\"#f0f921\"]],\"type\":\"heatmapgl\"}],\"histogram\":[{\"marker\":{\"pattern\":{\"fillmode\":\"overlay\",\"size\":10,\"solidity\":0.2}},\"type\":\"histogram\"}],\"histogram2d\":[{\"colorbar\":{\"outlinewidth\":0,\"ticks\":\"\"},\"colorscale\":[[0.0,\"#0d0887\"],[0.1111111111111111,\"#46039f\"],[0.2222222222222222,\"#7201a8\"],[0.3333333333333333,\"#9c179e\"],[0.4444444444444444,\"#bd3786\"],[0.5555555555555556,\"#d8576b\"],[0.6666666666666666,\"#ed7953\"],[0.7777777777777778,\"#fb9f3a\"],[0.8888888888888888,\"#fdca26\"],[1.0,\"#f0f921\"]],\"type\":\"histogram2d\"}],\"histogram2dcontour\":[{\"colorbar\":{\"outlinewidth\":0,\"ticks\":\"\"},\"colorscale\":[[0.0,\"#0d0887\"],[0.1111111111111111,\"#46039f\"],[0.2222222222222222,\"#7201a8\"],[0.3333333333333333,\"#9c179e\"],[0.4444444444444444,\"#bd3786\"],[0.5555555555555556,\"#d8576b\"],[0.6666666666666666,\"#ed7953\"],[0.7777777777777778,\"#fb9f3a\"],[0.8888888888888888,\"#fdca26\"],[1.0,\"#f0f921\"]],\"type\":\"histogram2dcontour\"}],\"mesh3d\":[{\"colorbar\":{\"outlinewidth\":0,\"ticks\":\"\"},\"type\":\"mesh3d\"}],\"parcoords\":[{\"line\":{\"colorbar\":{\"outlinewidth\":0,\"ticks\":\"\"}},\"type\":\"parcoords\"}],\"pie\":[{\"automargin\":true,\"type\":\"pie\"}],\"scatter\":[{\"marker\":{\"colorbar\":{\"outlinewidth\":0,\"ticks\":\"\"}},\"type\":\"scatter\"}],\"scatter3d\":[{\"line\":{\"colorbar\":{\"outlinewidth\":0,\"ticks\":\"\"}},\"marker\":{\"colorbar\":{\"outlinewidth\":0,\"ticks\":\"\"}},\"type\":\"scatter3d\"}],\"scattercarpet\":[{\"marker\":{\"colorbar\":{\"outlinewidth\":0,\"ticks\":\"\"}},\"type\":\"scattercarpet\"}],\"scattergeo\":[{\"marker\":{\"colorbar\":{\"outlinewidth\":0,\"ticks\":\"\"}},\"type\":\"scattergeo\"}],\"scattergl\":[{\"marker\":{\"colorbar\":{\"outlinewidth\":0,\"ticks\":\"\"}},\"type\":\"scattergl\"}],\"scattermapbox\":[{\"marker\":{\"colorbar\":{\"outlinewidth\":0,\"ticks\":\"\"}},\"type\":\"scattermapbox\"}],\"scatterpolar\":[{\"marker\":{\"colorbar\":{\"outlinewidth\":0,\"ticks\":\"\"}},\"type\":\"scatterpolar\"}],\"scatterpolargl\":[{\"marker\":{\"colorbar\":{\"outlinewidth\":0,\"ticks\":\"\"}},\"type\":\"scatterpolargl\"}],\"scatterternary\":[{\"marker\":{\"colorbar\":{\"outlinewidth\":0,\"ticks\":\"\"}},\"type\":\"scatterternary\"}],\"surface\":[{\"colorbar\":{\"outlinewidth\":0,\"ticks\":\"\"},\"colorscale\":[[0.0,\"#0d0887\"],[0.1111111111111111,\"#46039f\"],[0.2222222222222222,\"#7201a8\"],[0.3333333333333333,\"#9c179e\"],[0.4444444444444444,\"#bd3786\"],[0.5555555555555556,\"#d8576b\"],[0.6666666666666666,\"#ed7953\"],[0.7777777777777778,\"#fb9f3a\"],[0.8888888888888888,\"#fdca26\"],[1.0,\"#f0f921\"]],\"type\":\"surface\"}],\"table\":[{\"cells\":{\"fill\":{\"color\":\"#EBF0F8\"},\"line\":{\"color\":\"white\"}},\"header\":{\"fill\":{\"color\":\"#C8D4E3\"},\"line\":{\"color\":\"white\"}},\"type\":\"table\"}]},\"layout\":{\"annotationdefaults\":{\"arrowcolor\":\"#2a3f5f\",\"arrowhead\":0,\"arrowwidth\":1},\"autotypenumbers\":\"strict\",\"coloraxis\":{\"colorbar\":{\"outlinewidth\":0,\"ticks\":\"\"}},\"colorscale\":{\"diverging\":[[0,\"#8e0152\"],[0.1,\"#c51b7d\"],[0.2,\"#de77ae\"],[0.3,\"#f1b6da\"],[0.4,\"#fde0ef\"],[0.5,\"#f7f7f7\"],[0.6,\"#e6f5d0\"],[0.7,\"#b8e186\"],[0.8,\"#7fbc41\"],[0.9,\"#4d9221\"],[1,\"#276419\"]],\"sequential\":[[0.0,\"#0d0887\"],[0.1111111111111111,\"#46039f\"],[0.2222222222222222,\"#7201a8\"],[0.3333333333333333,\"#9c179e\"],[0.4444444444444444,\"#bd3786\"],[0.5555555555555556,\"#d8576b\"],[0.6666666666666666,\"#ed7953\"],[0.7777777777777778,\"#fb9f3a\"],[0.8888888888888888,\"#fdca26\"],[1.0,\"#f0f921\"]],\"sequentialminus\":[[0.0,\"#0d0887\"],[0.1111111111111111,\"#46039f\"],[0.2222222222222222,\"#7201a8\"],[0.3333333333333333,\"#9c179e\"],[0.4444444444444444,\"#bd3786\"],[0.5555555555555556,\"#d8576b\"],[0.6666666666666666,\"#ed7953\"],[0.7777777777777778,\"#fb9f3a\"],[0.8888888888888888,\"#fdca26\"],[1.0,\"#f0f921\"]]},\"colorway\":[\"#636efa\",\"#EF553B\",\"#00cc96\",\"#ab63fa\",\"#FFA15A\",\"#19d3f3\",\"#FF6692\",\"#B6E880\",\"#FF97FF\",\"#FECB52\"],\"font\":{\"color\":\"#2a3f5f\"},\"geo\":{\"bgcolor\":\"white\",\"lakecolor\":\"white\",\"landcolor\":\"#E5ECF6\",\"showlakes\":true,\"showland\":true,\"subunitcolor\":\"white\"},\"hoverlabel\":{\"align\":\"left\"},\"hovermode\":\"closest\",\"mapbox\":{\"style\":\"light\"},\"paper_bgcolor\":\"white\",\"plot_bgcolor\":\"#E5ECF6\",\"polar\":{\"angularaxis\":{\"gridcolor\":\"white\",\"linecolor\":\"white\",\"ticks\":\"\"},\"bgcolor\":\"#E5ECF6\",\"radialaxis\":{\"gridcolor\":\"white\",\"linecolor\":\"white\",\"ticks\":\"\"}},\"scene\":{\"xaxis\":{\"backgroundcolor\":\"#E5ECF6\",\"gridcolor\":\"white\",\"gridwidth\":2,\"linecolor\":\"white\",\"showbackground\":true,\"ticks\":\"\",\"zerolinecolor\":\"white\"},\"yaxis\":{\"backgroundcolor\":\"#E5ECF6\",\"gridcolor\":\"white\",\"gridwidth\":2,\"linecolor\":\"white\",\"showbackground\":true,\"ticks\":\"\",\"zerolinecolor\":\"white\"},\"zaxis\":{\"backgroundcolor\":\"#E5ECF6\",\"gridcolor\":\"white\",\"gridwidth\":2,\"linecolor\":\"white\",\"showbackground\":true,\"ticks\":\"\",\"zerolinecolor\":\"white\"}},\"shapedefaults\":{\"line\":{\"color\":\"#2a3f5f\"}},\"ternary\":{\"aaxis\":{\"gridcolor\":\"white\",\"linecolor\":\"white\",\"ticks\":\"\"},\"baxis\":{\"gridcolor\":\"white\",\"linecolor\":\"white\",\"ticks\":\"\"},\"bgcolor\":\"#E5ECF6\",\"caxis\":{\"gridcolor\":\"white\",\"linecolor\":\"white\",\"ticks\":\"\"}},\"title\":{\"x\":0.05},\"xaxis\":{\"automargin\":true,\"gridcolor\":\"white\",\"linecolor\":\"white\",\"ticks\":\"\",\"title\":{\"standoff\":15},\"zerolinecolor\":\"white\",\"zerolinewidth\":2},\"yaxis\":{\"automargin\":true,\"gridcolor\":\"white\",\"linecolor\":\"white\",\"ticks\":\"\",\"title\":{\"standoff\":15},\"zerolinecolor\":\"white\",\"zerolinewidth\":2}}},\"title\":{\"font\":{\"color\":\"#4D5663\"}},\"xaxis\":{\"gridcolor\":\"#E1E5ED\",\"showgrid\":true,\"tickfont\":{\"color\":\"#4D5663\"},\"title\":{\"font\":{\"color\":\"#4D5663\"},\"text\":\"\"},\"zerolinecolor\":\"#E1E5ED\"},\"yaxis\":{\"gridcolor\":\"#E1E5ED\",\"showgrid\":true,\"tickfont\":{\"color\":\"#4D5663\"},\"title\":{\"font\":{\"color\":\"#4D5663\"},\"text\":\"\"},\"zerolinecolor\":\"#E1E5ED\"}},                        {\"showLink\": true, \"linkText\": \"Export to plot.ly\", \"plotlyServerURL\": \"https://plot.ly\", \"responsive\": true}                    ).then(function(){\n                            \nvar gd = document.getElementById('fdabe2ee-d02e-4335-9bb6-c8ffc092f114');\nvar x = new MutationObserver(function (mutations, observer) {{\n        var display = window.getComputedStyle(gd).display;\n        if (!display || display === 'none') {{\n            console.log([gd, 'removed!']);\n            Plotly.purge(gd);\n            observer.disconnect();\n        }}\n}});\n\n// Listen for the removal of the full notebook cells\nvar notebookContainer = gd.closest('#notebook-container');\nif (notebookContainer) {{\n    x.observe(notebookContainer, {childList: true});\n}}\n\n// Listen for the clearing of the current output cell\nvar outputEl = gd.closest('.output');\nif (outputEl) {{\n    x.observe(outputEl, {childList: true});\n}}\n\n                        })                };                });            </script>        </div>"
     },
     "metadata": {}
    }
   ],
   "source": [
    "df2.iplot(kind='bar',x='Category',y='Values')"
   ]
  },
  {
   "cell_type": "code",
   "execution_count": 13,
   "metadata": {
    "collapsed": false
   },
   "outputs": [
    {
     "output_type": "display_data",
     "data": {
      "application/vnd.plotly.v1+json": {
       "config": {
        "linkText": "Export to plot.ly",
        "plotlyServerURL": "https://plot.ly",
        "showLink": true
       },
       "data": [
        {
         "marker": {
          "color": "rgba(255, 153, 51, 0.6)",
          "line": {
           "color": "rgba(255, 153, 51, 1.0)",
           "width": 1
          }
         },
         "name": "None",
         "orientation": "v",
         "text": "",
         "type": "bar",
         "x": [
          "A",
          "B",
          "C",
          "D"
         ],
         "y": [
          100,
          100,
          100,
          100
         ]
        }
       ],
       "layout": {
        "legend": {
         "bgcolor": "#F5F6F9",
         "font": {
          "color": "#4D5663"
         }
        },
        "paper_bgcolor": "#F5F6F9",
        "plot_bgcolor": "#F5F6F9",
        "template": {
         "data": {
          "bar": [
           {
            "error_x": {
             "color": "#2a3f5f"
            },
            "error_y": {
             "color": "#2a3f5f"
            },
            "marker": {
             "line": {
              "color": "#E5ECF6",
              "width": 0.5
             },
             "pattern": {
              "fillmode": "overlay",
              "size": 10,
              "solidity": 0.2
             }
            },
            "type": "bar"
           }
          ],
          "barpolar": [
           {
            "marker": {
             "line": {
              "color": "#E5ECF6",
              "width": 0.5
             },
             "pattern": {
              "fillmode": "overlay",
              "size": 10,
              "solidity": 0.2
             }
            },
            "type": "barpolar"
           }
          ],
          "carpet": [
           {
            "aaxis": {
             "endlinecolor": "#2a3f5f",
             "gridcolor": "white",
             "linecolor": "white",
             "minorgridcolor": "white",
             "startlinecolor": "#2a3f5f"
            },
            "baxis": {
             "endlinecolor": "#2a3f5f",
             "gridcolor": "white",
             "linecolor": "white",
             "minorgridcolor": "white",
             "startlinecolor": "#2a3f5f"
            },
            "type": "carpet"
           }
          ],
          "choropleth": [
           {
            "colorbar": {
             "outlinewidth": 0,
             "ticks": ""
            },
            "type": "choropleth"
           }
          ],
          "contour": [
           {
            "colorbar": {
             "outlinewidth": 0,
             "ticks": ""
            },
            "colorscale": [
             [
              0,
              "#0d0887"
             ],
             [
              0.1111111111111111,
              "#46039f"
             ],
             [
              0.2222222222222222,
              "#7201a8"
             ],
             [
              0.3333333333333333,
              "#9c179e"
             ],
             [
              0.4444444444444444,
              "#bd3786"
             ],
             [
              0.5555555555555556,
              "#d8576b"
             ],
             [
              0.6666666666666666,
              "#ed7953"
             ],
             [
              0.7777777777777778,
              "#fb9f3a"
             ],
             [
              0.8888888888888888,
              "#fdca26"
             ],
             [
              1,
              "#f0f921"
             ]
            ],
            "type": "contour"
           }
          ],
          "contourcarpet": [
           {
            "colorbar": {
             "outlinewidth": 0,
             "ticks": ""
            },
            "type": "contourcarpet"
           }
          ],
          "heatmap": [
           {
            "colorbar": {
             "outlinewidth": 0,
             "ticks": ""
            },
            "colorscale": [
             [
              0,
              "#0d0887"
             ],
             [
              0.1111111111111111,
              "#46039f"
             ],
             [
              0.2222222222222222,
              "#7201a8"
             ],
             [
              0.3333333333333333,
              "#9c179e"
             ],
             [
              0.4444444444444444,
              "#bd3786"
             ],
             [
              0.5555555555555556,
              "#d8576b"
             ],
             [
              0.6666666666666666,
              "#ed7953"
             ],
             [
              0.7777777777777778,
              "#fb9f3a"
             ],
             [
              0.8888888888888888,
              "#fdca26"
             ],
             [
              1,
              "#f0f921"
             ]
            ],
            "type": "heatmap"
           }
          ],
          "heatmapgl": [
           {
            "colorbar": {
             "outlinewidth": 0,
             "ticks": ""
            },
            "colorscale": [
             [
              0,
              "#0d0887"
             ],
             [
              0.1111111111111111,
              "#46039f"
             ],
             [
              0.2222222222222222,
              "#7201a8"
             ],
             [
              0.3333333333333333,
              "#9c179e"
             ],
             [
              0.4444444444444444,
              "#bd3786"
             ],
             [
              0.5555555555555556,
              "#d8576b"
             ],
             [
              0.6666666666666666,
              "#ed7953"
             ],
             [
              0.7777777777777778,
              "#fb9f3a"
             ],
             [
              0.8888888888888888,
              "#fdca26"
             ],
             [
              1,
              "#f0f921"
             ]
            ],
            "type": "heatmapgl"
           }
          ],
          "histogram": [
           {
            "marker": {
             "pattern": {
              "fillmode": "overlay",
              "size": 10,
              "solidity": 0.2
             }
            },
            "type": "histogram"
           }
          ],
          "histogram2d": [
           {
            "colorbar": {
             "outlinewidth": 0,
             "ticks": ""
            },
            "colorscale": [
             [
              0,
              "#0d0887"
             ],
             [
              0.1111111111111111,
              "#46039f"
             ],
             [
              0.2222222222222222,
              "#7201a8"
             ],
             [
              0.3333333333333333,
              "#9c179e"
             ],
             [
              0.4444444444444444,
              "#bd3786"
             ],
             [
              0.5555555555555556,
              "#d8576b"
             ],
             [
              0.6666666666666666,
              "#ed7953"
             ],
             [
              0.7777777777777778,
              "#fb9f3a"
             ],
             [
              0.8888888888888888,
              "#fdca26"
             ],
             [
              1,
              "#f0f921"
             ]
            ],
            "type": "histogram2d"
           }
          ],
          "histogram2dcontour": [
           {
            "colorbar": {
             "outlinewidth": 0,
             "ticks": ""
            },
            "colorscale": [
             [
              0,
              "#0d0887"
             ],
             [
              0.1111111111111111,
              "#46039f"
             ],
             [
              0.2222222222222222,
              "#7201a8"
             ],
             [
              0.3333333333333333,
              "#9c179e"
             ],
             [
              0.4444444444444444,
              "#bd3786"
             ],
             [
              0.5555555555555556,
              "#d8576b"
             ],
             [
              0.6666666666666666,
              "#ed7953"
             ],
             [
              0.7777777777777778,
              "#fb9f3a"
             ],
             [
              0.8888888888888888,
              "#fdca26"
             ],
             [
              1,
              "#f0f921"
             ]
            ],
            "type": "histogram2dcontour"
           }
          ],
          "mesh3d": [
           {
            "colorbar": {
             "outlinewidth": 0,
             "ticks": ""
            },
            "type": "mesh3d"
           }
          ],
          "parcoords": [
           {
            "line": {
             "colorbar": {
              "outlinewidth": 0,
              "ticks": ""
             }
            },
            "type": "parcoords"
           }
          ],
          "pie": [
           {
            "automargin": true,
            "type": "pie"
           }
          ],
          "scatter": [
           {
            "marker": {
             "colorbar": {
              "outlinewidth": 0,
              "ticks": ""
             }
            },
            "type": "scatter"
           }
          ],
          "scatter3d": [
           {
            "line": {
             "colorbar": {
              "outlinewidth": 0,
              "ticks": ""
             }
            },
            "marker": {
             "colorbar": {
              "outlinewidth": 0,
              "ticks": ""
             }
            },
            "type": "scatter3d"
           }
          ],
          "scattercarpet": [
           {
            "marker": {
             "colorbar": {
              "outlinewidth": 0,
              "ticks": ""
             }
            },
            "type": "scattercarpet"
           }
          ],
          "scattergeo": [
           {
            "marker": {
             "colorbar": {
              "outlinewidth": 0,
              "ticks": ""
             }
            },
            "type": "scattergeo"
           }
          ],
          "scattergl": [
           {
            "marker": {
             "colorbar": {
              "outlinewidth": 0,
              "ticks": ""
             }
            },
            "type": "scattergl"
           }
          ],
          "scattermapbox": [
           {
            "marker": {
             "colorbar": {
              "outlinewidth": 0,
              "ticks": ""
             }
            },
            "type": "scattermapbox"
           }
          ],
          "scatterpolar": [
           {
            "marker": {
             "colorbar": {
              "outlinewidth": 0,
              "ticks": ""
             }
            },
            "type": "scatterpolar"
           }
          ],
          "scatterpolargl": [
           {
            "marker": {
             "colorbar": {
              "outlinewidth": 0,
              "ticks": ""
             }
            },
            "type": "scatterpolargl"
           }
          ],
          "scatterternary": [
           {
            "marker": {
             "colorbar": {
              "outlinewidth": 0,
              "ticks": ""
             }
            },
            "type": "scatterternary"
           }
          ],
          "surface": [
           {
            "colorbar": {
             "outlinewidth": 0,
             "ticks": ""
            },
            "colorscale": [
             [
              0,
              "#0d0887"
             ],
             [
              0.1111111111111111,
              "#46039f"
             ],
             [
              0.2222222222222222,
              "#7201a8"
             ],
             [
              0.3333333333333333,
              "#9c179e"
             ],
             [
              0.4444444444444444,
              "#bd3786"
             ],
             [
              0.5555555555555556,
              "#d8576b"
             ],
             [
              0.6666666666666666,
              "#ed7953"
             ],
             [
              0.7777777777777778,
              "#fb9f3a"
             ],
             [
              0.8888888888888888,
              "#fdca26"
             ],
             [
              1,
              "#f0f921"
             ]
            ],
            "type": "surface"
           }
          ],
          "table": [
           {
            "cells": {
             "fill": {
              "color": "#EBF0F8"
             },
             "line": {
              "color": "white"
             }
            },
            "header": {
             "fill": {
              "color": "#C8D4E3"
             },
             "line": {
              "color": "white"
             }
            },
            "type": "table"
           }
          ]
         },
         "layout": {
          "annotationdefaults": {
           "arrowcolor": "#2a3f5f",
           "arrowhead": 0,
           "arrowwidth": 1
          },
          "autotypenumbers": "strict",
          "coloraxis": {
           "colorbar": {
            "outlinewidth": 0,
            "ticks": ""
           }
          },
          "colorscale": {
           "diverging": [
            [
             0,
             "#8e0152"
            ],
            [
             0.1,
             "#c51b7d"
            ],
            [
             0.2,
             "#de77ae"
            ],
            [
             0.3,
             "#f1b6da"
            ],
            [
             0.4,
             "#fde0ef"
            ],
            [
             0.5,
             "#f7f7f7"
            ],
            [
             0.6,
             "#e6f5d0"
            ],
            [
             0.7,
             "#b8e186"
            ],
            [
             0.8,
             "#7fbc41"
            ],
            [
             0.9,
             "#4d9221"
            ],
            [
             1,
             "#276419"
            ]
           ],
           "sequential": [
            [
             0,
             "#0d0887"
            ],
            [
             0.1111111111111111,
             "#46039f"
            ],
            [
             0.2222222222222222,
             "#7201a8"
            ],
            [
             0.3333333333333333,
             "#9c179e"
            ],
            [
             0.4444444444444444,
             "#bd3786"
            ],
            [
             0.5555555555555556,
             "#d8576b"
            ],
            [
             0.6666666666666666,
             "#ed7953"
            ],
            [
             0.7777777777777778,
             "#fb9f3a"
            ],
            [
             0.8888888888888888,
             "#fdca26"
            ],
            [
             1,
             "#f0f921"
            ]
           ],
           "sequentialminus": [
            [
             0,
             "#0d0887"
            ],
            [
             0.1111111111111111,
             "#46039f"
            ],
            [
             0.2222222222222222,
             "#7201a8"
            ],
            [
             0.3333333333333333,
             "#9c179e"
            ],
            [
             0.4444444444444444,
             "#bd3786"
            ],
            [
             0.5555555555555556,
             "#d8576b"
            ],
            [
             0.6666666666666666,
             "#ed7953"
            ],
            [
             0.7777777777777778,
             "#fb9f3a"
            ],
            [
             0.8888888888888888,
             "#fdca26"
            ],
            [
             1,
             "#f0f921"
            ]
           ]
          },
          "colorway": [
           "#636efa",
           "#EF553B",
           "#00cc96",
           "#ab63fa",
           "#FFA15A",
           "#19d3f3",
           "#FF6692",
           "#B6E880",
           "#FF97FF",
           "#FECB52"
          ],
          "font": {
           "color": "#2a3f5f"
          },
          "geo": {
           "bgcolor": "white",
           "lakecolor": "white",
           "landcolor": "#E5ECF6",
           "showlakes": true,
           "showland": true,
           "subunitcolor": "white"
          },
          "hoverlabel": {
           "align": "left"
          },
          "hovermode": "closest",
          "mapbox": {
           "style": "light"
          },
          "paper_bgcolor": "white",
          "plot_bgcolor": "#E5ECF6",
          "polar": {
           "angularaxis": {
            "gridcolor": "white",
            "linecolor": "white",
            "ticks": ""
           },
           "bgcolor": "#E5ECF6",
           "radialaxis": {
            "gridcolor": "white",
            "linecolor": "white",
            "ticks": ""
           }
          },
          "scene": {
           "xaxis": {
            "backgroundcolor": "#E5ECF6",
            "gridcolor": "white",
            "gridwidth": 2,
            "linecolor": "white",
            "showbackground": true,
            "ticks": "",
            "zerolinecolor": "white"
           },
           "yaxis": {
            "backgroundcolor": "#E5ECF6",
            "gridcolor": "white",
            "gridwidth": 2,
            "linecolor": "white",
            "showbackground": true,
            "ticks": "",
            "zerolinecolor": "white"
           },
           "zaxis": {
            "backgroundcolor": "#E5ECF6",
            "gridcolor": "white",
            "gridwidth": 2,
            "linecolor": "white",
            "showbackground": true,
            "ticks": "",
            "zerolinecolor": "white"
           }
          },
          "shapedefaults": {
           "line": {
            "color": "#2a3f5f"
           }
          },
          "ternary": {
           "aaxis": {
            "gridcolor": "white",
            "linecolor": "white",
            "ticks": ""
           },
           "baxis": {
            "gridcolor": "white",
            "linecolor": "white",
            "ticks": ""
           },
           "bgcolor": "#E5ECF6",
           "caxis": {
            "gridcolor": "white",
            "linecolor": "white",
            "ticks": ""
           }
          },
          "title": {
           "x": 0.05
          },
          "xaxis": {
           "automargin": true,
           "gridcolor": "white",
           "linecolor": "white",
           "ticks": "",
           "title": {
            "standoff": 15
           },
           "zerolinecolor": "white",
           "zerolinewidth": 2
          },
          "yaxis": {
           "automargin": true,
           "gridcolor": "white",
           "linecolor": "white",
           "ticks": "",
           "title": {
            "standoff": 15
           },
           "zerolinecolor": "white",
           "zerolinewidth": 2
          }
         }
        },
        "title": {
         "font": {
          "color": "#4D5663"
         }
        },
        "xaxis": {
         "gridcolor": "#E1E5ED",
         "showgrid": true,
         "tickfont": {
          "color": "#4D5663"
         },
         "title": {
          "font": {
           "color": "#4D5663"
          },
          "text": ""
         },
         "zerolinecolor": "#E1E5ED"
        },
        "yaxis": {
         "gridcolor": "#E1E5ED",
         "showgrid": true,
         "tickfont": {
          "color": "#4D5663"
         },
         "title": {
          "font": {
           "color": "#4D5663"
          },
          "text": ""
         },
         "zerolinecolor": "#E1E5ED"
        }
       }
      },
      "text/html": "<div>                            <div id=\"585eb3b3-ec2d-448f-9254-24d83ef90856\" class=\"plotly-graph-div\" style=\"height:525px; width:100%;\"></div>            <script type=\"text/javascript\">                require([\"plotly\"], function(Plotly) {                    window.PLOTLYENV=window.PLOTLYENV || {};\n                    window.PLOTLYENV.BASE_URL='https://plot.ly';                                    if (document.getElementById(\"585eb3b3-ec2d-448f-9254-24d83ef90856\")) {                    Plotly.newPlot(                        \"585eb3b3-ec2d-448f-9254-24d83ef90856\",                        [{\"marker\":{\"color\":\"rgba(255, 153, 51, 0.6)\",\"line\":{\"color\":\"rgba(255, 153, 51, 1.0)\",\"width\":1}},\"name\":\"None\",\"orientation\":\"v\",\"text\":\"\",\"type\":\"bar\",\"x\":[\"A\",\"B\",\"C\",\"D\"],\"y\":[100,100,100,100]}],                        {\"legend\":{\"bgcolor\":\"#F5F6F9\",\"font\":{\"color\":\"#4D5663\"}},\"paper_bgcolor\":\"#F5F6F9\",\"plot_bgcolor\":\"#F5F6F9\",\"template\":{\"data\":{\"bar\":[{\"error_x\":{\"color\":\"#2a3f5f\"},\"error_y\":{\"color\":\"#2a3f5f\"},\"marker\":{\"line\":{\"color\":\"#E5ECF6\",\"width\":0.5},\"pattern\":{\"fillmode\":\"overlay\",\"size\":10,\"solidity\":0.2}},\"type\":\"bar\"}],\"barpolar\":[{\"marker\":{\"line\":{\"color\":\"#E5ECF6\",\"width\":0.5},\"pattern\":{\"fillmode\":\"overlay\",\"size\":10,\"solidity\":0.2}},\"type\":\"barpolar\"}],\"carpet\":[{\"aaxis\":{\"endlinecolor\":\"#2a3f5f\",\"gridcolor\":\"white\",\"linecolor\":\"white\",\"minorgridcolor\":\"white\",\"startlinecolor\":\"#2a3f5f\"},\"baxis\":{\"endlinecolor\":\"#2a3f5f\",\"gridcolor\":\"white\",\"linecolor\":\"white\",\"minorgridcolor\":\"white\",\"startlinecolor\":\"#2a3f5f\"},\"type\":\"carpet\"}],\"choropleth\":[{\"colorbar\":{\"outlinewidth\":0,\"ticks\":\"\"},\"type\":\"choropleth\"}],\"contour\":[{\"colorbar\":{\"outlinewidth\":0,\"ticks\":\"\"},\"colorscale\":[[0.0,\"#0d0887\"],[0.1111111111111111,\"#46039f\"],[0.2222222222222222,\"#7201a8\"],[0.3333333333333333,\"#9c179e\"],[0.4444444444444444,\"#bd3786\"],[0.5555555555555556,\"#d8576b\"],[0.6666666666666666,\"#ed7953\"],[0.7777777777777778,\"#fb9f3a\"],[0.8888888888888888,\"#fdca26\"],[1.0,\"#f0f921\"]],\"type\":\"contour\"}],\"contourcarpet\":[{\"colorbar\":{\"outlinewidth\":0,\"ticks\":\"\"},\"type\":\"contourcarpet\"}],\"heatmap\":[{\"colorbar\":{\"outlinewidth\":0,\"ticks\":\"\"},\"colorscale\":[[0.0,\"#0d0887\"],[0.1111111111111111,\"#46039f\"],[0.2222222222222222,\"#7201a8\"],[0.3333333333333333,\"#9c179e\"],[0.4444444444444444,\"#bd3786\"],[0.5555555555555556,\"#d8576b\"],[0.6666666666666666,\"#ed7953\"],[0.7777777777777778,\"#fb9f3a\"],[0.8888888888888888,\"#fdca26\"],[1.0,\"#f0f921\"]],\"type\":\"heatmap\"}],\"heatmapgl\":[{\"colorbar\":{\"outlinewidth\":0,\"ticks\":\"\"},\"colorscale\":[[0.0,\"#0d0887\"],[0.1111111111111111,\"#46039f\"],[0.2222222222222222,\"#7201a8\"],[0.3333333333333333,\"#9c179e\"],[0.4444444444444444,\"#bd3786\"],[0.5555555555555556,\"#d8576b\"],[0.6666666666666666,\"#ed7953\"],[0.7777777777777778,\"#fb9f3a\"],[0.8888888888888888,\"#fdca26\"],[1.0,\"#f0f921\"]],\"type\":\"heatmapgl\"}],\"histogram\":[{\"marker\":{\"pattern\":{\"fillmode\":\"overlay\",\"size\":10,\"solidity\":0.2}},\"type\":\"histogram\"}],\"histogram2d\":[{\"colorbar\":{\"outlinewidth\":0,\"ticks\":\"\"},\"colorscale\":[[0.0,\"#0d0887\"],[0.1111111111111111,\"#46039f\"],[0.2222222222222222,\"#7201a8\"],[0.3333333333333333,\"#9c179e\"],[0.4444444444444444,\"#bd3786\"],[0.5555555555555556,\"#d8576b\"],[0.6666666666666666,\"#ed7953\"],[0.7777777777777778,\"#fb9f3a\"],[0.8888888888888888,\"#fdca26\"],[1.0,\"#f0f921\"]],\"type\":\"histogram2d\"}],\"histogram2dcontour\":[{\"colorbar\":{\"outlinewidth\":0,\"ticks\":\"\"},\"colorscale\":[[0.0,\"#0d0887\"],[0.1111111111111111,\"#46039f\"],[0.2222222222222222,\"#7201a8\"],[0.3333333333333333,\"#9c179e\"],[0.4444444444444444,\"#bd3786\"],[0.5555555555555556,\"#d8576b\"],[0.6666666666666666,\"#ed7953\"],[0.7777777777777778,\"#fb9f3a\"],[0.8888888888888888,\"#fdca26\"],[1.0,\"#f0f921\"]],\"type\":\"histogram2dcontour\"}],\"mesh3d\":[{\"colorbar\":{\"outlinewidth\":0,\"ticks\":\"\"},\"type\":\"mesh3d\"}],\"parcoords\":[{\"line\":{\"colorbar\":{\"outlinewidth\":0,\"ticks\":\"\"}},\"type\":\"parcoords\"}],\"pie\":[{\"automargin\":true,\"type\":\"pie\"}],\"scatter\":[{\"marker\":{\"colorbar\":{\"outlinewidth\":0,\"ticks\":\"\"}},\"type\":\"scatter\"}],\"scatter3d\":[{\"line\":{\"colorbar\":{\"outlinewidth\":0,\"ticks\":\"\"}},\"marker\":{\"colorbar\":{\"outlinewidth\":0,\"ticks\":\"\"}},\"type\":\"scatter3d\"}],\"scattercarpet\":[{\"marker\":{\"colorbar\":{\"outlinewidth\":0,\"ticks\":\"\"}},\"type\":\"scattercarpet\"}],\"scattergeo\":[{\"marker\":{\"colorbar\":{\"outlinewidth\":0,\"ticks\":\"\"}},\"type\":\"scattergeo\"}],\"scattergl\":[{\"marker\":{\"colorbar\":{\"outlinewidth\":0,\"ticks\":\"\"}},\"type\":\"scattergl\"}],\"scattermapbox\":[{\"marker\":{\"colorbar\":{\"outlinewidth\":0,\"ticks\":\"\"}},\"type\":\"scattermapbox\"}],\"scatterpolar\":[{\"marker\":{\"colorbar\":{\"outlinewidth\":0,\"ticks\":\"\"}},\"type\":\"scatterpolar\"}],\"scatterpolargl\":[{\"marker\":{\"colorbar\":{\"outlinewidth\":0,\"ticks\":\"\"}},\"type\":\"scatterpolargl\"}],\"scatterternary\":[{\"marker\":{\"colorbar\":{\"outlinewidth\":0,\"ticks\":\"\"}},\"type\":\"scatterternary\"}],\"surface\":[{\"colorbar\":{\"outlinewidth\":0,\"ticks\":\"\"},\"colorscale\":[[0.0,\"#0d0887\"],[0.1111111111111111,\"#46039f\"],[0.2222222222222222,\"#7201a8\"],[0.3333333333333333,\"#9c179e\"],[0.4444444444444444,\"#bd3786\"],[0.5555555555555556,\"#d8576b\"],[0.6666666666666666,\"#ed7953\"],[0.7777777777777778,\"#fb9f3a\"],[0.8888888888888888,\"#fdca26\"],[1.0,\"#f0f921\"]],\"type\":\"surface\"}],\"table\":[{\"cells\":{\"fill\":{\"color\":\"#EBF0F8\"},\"line\":{\"color\":\"white\"}},\"header\":{\"fill\":{\"color\":\"#C8D4E3\"},\"line\":{\"color\":\"white\"}},\"type\":\"table\"}]},\"layout\":{\"annotationdefaults\":{\"arrowcolor\":\"#2a3f5f\",\"arrowhead\":0,\"arrowwidth\":1},\"autotypenumbers\":\"strict\",\"coloraxis\":{\"colorbar\":{\"outlinewidth\":0,\"ticks\":\"\"}},\"colorscale\":{\"diverging\":[[0,\"#8e0152\"],[0.1,\"#c51b7d\"],[0.2,\"#de77ae\"],[0.3,\"#f1b6da\"],[0.4,\"#fde0ef\"],[0.5,\"#f7f7f7\"],[0.6,\"#e6f5d0\"],[0.7,\"#b8e186\"],[0.8,\"#7fbc41\"],[0.9,\"#4d9221\"],[1,\"#276419\"]],\"sequential\":[[0.0,\"#0d0887\"],[0.1111111111111111,\"#46039f\"],[0.2222222222222222,\"#7201a8\"],[0.3333333333333333,\"#9c179e\"],[0.4444444444444444,\"#bd3786\"],[0.5555555555555556,\"#d8576b\"],[0.6666666666666666,\"#ed7953\"],[0.7777777777777778,\"#fb9f3a\"],[0.8888888888888888,\"#fdca26\"],[1.0,\"#f0f921\"]],\"sequentialminus\":[[0.0,\"#0d0887\"],[0.1111111111111111,\"#46039f\"],[0.2222222222222222,\"#7201a8\"],[0.3333333333333333,\"#9c179e\"],[0.4444444444444444,\"#bd3786\"],[0.5555555555555556,\"#d8576b\"],[0.6666666666666666,\"#ed7953\"],[0.7777777777777778,\"#fb9f3a\"],[0.8888888888888888,\"#fdca26\"],[1.0,\"#f0f921\"]]},\"colorway\":[\"#636efa\",\"#EF553B\",\"#00cc96\",\"#ab63fa\",\"#FFA15A\",\"#19d3f3\",\"#FF6692\",\"#B6E880\",\"#FF97FF\",\"#FECB52\"],\"font\":{\"color\":\"#2a3f5f\"},\"geo\":{\"bgcolor\":\"white\",\"lakecolor\":\"white\",\"landcolor\":\"#E5ECF6\",\"showlakes\":true,\"showland\":true,\"subunitcolor\":\"white\"},\"hoverlabel\":{\"align\":\"left\"},\"hovermode\":\"closest\",\"mapbox\":{\"style\":\"light\"},\"paper_bgcolor\":\"white\",\"plot_bgcolor\":\"#E5ECF6\",\"polar\":{\"angularaxis\":{\"gridcolor\":\"white\",\"linecolor\":\"white\",\"ticks\":\"\"},\"bgcolor\":\"#E5ECF6\",\"radialaxis\":{\"gridcolor\":\"white\",\"linecolor\":\"white\",\"ticks\":\"\"}},\"scene\":{\"xaxis\":{\"backgroundcolor\":\"#E5ECF6\",\"gridcolor\":\"white\",\"gridwidth\":2,\"linecolor\":\"white\",\"showbackground\":true,\"ticks\":\"\",\"zerolinecolor\":\"white\"},\"yaxis\":{\"backgroundcolor\":\"#E5ECF6\",\"gridcolor\":\"white\",\"gridwidth\":2,\"linecolor\":\"white\",\"showbackground\":true,\"ticks\":\"\",\"zerolinecolor\":\"white\"},\"zaxis\":{\"backgroundcolor\":\"#E5ECF6\",\"gridcolor\":\"white\",\"gridwidth\":2,\"linecolor\":\"white\",\"showbackground\":true,\"ticks\":\"\",\"zerolinecolor\":\"white\"}},\"shapedefaults\":{\"line\":{\"color\":\"#2a3f5f\"}},\"ternary\":{\"aaxis\":{\"gridcolor\":\"white\",\"linecolor\":\"white\",\"ticks\":\"\"},\"baxis\":{\"gridcolor\":\"white\",\"linecolor\":\"white\",\"ticks\":\"\"},\"bgcolor\":\"#E5ECF6\",\"caxis\":{\"gridcolor\":\"white\",\"linecolor\":\"white\",\"ticks\":\"\"}},\"title\":{\"x\":0.05},\"xaxis\":{\"automargin\":true,\"gridcolor\":\"white\",\"linecolor\":\"white\",\"ticks\":\"\",\"title\":{\"standoff\":15},\"zerolinecolor\":\"white\",\"zerolinewidth\":2},\"yaxis\":{\"automargin\":true,\"gridcolor\":\"white\",\"linecolor\":\"white\",\"ticks\":\"\",\"title\":{\"standoff\":15},\"zerolinecolor\":\"white\",\"zerolinewidth\":2}}},\"title\":{\"font\":{\"color\":\"#4D5663\"}},\"xaxis\":{\"gridcolor\":\"#E1E5ED\",\"showgrid\":true,\"tickfont\":{\"color\":\"#4D5663\"},\"title\":{\"font\":{\"color\":\"#4D5663\"},\"text\":\"\"},\"zerolinecolor\":\"#E1E5ED\"},\"yaxis\":{\"gridcolor\":\"#E1E5ED\",\"showgrid\":true,\"tickfont\":{\"color\":\"#4D5663\"},\"title\":{\"font\":{\"color\":\"#4D5663\"},\"text\":\"\"},\"zerolinecolor\":\"#E1E5ED\"}},                        {\"showLink\": true, \"linkText\": \"Export to plot.ly\", \"plotlyServerURL\": \"https://plot.ly\", \"responsive\": true}                    ).then(function(){\n                            \nvar gd = document.getElementById('585eb3b3-ec2d-448f-9254-24d83ef90856');\nvar x = new MutationObserver(function (mutations, observer) {{\n        var display = window.getComputedStyle(gd).display;\n        if (!display || display === 'none') {{\n            console.log([gd, 'removed!']);\n            Plotly.purge(gd);\n            observer.disconnect();\n        }}\n}});\n\n// Listen for the removal of the full notebook cells\nvar notebookContainer = gd.closest('#notebook-container');\nif (notebookContainer) {{\n    x.observe(notebookContainer, {childList: true});\n}}\n\n// Listen for the clearing of the current output cell\nvar outputEl = gd.closest('.output');\nif (outputEl) {{\n    x.observe(outputEl, {childList: true});\n}}\n\n                        })                };                });            </script>        </div>"
     },
     "metadata": {}
    }
   ],
   "source": [
    "df.count().iplot(kind='bar')"
   ]
  },
  {
   "cell_type": "markdown",
   "metadata": {},
   "source": [
    "## Boxplots"
   ]
  },
  {
   "cell_type": "code",
   "execution_count": 14,
   "metadata": {
    "collapsed": false
   },
   "outputs": [
    {
     "output_type": "display_data",
     "data": {
      "application/vnd.plotly.v1+json": {
       "config": {
        "linkText": "Export to plot.ly",
        "plotlyServerURL": "https://plot.ly",
        "showLink": true
       },
       "data": [
        {
         "boxpoints": false,
         "line": {
          "width": 1.3
         },
         "marker": {
          "color": "rgba(255, 153, 51, 1.0)"
         },
         "name": "A",
         "orientation": "v",
         "type": "box",
         "y": [
          -0.25227118008665145,
          0.06172597997312884,
          -0.09007588736177649,
          0.9655665553973772,
          0.4854660192833101,
          0.26701802645320244,
          1.0923931195785344,
          1.6867856846022133,
          0.1055984372563579,
          1.4884028777300893,
          1.2544325383218051,
          -0.7041177662348228,
          -0.6119001641424259,
          0.18014447538600833,
          1.155263713036101,
          -0.3425063374551015,
          -1.067126111336395,
          -0.7221525466373608,
          0.7651090750646531,
          -1.004545495950125,
          -0.2637463201554845,
          0.9270246371655807,
          -0.5193031631501195,
          2.2167780068744793,
          0.3862748792441888,
          1.1991319730362835,
          -1.557404376140031,
          -0.14901869535222126,
          -1.0024020287011886,
          0.13131176544298556,
          0.264598537852816,
          1.5531042912324888,
          0.4723615756752949,
          1.2296567723864706,
          1.4838948908571272,
          -0.27145625647809307,
          1.221844725244573,
          0.01469204642486503,
          1.3665996903567188,
          1.5443386446287324,
          -1.025123286950699,
          0.9819935474844267,
          1.1611796816047524,
          0.6991418032344212,
          -0.09106560471621786,
          -0.28426957089284277,
          -0.4016892297490613,
          -0.7774782732898965,
          -1.7223561231552598,
          2.460641905242768,
          0.4815183047281549,
          0.035806349576061165,
          0.910594759012117,
          -2.111067286320529,
          0.4238597156449524,
          1.9696836406375793,
          1.2332022682950836,
          -0.36656460758235637,
          1.8230451716552216,
          0.06966636861757851,
          1.1458785678701724,
          1.7385076252864209,
          -0.7410792987434056,
          -1.03176211548569,
          -0.10499217997687547,
          0.8659742608682182,
          -1.5783493333238372,
          -0.3489892902332464,
          1.4205913357741387,
          0.3282768542802037,
          1.20624805647062,
          0.2784530549906407,
          -0.7660315306574534,
          -0.3624752352324765,
          0.16231001478679416,
          0.9015722306033053,
          -0.7315391441263145,
          0.12354605275732658,
          0.4762171976821261,
          -2.0282995125317,
          0.46788204967415586,
          -0.2701368232370625,
          -0.9321784813202924,
          1.1780347596600362,
          -0.11206602609647033,
          0.21176886719477322,
          -0.8424944426011093,
          -1.166873584439773,
          -0.26288821705556603,
          -1.1033996783872577,
          0.6627858300113253,
          -0.6656295927166045,
          1.1961132505894427,
          1.9949738834989803,
          0.07004738586976976,
          -0.7715662014536142,
          -0.4528018588980907,
          -1.25185572951221,
          0.7625147154525329,
          -0.6660630083136009
         ]
        },
        {
         "boxpoints": false,
         "line": {
          "width": 1.3
         },
         "marker": {
          "color": "rgba(55, 128, 191, 1.0)"
         },
         "name": "B",
         "orientation": "v",
         "type": "box",
         "y": [
          -0.24429798139803324,
          -0.08140072026070258,
          -0.3440352221324289,
          -2.3053151000556555,
          -0.6497290247349842,
          0.995013179423379,
          1.4482732817312591,
          -0.9725458639710425,
          -0.0466569137740196,
          -1.3294228665276946,
          -0.8247119481275208,
          0.27609613535962857,
          -0.09473417124123408,
          1.2352309586310322,
          -1.9737731840246349,
          1.61911094645423,
          -0.26661304242337575,
          -0.2883173900689931,
          -1.1166915254776921,
          -0.2944092679714753,
          -0.8519120009667719,
          1.5669506335703582,
          1.3055588979130333,
          1.2996456459533428,
          0.9298325077994817,
          0.5737059413597119,
          0.901327794240818,
          -0.6131682683010122,
          1.9757524385077965,
          0.02801892591066275,
          1.169958911979349,
          0.8337790525973593,
          -1.0860858018918167,
          2.127483822808999,
          -1.1224068626293964,
          0.14436058310809521,
          0.8523129002351462,
          -0.9339966382509564,
          -0.5246945159001554,
          1.7368746659269374,
          0.7841996410852168,
          0.24964765334285305,
          2.0156034157433926,
          1.0005055998758337,
          1.661505139907902,
          1.2799660531362713,
          0.7706834184475058,
          0.5369875645341228,
          -0.09155641558534112,
          -0.49511281408638624,
          1.5529183028908848,
          2.4609964757075518,
          1.1664358569786706,
          -2.0914361872843417,
          -0.6989200878865848,
          0.5066218678795223,
          -0.49718418195862507,
          -0.8960658802881825,
          0.7227373881394722,
          -0.13499945108069203,
          -0.8630493471228109,
          0.15196771672118464,
          -1.2069214985814378,
          0.8226934690856887,
          -0.71909089288083,
          0.45993752341927757,
          -0.034813632030634006,
          -0.28989428438974524,
          -1.8318618123062496,
          -1.221478771149326,
          -1.600010335978149,
          -0.7345603641391674,
          -0.15027775675031024,
          -1.3646714770060189,
          -0.7785787421800132,
          -0.9751390197139149,
          0.6132892263431378,
          -1.3768478976549485,
          -1.4490455174948522,
          -0.03822645435966252,
          0.31517972419972795,
          -0.8588798522560479,
          1.1898640603599298,
          -1.6626037943520315,
          0.2667829198371369,
          2.1921221149600263,
          0.29320163830816354,
          0.43158584935104316,
          -0.4676397959356081,
          -0.5065838296651279,
          0.6305038259893719,
          0.2450240269975526,
          0.2752188120259105,
          0.6218735185660969,
          -1.69428883235597,
          -0.1425658102952103,
          -0.38355665675155454,
          -0.2571761083843813,
          -0.571611317316897,
          -0.9584551972239918
         ]
        },
        {
         "boxpoints": false,
         "line": {
          "width": 1.3
         },
         "marker": {
          "color": "rgba(50, 171, 96, 1.0)"
         },
         "name": "C",
         "orientation": "v",
         "type": "box",
         "y": [
          1.2351224845344935,
          -0.38669785570242604,
          -2.0011962318993453,
          0.04116458951516984,
          -2.09722903349474,
          -0.28032324451393703,
          -1.472950341135185,
          0.6114744607840525,
          -0.43117860125878604,
          0.4606296236813941,
          -1.4495540904678994,
          -1.8957680454010697,
          -0.11290971315892948,
          0.7234316529374472,
          0.9413183842924042,
          -0.5137523462209654,
          -1.1423370502459385,
          0.23001828325840296,
          -0.7426076875528073,
          0.3760412643606102,
          0.21063017660062394,
          2.247217455951604,
          0.6975429161270316,
          1.342722266728234,
          1.3515213148127823,
          1.6892878099370587,
          -0.888827307303063,
          0.32297016807173135,
          0.5897513548602424,
          -0.7838460590770665,
          -0.21301277447107383,
          0.08069855359882595,
          0.17874768625456458,
          0.7181907811171023,
          0.6608543626555075,
          1.5868423598738286,
          -1.29289455032478,
          -1.0481060502192365,
          -0.7555287029548189,
          -0.4002005968895799,
          0.6442888936212734,
          0.5098534474640429,
          0.10481736334959846,
          1.6750834771798557,
          1.013568237425307,
          0.3105576641026045,
          -0.944906938052571,
          -0.725069921520946,
          0.5420141780202964,
          -0.359414820187637,
          -0.2689747476153853,
          -0.572906789700986,
          -1.097647061212322,
          -1.6047584912724986,
          -0.3712938081317608,
          0.633753918553161,
          1.4439566140849132,
          0.11952563318730945,
          -0.9085176840006997,
          1.7156401840521192,
          -0.6648845085682261,
          -0.3310236656211434,
          -0.2587809104334033,
          0.17772915462571165,
          1.39071011340516,
          1.6011706192351332,
          -0.2672962900711946,
          -0.0029242455426668227,
          -2.44327057061105,
          0.31030687845889543,
          -1.7500243910283217,
          -1.178351008552562,
          -0.41867244872730824,
          0.05886464051794897,
          -0.1698502902804518,
          0.9919412863914042,
          -2.285050248051403,
          -0.5139587648731763,
          1.2109801105938256,
          -0.4197300329111014,
          -2.319493600418936,
          -1.4744456583474723,
          0.7891309681663189,
          -0.26154628626111515,
          0.6575503750283542,
          -0.5358549396888171,
          0.8671677733021019,
          -0.554645876720916,
          -1.4653449386069937,
          -1.2123031376582982,
          0.16561904168799216,
          -1.2293903181090093,
          1.042927914738034,
          1.9003904456760932,
          0.19864835028272926,
          0.3026402942278122,
          0.7699164934511995,
          0.53041906286024,
          -1.434147311412444,
          0.5568780840044606
         ]
        },
        {
         "boxpoints": false,
         "line": {
          "width": 1.3
         },
         "marker": {
          "color": "rgba(128, 0, 128, 1.0)"
         },
         "name": "D",
         "orientation": "v",
         "type": "box",
         "y": [
          0.14732054436157588,
          -0.10016409969461607,
          -0.19853875024356474,
          0.1850679369234906,
          -0.07318226785197171,
          -0.8269943020767107,
          0.06505588662622032,
          -1.942691625809125,
          -0.4536076219495638,
          0.6572374031953897,
          -0.6652868237332036,
          0.11043148047080958,
          -0.019587584405579422,
          -0.7482707881992258,
          -1.2988682280280754,
          0.38621519604522314,
          -1.696404193406195,
          -0.3429186785322637,
          0.09279042937172309,
          -0.8063559082110902,
          0.7551055679237417,
          0.7869716093538546,
          1.4897661151575377,
          -0.8476304516840218,
          -0.9183721974615116,
          0.9860168544542203,
          0.40401118797691415,
          -0.8354349934311642,
          0.013125381519689614,
          0.05835298386757851,
          0.01912873321815849,
          -0.36612674935060724,
          0.7103671274554275,
          0.9966137970779217,
          -0.12432651280157953,
          0.2549968513299937,
          1.8862718160515375,
          1.3558612042392981,
          0.6093905381111977,
          -0.9061719545195042,
          0.7711898370854324,
          -1.095951761102537,
          0.13348196976153492,
          0.9039699635821302,
          -0.3517848783858705,
          -0.6331003822846138,
          -0.4667940221111615,
          0.780454011601283,
          -0.07297727067912188,
          -0.6653273203052653,
          1.5538029630201264,
          0.29688351635133814,
          0.19052116589596443,
          0.8778995158352625,
          -1.5922439115592986,
          -1.1579696051963828,
          0.56294450486414,
          -1.3601680416927817,
          -0.6337829815066541,
          0.6365968998404121,
          0.08974500010512594,
          0.06728786790245704,
          -0.5680241487267365,
          1.0250648322407485,
          -0.5757506256019281,
          -0.6718655107659853,
          -0.2410840766133584,
          0.34116939469619667,
          -0.20603144163430348,
          -0.27456229446142555,
          -2.3230121903835736,
          0.8629439039881185,
          0.1513111118912714,
          -0.2432729276020875,
          -0.2522990196379048,
          1.2011552889075532,
          0.8743023640764342,
          0.2439043012493187,
          -1.6101601185619678,
          -0.07991728172782873,
          -0.9092689428157388,
          1.6862372884389945,
          -0.9418538634870914,
          -1.1384561395310642,
          -2.0194627370098406,
          1.8485355450809546,
          0.4903854406052378,
          -0.395778586981528,
          -0.5610001541216844,
          1.2667544216609101,
          1.2451239599125243,
          0.31712089159970824,
          1.3461438978582148,
          0.32589285964725956,
          0.7696204882117698,
          -1.9426326459418741,
          -0.23961594598989663,
          1.7119656381810588,
          0.5012605925697431,
          2.150903549226858
         ]
        }
       ],
       "layout": {
        "legend": {
         "bgcolor": "#F5F6F9",
         "font": {
          "color": "#4D5663"
         }
        },
        "paper_bgcolor": "#F5F6F9",
        "plot_bgcolor": "#F5F6F9",
        "template": {
         "data": {
          "bar": [
           {
            "error_x": {
             "color": "#2a3f5f"
            },
            "error_y": {
             "color": "#2a3f5f"
            },
            "marker": {
             "line": {
              "color": "#E5ECF6",
              "width": 0.5
             },
             "pattern": {
              "fillmode": "overlay",
              "size": 10,
              "solidity": 0.2
             }
            },
            "type": "bar"
           }
          ],
          "barpolar": [
           {
            "marker": {
             "line": {
              "color": "#E5ECF6",
              "width": 0.5
             },
             "pattern": {
              "fillmode": "overlay",
              "size": 10,
              "solidity": 0.2
             }
            },
            "type": "barpolar"
           }
          ],
          "carpet": [
           {
            "aaxis": {
             "endlinecolor": "#2a3f5f",
             "gridcolor": "white",
             "linecolor": "white",
             "minorgridcolor": "white",
             "startlinecolor": "#2a3f5f"
            },
            "baxis": {
             "endlinecolor": "#2a3f5f",
             "gridcolor": "white",
             "linecolor": "white",
             "minorgridcolor": "white",
             "startlinecolor": "#2a3f5f"
            },
            "type": "carpet"
           }
          ],
          "choropleth": [
           {
            "colorbar": {
             "outlinewidth": 0,
             "ticks": ""
            },
            "type": "choropleth"
           }
          ],
          "contour": [
           {
            "colorbar": {
             "outlinewidth": 0,
             "ticks": ""
            },
            "colorscale": [
             [
              0,
              "#0d0887"
             ],
             [
              0.1111111111111111,
              "#46039f"
             ],
             [
              0.2222222222222222,
              "#7201a8"
             ],
             [
              0.3333333333333333,
              "#9c179e"
             ],
             [
              0.4444444444444444,
              "#bd3786"
             ],
             [
              0.5555555555555556,
              "#d8576b"
             ],
             [
              0.6666666666666666,
              "#ed7953"
             ],
             [
              0.7777777777777778,
              "#fb9f3a"
             ],
             [
              0.8888888888888888,
              "#fdca26"
             ],
             [
              1,
              "#f0f921"
             ]
            ],
            "type": "contour"
           }
          ],
          "contourcarpet": [
           {
            "colorbar": {
             "outlinewidth": 0,
             "ticks": ""
            },
            "type": "contourcarpet"
           }
          ],
          "heatmap": [
           {
            "colorbar": {
             "outlinewidth": 0,
             "ticks": ""
            },
            "colorscale": [
             [
              0,
              "#0d0887"
             ],
             [
              0.1111111111111111,
              "#46039f"
             ],
             [
              0.2222222222222222,
              "#7201a8"
             ],
             [
              0.3333333333333333,
              "#9c179e"
             ],
             [
              0.4444444444444444,
              "#bd3786"
             ],
             [
              0.5555555555555556,
              "#d8576b"
             ],
             [
              0.6666666666666666,
              "#ed7953"
             ],
             [
              0.7777777777777778,
              "#fb9f3a"
             ],
             [
              0.8888888888888888,
              "#fdca26"
             ],
             [
              1,
              "#f0f921"
             ]
            ],
            "type": "heatmap"
           }
          ],
          "heatmapgl": [
           {
            "colorbar": {
             "outlinewidth": 0,
             "ticks": ""
            },
            "colorscale": [
             [
              0,
              "#0d0887"
             ],
             [
              0.1111111111111111,
              "#46039f"
             ],
             [
              0.2222222222222222,
              "#7201a8"
             ],
             [
              0.3333333333333333,
              "#9c179e"
             ],
             [
              0.4444444444444444,
              "#bd3786"
             ],
             [
              0.5555555555555556,
              "#d8576b"
             ],
             [
              0.6666666666666666,
              "#ed7953"
             ],
             [
              0.7777777777777778,
              "#fb9f3a"
             ],
             [
              0.8888888888888888,
              "#fdca26"
             ],
             [
              1,
              "#f0f921"
             ]
            ],
            "type": "heatmapgl"
           }
          ],
          "histogram": [
           {
            "marker": {
             "pattern": {
              "fillmode": "overlay",
              "size": 10,
              "solidity": 0.2
             }
            },
            "type": "histogram"
           }
          ],
          "histogram2d": [
           {
            "colorbar": {
             "outlinewidth": 0,
             "ticks": ""
            },
            "colorscale": [
             [
              0,
              "#0d0887"
             ],
             [
              0.1111111111111111,
              "#46039f"
             ],
             [
              0.2222222222222222,
              "#7201a8"
             ],
             [
              0.3333333333333333,
              "#9c179e"
             ],
             [
              0.4444444444444444,
              "#bd3786"
             ],
             [
              0.5555555555555556,
              "#d8576b"
             ],
             [
              0.6666666666666666,
              "#ed7953"
             ],
             [
              0.7777777777777778,
              "#fb9f3a"
             ],
             [
              0.8888888888888888,
              "#fdca26"
             ],
             [
              1,
              "#f0f921"
             ]
            ],
            "type": "histogram2d"
           }
          ],
          "histogram2dcontour": [
           {
            "colorbar": {
             "outlinewidth": 0,
             "ticks": ""
            },
            "colorscale": [
             [
              0,
              "#0d0887"
             ],
             [
              0.1111111111111111,
              "#46039f"
             ],
             [
              0.2222222222222222,
              "#7201a8"
             ],
             [
              0.3333333333333333,
              "#9c179e"
             ],
             [
              0.4444444444444444,
              "#bd3786"
             ],
             [
              0.5555555555555556,
              "#d8576b"
             ],
             [
              0.6666666666666666,
              "#ed7953"
             ],
             [
              0.7777777777777778,
              "#fb9f3a"
             ],
             [
              0.8888888888888888,
              "#fdca26"
             ],
             [
              1,
              "#f0f921"
             ]
            ],
            "type": "histogram2dcontour"
           }
          ],
          "mesh3d": [
           {
            "colorbar": {
             "outlinewidth": 0,
             "ticks": ""
            },
            "type": "mesh3d"
           }
          ],
          "parcoords": [
           {
            "line": {
             "colorbar": {
              "outlinewidth": 0,
              "ticks": ""
             }
            },
            "type": "parcoords"
           }
          ],
          "pie": [
           {
            "automargin": true,
            "type": "pie"
           }
          ],
          "scatter": [
           {
            "marker": {
             "colorbar": {
              "outlinewidth": 0,
              "ticks": ""
             }
            },
            "type": "scatter"
           }
          ],
          "scatter3d": [
           {
            "line": {
             "colorbar": {
              "outlinewidth": 0,
              "ticks": ""
             }
            },
            "marker": {
             "colorbar": {
              "outlinewidth": 0,
              "ticks": ""
             }
            },
            "type": "scatter3d"
           }
          ],
          "scattercarpet": [
           {
            "marker": {
             "colorbar": {
              "outlinewidth": 0,
              "ticks": ""
             }
            },
            "type": "scattercarpet"
           }
          ],
          "scattergeo": [
           {
            "marker": {
             "colorbar": {
              "outlinewidth": 0,
              "ticks": ""
             }
            },
            "type": "scattergeo"
           }
          ],
          "scattergl": [
           {
            "marker": {
             "colorbar": {
              "outlinewidth": 0,
              "ticks": ""
             }
            },
            "type": "scattergl"
           }
          ],
          "scattermapbox": [
           {
            "marker": {
             "colorbar": {
              "outlinewidth": 0,
              "ticks": ""
             }
            },
            "type": "scattermapbox"
           }
          ],
          "scatterpolar": [
           {
            "marker": {
             "colorbar": {
              "outlinewidth": 0,
              "ticks": ""
             }
            },
            "type": "scatterpolar"
           }
          ],
          "scatterpolargl": [
           {
            "marker": {
             "colorbar": {
              "outlinewidth": 0,
              "ticks": ""
             }
            },
            "type": "scatterpolargl"
           }
          ],
          "scatterternary": [
           {
            "marker": {
             "colorbar": {
              "outlinewidth": 0,
              "ticks": ""
             }
            },
            "type": "scatterternary"
           }
          ],
          "surface": [
           {
            "colorbar": {
             "outlinewidth": 0,
             "ticks": ""
            },
            "colorscale": [
             [
              0,
              "#0d0887"
             ],
             [
              0.1111111111111111,
              "#46039f"
             ],
             [
              0.2222222222222222,
              "#7201a8"
             ],
             [
              0.3333333333333333,
              "#9c179e"
             ],
             [
              0.4444444444444444,
              "#bd3786"
             ],
             [
              0.5555555555555556,
              "#d8576b"
             ],
             [
              0.6666666666666666,
              "#ed7953"
             ],
             [
              0.7777777777777778,
              "#fb9f3a"
             ],
             [
              0.8888888888888888,
              "#fdca26"
             ],
             [
              1,
              "#f0f921"
             ]
            ],
            "type": "surface"
           }
          ],
          "table": [
           {
            "cells": {
             "fill": {
              "color": "#EBF0F8"
             },
             "line": {
              "color": "white"
             }
            },
            "header": {
             "fill": {
              "color": "#C8D4E3"
             },
             "line": {
              "color": "white"
             }
            },
            "type": "table"
           }
          ]
         },
         "layout": {
          "annotationdefaults": {
           "arrowcolor": "#2a3f5f",
           "arrowhead": 0,
           "arrowwidth": 1
          },
          "autotypenumbers": "strict",
          "coloraxis": {
           "colorbar": {
            "outlinewidth": 0,
            "ticks": ""
           }
          },
          "colorscale": {
           "diverging": [
            [
             0,
             "#8e0152"
            ],
            [
             0.1,
             "#c51b7d"
            ],
            [
             0.2,
             "#de77ae"
            ],
            [
             0.3,
             "#f1b6da"
            ],
            [
             0.4,
             "#fde0ef"
            ],
            [
             0.5,
             "#f7f7f7"
            ],
            [
             0.6,
             "#e6f5d0"
            ],
            [
             0.7,
             "#b8e186"
            ],
            [
             0.8,
             "#7fbc41"
            ],
            [
             0.9,
             "#4d9221"
            ],
            [
             1,
             "#276419"
            ]
           ],
           "sequential": [
            [
             0,
             "#0d0887"
            ],
            [
             0.1111111111111111,
             "#46039f"
            ],
            [
             0.2222222222222222,
             "#7201a8"
            ],
            [
             0.3333333333333333,
             "#9c179e"
            ],
            [
             0.4444444444444444,
             "#bd3786"
            ],
            [
             0.5555555555555556,
             "#d8576b"
            ],
            [
             0.6666666666666666,
             "#ed7953"
            ],
            [
             0.7777777777777778,
             "#fb9f3a"
            ],
            [
             0.8888888888888888,
             "#fdca26"
            ],
            [
             1,
             "#f0f921"
            ]
           ],
           "sequentialminus": [
            [
             0,
             "#0d0887"
            ],
            [
             0.1111111111111111,
             "#46039f"
            ],
            [
             0.2222222222222222,
             "#7201a8"
            ],
            [
             0.3333333333333333,
             "#9c179e"
            ],
            [
             0.4444444444444444,
             "#bd3786"
            ],
            [
             0.5555555555555556,
             "#d8576b"
            ],
            [
             0.6666666666666666,
             "#ed7953"
            ],
            [
             0.7777777777777778,
             "#fb9f3a"
            ],
            [
             0.8888888888888888,
             "#fdca26"
            ],
            [
             1,
             "#f0f921"
            ]
           ]
          },
          "colorway": [
           "#636efa",
           "#EF553B",
           "#00cc96",
           "#ab63fa",
           "#FFA15A",
           "#19d3f3",
           "#FF6692",
           "#B6E880",
           "#FF97FF",
           "#FECB52"
          ],
          "font": {
           "color": "#2a3f5f"
          },
          "geo": {
           "bgcolor": "white",
           "lakecolor": "white",
           "landcolor": "#E5ECF6",
           "showlakes": true,
           "showland": true,
           "subunitcolor": "white"
          },
          "hoverlabel": {
           "align": "left"
          },
          "hovermode": "closest",
          "mapbox": {
           "style": "light"
          },
          "paper_bgcolor": "white",
          "plot_bgcolor": "#E5ECF6",
          "polar": {
           "angularaxis": {
            "gridcolor": "white",
            "linecolor": "white",
            "ticks": ""
           },
           "bgcolor": "#E5ECF6",
           "radialaxis": {
            "gridcolor": "white",
            "linecolor": "white",
            "ticks": ""
           }
          },
          "scene": {
           "xaxis": {
            "backgroundcolor": "#E5ECF6",
            "gridcolor": "white",
            "gridwidth": 2,
            "linecolor": "white",
            "showbackground": true,
            "ticks": "",
            "zerolinecolor": "white"
           },
           "yaxis": {
            "backgroundcolor": "#E5ECF6",
            "gridcolor": "white",
            "gridwidth": 2,
            "linecolor": "white",
            "showbackground": true,
            "ticks": "",
            "zerolinecolor": "white"
           },
           "zaxis": {
            "backgroundcolor": "#E5ECF6",
            "gridcolor": "white",
            "gridwidth": 2,
            "linecolor": "white",
            "showbackground": true,
            "ticks": "",
            "zerolinecolor": "white"
           }
          },
          "shapedefaults": {
           "line": {
            "color": "#2a3f5f"
           }
          },
          "ternary": {
           "aaxis": {
            "gridcolor": "white",
            "linecolor": "white",
            "ticks": ""
           },
           "baxis": {
            "gridcolor": "white",
            "linecolor": "white",
            "ticks": ""
           },
           "bgcolor": "#E5ECF6",
           "caxis": {
            "gridcolor": "white",
            "linecolor": "white",
            "ticks": ""
           }
          },
          "title": {
           "x": 0.05
          },
          "xaxis": {
           "automargin": true,
           "gridcolor": "white",
           "linecolor": "white",
           "ticks": "",
           "title": {
            "standoff": 15
           },
           "zerolinecolor": "white",
           "zerolinewidth": 2
          },
          "yaxis": {
           "automargin": true,
           "gridcolor": "white",
           "linecolor": "white",
           "ticks": "",
           "title": {
            "standoff": 15
           },
           "zerolinecolor": "white",
           "zerolinewidth": 2
          }
         }
        },
        "title": {
         "font": {
          "color": "#4D5663"
         }
        },
        "xaxis": {
         "gridcolor": "#E1E5ED",
         "showgrid": true,
         "tickfont": {
          "color": "#4D5663"
         },
         "title": {
          "font": {
           "color": "#4D5663"
          },
          "text": ""
         },
         "zerolinecolor": "#E1E5ED"
        },
        "yaxis": {
         "gridcolor": "#E1E5ED",
         "showgrid": true,
         "tickfont": {
          "color": "#4D5663"
         },
         "title": {
          "font": {
           "color": "#4D5663"
          },
          "text": ""
         },
         "zerolinecolor": "#E1E5ED"
        }
       }
      },
      "text/html": "<div>                            <div id=\"2ee66ac2-2517-4cf6-8cdc-6b694311a43b\" class=\"plotly-graph-div\" style=\"height:525px; width:100%;\"></div>            <script type=\"text/javascript\">                require([\"plotly\"], function(Plotly) {                    window.PLOTLYENV=window.PLOTLYENV || {};\n                    window.PLOTLYENV.BASE_URL='https://plot.ly';                                    if (document.getElementById(\"2ee66ac2-2517-4cf6-8cdc-6b694311a43b\")) {                    Plotly.newPlot(                        \"2ee66ac2-2517-4cf6-8cdc-6b694311a43b\",                        [{\"boxpoints\":false,\"line\":{\"width\":1.3},\"marker\":{\"color\":\"rgba(255, 153, 51, 1.0)\"},\"name\":\"A\",\"orientation\":\"v\",\"type\":\"box\",\"y\":[-0.25227118008665145,0.06172597997312884,-0.09007588736177649,0.9655665553973772,0.4854660192833101,0.26701802645320244,1.0923931195785344,1.6867856846022133,0.1055984372563579,1.4884028777300893,1.2544325383218051,-0.7041177662348228,-0.6119001641424259,0.18014447538600833,1.155263713036101,-0.3425063374551015,-1.067126111336395,-0.7221525466373608,0.7651090750646531,-1.004545495950125,-0.2637463201554845,0.9270246371655807,-0.5193031631501195,2.2167780068744793,0.3862748792441888,1.1991319730362835,-1.557404376140031,-0.14901869535222126,-1.0024020287011886,0.13131176544298556,0.264598537852816,1.5531042912324888,0.4723615756752949,1.2296567723864706,1.4838948908571272,-0.27145625647809307,1.221844725244573,0.01469204642486503,1.3665996903567188,1.5443386446287324,-1.025123286950699,0.9819935474844267,1.1611796816047524,0.6991418032344212,-0.09106560471621786,-0.28426957089284277,-0.4016892297490613,-0.7774782732898965,-1.7223561231552598,2.460641905242768,0.4815183047281549,0.035806349576061165,0.910594759012117,-2.111067286320529,0.4238597156449524,1.9696836406375793,1.2332022682950836,-0.36656460758235637,1.8230451716552216,0.06966636861757851,1.1458785678701724,1.7385076252864209,-0.7410792987434056,-1.03176211548569,-0.10499217997687547,0.8659742608682182,-1.5783493333238372,-0.3489892902332464,1.4205913357741387,0.3282768542802037,1.20624805647062,0.2784530549906407,-0.7660315306574534,-0.3624752352324765,0.16231001478679416,0.9015722306033053,-0.7315391441263145,0.12354605275732658,0.4762171976821261,-2.0282995125317,0.46788204967415586,-0.2701368232370625,-0.9321784813202924,1.1780347596600362,-0.11206602609647033,0.21176886719477322,-0.8424944426011093,-1.166873584439773,-0.26288821705556603,-1.1033996783872577,0.6627858300113253,-0.6656295927166045,1.1961132505894427,1.9949738834989803,0.07004738586976976,-0.7715662014536142,-0.4528018588980907,-1.25185572951221,0.7625147154525329,-0.6660630083136009]},{\"boxpoints\":false,\"line\":{\"width\":1.3},\"marker\":{\"color\":\"rgba(55, 128, 191, 1.0)\"},\"name\":\"B\",\"orientation\":\"v\",\"type\":\"box\",\"y\":[-0.24429798139803324,-0.08140072026070258,-0.3440352221324289,-2.3053151000556555,-0.6497290247349842,0.995013179423379,1.4482732817312591,-0.9725458639710425,-0.0466569137740196,-1.3294228665276946,-0.8247119481275208,0.27609613535962857,-0.09473417124123408,1.2352309586310322,-1.9737731840246349,1.61911094645423,-0.26661304242337575,-0.2883173900689931,-1.1166915254776921,-0.2944092679714753,-0.8519120009667719,1.5669506335703582,1.3055588979130333,1.2996456459533428,0.9298325077994817,0.5737059413597119,0.901327794240818,-0.6131682683010122,1.9757524385077965,0.02801892591066275,1.169958911979349,0.8337790525973593,-1.0860858018918167,2.127483822808999,-1.1224068626293964,0.14436058310809521,0.8523129002351462,-0.9339966382509564,-0.5246945159001554,1.7368746659269374,0.7841996410852168,0.24964765334285305,2.0156034157433926,1.0005055998758337,1.661505139907902,1.2799660531362713,0.7706834184475058,0.5369875645341228,-0.09155641558534112,-0.49511281408638624,1.5529183028908848,2.4609964757075518,1.1664358569786706,-2.0914361872843417,-0.6989200878865848,0.5066218678795223,-0.49718418195862507,-0.8960658802881825,0.7227373881394722,-0.13499945108069203,-0.8630493471228109,0.15196771672118464,-1.2069214985814378,0.8226934690856887,-0.71909089288083,0.45993752341927757,-0.034813632030634006,-0.28989428438974524,-1.8318618123062496,-1.221478771149326,-1.600010335978149,-0.7345603641391674,-0.15027775675031024,-1.3646714770060189,-0.7785787421800132,-0.9751390197139149,0.6132892263431378,-1.3768478976549485,-1.4490455174948522,-0.03822645435966252,0.31517972419972795,-0.8588798522560479,1.1898640603599298,-1.6626037943520315,0.2667829198371369,2.1921221149600263,0.29320163830816354,0.43158584935104316,-0.4676397959356081,-0.5065838296651279,0.6305038259893719,0.2450240269975526,0.2752188120259105,0.6218735185660969,-1.69428883235597,-0.1425658102952103,-0.38355665675155454,-0.2571761083843813,-0.571611317316897,-0.9584551972239918]},{\"boxpoints\":false,\"line\":{\"width\":1.3},\"marker\":{\"color\":\"rgba(50, 171, 96, 1.0)\"},\"name\":\"C\",\"orientation\":\"v\",\"type\":\"box\",\"y\":[1.2351224845344935,-0.38669785570242604,-2.0011962318993453,0.04116458951516984,-2.09722903349474,-0.28032324451393703,-1.472950341135185,0.6114744607840525,-0.43117860125878604,0.4606296236813941,-1.4495540904678994,-1.8957680454010697,-0.11290971315892948,0.7234316529374472,0.9413183842924042,-0.5137523462209654,-1.1423370502459385,0.23001828325840296,-0.7426076875528073,0.3760412643606102,0.21063017660062394,2.247217455951604,0.6975429161270316,1.342722266728234,1.3515213148127823,1.6892878099370587,-0.888827307303063,0.32297016807173135,0.5897513548602424,-0.7838460590770665,-0.21301277447107383,0.08069855359882595,0.17874768625456458,0.7181907811171023,0.6608543626555075,1.5868423598738286,-1.29289455032478,-1.0481060502192365,-0.7555287029548189,-0.4002005968895799,0.6442888936212734,0.5098534474640429,0.10481736334959846,1.6750834771798557,1.013568237425307,0.3105576641026045,-0.944906938052571,-0.725069921520946,0.5420141780202964,-0.359414820187637,-0.2689747476153853,-0.572906789700986,-1.097647061212322,-1.6047584912724986,-0.3712938081317608,0.633753918553161,1.4439566140849132,0.11952563318730945,-0.9085176840006997,1.7156401840521192,-0.6648845085682261,-0.3310236656211434,-0.2587809104334033,0.17772915462571165,1.39071011340516,1.6011706192351332,-0.2672962900711946,-0.0029242455426668227,-2.44327057061105,0.31030687845889543,-1.7500243910283217,-1.178351008552562,-0.41867244872730824,0.05886464051794897,-0.1698502902804518,0.9919412863914042,-2.285050248051403,-0.5139587648731763,1.2109801105938256,-0.4197300329111014,-2.319493600418936,-1.4744456583474723,0.7891309681663189,-0.26154628626111515,0.6575503750283542,-0.5358549396888171,0.8671677733021019,-0.554645876720916,-1.4653449386069937,-1.2123031376582982,0.16561904168799216,-1.2293903181090093,1.042927914738034,1.9003904456760932,0.19864835028272926,0.3026402942278122,0.7699164934511995,0.53041906286024,-1.434147311412444,0.5568780840044606]},{\"boxpoints\":false,\"line\":{\"width\":1.3},\"marker\":{\"color\":\"rgba(128, 0, 128, 1.0)\"},\"name\":\"D\",\"orientation\":\"v\",\"type\":\"box\",\"y\":[0.14732054436157588,-0.10016409969461607,-0.19853875024356474,0.1850679369234906,-0.07318226785197171,-0.8269943020767107,0.06505588662622032,-1.942691625809125,-0.4536076219495638,0.6572374031953897,-0.6652868237332036,0.11043148047080958,-0.019587584405579422,-0.7482707881992258,-1.2988682280280754,0.38621519604522314,-1.696404193406195,-0.3429186785322637,0.09279042937172309,-0.8063559082110902,0.7551055679237417,0.7869716093538546,1.4897661151575377,-0.8476304516840218,-0.9183721974615116,0.9860168544542203,0.40401118797691415,-0.8354349934311642,0.013125381519689614,0.05835298386757851,0.01912873321815849,-0.36612674935060724,0.7103671274554275,0.9966137970779217,-0.12432651280157953,0.2549968513299937,1.8862718160515375,1.3558612042392981,0.6093905381111977,-0.9061719545195042,0.7711898370854324,-1.095951761102537,0.13348196976153492,0.9039699635821302,-0.3517848783858705,-0.6331003822846138,-0.4667940221111615,0.780454011601283,-0.07297727067912188,-0.6653273203052653,1.5538029630201264,0.29688351635133814,0.19052116589596443,0.8778995158352625,-1.5922439115592986,-1.1579696051963828,0.56294450486414,-1.3601680416927817,-0.6337829815066541,0.6365968998404121,0.08974500010512594,0.06728786790245704,-0.5680241487267365,1.0250648322407485,-0.5757506256019281,-0.6718655107659853,-0.2410840766133584,0.34116939469619667,-0.20603144163430348,-0.27456229446142555,-2.3230121903835736,0.8629439039881185,0.1513111118912714,-0.2432729276020875,-0.2522990196379048,1.2011552889075532,0.8743023640764342,0.2439043012493187,-1.6101601185619678,-0.07991728172782873,-0.9092689428157388,1.6862372884389945,-0.9418538634870914,-1.1384561395310642,-2.0194627370098406,1.8485355450809546,0.4903854406052378,-0.395778586981528,-0.5610001541216844,1.2667544216609101,1.2451239599125243,0.31712089159970824,1.3461438978582148,0.32589285964725956,0.7696204882117698,-1.9426326459418741,-0.23961594598989663,1.7119656381810588,0.5012605925697431,2.150903549226858]}],                        {\"legend\":{\"bgcolor\":\"#F5F6F9\",\"font\":{\"color\":\"#4D5663\"}},\"paper_bgcolor\":\"#F5F6F9\",\"plot_bgcolor\":\"#F5F6F9\",\"template\":{\"data\":{\"bar\":[{\"error_x\":{\"color\":\"#2a3f5f\"},\"error_y\":{\"color\":\"#2a3f5f\"},\"marker\":{\"line\":{\"color\":\"#E5ECF6\",\"width\":0.5},\"pattern\":{\"fillmode\":\"overlay\",\"size\":10,\"solidity\":0.2}},\"type\":\"bar\"}],\"barpolar\":[{\"marker\":{\"line\":{\"color\":\"#E5ECF6\",\"width\":0.5},\"pattern\":{\"fillmode\":\"overlay\",\"size\":10,\"solidity\":0.2}},\"type\":\"barpolar\"}],\"carpet\":[{\"aaxis\":{\"endlinecolor\":\"#2a3f5f\",\"gridcolor\":\"white\",\"linecolor\":\"white\",\"minorgridcolor\":\"white\",\"startlinecolor\":\"#2a3f5f\"},\"baxis\":{\"endlinecolor\":\"#2a3f5f\",\"gridcolor\":\"white\",\"linecolor\":\"white\",\"minorgridcolor\":\"white\",\"startlinecolor\":\"#2a3f5f\"},\"type\":\"carpet\"}],\"choropleth\":[{\"colorbar\":{\"outlinewidth\":0,\"ticks\":\"\"},\"type\":\"choropleth\"}],\"contour\":[{\"colorbar\":{\"outlinewidth\":0,\"ticks\":\"\"},\"colorscale\":[[0.0,\"#0d0887\"],[0.1111111111111111,\"#46039f\"],[0.2222222222222222,\"#7201a8\"],[0.3333333333333333,\"#9c179e\"],[0.4444444444444444,\"#bd3786\"],[0.5555555555555556,\"#d8576b\"],[0.6666666666666666,\"#ed7953\"],[0.7777777777777778,\"#fb9f3a\"],[0.8888888888888888,\"#fdca26\"],[1.0,\"#f0f921\"]],\"type\":\"contour\"}],\"contourcarpet\":[{\"colorbar\":{\"outlinewidth\":0,\"ticks\":\"\"},\"type\":\"contourcarpet\"}],\"heatmap\":[{\"colorbar\":{\"outlinewidth\":0,\"ticks\":\"\"},\"colorscale\":[[0.0,\"#0d0887\"],[0.1111111111111111,\"#46039f\"],[0.2222222222222222,\"#7201a8\"],[0.3333333333333333,\"#9c179e\"],[0.4444444444444444,\"#bd3786\"],[0.5555555555555556,\"#d8576b\"],[0.6666666666666666,\"#ed7953\"],[0.7777777777777778,\"#fb9f3a\"],[0.8888888888888888,\"#fdca26\"],[1.0,\"#f0f921\"]],\"type\":\"heatmap\"}],\"heatmapgl\":[{\"colorbar\":{\"outlinewidth\":0,\"ticks\":\"\"},\"colorscale\":[[0.0,\"#0d0887\"],[0.1111111111111111,\"#46039f\"],[0.2222222222222222,\"#7201a8\"],[0.3333333333333333,\"#9c179e\"],[0.4444444444444444,\"#bd3786\"],[0.5555555555555556,\"#d8576b\"],[0.6666666666666666,\"#ed7953\"],[0.7777777777777778,\"#fb9f3a\"],[0.8888888888888888,\"#fdca26\"],[1.0,\"#f0f921\"]],\"type\":\"heatmapgl\"}],\"histogram\":[{\"marker\":{\"pattern\":{\"fillmode\":\"overlay\",\"size\":10,\"solidity\":0.2}},\"type\":\"histogram\"}],\"histogram2d\":[{\"colorbar\":{\"outlinewidth\":0,\"ticks\":\"\"},\"colorscale\":[[0.0,\"#0d0887\"],[0.1111111111111111,\"#46039f\"],[0.2222222222222222,\"#7201a8\"],[0.3333333333333333,\"#9c179e\"],[0.4444444444444444,\"#bd3786\"],[0.5555555555555556,\"#d8576b\"],[0.6666666666666666,\"#ed7953\"],[0.7777777777777778,\"#fb9f3a\"],[0.8888888888888888,\"#fdca26\"],[1.0,\"#f0f921\"]],\"type\":\"histogram2d\"}],\"histogram2dcontour\":[{\"colorbar\":{\"outlinewidth\":0,\"ticks\":\"\"},\"colorscale\":[[0.0,\"#0d0887\"],[0.1111111111111111,\"#46039f\"],[0.2222222222222222,\"#7201a8\"],[0.3333333333333333,\"#9c179e\"],[0.4444444444444444,\"#bd3786\"],[0.5555555555555556,\"#d8576b\"],[0.6666666666666666,\"#ed7953\"],[0.7777777777777778,\"#fb9f3a\"],[0.8888888888888888,\"#fdca26\"],[1.0,\"#f0f921\"]],\"type\":\"histogram2dcontour\"}],\"mesh3d\":[{\"colorbar\":{\"outlinewidth\":0,\"ticks\":\"\"},\"type\":\"mesh3d\"}],\"parcoords\":[{\"line\":{\"colorbar\":{\"outlinewidth\":0,\"ticks\":\"\"}},\"type\":\"parcoords\"}],\"pie\":[{\"automargin\":true,\"type\":\"pie\"}],\"scatter\":[{\"marker\":{\"colorbar\":{\"outlinewidth\":0,\"ticks\":\"\"}},\"type\":\"scatter\"}],\"scatter3d\":[{\"line\":{\"colorbar\":{\"outlinewidth\":0,\"ticks\":\"\"}},\"marker\":{\"colorbar\":{\"outlinewidth\":0,\"ticks\":\"\"}},\"type\":\"scatter3d\"}],\"scattercarpet\":[{\"marker\":{\"colorbar\":{\"outlinewidth\":0,\"ticks\":\"\"}},\"type\":\"scattercarpet\"}],\"scattergeo\":[{\"marker\":{\"colorbar\":{\"outlinewidth\":0,\"ticks\":\"\"}},\"type\":\"scattergeo\"}],\"scattergl\":[{\"marker\":{\"colorbar\":{\"outlinewidth\":0,\"ticks\":\"\"}},\"type\":\"scattergl\"}],\"scattermapbox\":[{\"marker\":{\"colorbar\":{\"outlinewidth\":0,\"ticks\":\"\"}},\"type\":\"scattermapbox\"}],\"scatterpolar\":[{\"marker\":{\"colorbar\":{\"outlinewidth\":0,\"ticks\":\"\"}},\"type\":\"scatterpolar\"}],\"scatterpolargl\":[{\"marker\":{\"colorbar\":{\"outlinewidth\":0,\"ticks\":\"\"}},\"type\":\"scatterpolargl\"}],\"scatterternary\":[{\"marker\":{\"colorbar\":{\"outlinewidth\":0,\"ticks\":\"\"}},\"type\":\"scatterternary\"}],\"surface\":[{\"colorbar\":{\"outlinewidth\":0,\"ticks\":\"\"},\"colorscale\":[[0.0,\"#0d0887\"],[0.1111111111111111,\"#46039f\"],[0.2222222222222222,\"#7201a8\"],[0.3333333333333333,\"#9c179e\"],[0.4444444444444444,\"#bd3786\"],[0.5555555555555556,\"#d8576b\"],[0.6666666666666666,\"#ed7953\"],[0.7777777777777778,\"#fb9f3a\"],[0.8888888888888888,\"#fdca26\"],[1.0,\"#f0f921\"]],\"type\":\"surface\"}],\"table\":[{\"cells\":{\"fill\":{\"color\":\"#EBF0F8\"},\"line\":{\"color\":\"white\"}},\"header\":{\"fill\":{\"color\":\"#C8D4E3\"},\"line\":{\"color\":\"white\"}},\"type\":\"table\"}]},\"layout\":{\"annotationdefaults\":{\"arrowcolor\":\"#2a3f5f\",\"arrowhead\":0,\"arrowwidth\":1},\"autotypenumbers\":\"strict\",\"coloraxis\":{\"colorbar\":{\"outlinewidth\":0,\"ticks\":\"\"}},\"colorscale\":{\"diverging\":[[0,\"#8e0152\"],[0.1,\"#c51b7d\"],[0.2,\"#de77ae\"],[0.3,\"#f1b6da\"],[0.4,\"#fde0ef\"],[0.5,\"#f7f7f7\"],[0.6,\"#e6f5d0\"],[0.7,\"#b8e186\"],[0.8,\"#7fbc41\"],[0.9,\"#4d9221\"],[1,\"#276419\"]],\"sequential\":[[0.0,\"#0d0887\"],[0.1111111111111111,\"#46039f\"],[0.2222222222222222,\"#7201a8\"],[0.3333333333333333,\"#9c179e\"],[0.4444444444444444,\"#bd3786\"],[0.5555555555555556,\"#d8576b\"],[0.6666666666666666,\"#ed7953\"],[0.7777777777777778,\"#fb9f3a\"],[0.8888888888888888,\"#fdca26\"],[1.0,\"#f0f921\"]],\"sequentialminus\":[[0.0,\"#0d0887\"],[0.1111111111111111,\"#46039f\"],[0.2222222222222222,\"#7201a8\"],[0.3333333333333333,\"#9c179e\"],[0.4444444444444444,\"#bd3786\"],[0.5555555555555556,\"#d8576b\"],[0.6666666666666666,\"#ed7953\"],[0.7777777777777778,\"#fb9f3a\"],[0.8888888888888888,\"#fdca26\"],[1.0,\"#f0f921\"]]},\"colorway\":[\"#636efa\",\"#EF553B\",\"#00cc96\",\"#ab63fa\",\"#FFA15A\",\"#19d3f3\",\"#FF6692\",\"#B6E880\",\"#FF97FF\",\"#FECB52\"],\"font\":{\"color\":\"#2a3f5f\"},\"geo\":{\"bgcolor\":\"white\",\"lakecolor\":\"white\",\"landcolor\":\"#E5ECF6\",\"showlakes\":true,\"showland\":true,\"subunitcolor\":\"white\"},\"hoverlabel\":{\"align\":\"left\"},\"hovermode\":\"closest\",\"mapbox\":{\"style\":\"light\"},\"paper_bgcolor\":\"white\",\"plot_bgcolor\":\"#E5ECF6\",\"polar\":{\"angularaxis\":{\"gridcolor\":\"white\",\"linecolor\":\"white\",\"ticks\":\"\"},\"bgcolor\":\"#E5ECF6\",\"radialaxis\":{\"gridcolor\":\"white\",\"linecolor\":\"white\",\"ticks\":\"\"}},\"scene\":{\"xaxis\":{\"backgroundcolor\":\"#E5ECF6\",\"gridcolor\":\"white\",\"gridwidth\":2,\"linecolor\":\"white\",\"showbackground\":true,\"ticks\":\"\",\"zerolinecolor\":\"white\"},\"yaxis\":{\"backgroundcolor\":\"#E5ECF6\",\"gridcolor\":\"white\",\"gridwidth\":2,\"linecolor\":\"white\",\"showbackground\":true,\"ticks\":\"\",\"zerolinecolor\":\"white\"},\"zaxis\":{\"backgroundcolor\":\"#E5ECF6\",\"gridcolor\":\"white\",\"gridwidth\":2,\"linecolor\":\"white\",\"showbackground\":true,\"ticks\":\"\",\"zerolinecolor\":\"white\"}},\"shapedefaults\":{\"line\":{\"color\":\"#2a3f5f\"}},\"ternary\":{\"aaxis\":{\"gridcolor\":\"white\",\"linecolor\":\"white\",\"ticks\":\"\"},\"baxis\":{\"gridcolor\":\"white\",\"linecolor\":\"white\",\"ticks\":\"\"},\"bgcolor\":\"#E5ECF6\",\"caxis\":{\"gridcolor\":\"white\",\"linecolor\":\"white\",\"ticks\":\"\"}},\"title\":{\"x\":0.05},\"xaxis\":{\"automargin\":true,\"gridcolor\":\"white\",\"linecolor\":\"white\",\"ticks\":\"\",\"title\":{\"standoff\":15},\"zerolinecolor\":\"white\",\"zerolinewidth\":2},\"yaxis\":{\"automargin\":true,\"gridcolor\":\"white\",\"linecolor\":\"white\",\"ticks\":\"\",\"title\":{\"standoff\":15},\"zerolinecolor\":\"white\",\"zerolinewidth\":2}}},\"title\":{\"font\":{\"color\":\"#4D5663\"}},\"xaxis\":{\"gridcolor\":\"#E1E5ED\",\"showgrid\":true,\"tickfont\":{\"color\":\"#4D5663\"},\"title\":{\"font\":{\"color\":\"#4D5663\"},\"text\":\"\"},\"zerolinecolor\":\"#E1E5ED\"},\"yaxis\":{\"gridcolor\":\"#E1E5ED\",\"showgrid\":true,\"tickfont\":{\"color\":\"#4D5663\"},\"title\":{\"font\":{\"color\":\"#4D5663\"},\"text\":\"\"},\"zerolinecolor\":\"#E1E5ED\"}},                        {\"showLink\": true, \"linkText\": \"Export to plot.ly\", \"plotlyServerURL\": \"https://plot.ly\", \"responsive\": true}                    ).then(function(){\n                            \nvar gd = document.getElementById('2ee66ac2-2517-4cf6-8cdc-6b694311a43b');\nvar x = new MutationObserver(function (mutations, observer) {{\n        var display = window.getComputedStyle(gd).display;\n        if (!display || display === 'none') {{\n            console.log([gd, 'removed!']);\n            Plotly.purge(gd);\n            observer.disconnect();\n        }}\n}});\n\n// Listen for the removal of the full notebook cells\nvar notebookContainer = gd.closest('#notebook-container');\nif (notebookContainer) {{\n    x.observe(notebookContainer, {childList: true});\n}}\n\n// Listen for the clearing of the current output cell\nvar outputEl = gd.closest('.output');\nif (outputEl) {{\n    x.observe(outputEl, {childList: true});\n}}\n\n                        })                };                });            </script>        </div>"
     },
     "metadata": {}
    }
   ],
   "source": [
    "df.iplot(kind='box')"
   ]
  },
  {
   "cell_type": "markdown",
   "metadata": {},
   "source": [
    "## 3d Surface"
   ]
  },
  {
   "cell_type": "code",
   "execution_count": 15,
   "metadata": {
    "collapsed": false
   },
   "outputs": [
    {
     "output_type": "display_data",
     "data": {
      "application/vnd.plotly.v1+json": {
       "config": {
        "linkText": "Export to plot.ly",
        "plotlyServerURL": "https://plot.ly",
        "showLink": true
       },
       "data": [
        {
         "colorscale": [
          [
           0,
           "rgb(165,0,38)"
          ],
          [
           0.1,
           "rgb(215,48,39)"
          ],
          [
           0.2,
           "rgb(244,109,67)"
          ],
          [
           0.3,
           "rgb(253,174,97)"
          ],
          [
           0.4,
           "rgb(254,224,144)"
          ],
          [
           0.5,
           "rgb(255,255,191)"
          ],
          [
           0.6,
           "rgb(224,243,248)"
          ],
          [
           0.7,
           "rgb(171,217,233)"
          ],
          [
           0.8,
           "rgb(116,173,209)"
          ],
          [
           0.9,
           "rgb(69,117,180)"
          ],
          [
           1,
           "rgb(49,54,149)"
          ]
         ],
         "type": "surface",
         "x": [
          0,
          1,
          2,
          3,
          4
         ],
         "y": [
          "x",
          "y",
          "z"
         ],
         "z": [
          [
           1,
           2,
           3,
           4,
           5
          ],
          [
           10,
           20,
           30,
           20,
           10
          ],
          [
           5,
           4,
           3,
           2,
           1
          ]
         ]
        }
       ],
       "layout": {
        "legend": {
         "bgcolor": "#F5F6F9",
         "font": {
          "color": "#4D5663"
         }
        },
        "paper_bgcolor": "#F5F6F9",
        "plot_bgcolor": "#F5F6F9",
        "template": {
         "data": {
          "bar": [
           {
            "error_x": {
             "color": "#2a3f5f"
            },
            "error_y": {
             "color": "#2a3f5f"
            },
            "marker": {
             "line": {
              "color": "#E5ECF6",
              "width": 0.5
             },
             "pattern": {
              "fillmode": "overlay",
              "size": 10,
              "solidity": 0.2
             }
            },
            "type": "bar"
           }
          ],
          "barpolar": [
           {
            "marker": {
             "line": {
              "color": "#E5ECF6",
              "width": 0.5
             },
             "pattern": {
              "fillmode": "overlay",
              "size": 10,
              "solidity": 0.2
             }
            },
            "type": "barpolar"
           }
          ],
          "carpet": [
           {
            "aaxis": {
             "endlinecolor": "#2a3f5f",
             "gridcolor": "white",
             "linecolor": "white",
             "minorgridcolor": "white",
             "startlinecolor": "#2a3f5f"
            },
            "baxis": {
             "endlinecolor": "#2a3f5f",
             "gridcolor": "white",
             "linecolor": "white",
             "minorgridcolor": "white",
             "startlinecolor": "#2a3f5f"
            },
            "type": "carpet"
           }
          ],
          "choropleth": [
           {
            "colorbar": {
             "outlinewidth": 0,
             "ticks": ""
            },
            "type": "choropleth"
           }
          ],
          "contour": [
           {
            "colorbar": {
             "outlinewidth": 0,
             "ticks": ""
            },
            "colorscale": [
             [
              0,
              "#0d0887"
             ],
             [
              0.1111111111111111,
              "#46039f"
             ],
             [
              0.2222222222222222,
              "#7201a8"
             ],
             [
              0.3333333333333333,
              "#9c179e"
             ],
             [
              0.4444444444444444,
              "#bd3786"
             ],
             [
              0.5555555555555556,
              "#d8576b"
             ],
             [
              0.6666666666666666,
              "#ed7953"
             ],
             [
              0.7777777777777778,
              "#fb9f3a"
             ],
             [
              0.8888888888888888,
              "#fdca26"
             ],
             [
              1,
              "#f0f921"
             ]
            ],
            "type": "contour"
           }
          ],
          "contourcarpet": [
           {
            "colorbar": {
             "outlinewidth": 0,
             "ticks": ""
            },
            "type": "contourcarpet"
           }
          ],
          "heatmap": [
           {
            "colorbar": {
             "outlinewidth": 0,
             "ticks": ""
            },
            "colorscale": [
             [
              0,
              "#0d0887"
             ],
             [
              0.1111111111111111,
              "#46039f"
             ],
             [
              0.2222222222222222,
              "#7201a8"
             ],
             [
              0.3333333333333333,
              "#9c179e"
             ],
             [
              0.4444444444444444,
              "#bd3786"
             ],
             [
              0.5555555555555556,
              "#d8576b"
             ],
             [
              0.6666666666666666,
              "#ed7953"
             ],
             [
              0.7777777777777778,
              "#fb9f3a"
             ],
             [
              0.8888888888888888,
              "#fdca26"
             ],
             [
              1,
              "#f0f921"
             ]
            ],
            "type": "heatmap"
           }
          ],
          "heatmapgl": [
           {
            "colorbar": {
             "outlinewidth": 0,
             "ticks": ""
            },
            "colorscale": [
             [
              0,
              "#0d0887"
             ],
             [
              0.1111111111111111,
              "#46039f"
             ],
             [
              0.2222222222222222,
              "#7201a8"
             ],
             [
              0.3333333333333333,
              "#9c179e"
             ],
             [
              0.4444444444444444,
              "#bd3786"
             ],
             [
              0.5555555555555556,
              "#d8576b"
             ],
             [
              0.6666666666666666,
              "#ed7953"
             ],
             [
              0.7777777777777778,
              "#fb9f3a"
             ],
             [
              0.8888888888888888,
              "#fdca26"
             ],
             [
              1,
              "#f0f921"
             ]
            ],
            "type": "heatmapgl"
           }
          ],
          "histogram": [
           {
            "marker": {
             "pattern": {
              "fillmode": "overlay",
              "size": 10,
              "solidity": 0.2
             }
            },
            "type": "histogram"
           }
          ],
          "histogram2d": [
           {
            "colorbar": {
             "outlinewidth": 0,
             "ticks": ""
            },
            "colorscale": [
             [
              0,
              "#0d0887"
             ],
             [
              0.1111111111111111,
              "#46039f"
             ],
             [
              0.2222222222222222,
              "#7201a8"
             ],
             [
              0.3333333333333333,
              "#9c179e"
             ],
             [
              0.4444444444444444,
              "#bd3786"
             ],
             [
              0.5555555555555556,
              "#d8576b"
             ],
             [
              0.6666666666666666,
              "#ed7953"
             ],
             [
              0.7777777777777778,
              "#fb9f3a"
             ],
             [
              0.8888888888888888,
              "#fdca26"
             ],
             [
              1,
              "#f0f921"
             ]
            ],
            "type": "histogram2d"
           }
          ],
          "histogram2dcontour": [
           {
            "colorbar": {
             "outlinewidth": 0,
             "ticks": ""
            },
            "colorscale": [
             [
              0,
              "#0d0887"
             ],
             [
              0.1111111111111111,
              "#46039f"
             ],
             [
              0.2222222222222222,
              "#7201a8"
             ],
             [
              0.3333333333333333,
              "#9c179e"
             ],
             [
              0.4444444444444444,
              "#bd3786"
             ],
             [
              0.5555555555555556,
              "#d8576b"
             ],
             [
              0.6666666666666666,
              "#ed7953"
             ],
             [
              0.7777777777777778,
              "#fb9f3a"
             ],
             [
              0.8888888888888888,
              "#fdca26"
             ],
             [
              1,
              "#f0f921"
             ]
            ],
            "type": "histogram2dcontour"
           }
          ],
          "mesh3d": [
           {
            "colorbar": {
             "outlinewidth": 0,
             "ticks": ""
            },
            "type": "mesh3d"
           }
          ],
          "parcoords": [
           {
            "line": {
             "colorbar": {
              "outlinewidth": 0,
              "ticks": ""
             }
            },
            "type": "parcoords"
           }
          ],
          "pie": [
           {
            "automargin": true,
            "type": "pie"
           }
          ],
          "scatter": [
           {
            "marker": {
             "colorbar": {
              "outlinewidth": 0,
              "ticks": ""
             }
            },
            "type": "scatter"
           }
          ],
          "scatter3d": [
           {
            "line": {
             "colorbar": {
              "outlinewidth": 0,
              "ticks": ""
             }
            },
            "marker": {
             "colorbar": {
              "outlinewidth": 0,
              "ticks": ""
             }
            },
            "type": "scatter3d"
           }
          ],
          "scattercarpet": [
           {
            "marker": {
             "colorbar": {
              "outlinewidth": 0,
              "ticks": ""
             }
            },
            "type": "scattercarpet"
           }
          ],
          "scattergeo": [
           {
            "marker": {
             "colorbar": {
              "outlinewidth": 0,
              "ticks": ""
             }
            },
            "type": "scattergeo"
           }
          ],
          "scattergl": [
           {
            "marker": {
             "colorbar": {
              "outlinewidth": 0,
              "ticks": ""
             }
            },
            "type": "scattergl"
           }
          ],
          "scattermapbox": [
           {
            "marker": {
             "colorbar": {
              "outlinewidth": 0,
              "ticks": ""
             }
            },
            "type": "scattermapbox"
           }
          ],
          "scatterpolar": [
           {
            "marker": {
             "colorbar": {
              "outlinewidth": 0,
              "ticks": ""
             }
            },
            "type": "scatterpolar"
           }
          ],
          "scatterpolargl": [
           {
            "marker": {
             "colorbar": {
              "outlinewidth": 0,
              "ticks": ""
             }
            },
            "type": "scatterpolargl"
           }
          ],
          "scatterternary": [
           {
            "marker": {
             "colorbar": {
              "outlinewidth": 0,
              "ticks": ""
             }
            },
            "type": "scatterternary"
           }
          ],
          "surface": [
           {
            "colorbar": {
             "outlinewidth": 0,
             "ticks": ""
            },
            "colorscale": [
             [
              0,
              "#0d0887"
             ],
             [
              0.1111111111111111,
              "#46039f"
             ],
             [
              0.2222222222222222,
              "#7201a8"
             ],
             [
              0.3333333333333333,
              "#9c179e"
             ],
             [
              0.4444444444444444,
              "#bd3786"
             ],
             [
              0.5555555555555556,
              "#d8576b"
             ],
             [
              0.6666666666666666,
              "#ed7953"
             ],
             [
              0.7777777777777778,
              "#fb9f3a"
             ],
             [
              0.8888888888888888,
              "#fdca26"
             ],
             [
              1,
              "#f0f921"
             ]
            ],
            "type": "surface"
           }
          ],
          "table": [
           {
            "cells": {
             "fill": {
              "color": "#EBF0F8"
             },
             "line": {
              "color": "white"
             }
            },
            "header": {
             "fill": {
              "color": "#C8D4E3"
             },
             "line": {
              "color": "white"
             }
            },
            "type": "table"
           }
          ]
         },
         "layout": {
          "annotationdefaults": {
           "arrowcolor": "#2a3f5f",
           "arrowhead": 0,
           "arrowwidth": 1
          },
          "autotypenumbers": "strict",
          "coloraxis": {
           "colorbar": {
            "outlinewidth": 0,
            "ticks": ""
           }
          },
          "colorscale": {
           "diverging": [
            [
             0,
             "#8e0152"
            ],
            [
             0.1,
             "#c51b7d"
            ],
            [
             0.2,
             "#de77ae"
            ],
            [
             0.3,
             "#f1b6da"
            ],
            [
             0.4,
             "#fde0ef"
            ],
            [
             0.5,
             "#f7f7f7"
            ],
            [
             0.6,
             "#e6f5d0"
            ],
            [
             0.7,
             "#b8e186"
            ],
            [
             0.8,
             "#7fbc41"
            ],
            [
             0.9,
             "#4d9221"
            ],
            [
             1,
             "#276419"
            ]
           ],
           "sequential": [
            [
             0,
             "#0d0887"
            ],
            [
             0.1111111111111111,
             "#46039f"
            ],
            [
             0.2222222222222222,
             "#7201a8"
            ],
            [
             0.3333333333333333,
             "#9c179e"
            ],
            [
             0.4444444444444444,
             "#bd3786"
            ],
            [
             0.5555555555555556,
             "#d8576b"
            ],
            [
             0.6666666666666666,
             "#ed7953"
            ],
            [
             0.7777777777777778,
             "#fb9f3a"
            ],
            [
             0.8888888888888888,
             "#fdca26"
            ],
            [
             1,
             "#f0f921"
            ]
           ],
           "sequentialminus": [
            [
             0,
             "#0d0887"
            ],
            [
             0.1111111111111111,
             "#46039f"
            ],
            [
             0.2222222222222222,
             "#7201a8"
            ],
            [
             0.3333333333333333,
             "#9c179e"
            ],
            [
             0.4444444444444444,
             "#bd3786"
            ],
            [
             0.5555555555555556,
             "#d8576b"
            ],
            [
             0.6666666666666666,
             "#ed7953"
            ],
            [
             0.7777777777777778,
             "#fb9f3a"
            ],
            [
             0.8888888888888888,
             "#fdca26"
            ],
            [
             1,
             "#f0f921"
            ]
           ]
          },
          "colorway": [
           "#636efa",
           "#EF553B",
           "#00cc96",
           "#ab63fa",
           "#FFA15A",
           "#19d3f3",
           "#FF6692",
           "#B6E880",
           "#FF97FF",
           "#FECB52"
          ],
          "font": {
           "color": "#2a3f5f"
          },
          "geo": {
           "bgcolor": "white",
           "lakecolor": "white",
           "landcolor": "#E5ECF6",
           "showlakes": true,
           "showland": true,
           "subunitcolor": "white"
          },
          "hoverlabel": {
           "align": "left"
          },
          "hovermode": "closest",
          "mapbox": {
           "style": "light"
          },
          "paper_bgcolor": "white",
          "plot_bgcolor": "#E5ECF6",
          "polar": {
           "angularaxis": {
            "gridcolor": "white",
            "linecolor": "white",
            "ticks": ""
           },
           "bgcolor": "#E5ECF6",
           "radialaxis": {
            "gridcolor": "white",
            "linecolor": "white",
            "ticks": ""
           }
          },
          "scene": {
           "xaxis": {
            "backgroundcolor": "#E5ECF6",
            "gridcolor": "white",
            "gridwidth": 2,
            "linecolor": "white",
            "showbackground": true,
            "ticks": "",
            "zerolinecolor": "white"
           },
           "yaxis": {
            "backgroundcolor": "#E5ECF6",
            "gridcolor": "white",
            "gridwidth": 2,
            "linecolor": "white",
            "showbackground": true,
            "ticks": "",
            "zerolinecolor": "white"
           },
           "zaxis": {
            "backgroundcolor": "#E5ECF6",
            "gridcolor": "white",
            "gridwidth": 2,
            "linecolor": "white",
            "showbackground": true,
            "ticks": "",
            "zerolinecolor": "white"
           }
          },
          "shapedefaults": {
           "line": {
            "color": "#2a3f5f"
           }
          },
          "ternary": {
           "aaxis": {
            "gridcolor": "white",
            "linecolor": "white",
            "ticks": ""
           },
           "baxis": {
            "gridcolor": "white",
            "linecolor": "white",
            "ticks": ""
           },
           "bgcolor": "#E5ECF6",
           "caxis": {
            "gridcolor": "white",
            "linecolor": "white",
            "ticks": ""
           }
          },
          "title": {
           "x": 0.05
          },
          "xaxis": {
           "automargin": true,
           "gridcolor": "white",
           "linecolor": "white",
           "ticks": "",
           "title": {
            "standoff": 15
           },
           "zerolinecolor": "white",
           "zerolinewidth": 2
          },
          "yaxis": {
           "automargin": true,
           "gridcolor": "white",
           "linecolor": "white",
           "ticks": "",
           "title": {
            "standoff": 15
           },
           "zerolinecolor": "white",
           "zerolinewidth": 2
          }
         }
        },
        "title": {
         "font": {
          "color": "#4D5663"
         }
        },
        "xaxis": {
         "gridcolor": "#E1E5ED",
         "showgrid": true,
         "tickfont": {
          "color": "#4D5663"
         },
         "title": {
          "font": {
           "color": "#4D5663"
          },
          "text": ""
         },
         "zerolinecolor": "#E1E5ED"
        },
        "yaxis": {
         "gridcolor": "#E1E5ED",
         "showgrid": true,
         "tickfont": {
          "color": "#4D5663"
         },
         "title": {
          "font": {
           "color": "#4D5663"
          },
          "text": ""
         },
         "zerolinecolor": "#E1E5ED"
        }
       }
      },
      "text/html": "<div>                            <div id=\"ec4895d7-2dfb-4b80-8110-b97bfe36f399\" class=\"plotly-graph-div\" style=\"height:525px; width:100%;\"></div>            <script type=\"text/javascript\">                require([\"plotly\"], function(Plotly) {                    window.PLOTLYENV=window.PLOTLYENV || {};\n                    window.PLOTLYENV.BASE_URL='https://plot.ly';                                    if (document.getElementById(\"ec4895d7-2dfb-4b80-8110-b97bfe36f399\")) {                    Plotly.newPlot(                        \"ec4895d7-2dfb-4b80-8110-b97bfe36f399\",                        [{\"colorscale\":[[0.0,\"rgb(165,0,38)\"],[0.1,\"rgb(215,48,39)\"],[0.2,\"rgb(244,109,67)\"],[0.3,\"rgb(253,174,97)\"],[0.4,\"rgb(254,224,144)\"],[0.5,\"rgb(255,255,191)\"],[0.6,\"rgb(224,243,248)\"],[0.7,\"rgb(171,217,233)\"],[0.8,\"rgb(116,173,209)\"],[0.9,\"rgb(69,117,180)\"],[1.0,\"rgb(49,54,149)\"]],\"type\":\"surface\",\"x\":[0,1,2,3,4],\"y\":[\"x\",\"y\",\"z\"],\"z\":[[1,2,3,4,5],[10,20,30,20,10],[5,4,3,2,1]]}],                        {\"legend\":{\"bgcolor\":\"#F5F6F9\",\"font\":{\"color\":\"#4D5663\"}},\"paper_bgcolor\":\"#F5F6F9\",\"plot_bgcolor\":\"#F5F6F9\",\"template\":{\"data\":{\"bar\":[{\"error_x\":{\"color\":\"#2a3f5f\"},\"error_y\":{\"color\":\"#2a3f5f\"},\"marker\":{\"line\":{\"color\":\"#E5ECF6\",\"width\":0.5},\"pattern\":{\"fillmode\":\"overlay\",\"size\":10,\"solidity\":0.2}},\"type\":\"bar\"}],\"barpolar\":[{\"marker\":{\"line\":{\"color\":\"#E5ECF6\",\"width\":0.5},\"pattern\":{\"fillmode\":\"overlay\",\"size\":10,\"solidity\":0.2}},\"type\":\"barpolar\"}],\"carpet\":[{\"aaxis\":{\"endlinecolor\":\"#2a3f5f\",\"gridcolor\":\"white\",\"linecolor\":\"white\",\"minorgridcolor\":\"white\",\"startlinecolor\":\"#2a3f5f\"},\"baxis\":{\"endlinecolor\":\"#2a3f5f\",\"gridcolor\":\"white\",\"linecolor\":\"white\",\"minorgridcolor\":\"white\",\"startlinecolor\":\"#2a3f5f\"},\"type\":\"carpet\"}],\"choropleth\":[{\"colorbar\":{\"outlinewidth\":0,\"ticks\":\"\"},\"type\":\"choropleth\"}],\"contour\":[{\"colorbar\":{\"outlinewidth\":0,\"ticks\":\"\"},\"colorscale\":[[0.0,\"#0d0887\"],[0.1111111111111111,\"#46039f\"],[0.2222222222222222,\"#7201a8\"],[0.3333333333333333,\"#9c179e\"],[0.4444444444444444,\"#bd3786\"],[0.5555555555555556,\"#d8576b\"],[0.6666666666666666,\"#ed7953\"],[0.7777777777777778,\"#fb9f3a\"],[0.8888888888888888,\"#fdca26\"],[1.0,\"#f0f921\"]],\"type\":\"contour\"}],\"contourcarpet\":[{\"colorbar\":{\"outlinewidth\":0,\"ticks\":\"\"},\"type\":\"contourcarpet\"}],\"heatmap\":[{\"colorbar\":{\"outlinewidth\":0,\"ticks\":\"\"},\"colorscale\":[[0.0,\"#0d0887\"],[0.1111111111111111,\"#46039f\"],[0.2222222222222222,\"#7201a8\"],[0.3333333333333333,\"#9c179e\"],[0.4444444444444444,\"#bd3786\"],[0.5555555555555556,\"#d8576b\"],[0.6666666666666666,\"#ed7953\"],[0.7777777777777778,\"#fb9f3a\"],[0.8888888888888888,\"#fdca26\"],[1.0,\"#f0f921\"]],\"type\":\"heatmap\"}],\"heatmapgl\":[{\"colorbar\":{\"outlinewidth\":0,\"ticks\":\"\"},\"colorscale\":[[0.0,\"#0d0887\"],[0.1111111111111111,\"#46039f\"],[0.2222222222222222,\"#7201a8\"],[0.3333333333333333,\"#9c179e\"],[0.4444444444444444,\"#bd3786\"],[0.5555555555555556,\"#d8576b\"],[0.6666666666666666,\"#ed7953\"],[0.7777777777777778,\"#fb9f3a\"],[0.8888888888888888,\"#fdca26\"],[1.0,\"#f0f921\"]],\"type\":\"heatmapgl\"}],\"histogram\":[{\"marker\":{\"pattern\":{\"fillmode\":\"overlay\",\"size\":10,\"solidity\":0.2}},\"type\":\"histogram\"}],\"histogram2d\":[{\"colorbar\":{\"outlinewidth\":0,\"ticks\":\"\"},\"colorscale\":[[0.0,\"#0d0887\"],[0.1111111111111111,\"#46039f\"],[0.2222222222222222,\"#7201a8\"],[0.3333333333333333,\"#9c179e\"],[0.4444444444444444,\"#bd3786\"],[0.5555555555555556,\"#d8576b\"],[0.6666666666666666,\"#ed7953\"],[0.7777777777777778,\"#fb9f3a\"],[0.8888888888888888,\"#fdca26\"],[1.0,\"#f0f921\"]],\"type\":\"histogram2d\"}],\"histogram2dcontour\":[{\"colorbar\":{\"outlinewidth\":0,\"ticks\":\"\"},\"colorscale\":[[0.0,\"#0d0887\"],[0.1111111111111111,\"#46039f\"],[0.2222222222222222,\"#7201a8\"],[0.3333333333333333,\"#9c179e\"],[0.4444444444444444,\"#bd3786\"],[0.5555555555555556,\"#d8576b\"],[0.6666666666666666,\"#ed7953\"],[0.7777777777777778,\"#fb9f3a\"],[0.8888888888888888,\"#fdca26\"],[1.0,\"#f0f921\"]],\"type\":\"histogram2dcontour\"}],\"mesh3d\":[{\"colorbar\":{\"outlinewidth\":0,\"ticks\":\"\"},\"type\":\"mesh3d\"}],\"parcoords\":[{\"line\":{\"colorbar\":{\"outlinewidth\":0,\"ticks\":\"\"}},\"type\":\"parcoords\"}],\"pie\":[{\"automargin\":true,\"type\":\"pie\"}],\"scatter\":[{\"marker\":{\"colorbar\":{\"outlinewidth\":0,\"ticks\":\"\"}},\"type\":\"scatter\"}],\"scatter3d\":[{\"line\":{\"colorbar\":{\"outlinewidth\":0,\"ticks\":\"\"}},\"marker\":{\"colorbar\":{\"outlinewidth\":0,\"ticks\":\"\"}},\"type\":\"scatter3d\"}],\"scattercarpet\":[{\"marker\":{\"colorbar\":{\"outlinewidth\":0,\"ticks\":\"\"}},\"type\":\"scattercarpet\"}],\"scattergeo\":[{\"marker\":{\"colorbar\":{\"outlinewidth\":0,\"ticks\":\"\"}},\"type\":\"scattergeo\"}],\"scattergl\":[{\"marker\":{\"colorbar\":{\"outlinewidth\":0,\"ticks\":\"\"}},\"type\":\"scattergl\"}],\"scattermapbox\":[{\"marker\":{\"colorbar\":{\"outlinewidth\":0,\"ticks\":\"\"}},\"type\":\"scattermapbox\"}],\"scatterpolar\":[{\"marker\":{\"colorbar\":{\"outlinewidth\":0,\"ticks\":\"\"}},\"type\":\"scatterpolar\"}],\"scatterpolargl\":[{\"marker\":{\"colorbar\":{\"outlinewidth\":0,\"ticks\":\"\"}},\"type\":\"scatterpolargl\"}],\"scatterternary\":[{\"marker\":{\"colorbar\":{\"outlinewidth\":0,\"ticks\":\"\"}},\"type\":\"scatterternary\"}],\"surface\":[{\"colorbar\":{\"outlinewidth\":0,\"ticks\":\"\"},\"colorscale\":[[0.0,\"#0d0887\"],[0.1111111111111111,\"#46039f\"],[0.2222222222222222,\"#7201a8\"],[0.3333333333333333,\"#9c179e\"],[0.4444444444444444,\"#bd3786\"],[0.5555555555555556,\"#d8576b\"],[0.6666666666666666,\"#ed7953\"],[0.7777777777777778,\"#fb9f3a\"],[0.8888888888888888,\"#fdca26\"],[1.0,\"#f0f921\"]],\"type\":\"surface\"}],\"table\":[{\"cells\":{\"fill\":{\"color\":\"#EBF0F8\"},\"line\":{\"color\":\"white\"}},\"header\":{\"fill\":{\"color\":\"#C8D4E3\"},\"line\":{\"color\":\"white\"}},\"type\":\"table\"}]},\"layout\":{\"annotationdefaults\":{\"arrowcolor\":\"#2a3f5f\",\"arrowhead\":0,\"arrowwidth\":1},\"autotypenumbers\":\"strict\",\"coloraxis\":{\"colorbar\":{\"outlinewidth\":0,\"ticks\":\"\"}},\"colorscale\":{\"diverging\":[[0,\"#8e0152\"],[0.1,\"#c51b7d\"],[0.2,\"#de77ae\"],[0.3,\"#f1b6da\"],[0.4,\"#fde0ef\"],[0.5,\"#f7f7f7\"],[0.6,\"#e6f5d0\"],[0.7,\"#b8e186\"],[0.8,\"#7fbc41\"],[0.9,\"#4d9221\"],[1,\"#276419\"]],\"sequential\":[[0.0,\"#0d0887\"],[0.1111111111111111,\"#46039f\"],[0.2222222222222222,\"#7201a8\"],[0.3333333333333333,\"#9c179e\"],[0.4444444444444444,\"#bd3786\"],[0.5555555555555556,\"#d8576b\"],[0.6666666666666666,\"#ed7953\"],[0.7777777777777778,\"#fb9f3a\"],[0.8888888888888888,\"#fdca26\"],[1.0,\"#f0f921\"]],\"sequentialminus\":[[0.0,\"#0d0887\"],[0.1111111111111111,\"#46039f\"],[0.2222222222222222,\"#7201a8\"],[0.3333333333333333,\"#9c179e\"],[0.4444444444444444,\"#bd3786\"],[0.5555555555555556,\"#d8576b\"],[0.6666666666666666,\"#ed7953\"],[0.7777777777777778,\"#fb9f3a\"],[0.8888888888888888,\"#fdca26\"],[1.0,\"#f0f921\"]]},\"colorway\":[\"#636efa\",\"#EF553B\",\"#00cc96\",\"#ab63fa\",\"#FFA15A\",\"#19d3f3\",\"#FF6692\",\"#B6E880\",\"#FF97FF\",\"#FECB52\"],\"font\":{\"color\":\"#2a3f5f\"},\"geo\":{\"bgcolor\":\"white\",\"lakecolor\":\"white\",\"landcolor\":\"#E5ECF6\",\"showlakes\":true,\"showland\":true,\"subunitcolor\":\"white\"},\"hoverlabel\":{\"align\":\"left\"},\"hovermode\":\"closest\",\"mapbox\":{\"style\":\"light\"},\"paper_bgcolor\":\"white\",\"plot_bgcolor\":\"#E5ECF6\",\"polar\":{\"angularaxis\":{\"gridcolor\":\"white\",\"linecolor\":\"white\",\"ticks\":\"\"},\"bgcolor\":\"#E5ECF6\",\"radialaxis\":{\"gridcolor\":\"white\",\"linecolor\":\"white\",\"ticks\":\"\"}},\"scene\":{\"xaxis\":{\"backgroundcolor\":\"#E5ECF6\",\"gridcolor\":\"white\",\"gridwidth\":2,\"linecolor\":\"white\",\"showbackground\":true,\"ticks\":\"\",\"zerolinecolor\":\"white\"},\"yaxis\":{\"backgroundcolor\":\"#E5ECF6\",\"gridcolor\":\"white\",\"gridwidth\":2,\"linecolor\":\"white\",\"showbackground\":true,\"ticks\":\"\",\"zerolinecolor\":\"white\"},\"zaxis\":{\"backgroundcolor\":\"#E5ECF6\",\"gridcolor\":\"white\",\"gridwidth\":2,\"linecolor\":\"white\",\"showbackground\":true,\"ticks\":\"\",\"zerolinecolor\":\"white\"}},\"shapedefaults\":{\"line\":{\"color\":\"#2a3f5f\"}},\"ternary\":{\"aaxis\":{\"gridcolor\":\"white\",\"linecolor\":\"white\",\"ticks\":\"\"},\"baxis\":{\"gridcolor\":\"white\",\"linecolor\":\"white\",\"ticks\":\"\"},\"bgcolor\":\"#E5ECF6\",\"caxis\":{\"gridcolor\":\"white\",\"linecolor\":\"white\",\"ticks\":\"\"}},\"title\":{\"x\":0.05},\"xaxis\":{\"automargin\":true,\"gridcolor\":\"white\",\"linecolor\":\"white\",\"ticks\":\"\",\"title\":{\"standoff\":15},\"zerolinecolor\":\"white\",\"zerolinewidth\":2},\"yaxis\":{\"automargin\":true,\"gridcolor\":\"white\",\"linecolor\":\"white\",\"ticks\":\"\",\"title\":{\"standoff\":15},\"zerolinecolor\":\"white\",\"zerolinewidth\":2}}},\"title\":{\"font\":{\"color\":\"#4D5663\"}},\"xaxis\":{\"gridcolor\":\"#E1E5ED\",\"showgrid\":true,\"tickfont\":{\"color\":\"#4D5663\"},\"title\":{\"font\":{\"color\":\"#4D5663\"},\"text\":\"\"},\"zerolinecolor\":\"#E1E5ED\"},\"yaxis\":{\"gridcolor\":\"#E1E5ED\",\"showgrid\":true,\"tickfont\":{\"color\":\"#4D5663\"},\"title\":{\"font\":{\"color\":\"#4D5663\"},\"text\":\"\"},\"zerolinecolor\":\"#E1E5ED\"}},                        {\"showLink\": true, \"linkText\": \"Export to plot.ly\", \"plotlyServerURL\": \"https://plot.ly\", \"responsive\": true}                    ).then(function(){\n                            \nvar gd = document.getElementById('ec4895d7-2dfb-4b80-8110-b97bfe36f399');\nvar x = new MutationObserver(function (mutations, observer) {{\n        var display = window.getComputedStyle(gd).display;\n        if (!display || display === 'none') {{\n            console.log([gd, 'removed!']);\n            Plotly.purge(gd);\n            observer.disconnect();\n        }}\n}});\n\n// Listen for the removal of the full notebook cells\nvar notebookContainer = gd.closest('#notebook-container');\nif (notebookContainer) {{\n    x.observe(notebookContainer, {childList: true});\n}}\n\n// Listen for the clearing of the current output cell\nvar outputEl = gd.closest('.output');\nif (outputEl) {{\n    x.observe(outputEl, {childList: true});\n}}\n\n                        })                };                });            </script>        </div>"
     },
     "metadata": {}
    }
   ],
   "source": [
    "df3 = pd.DataFrame({'x':[1,2,3,4,5],'y':[10,20,30,20,10],'z':[5,4,3,2,1]})\n",
    "df3.iplot(kind='surface',colorscale='rdylbu')"
   ]
  },
  {
   "cell_type": "markdown",
   "metadata": {},
   "source": [
    "## Spread"
   ]
  },
  {
   "cell_type": "code",
   "execution_count": 16,
   "metadata": {
    "collapsed": false
   },
   "outputs": [
    {
     "output_type": "stream",
     "name": "stderr",
     "text": [
      "/home/ritesh/.local/lib/python3.8/site-packages/cufflinks/plotlytools.py:849: FutureWarning:\n\nThe pandas.np module is deprecated and will be removed from pandas in a future version. Import numpy directly instead\n\n/home/ritesh/.local/lib/python3.8/site-packages/cufflinks/plotlytools.py:850: FutureWarning:\n\nThe pandas.np module is deprecated and will be removed from pandas in a future version. Import numpy directly instead\n\n"
     ]
    },
    {
     "output_type": "display_data",
     "data": {
      "application/vnd.plotly.v1+json": {
       "config": {
        "linkText": "Export to plot.ly",
        "plotlyServerURL": "https://plot.ly",
        "showLink": true
       },
       "data": [
        {
         "line": {
          "color": "rgba(255, 153, 51, 1.0)",
          "dash": "solid",
          "shape": "linear",
          "width": 1.3
         },
         "mode": "lines",
         "name": "A",
         "text": "",
         "type": "scatter",
         "x": [
          0,
          1,
          2,
          3,
          4,
          5,
          6,
          7,
          8,
          9,
          10,
          11,
          12,
          13,
          14,
          15,
          16,
          17,
          18,
          19,
          20,
          21,
          22,
          23,
          24,
          25,
          26,
          27,
          28,
          29,
          30,
          31,
          32,
          33,
          34,
          35,
          36,
          37,
          38,
          39,
          40,
          41,
          42,
          43,
          44,
          45,
          46,
          47,
          48,
          49,
          50,
          51,
          52,
          53,
          54,
          55,
          56,
          57,
          58,
          59,
          60,
          61,
          62,
          63,
          64,
          65,
          66,
          67,
          68,
          69,
          70,
          71,
          72,
          73,
          74,
          75,
          76,
          77,
          78,
          79,
          80,
          81,
          82,
          83,
          84,
          85,
          86,
          87,
          88,
          89,
          90,
          91,
          92,
          93,
          94,
          95,
          96,
          97,
          98,
          99
         ],
         "y": [
          -0.25227118008665145,
          0.06172597997312884,
          -0.09007588736177649,
          0.9655665553973772,
          0.4854660192833101,
          0.26701802645320244,
          1.0923931195785344,
          1.6867856846022133,
          0.1055984372563579,
          1.4884028777300893,
          1.2544325383218051,
          -0.7041177662348228,
          -0.6119001641424259,
          0.18014447538600833,
          1.155263713036101,
          -0.3425063374551015,
          -1.067126111336395,
          -0.7221525466373608,
          0.7651090750646531,
          -1.004545495950125,
          -0.2637463201554845,
          0.9270246371655807,
          -0.5193031631501195,
          2.2167780068744793,
          0.3862748792441888,
          1.1991319730362835,
          -1.557404376140031,
          -0.14901869535222126,
          -1.0024020287011886,
          0.13131176544298556,
          0.264598537852816,
          1.5531042912324888,
          0.4723615756752949,
          1.2296567723864706,
          1.4838948908571272,
          -0.27145625647809307,
          1.221844725244573,
          0.01469204642486503,
          1.3665996903567188,
          1.5443386446287324,
          -1.025123286950699,
          0.9819935474844267,
          1.1611796816047524,
          0.6991418032344212,
          -0.09106560471621786,
          -0.28426957089284277,
          -0.4016892297490613,
          -0.7774782732898965,
          -1.7223561231552598,
          2.460641905242768,
          0.4815183047281549,
          0.035806349576061165,
          0.910594759012117,
          -2.111067286320529,
          0.4238597156449524,
          1.9696836406375793,
          1.2332022682950836,
          -0.36656460758235637,
          1.8230451716552216,
          0.06966636861757851,
          1.1458785678701724,
          1.7385076252864209,
          -0.7410792987434056,
          -1.03176211548569,
          -0.10499217997687547,
          0.8659742608682182,
          -1.5783493333238372,
          -0.3489892902332464,
          1.4205913357741387,
          0.3282768542802037,
          1.20624805647062,
          0.2784530549906407,
          -0.7660315306574534,
          -0.3624752352324765,
          0.16231001478679416,
          0.9015722306033053,
          -0.7315391441263145,
          0.12354605275732658,
          0.4762171976821261,
          -2.0282995125317,
          0.46788204967415586,
          -0.2701368232370625,
          -0.9321784813202924,
          1.1780347596600362,
          -0.11206602609647033,
          0.21176886719477322,
          -0.8424944426011093,
          -1.166873584439773,
          -0.26288821705556603,
          -1.1033996783872577,
          0.6627858300113253,
          -0.6656295927166045,
          1.1961132505894427,
          1.9949738834989803,
          0.07004738586976976,
          -0.7715662014536142,
          -0.4528018588980907,
          -1.25185572951221,
          0.7625147154525329,
          -0.6660630083136009
         ]
        },
        {
         "line": {
          "color": "rgba(55, 128, 191, 1.0)",
          "dash": "solid",
          "shape": "linear",
          "width": 1.3
         },
         "mode": "lines",
         "name": "B",
         "text": "",
         "type": "scatter",
         "x": [
          0,
          1,
          2,
          3,
          4,
          5,
          6,
          7,
          8,
          9,
          10,
          11,
          12,
          13,
          14,
          15,
          16,
          17,
          18,
          19,
          20,
          21,
          22,
          23,
          24,
          25,
          26,
          27,
          28,
          29,
          30,
          31,
          32,
          33,
          34,
          35,
          36,
          37,
          38,
          39,
          40,
          41,
          42,
          43,
          44,
          45,
          46,
          47,
          48,
          49,
          50,
          51,
          52,
          53,
          54,
          55,
          56,
          57,
          58,
          59,
          60,
          61,
          62,
          63,
          64,
          65,
          66,
          67,
          68,
          69,
          70,
          71,
          72,
          73,
          74,
          75,
          76,
          77,
          78,
          79,
          80,
          81,
          82,
          83,
          84,
          85,
          86,
          87,
          88,
          89,
          90,
          91,
          92,
          93,
          94,
          95,
          96,
          97,
          98,
          99
         ],
         "y": [
          -0.24429798139803324,
          -0.08140072026070258,
          -0.3440352221324289,
          -2.3053151000556555,
          -0.6497290247349842,
          0.995013179423379,
          1.4482732817312591,
          -0.9725458639710425,
          -0.0466569137740196,
          -1.3294228665276946,
          -0.8247119481275208,
          0.27609613535962857,
          -0.09473417124123408,
          1.2352309586310322,
          -1.9737731840246349,
          1.61911094645423,
          -0.26661304242337575,
          -0.2883173900689931,
          -1.1166915254776921,
          -0.2944092679714753,
          -0.8519120009667719,
          1.5669506335703582,
          1.3055588979130333,
          1.2996456459533428,
          0.9298325077994817,
          0.5737059413597119,
          0.901327794240818,
          -0.6131682683010122,
          1.9757524385077965,
          0.02801892591066275,
          1.169958911979349,
          0.8337790525973593,
          -1.0860858018918167,
          2.127483822808999,
          -1.1224068626293964,
          0.14436058310809521,
          0.8523129002351462,
          -0.9339966382509564,
          -0.5246945159001554,
          1.7368746659269374,
          0.7841996410852168,
          0.24964765334285305,
          2.0156034157433926,
          1.0005055998758337,
          1.661505139907902,
          1.2799660531362713,
          0.7706834184475058,
          0.5369875645341228,
          -0.09155641558534112,
          -0.49511281408638624,
          1.5529183028908848,
          2.4609964757075518,
          1.1664358569786706,
          -2.0914361872843417,
          -0.6989200878865848,
          0.5066218678795223,
          -0.49718418195862507,
          -0.8960658802881825,
          0.7227373881394722,
          -0.13499945108069203,
          -0.8630493471228109,
          0.15196771672118464,
          -1.2069214985814378,
          0.8226934690856887,
          -0.71909089288083,
          0.45993752341927757,
          -0.034813632030634006,
          -0.28989428438974524,
          -1.8318618123062496,
          -1.221478771149326,
          -1.600010335978149,
          -0.7345603641391674,
          -0.15027775675031024,
          -1.3646714770060189,
          -0.7785787421800132,
          -0.9751390197139149,
          0.6132892263431378,
          -1.3768478976549485,
          -1.4490455174948522,
          -0.03822645435966252,
          0.31517972419972795,
          -0.8588798522560479,
          1.1898640603599298,
          -1.6626037943520315,
          0.2667829198371369,
          2.1921221149600263,
          0.29320163830816354,
          0.43158584935104316,
          -0.4676397959356081,
          -0.5065838296651279,
          0.6305038259893719,
          0.2450240269975526,
          0.2752188120259105,
          0.6218735185660969,
          -1.69428883235597,
          -0.1425658102952103,
          -0.38355665675155454,
          -0.2571761083843813,
          -0.571611317316897,
          -0.9584551972239918
         ]
        },
        {
         "connectgaps": false,
         "fill": "tozeroy",
         "line": {
          "color": "green",
          "dash": "solid",
          "shape": "linear",
          "width": 0.5
         },
         "mode": "lines",
         "name": "Spread",
         "showlegend": false,
         "type": "scatter",
         "x": [
          0,
          1,
          2,
          3,
          4,
          5,
          6,
          7,
          8,
          9,
          10,
          11,
          12,
          13,
          14,
          15,
          16,
          17,
          18,
          19,
          20,
          21,
          22,
          23,
          24,
          25,
          26,
          27,
          28,
          29,
          30,
          31,
          32,
          33,
          34,
          35,
          36,
          37,
          38,
          39,
          40,
          41,
          42,
          43,
          44,
          45,
          46,
          47,
          48,
          49,
          50,
          51,
          52,
          53,
          54,
          55,
          56,
          57,
          58,
          59,
          60,
          61,
          62,
          63,
          64,
          65,
          66,
          67,
          68,
          69,
          70,
          71,
          72,
          73,
          74,
          75,
          76,
          77,
          78,
          79,
          80,
          81,
          82,
          83,
          84,
          85,
          86,
          87,
          88,
          89,
          90,
          91,
          92,
          93,
          94,
          95,
          96,
          97,
          98,
          99
         ],
         "xaxis": "x2",
         "y": [
          "",
          0.14312670023383142,
          0.25395933477065236,
          3.270881655453033,
          1.1351950440182943,
          "",
          "",
          2.659331548573256,
          0.1522553510303775,
          2.817825744257784,
          2.079144486449326,
          "",
          "",
          "",
          3.129036897060736,
          "",
          "",
          "",
          1.8818006005423453,
          "",
          0.5881656808112874,
          "",
          "",
          0.9171323609211366,
          "",
          0.6254260316765716,
          "",
          0.464149572948791,
          "",
          0.10329283953232281,
          "",
          0.7193252386351295,
          1.5584473775671115,
          "",
          2.6063017534865236,
          "",
          0.36953182500942683,
          0.9486886846758213,
          1.891294206256874,
          "",
          "",
          0.7323458941415737,
          "",
          "",
          "",
          "",
          "",
          "",
          "",
          2.9557547193291542,
          "",
          "",
          "",
          "",
          1.1227798035315373,
          1.4630617727580568,
          1.7303864502537087,
          0.5295012727058261,
          1.1003077835157495,
          0.20466581969827052,
          2.0089279149929835,
          1.5865399085652363,
          0.4658421998380322,
          "",
          0.6140987129039545,
          0.4060367374489406,
          "",
          "",
          3.252453148080388,
          1.5497556254295297,
          2.806258392448769,
          1.0130134191298081,
          "",
          1.0021962417735424,
          0.9408887569668074,
          1.87671125031722,
          "",
          1.5003939504122752,
          1.9252627151769783,
          "",
          0.1527023254744279,
          0.5887430290189855,
          "",
          2.8406385540120676,
          "",
          "",
          "",
          "",
          0.20475157888004208,
          "",
          0.03228200402195336,
          "",
          0.9208944385635323,
          1.3731003649328835,
          1.7643362182257396,
          "",
          "",
          "",
          1.3341260327694298,
          0.29239218891039087
         ],
         "yaxis": "y2"
        },
        {
         "connectgaps": false,
         "fill": "tozeroy",
         "line": {
          "color": "red",
          "dash": "solid",
          "shape": "linear",
          "width": 0.5
         },
         "mode": "lines",
         "name": "Spread",
         "showlegend": false,
         "type": "scatter",
         "x": [
          0,
          1,
          2,
          3,
          4,
          5,
          6,
          7,
          8,
          9,
          10,
          11,
          12,
          13,
          14,
          15,
          16,
          17,
          18,
          19,
          20,
          21,
          22,
          23,
          24,
          25,
          26,
          27,
          28,
          29,
          30,
          31,
          32,
          33,
          34,
          35,
          36,
          37,
          38,
          39,
          40,
          41,
          42,
          43,
          44,
          45,
          46,
          47,
          48,
          49,
          50,
          51,
          52,
          53,
          54,
          55,
          56,
          57,
          58,
          59,
          60,
          61,
          62,
          63,
          64,
          65,
          66,
          67,
          68,
          69,
          70,
          71,
          72,
          73,
          74,
          75,
          76,
          77,
          78,
          79,
          80,
          81,
          82,
          83,
          84,
          85,
          86,
          87,
          88,
          89,
          90,
          91,
          92,
          93,
          94,
          95,
          96,
          97,
          98,
          99
         ],
         "xaxis": "x2",
         "y": [
          -0.007973198688618205,
          "",
          "",
          "",
          "",
          -0.7279951529701765,
          -0.3558801621527248,
          "",
          "",
          "",
          "",
          -0.9802139015944513,
          -0.5171659929011918,
          -1.0550864832450237,
          "",
          -1.9616172839093315,
          -0.8005130689130193,
          -0.43383515656836774,
          "",
          -0.7101362279786496,
          "",
          -0.6399259964047775,
          -1.8248620610631527,
          "",
          -0.5435576285552929,
          "",
          -2.458732170380849,
          "",
          -2.9781544672089852,
          "",
          -0.905360374126533,
          "",
          "",
          -0.8978270504225283,
          "",
          -0.4158168395861883,
          "",
          "",
          "",
          -0.19253602129820502,
          -1.8093229280359158,
          "",
          -0.8544237341386403,
          -0.30136379664141244,
          -1.7525707446241199,
          -1.5642356240291142,
          -1.172372648196567,
          -1.3144658378240193,
          -1.6307997075699185,
          "",
          -1.07139999816273,
          -2.4251901261314908,
          -0.25584109796655363,
          -0.019631099036187205,
          "",
          "",
          "",
          "",
          "",
          "",
          "",
          "",
          "",
          -1.8544555845713786,
          "",
          "",
          -1.5435357012932032,
          -0.059095005843501136,
          "",
          "",
          "",
          "",
          -0.6157537739071433,
          "",
          "",
          "",
          -1.3448283704694521,
          "",
          "",
          -1.9900730581720374,
          "",
          "",
          -2.122042541680222,
          "",
          -0.37884894593360724,
          -1.980353247765253,
          -1.1356960809092729,
          -1.5984594337908162,
          "",
          -0.5968158487221298,
          "",
          -0.910653619714157,
          "",
          "",
          "",
          -0.6290003911584039,
          -0.06924520214653618,
          -0.9946796211278286,
          "",
          ""
         ],
         "yaxis": "y2"
        }
       ],
       "layout": {
        "hovermode": "x",
        "legend": {
         "bgcolor": "#F5F6F9",
         "font": {
          "color": "#4D5663"
         }
        },
        "paper_bgcolor": "#F5F6F9",
        "plot_bgcolor": "#F5F6F9",
        "template": {
         "data": {
          "bar": [
           {
            "error_x": {
             "color": "#2a3f5f"
            },
            "error_y": {
             "color": "#2a3f5f"
            },
            "marker": {
             "line": {
              "color": "#E5ECF6",
              "width": 0.5
             },
             "pattern": {
              "fillmode": "overlay",
              "size": 10,
              "solidity": 0.2
             }
            },
            "type": "bar"
           }
          ],
          "barpolar": [
           {
            "marker": {
             "line": {
              "color": "#E5ECF6",
              "width": 0.5
             },
             "pattern": {
              "fillmode": "overlay",
              "size": 10,
              "solidity": 0.2
             }
            },
            "type": "barpolar"
           }
          ],
          "carpet": [
           {
            "aaxis": {
             "endlinecolor": "#2a3f5f",
             "gridcolor": "white",
             "linecolor": "white",
             "minorgridcolor": "white",
             "startlinecolor": "#2a3f5f"
            },
            "baxis": {
             "endlinecolor": "#2a3f5f",
             "gridcolor": "white",
             "linecolor": "white",
             "minorgridcolor": "white",
             "startlinecolor": "#2a3f5f"
            },
            "type": "carpet"
           }
          ],
          "choropleth": [
           {
            "colorbar": {
             "outlinewidth": 0,
             "ticks": ""
            },
            "type": "choropleth"
           }
          ],
          "contour": [
           {
            "colorbar": {
             "outlinewidth": 0,
             "ticks": ""
            },
            "colorscale": [
             [
              0,
              "#0d0887"
             ],
             [
              0.1111111111111111,
              "#46039f"
             ],
             [
              0.2222222222222222,
              "#7201a8"
             ],
             [
              0.3333333333333333,
              "#9c179e"
             ],
             [
              0.4444444444444444,
              "#bd3786"
             ],
             [
              0.5555555555555556,
              "#d8576b"
             ],
             [
              0.6666666666666666,
              "#ed7953"
             ],
             [
              0.7777777777777778,
              "#fb9f3a"
             ],
             [
              0.8888888888888888,
              "#fdca26"
             ],
             [
              1,
              "#f0f921"
             ]
            ],
            "type": "contour"
           }
          ],
          "contourcarpet": [
           {
            "colorbar": {
             "outlinewidth": 0,
             "ticks": ""
            },
            "type": "contourcarpet"
           }
          ],
          "heatmap": [
           {
            "colorbar": {
             "outlinewidth": 0,
             "ticks": ""
            },
            "colorscale": [
             [
              0,
              "#0d0887"
             ],
             [
              0.1111111111111111,
              "#46039f"
             ],
             [
              0.2222222222222222,
              "#7201a8"
             ],
             [
              0.3333333333333333,
              "#9c179e"
             ],
             [
              0.4444444444444444,
              "#bd3786"
             ],
             [
              0.5555555555555556,
              "#d8576b"
             ],
             [
              0.6666666666666666,
              "#ed7953"
             ],
             [
              0.7777777777777778,
              "#fb9f3a"
             ],
             [
              0.8888888888888888,
              "#fdca26"
             ],
             [
              1,
              "#f0f921"
             ]
            ],
            "type": "heatmap"
           }
          ],
          "heatmapgl": [
           {
            "colorbar": {
             "outlinewidth": 0,
             "ticks": ""
            },
            "colorscale": [
             [
              0,
              "#0d0887"
             ],
             [
              0.1111111111111111,
              "#46039f"
             ],
             [
              0.2222222222222222,
              "#7201a8"
             ],
             [
              0.3333333333333333,
              "#9c179e"
             ],
             [
              0.4444444444444444,
              "#bd3786"
             ],
             [
              0.5555555555555556,
              "#d8576b"
             ],
             [
              0.6666666666666666,
              "#ed7953"
             ],
             [
              0.7777777777777778,
              "#fb9f3a"
             ],
             [
              0.8888888888888888,
              "#fdca26"
             ],
             [
              1,
              "#f0f921"
             ]
            ],
            "type": "heatmapgl"
           }
          ],
          "histogram": [
           {
            "marker": {
             "pattern": {
              "fillmode": "overlay",
              "size": 10,
              "solidity": 0.2
             }
            },
            "type": "histogram"
           }
          ],
          "histogram2d": [
           {
            "colorbar": {
             "outlinewidth": 0,
             "ticks": ""
            },
            "colorscale": [
             [
              0,
              "#0d0887"
             ],
             [
              0.1111111111111111,
              "#46039f"
             ],
             [
              0.2222222222222222,
              "#7201a8"
             ],
             [
              0.3333333333333333,
              "#9c179e"
             ],
             [
              0.4444444444444444,
              "#bd3786"
             ],
             [
              0.5555555555555556,
              "#d8576b"
             ],
             [
              0.6666666666666666,
              "#ed7953"
             ],
             [
              0.7777777777777778,
              "#fb9f3a"
             ],
             [
              0.8888888888888888,
              "#fdca26"
             ],
             [
              1,
              "#f0f921"
             ]
            ],
            "type": "histogram2d"
           }
          ],
          "histogram2dcontour": [
           {
            "colorbar": {
             "outlinewidth": 0,
             "ticks": ""
            },
            "colorscale": [
             [
              0,
              "#0d0887"
             ],
             [
              0.1111111111111111,
              "#46039f"
             ],
             [
              0.2222222222222222,
              "#7201a8"
             ],
             [
              0.3333333333333333,
              "#9c179e"
             ],
             [
              0.4444444444444444,
              "#bd3786"
             ],
             [
              0.5555555555555556,
              "#d8576b"
             ],
             [
              0.6666666666666666,
              "#ed7953"
             ],
             [
              0.7777777777777778,
              "#fb9f3a"
             ],
             [
              0.8888888888888888,
              "#fdca26"
             ],
             [
              1,
              "#f0f921"
             ]
            ],
            "type": "histogram2dcontour"
           }
          ],
          "mesh3d": [
           {
            "colorbar": {
             "outlinewidth": 0,
             "ticks": ""
            },
            "type": "mesh3d"
           }
          ],
          "parcoords": [
           {
            "line": {
             "colorbar": {
              "outlinewidth": 0,
              "ticks": ""
             }
            },
            "type": "parcoords"
           }
          ],
          "pie": [
           {
            "automargin": true,
            "type": "pie"
           }
          ],
          "scatter": [
           {
            "marker": {
             "colorbar": {
              "outlinewidth": 0,
              "ticks": ""
             }
            },
            "type": "scatter"
           }
          ],
          "scatter3d": [
           {
            "line": {
             "colorbar": {
              "outlinewidth": 0,
              "ticks": ""
             }
            },
            "marker": {
             "colorbar": {
              "outlinewidth": 0,
              "ticks": ""
             }
            },
            "type": "scatter3d"
           }
          ],
          "scattercarpet": [
           {
            "marker": {
             "colorbar": {
              "outlinewidth": 0,
              "ticks": ""
             }
            },
            "type": "scattercarpet"
           }
          ],
          "scattergeo": [
           {
            "marker": {
             "colorbar": {
              "outlinewidth": 0,
              "ticks": ""
             }
            },
            "type": "scattergeo"
           }
          ],
          "scattergl": [
           {
            "marker": {
             "colorbar": {
              "outlinewidth": 0,
              "ticks": ""
             }
            },
            "type": "scattergl"
           }
          ],
          "scattermapbox": [
           {
            "marker": {
             "colorbar": {
              "outlinewidth": 0,
              "ticks": ""
             }
            },
            "type": "scattermapbox"
           }
          ],
          "scatterpolar": [
           {
            "marker": {
             "colorbar": {
              "outlinewidth": 0,
              "ticks": ""
             }
            },
            "type": "scatterpolar"
           }
          ],
          "scatterpolargl": [
           {
            "marker": {
             "colorbar": {
              "outlinewidth": 0,
              "ticks": ""
             }
            },
            "type": "scatterpolargl"
           }
          ],
          "scatterternary": [
           {
            "marker": {
             "colorbar": {
              "outlinewidth": 0,
              "ticks": ""
             }
            },
            "type": "scatterternary"
           }
          ],
          "surface": [
           {
            "colorbar": {
             "outlinewidth": 0,
             "ticks": ""
            },
            "colorscale": [
             [
              0,
              "#0d0887"
             ],
             [
              0.1111111111111111,
              "#46039f"
             ],
             [
              0.2222222222222222,
              "#7201a8"
             ],
             [
              0.3333333333333333,
              "#9c179e"
             ],
             [
              0.4444444444444444,
              "#bd3786"
             ],
             [
              0.5555555555555556,
              "#d8576b"
             ],
             [
              0.6666666666666666,
              "#ed7953"
             ],
             [
              0.7777777777777778,
              "#fb9f3a"
             ],
             [
              0.8888888888888888,
              "#fdca26"
             ],
             [
              1,
              "#f0f921"
             ]
            ],
            "type": "surface"
           }
          ],
          "table": [
           {
            "cells": {
             "fill": {
              "color": "#EBF0F8"
             },
             "line": {
              "color": "white"
             }
            },
            "header": {
             "fill": {
              "color": "#C8D4E3"
             },
             "line": {
              "color": "white"
             }
            },
            "type": "table"
           }
          ]
         },
         "layout": {
          "annotationdefaults": {
           "arrowcolor": "#2a3f5f",
           "arrowhead": 0,
           "arrowwidth": 1
          },
          "autotypenumbers": "strict",
          "coloraxis": {
           "colorbar": {
            "outlinewidth": 0,
            "ticks": ""
           }
          },
          "colorscale": {
           "diverging": [
            [
             0,
             "#8e0152"
            ],
            [
             0.1,
             "#c51b7d"
            ],
            [
             0.2,
             "#de77ae"
            ],
            [
             0.3,
             "#f1b6da"
            ],
            [
             0.4,
             "#fde0ef"
            ],
            [
             0.5,
             "#f7f7f7"
            ],
            [
             0.6,
             "#e6f5d0"
            ],
            [
             0.7,
             "#b8e186"
            ],
            [
             0.8,
             "#7fbc41"
            ],
            [
             0.9,
             "#4d9221"
            ],
            [
             1,
             "#276419"
            ]
           ],
           "sequential": [
            [
             0,
             "#0d0887"
            ],
            [
             0.1111111111111111,
             "#46039f"
            ],
            [
             0.2222222222222222,
             "#7201a8"
            ],
            [
             0.3333333333333333,
             "#9c179e"
            ],
            [
             0.4444444444444444,
             "#bd3786"
            ],
            [
             0.5555555555555556,
             "#d8576b"
            ],
            [
             0.6666666666666666,
             "#ed7953"
            ],
            [
             0.7777777777777778,
             "#fb9f3a"
            ],
            [
             0.8888888888888888,
             "#fdca26"
            ],
            [
             1,
             "#f0f921"
            ]
           ],
           "sequentialminus": [
            [
             0,
             "#0d0887"
            ],
            [
             0.1111111111111111,
             "#46039f"
            ],
            [
             0.2222222222222222,
             "#7201a8"
            ],
            [
             0.3333333333333333,
             "#9c179e"
            ],
            [
             0.4444444444444444,
             "#bd3786"
            ],
            [
             0.5555555555555556,
             "#d8576b"
            ],
            [
             0.6666666666666666,
             "#ed7953"
            ],
            [
             0.7777777777777778,
             "#fb9f3a"
            ],
            [
             0.8888888888888888,
             "#fdca26"
            ],
            [
             1,
             "#f0f921"
            ]
           ]
          },
          "colorway": [
           "#636efa",
           "#EF553B",
           "#00cc96",
           "#ab63fa",
           "#FFA15A",
           "#19d3f3",
           "#FF6692",
           "#B6E880",
           "#FF97FF",
           "#FECB52"
          ],
          "font": {
           "color": "#2a3f5f"
          },
          "geo": {
           "bgcolor": "white",
           "lakecolor": "white",
           "landcolor": "#E5ECF6",
           "showlakes": true,
           "showland": true,
           "subunitcolor": "white"
          },
          "hoverlabel": {
           "align": "left"
          },
          "hovermode": "closest",
          "mapbox": {
           "style": "light"
          },
          "paper_bgcolor": "white",
          "plot_bgcolor": "#E5ECF6",
          "polar": {
           "angularaxis": {
            "gridcolor": "white",
            "linecolor": "white",
            "ticks": ""
           },
           "bgcolor": "#E5ECF6",
           "radialaxis": {
            "gridcolor": "white",
            "linecolor": "white",
            "ticks": ""
           }
          },
          "scene": {
           "xaxis": {
            "backgroundcolor": "#E5ECF6",
            "gridcolor": "white",
            "gridwidth": 2,
            "linecolor": "white",
            "showbackground": true,
            "ticks": "",
            "zerolinecolor": "white"
           },
           "yaxis": {
            "backgroundcolor": "#E5ECF6",
            "gridcolor": "white",
            "gridwidth": 2,
            "linecolor": "white",
            "showbackground": true,
            "ticks": "",
            "zerolinecolor": "white"
           },
           "zaxis": {
            "backgroundcolor": "#E5ECF6",
            "gridcolor": "white",
            "gridwidth": 2,
            "linecolor": "white",
            "showbackground": true,
            "ticks": "",
            "zerolinecolor": "white"
           }
          },
          "shapedefaults": {
           "line": {
            "color": "#2a3f5f"
           }
          },
          "ternary": {
           "aaxis": {
            "gridcolor": "white",
            "linecolor": "white",
            "ticks": ""
           },
           "baxis": {
            "gridcolor": "white",
            "linecolor": "white",
            "ticks": ""
           },
           "bgcolor": "#E5ECF6",
           "caxis": {
            "gridcolor": "white",
            "linecolor": "white",
            "ticks": ""
           }
          },
          "title": {
           "x": 0.05
          },
          "xaxis": {
           "automargin": true,
           "gridcolor": "white",
           "linecolor": "white",
           "ticks": "",
           "title": {
            "standoff": 15
           },
           "zerolinecolor": "white",
           "zerolinewidth": 2
          },
          "yaxis": {
           "automargin": true,
           "gridcolor": "white",
           "linecolor": "white",
           "ticks": "",
           "title": {
            "standoff": 15
           },
           "zerolinecolor": "white",
           "zerolinewidth": 2
          }
         }
        },
        "title": {
         "font": {
          "color": "#4D5663"
         }
        },
        "xaxis": {
         "gridcolor": "#E1E5ED",
         "showgrid": true,
         "tickfont": {
          "color": "#4D5663"
         },
         "title": {
          "font": {
           "color": "#4D5663"
          },
          "text": ""
         },
         "zerolinecolor": "#E1E5ED"
        },
        "xaxis2": {
         "anchor": "y2",
         "gridcolor": "#E1E5ED",
         "showgrid": true,
         "showticklabels": false,
         "tickfont": {
          "color": "#4D5663"
         },
         "title": {
          "font": {
           "color": "#4D5663"
          },
          "text": ""
         },
         "zerolinecolor": "#E1E5ED"
        },
        "yaxis": {
         "domain": [
          0.3,
          1
         ],
         "gridcolor": "#E1E5ED",
         "showgrid": true,
         "tickfont": {
          "color": "#4D5663"
         },
         "title": {
          "font": {
           "color": "#4D5663"
          },
          "text": ""
         },
         "zerolinecolor": "#E1E5ED"
        },
        "yaxis2": {
         "domain": [
          0,
          0.25
         ],
         "gridcolor": "#E1E5ED",
         "showgrid": true,
         "tickfont": {
          "color": "#4D5663"
         },
         "title": {
          "font": {
           "color": "#4D5663"
          },
          "text": "Spread"
         },
         "zerolinecolor": "#E1E5ED"
        }
       }
      },
      "text/html": "<div>                            <div id=\"fcd31657-da01-44e3-b99a-c13bbd190e84\" class=\"plotly-graph-div\" style=\"height:525px; width:100%;\"></div>            <script type=\"text/javascript\">                require([\"plotly\"], function(Plotly) {                    window.PLOTLYENV=window.PLOTLYENV || {};\n                    window.PLOTLYENV.BASE_URL='https://plot.ly';                                    if (document.getElementById(\"fcd31657-da01-44e3-b99a-c13bbd190e84\")) {                    Plotly.newPlot(                        \"fcd31657-da01-44e3-b99a-c13bbd190e84\",                        [{\"line\":{\"color\":\"rgba(255, 153, 51, 1.0)\",\"dash\":\"solid\",\"shape\":\"linear\",\"width\":1.3},\"mode\":\"lines\",\"name\":\"A\",\"text\":\"\",\"type\":\"scatter\",\"x\":[0,1,2,3,4,5,6,7,8,9,10,11,12,13,14,15,16,17,18,19,20,21,22,23,24,25,26,27,28,29,30,31,32,33,34,35,36,37,38,39,40,41,42,43,44,45,46,47,48,49,50,51,52,53,54,55,56,57,58,59,60,61,62,63,64,65,66,67,68,69,70,71,72,73,74,75,76,77,78,79,80,81,82,83,84,85,86,87,88,89,90,91,92,93,94,95,96,97,98,99],\"y\":[-0.25227118008665145,0.06172597997312884,-0.09007588736177649,0.9655665553973772,0.4854660192833101,0.26701802645320244,1.0923931195785344,1.6867856846022133,0.1055984372563579,1.4884028777300893,1.2544325383218051,-0.7041177662348228,-0.6119001641424259,0.18014447538600833,1.155263713036101,-0.3425063374551015,-1.067126111336395,-0.7221525466373608,0.7651090750646531,-1.004545495950125,-0.2637463201554845,0.9270246371655807,-0.5193031631501195,2.2167780068744793,0.3862748792441888,1.1991319730362835,-1.557404376140031,-0.14901869535222126,-1.0024020287011886,0.13131176544298556,0.264598537852816,1.5531042912324888,0.4723615756752949,1.2296567723864706,1.4838948908571272,-0.27145625647809307,1.221844725244573,0.01469204642486503,1.3665996903567188,1.5443386446287324,-1.025123286950699,0.9819935474844267,1.1611796816047524,0.6991418032344212,-0.09106560471621786,-0.28426957089284277,-0.4016892297490613,-0.7774782732898965,-1.7223561231552598,2.460641905242768,0.4815183047281549,0.035806349576061165,0.910594759012117,-2.111067286320529,0.4238597156449524,1.9696836406375793,1.2332022682950836,-0.36656460758235637,1.8230451716552216,0.06966636861757851,1.1458785678701724,1.7385076252864209,-0.7410792987434056,-1.03176211548569,-0.10499217997687547,0.8659742608682182,-1.5783493333238372,-0.3489892902332464,1.4205913357741387,0.3282768542802037,1.20624805647062,0.2784530549906407,-0.7660315306574534,-0.3624752352324765,0.16231001478679416,0.9015722306033053,-0.7315391441263145,0.12354605275732658,0.4762171976821261,-2.0282995125317,0.46788204967415586,-0.2701368232370625,-0.9321784813202924,1.1780347596600362,-0.11206602609647033,0.21176886719477322,-0.8424944426011093,-1.166873584439773,-0.26288821705556603,-1.1033996783872577,0.6627858300113253,-0.6656295927166045,1.1961132505894427,1.9949738834989803,0.07004738586976976,-0.7715662014536142,-0.4528018588980907,-1.25185572951221,0.7625147154525329,-0.6660630083136009]},{\"line\":{\"color\":\"rgba(55, 128, 191, 1.0)\",\"dash\":\"solid\",\"shape\":\"linear\",\"width\":1.3},\"mode\":\"lines\",\"name\":\"B\",\"text\":\"\",\"type\":\"scatter\",\"x\":[0,1,2,3,4,5,6,7,8,9,10,11,12,13,14,15,16,17,18,19,20,21,22,23,24,25,26,27,28,29,30,31,32,33,34,35,36,37,38,39,40,41,42,43,44,45,46,47,48,49,50,51,52,53,54,55,56,57,58,59,60,61,62,63,64,65,66,67,68,69,70,71,72,73,74,75,76,77,78,79,80,81,82,83,84,85,86,87,88,89,90,91,92,93,94,95,96,97,98,99],\"y\":[-0.24429798139803324,-0.08140072026070258,-0.3440352221324289,-2.3053151000556555,-0.6497290247349842,0.995013179423379,1.4482732817312591,-0.9725458639710425,-0.0466569137740196,-1.3294228665276946,-0.8247119481275208,0.27609613535962857,-0.09473417124123408,1.2352309586310322,-1.9737731840246349,1.61911094645423,-0.26661304242337575,-0.2883173900689931,-1.1166915254776921,-0.2944092679714753,-0.8519120009667719,1.5669506335703582,1.3055588979130333,1.2996456459533428,0.9298325077994817,0.5737059413597119,0.901327794240818,-0.6131682683010122,1.9757524385077965,0.02801892591066275,1.169958911979349,0.8337790525973593,-1.0860858018918167,2.127483822808999,-1.1224068626293964,0.14436058310809521,0.8523129002351462,-0.9339966382509564,-0.5246945159001554,1.7368746659269374,0.7841996410852168,0.24964765334285305,2.0156034157433926,1.0005055998758337,1.661505139907902,1.2799660531362713,0.7706834184475058,0.5369875645341228,-0.09155641558534112,-0.49511281408638624,1.5529183028908848,2.4609964757075518,1.1664358569786706,-2.0914361872843417,-0.6989200878865848,0.5066218678795223,-0.49718418195862507,-0.8960658802881825,0.7227373881394722,-0.13499945108069203,-0.8630493471228109,0.15196771672118464,-1.2069214985814378,0.8226934690856887,-0.71909089288083,0.45993752341927757,-0.034813632030634006,-0.28989428438974524,-1.8318618123062496,-1.221478771149326,-1.600010335978149,-0.7345603641391674,-0.15027775675031024,-1.3646714770060189,-0.7785787421800132,-0.9751390197139149,0.6132892263431378,-1.3768478976549485,-1.4490455174948522,-0.03822645435966252,0.31517972419972795,-0.8588798522560479,1.1898640603599298,-1.6626037943520315,0.2667829198371369,2.1921221149600263,0.29320163830816354,0.43158584935104316,-0.4676397959356081,-0.5065838296651279,0.6305038259893719,0.2450240269975526,0.2752188120259105,0.6218735185660969,-1.69428883235597,-0.1425658102952103,-0.38355665675155454,-0.2571761083843813,-0.571611317316897,-0.9584551972239918]},{\"connectgaps\":false,\"fill\":\"tozeroy\",\"line\":{\"color\":\"green\",\"dash\":\"solid\",\"shape\":\"linear\",\"width\":0.5},\"mode\":\"lines\",\"name\":\"Spread\",\"showlegend\":false,\"type\":\"scatter\",\"x\":[0,1,2,3,4,5,6,7,8,9,10,11,12,13,14,15,16,17,18,19,20,21,22,23,24,25,26,27,28,29,30,31,32,33,34,35,36,37,38,39,40,41,42,43,44,45,46,47,48,49,50,51,52,53,54,55,56,57,58,59,60,61,62,63,64,65,66,67,68,69,70,71,72,73,74,75,76,77,78,79,80,81,82,83,84,85,86,87,88,89,90,91,92,93,94,95,96,97,98,99],\"xaxis\":\"x2\",\"y\":[\"\",0.14312670023383142,0.25395933477065236,3.270881655453033,1.1351950440182943,\"\",\"\",2.659331548573256,0.1522553510303775,2.817825744257784,2.079144486449326,\"\",\"\",\"\",3.129036897060736,\"\",\"\",\"\",1.8818006005423453,\"\",0.5881656808112874,\"\",\"\",0.9171323609211366,\"\",0.6254260316765716,\"\",0.464149572948791,\"\",0.10329283953232281,\"\",0.7193252386351295,1.5584473775671115,\"\",2.6063017534865236,\"\",0.36953182500942683,0.9486886846758213,1.891294206256874,\"\",\"\",0.7323458941415737,\"\",\"\",\"\",\"\",\"\",\"\",\"\",2.9557547193291542,\"\",\"\",\"\",\"\",1.1227798035315373,1.4630617727580568,1.7303864502537087,0.5295012727058261,1.1003077835157495,0.20466581969827052,2.0089279149929835,1.5865399085652363,0.4658421998380322,\"\",0.6140987129039545,0.4060367374489406,\"\",\"\",3.252453148080388,1.5497556254295297,2.806258392448769,1.0130134191298081,\"\",1.0021962417735424,0.9408887569668074,1.87671125031722,\"\",1.5003939504122752,1.9252627151769783,\"\",0.1527023254744279,0.5887430290189855,\"\",2.8406385540120676,\"\",\"\",\"\",\"\",0.20475157888004208,\"\",0.03228200402195336,\"\",0.9208944385635323,1.3731003649328835,1.7643362182257396,\"\",\"\",\"\",1.3341260327694298,0.29239218891039087],\"yaxis\":\"y2\"},{\"connectgaps\":false,\"fill\":\"tozeroy\",\"line\":{\"color\":\"red\",\"dash\":\"solid\",\"shape\":\"linear\",\"width\":0.5},\"mode\":\"lines\",\"name\":\"Spread\",\"showlegend\":false,\"type\":\"scatter\",\"x\":[0,1,2,3,4,5,6,7,8,9,10,11,12,13,14,15,16,17,18,19,20,21,22,23,24,25,26,27,28,29,30,31,32,33,34,35,36,37,38,39,40,41,42,43,44,45,46,47,48,49,50,51,52,53,54,55,56,57,58,59,60,61,62,63,64,65,66,67,68,69,70,71,72,73,74,75,76,77,78,79,80,81,82,83,84,85,86,87,88,89,90,91,92,93,94,95,96,97,98,99],\"xaxis\":\"x2\",\"y\":[-0.007973198688618205,\"\",\"\",\"\",\"\",-0.7279951529701765,-0.3558801621527248,\"\",\"\",\"\",\"\",-0.9802139015944513,-0.5171659929011918,-1.0550864832450237,\"\",-1.9616172839093315,-0.8005130689130193,-0.43383515656836774,\"\",-0.7101362279786496,\"\",-0.6399259964047775,-1.8248620610631527,\"\",-0.5435576285552929,\"\",-2.458732170380849,\"\",-2.9781544672089852,\"\",-0.905360374126533,\"\",\"\",-0.8978270504225283,\"\",-0.4158168395861883,\"\",\"\",\"\",-0.19253602129820502,-1.8093229280359158,\"\",-0.8544237341386403,-0.30136379664141244,-1.7525707446241199,-1.5642356240291142,-1.172372648196567,-1.3144658378240193,-1.6307997075699185,\"\",-1.07139999816273,-2.4251901261314908,-0.25584109796655363,-0.019631099036187205,\"\",\"\",\"\",\"\",\"\",\"\",\"\",\"\",\"\",-1.8544555845713786,\"\",\"\",-1.5435357012932032,-0.059095005843501136,\"\",\"\",\"\",\"\",-0.6157537739071433,\"\",\"\",\"\",-1.3448283704694521,\"\",\"\",-1.9900730581720374,\"\",\"\",-2.122042541680222,\"\",-0.37884894593360724,-1.980353247765253,-1.1356960809092729,-1.5984594337908162,\"\",-0.5968158487221298,\"\",-0.910653619714157,\"\",\"\",\"\",-0.6290003911584039,-0.06924520214653618,-0.9946796211278286,\"\",\"\"],\"yaxis\":\"y2\"}],                        {\"hovermode\":\"x\",\"legend\":{\"bgcolor\":\"#F5F6F9\",\"font\":{\"color\":\"#4D5663\"}},\"paper_bgcolor\":\"#F5F6F9\",\"plot_bgcolor\":\"#F5F6F9\",\"template\":{\"data\":{\"bar\":[{\"error_x\":{\"color\":\"#2a3f5f\"},\"error_y\":{\"color\":\"#2a3f5f\"},\"marker\":{\"line\":{\"color\":\"#E5ECF6\",\"width\":0.5},\"pattern\":{\"fillmode\":\"overlay\",\"size\":10,\"solidity\":0.2}},\"type\":\"bar\"}],\"barpolar\":[{\"marker\":{\"line\":{\"color\":\"#E5ECF6\",\"width\":0.5},\"pattern\":{\"fillmode\":\"overlay\",\"size\":10,\"solidity\":0.2}},\"type\":\"barpolar\"}],\"carpet\":[{\"aaxis\":{\"endlinecolor\":\"#2a3f5f\",\"gridcolor\":\"white\",\"linecolor\":\"white\",\"minorgridcolor\":\"white\",\"startlinecolor\":\"#2a3f5f\"},\"baxis\":{\"endlinecolor\":\"#2a3f5f\",\"gridcolor\":\"white\",\"linecolor\":\"white\",\"minorgridcolor\":\"white\",\"startlinecolor\":\"#2a3f5f\"},\"type\":\"carpet\"}],\"choropleth\":[{\"colorbar\":{\"outlinewidth\":0,\"ticks\":\"\"},\"type\":\"choropleth\"}],\"contour\":[{\"colorbar\":{\"outlinewidth\":0,\"ticks\":\"\"},\"colorscale\":[[0.0,\"#0d0887\"],[0.1111111111111111,\"#46039f\"],[0.2222222222222222,\"#7201a8\"],[0.3333333333333333,\"#9c179e\"],[0.4444444444444444,\"#bd3786\"],[0.5555555555555556,\"#d8576b\"],[0.6666666666666666,\"#ed7953\"],[0.7777777777777778,\"#fb9f3a\"],[0.8888888888888888,\"#fdca26\"],[1.0,\"#f0f921\"]],\"type\":\"contour\"}],\"contourcarpet\":[{\"colorbar\":{\"outlinewidth\":0,\"ticks\":\"\"},\"type\":\"contourcarpet\"}],\"heatmap\":[{\"colorbar\":{\"outlinewidth\":0,\"ticks\":\"\"},\"colorscale\":[[0.0,\"#0d0887\"],[0.1111111111111111,\"#46039f\"],[0.2222222222222222,\"#7201a8\"],[0.3333333333333333,\"#9c179e\"],[0.4444444444444444,\"#bd3786\"],[0.5555555555555556,\"#d8576b\"],[0.6666666666666666,\"#ed7953\"],[0.7777777777777778,\"#fb9f3a\"],[0.8888888888888888,\"#fdca26\"],[1.0,\"#f0f921\"]],\"type\":\"heatmap\"}],\"heatmapgl\":[{\"colorbar\":{\"outlinewidth\":0,\"ticks\":\"\"},\"colorscale\":[[0.0,\"#0d0887\"],[0.1111111111111111,\"#46039f\"],[0.2222222222222222,\"#7201a8\"],[0.3333333333333333,\"#9c179e\"],[0.4444444444444444,\"#bd3786\"],[0.5555555555555556,\"#d8576b\"],[0.6666666666666666,\"#ed7953\"],[0.7777777777777778,\"#fb9f3a\"],[0.8888888888888888,\"#fdca26\"],[1.0,\"#f0f921\"]],\"type\":\"heatmapgl\"}],\"histogram\":[{\"marker\":{\"pattern\":{\"fillmode\":\"overlay\",\"size\":10,\"solidity\":0.2}},\"type\":\"histogram\"}],\"histogram2d\":[{\"colorbar\":{\"outlinewidth\":0,\"ticks\":\"\"},\"colorscale\":[[0.0,\"#0d0887\"],[0.1111111111111111,\"#46039f\"],[0.2222222222222222,\"#7201a8\"],[0.3333333333333333,\"#9c179e\"],[0.4444444444444444,\"#bd3786\"],[0.5555555555555556,\"#d8576b\"],[0.6666666666666666,\"#ed7953\"],[0.7777777777777778,\"#fb9f3a\"],[0.8888888888888888,\"#fdca26\"],[1.0,\"#f0f921\"]],\"type\":\"histogram2d\"}],\"histogram2dcontour\":[{\"colorbar\":{\"outlinewidth\":0,\"ticks\":\"\"},\"colorscale\":[[0.0,\"#0d0887\"],[0.1111111111111111,\"#46039f\"],[0.2222222222222222,\"#7201a8\"],[0.3333333333333333,\"#9c179e\"],[0.4444444444444444,\"#bd3786\"],[0.5555555555555556,\"#d8576b\"],[0.6666666666666666,\"#ed7953\"],[0.7777777777777778,\"#fb9f3a\"],[0.8888888888888888,\"#fdca26\"],[1.0,\"#f0f921\"]],\"type\":\"histogram2dcontour\"}],\"mesh3d\":[{\"colorbar\":{\"outlinewidth\":0,\"ticks\":\"\"},\"type\":\"mesh3d\"}],\"parcoords\":[{\"line\":{\"colorbar\":{\"outlinewidth\":0,\"ticks\":\"\"}},\"type\":\"parcoords\"}],\"pie\":[{\"automargin\":true,\"type\":\"pie\"}],\"scatter\":[{\"marker\":{\"colorbar\":{\"outlinewidth\":0,\"ticks\":\"\"}},\"type\":\"scatter\"}],\"scatter3d\":[{\"line\":{\"colorbar\":{\"outlinewidth\":0,\"ticks\":\"\"}},\"marker\":{\"colorbar\":{\"outlinewidth\":0,\"ticks\":\"\"}},\"type\":\"scatter3d\"}],\"scattercarpet\":[{\"marker\":{\"colorbar\":{\"outlinewidth\":0,\"ticks\":\"\"}},\"type\":\"scattercarpet\"}],\"scattergeo\":[{\"marker\":{\"colorbar\":{\"outlinewidth\":0,\"ticks\":\"\"}},\"type\":\"scattergeo\"}],\"scattergl\":[{\"marker\":{\"colorbar\":{\"outlinewidth\":0,\"ticks\":\"\"}},\"type\":\"scattergl\"}],\"scattermapbox\":[{\"marker\":{\"colorbar\":{\"outlinewidth\":0,\"ticks\":\"\"}},\"type\":\"scattermapbox\"}],\"scatterpolar\":[{\"marker\":{\"colorbar\":{\"outlinewidth\":0,\"ticks\":\"\"}},\"type\":\"scatterpolar\"}],\"scatterpolargl\":[{\"marker\":{\"colorbar\":{\"outlinewidth\":0,\"ticks\":\"\"}},\"type\":\"scatterpolargl\"}],\"scatterternary\":[{\"marker\":{\"colorbar\":{\"outlinewidth\":0,\"ticks\":\"\"}},\"type\":\"scatterternary\"}],\"surface\":[{\"colorbar\":{\"outlinewidth\":0,\"ticks\":\"\"},\"colorscale\":[[0.0,\"#0d0887\"],[0.1111111111111111,\"#46039f\"],[0.2222222222222222,\"#7201a8\"],[0.3333333333333333,\"#9c179e\"],[0.4444444444444444,\"#bd3786\"],[0.5555555555555556,\"#d8576b\"],[0.6666666666666666,\"#ed7953\"],[0.7777777777777778,\"#fb9f3a\"],[0.8888888888888888,\"#fdca26\"],[1.0,\"#f0f921\"]],\"type\":\"surface\"}],\"table\":[{\"cells\":{\"fill\":{\"color\":\"#EBF0F8\"},\"line\":{\"color\":\"white\"}},\"header\":{\"fill\":{\"color\":\"#C8D4E3\"},\"line\":{\"color\":\"white\"}},\"type\":\"table\"}]},\"layout\":{\"annotationdefaults\":{\"arrowcolor\":\"#2a3f5f\",\"arrowhead\":0,\"arrowwidth\":1},\"autotypenumbers\":\"strict\",\"coloraxis\":{\"colorbar\":{\"outlinewidth\":0,\"ticks\":\"\"}},\"colorscale\":{\"diverging\":[[0,\"#8e0152\"],[0.1,\"#c51b7d\"],[0.2,\"#de77ae\"],[0.3,\"#f1b6da\"],[0.4,\"#fde0ef\"],[0.5,\"#f7f7f7\"],[0.6,\"#e6f5d0\"],[0.7,\"#b8e186\"],[0.8,\"#7fbc41\"],[0.9,\"#4d9221\"],[1,\"#276419\"]],\"sequential\":[[0.0,\"#0d0887\"],[0.1111111111111111,\"#46039f\"],[0.2222222222222222,\"#7201a8\"],[0.3333333333333333,\"#9c179e\"],[0.4444444444444444,\"#bd3786\"],[0.5555555555555556,\"#d8576b\"],[0.6666666666666666,\"#ed7953\"],[0.7777777777777778,\"#fb9f3a\"],[0.8888888888888888,\"#fdca26\"],[1.0,\"#f0f921\"]],\"sequentialminus\":[[0.0,\"#0d0887\"],[0.1111111111111111,\"#46039f\"],[0.2222222222222222,\"#7201a8\"],[0.3333333333333333,\"#9c179e\"],[0.4444444444444444,\"#bd3786\"],[0.5555555555555556,\"#d8576b\"],[0.6666666666666666,\"#ed7953\"],[0.7777777777777778,\"#fb9f3a\"],[0.8888888888888888,\"#fdca26\"],[1.0,\"#f0f921\"]]},\"colorway\":[\"#636efa\",\"#EF553B\",\"#00cc96\",\"#ab63fa\",\"#FFA15A\",\"#19d3f3\",\"#FF6692\",\"#B6E880\",\"#FF97FF\",\"#FECB52\"],\"font\":{\"color\":\"#2a3f5f\"},\"geo\":{\"bgcolor\":\"white\",\"lakecolor\":\"white\",\"landcolor\":\"#E5ECF6\",\"showlakes\":true,\"showland\":true,\"subunitcolor\":\"white\"},\"hoverlabel\":{\"align\":\"left\"},\"hovermode\":\"closest\",\"mapbox\":{\"style\":\"light\"},\"paper_bgcolor\":\"white\",\"plot_bgcolor\":\"#E5ECF6\",\"polar\":{\"angularaxis\":{\"gridcolor\":\"white\",\"linecolor\":\"white\",\"ticks\":\"\"},\"bgcolor\":\"#E5ECF6\",\"radialaxis\":{\"gridcolor\":\"white\",\"linecolor\":\"white\",\"ticks\":\"\"}},\"scene\":{\"xaxis\":{\"backgroundcolor\":\"#E5ECF6\",\"gridcolor\":\"white\",\"gridwidth\":2,\"linecolor\":\"white\",\"showbackground\":true,\"ticks\":\"\",\"zerolinecolor\":\"white\"},\"yaxis\":{\"backgroundcolor\":\"#E5ECF6\",\"gridcolor\":\"white\",\"gridwidth\":2,\"linecolor\":\"white\",\"showbackground\":true,\"ticks\":\"\",\"zerolinecolor\":\"white\"},\"zaxis\":{\"backgroundcolor\":\"#E5ECF6\",\"gridcolor\":\"white\",\"gridwidth\":2,\"linecolor\":\"white\",\"showbackground\":true,\"ticks\":\"\",\"zerolinecolor\":\"white\"}},\"shapedefaults\":{\"line\":{\"color\":\"#2a3f5f\"}},\"ternary\":{\"aaxis\":{\"gridcolor\":\"white\",\"linecolor\":\"white\",\"ticks\":\"\"},\"baxis\":{\"gridcolor\":\"white\",\"linecolor\":\"white\",\"ticks\":\"\"},\"bgcolor\":\"#E5ECF6\",\"caxis\":{\"gridcolor\":\"white\",\"linecolor\":\"white\",\"ticks\":\"\"}},\"title\":{\"x\":0.05},\"xaxis\":{\"automargin\":true,\"gridcolor\":\"white\",\"linecolor\":\"white\",\"ticks\":\"\",\"title\":{\"standoff\":15},\"zerolinecolor\":\"white\",\"zerolinewidth\":2},\"yaxis\":{\"automargin\":true,\"gridcolor\":\"white\",\"linecolor\":\"white\",\"ticks\":\"\",\"title\":{\"standoff\":15},\"zerolinecolor\":\"white\",\"zerolinewidth\":2}}},\"title\":{\"font\":{\"color\":\"#4D5663\"}},\"xaxis\":{\"gridcolor\":\"#E1E5ED\",\"showgrid\":true,\"tickfont\":{\"color\":\"#4D5663\"},\"title\":{\"font\":{\"color\":\"#4D5663\"},\"text\":\"\"},\"zerolinecolor\":\"#E1E5ED\"},\"xaxis2\":{\"anchor\":\"y2\",\"gridcolor\":\"#E1E5ED\",\"showgrid\":true,\"showticklabels\":false,\"tickfont\":{\"color\":\"#4D5663\"},\"title\":{\"font\":{\"color\":\"#4D5663\"},\"text\":\"\"},\"zerolinecolor\":\"#E1E5ED\"},\"yaxis\":{\"domain\":[0.3,1],\"gridcolor\":\"#E1E5ED\",\"showgrid\":true,\"tickfont\":{\"color\":\"#4D5663\"},\"title\":{\"font\":{\"color\":\"#4D5663\"},\"text\":\"\"},\"zerolinecolor\":\"#E1E5ED\"},\"yaxis2\":{\"domain\":[0,0.25],\"gridcolor\":\"#E1E5ED\",\"showgrid\":true,\"tickfont\":{\"color\":\"#4D5663\"},\"title\":{\"font\":{\"color\":\"#4D5663\"},\"text\":\"Spread\"},\"zerolinecolor\":\"#E1E5ED\"}},                        {\"showLink\": true, \"linkText\": \"Export to plot.ly\", \"plotlyServerURL\": \"https://plot.ly\", \"responsive\": true}                    ).then(function(){\n                            \nvar gd = document.getElementById('fcd31657-da01-44e3-b99a-c13bbd190e84');\nvar x = new MutationObserver(function (mutations, observer) {{\n        var display = window.getComputedStyle(gd).display;\n        if (!display || display === 'none') {{\n            console.log([gd, 'removed!']);\n            Plotly.purge(gd);\n            observer.disconnect();\n        }}\n}});\n\n// Listen for the removal of the full notebook cells\nvar notebookContainer = gd.closest('#notebook-container');\nif (notebookContainer) {{\n    x.observe(notebookContainer, {childList: true});\n}}\n\n// Listen for the clearing of the current output cell\nvar outputEl = gd.closest('.output');\nif (outputEl) {{\n    x.observe(outputEl, {childList: true});\n}}\n\n                        })                };                });            </script>        </div>"
     },
     "metadata": {}
    }
   ],
   "source": [
    "df[['A','B']].iplot(kind='spread')"
   ]
  },
  {
   "cell_type": "markdown",
   "metadata": {},
   "source": [
    "## histogram"
   ]
  },
  {
   "cell_type": "code",
   "execution_count": 17,
   "metadata": {
    "collapsed": false
   },
   "outputs": [
    {
     "output_type": "display_data",
     "data": {
      "application/vnd.plotly.v1+json": {
       "config": {
        "linkText": "Export to plot.ly",
        "plotlyServerURL": "https://plot.ly",
        "showLink": true
       },
       "data": [
        {
         "histfunc": "count",
         "histnorm": "",
         "marker": {
          "color": "rgba(255, 153, 51, 1.0)",
          "line": {
           "color": "#4D5663",
           "width": 1.3
          }
         },
         "name": "A",
         "nbinsx": 25,
         "opacity": 0.8,
         "orientation": "v",
         "type": "histogram",
         "x": [
          -0.25227118008665145,
          0.06172597997312884,
          -0.09007588736177649,
          0.9655665553973772,
          0.4854660192833101,
          0.26701802645320244,
          1.0923931195785344,
          1.6867856846022133,
          0.1055984372563579,
          1.4884028777300893,
          1.2544325383218051,
          -0.7041177662348228,
          -0.6119001641424259,
          0.18014447538600833,
          1.155263713036101,
          -0.3425063374551015,
          -1.067126111336395,
          -0.7221525466373608,
          0.7651090750646531,
          -1.004545495950125,
          -0.2637463201554845,
          0.9270246371655807,
          -0.5193031631501195,
          2.2167780068744793,
          0.3862748792441888,
          1.1991319730362835,
          -1.557404376140031,
          -0.14901869535222126,
          -1.0024020287011886,
          0.13131176544298556,
          0.264598537852816,
          1.5531042912324888,
          0.4723615756752949,
          1.2296567723864706,
          1.4838948908571272,
          -0.27145625647809307,
          1.221844725244573,
          0.01469204642486503,
          1.3665996903567188,
          1.5443386446287324,
          -1.025123286950699,
          0.9819935474844267,
          1.1611796816047524,
          0.6991418032344212,
          -0.09106560471621786,
          -0.28426957089284277,
          -0.4016892297490613,
          -0.7774782732898965,
          -1.7223561231552598,
          2.460641905242768,
          0.4815183047281549,
          0.035806349576061165,
          0.910594759012117,
          -2.111067286320529,
          0.4238597156449524,
          1.9696836406375793,
          1.2332022682950836,
          -0.36656460758235637,
          1.8230451716552216,
          0.06966636861757851,
          1.1458785678701724,
          1.7385076252864209,
          -0.7410792987434056,
          -1.03176211548569,
          -0.10499217997687547,
          0.8659742608682182,
          -1.5783493333238372,
          -0.3489892902332464,
          1.4205913357741387,
          0.3282768542802037,
          1.20624805647062,
          0.2784530549906407,
          -0.7660315306574534,
          -0.3624752352324765,
          0.16231001478679416,
          0.9015722306033053,
          -0.7315391441263145,
          0.12354605275732658,
          0.4762171976821261,
          -2.0282995125317,
          0.46788204967415586,
          -0.2701368232370625,
          -0.9321784813202924,
          1.1780347596600362,
          -0.11206602609647033,
          0.21176886719477322,
          -0.8424944426011093,
          -1.166873584439773,
          -0.26288821705556603,
          -1.1033996783872577,
          0.6627858300113253,
          -0.6656295927166045,
          1.1961132505894427,
          1.9949738834989803,
          0.07004738586976976,
          -0.7715662014536142,
          -0.4528018588980907,
          -1.25185572951221,
          0.7625147154525329,
          -0.6660630083136009
         ]
        }
       ],
       "layout": {
        "barmode": "overlay",
        "legend": {
         "bgcolor": "#F5F6F9",
         "font": {
          "color": "#4D5663"
         }
        },
        "paper_bgcolor": "#F5F6F9",
        "plot_bgcolor": "#F5F6F9",
        "template": {
         "data": {
          "bar": [
           {
            "error_x": {
             "color": "#2a3f5f"
            },
            "error_y": {
             "color": "#2a3f5f"
            },
            "marker": {
             "line": {
              "color": "#E5ECF6",
              "width": 0.5
             },
             "pattern": {
              "fillmode": "overlay",
              "size": 10,
              "solidity": 0.2
             }
            },
            "type": "bar"
           }
          ],
          "barpolar": [
           {
            "marker": {
             "line": {
              "color": "#E5ECF6",
              "width": 0.5
             },
             "pattern": {
              "fillmode": "overlay",
              "size": 10,
              "solidity": 0.2
             }
            },
            "type": "barpolar"
           }
          ],
          "carpet": [
           {
            "aaxis": {
             "endlinecolor": "#2a3f5f",
             "gridcolor": "white",
             "linecolor": "white",
             "minorgridcolor": "white",
             "startlinecolor": "#2a3f5f"
            },
            "baxis": {
             "endlinecolor": "#2a3f5f",
             "gridcolor": "white",
             "linecolor": "white",
             "minorgridcolor": "white",
             "startlinecolor": "#2a3f5f"
            },
            "type": "carpet"
           }
          ],
          "choropleth": [
           {
            "colorbar": {
             "outlinewidth": 0,
             "ticks": ""
            },
            "type": "choropleth"
           }
          ],
          "contour": [
           {
            "colorbar": {
             "outlinewidth": 0,
             "ticks": ""
            },
            "colorscale": [
             [
              0,
              "#0d0887"
             ],
             [
              0.1111111111111111,
              "#46039f"
             ],
             [
              0.2222222222222222,
              "#7201a8"
             ],
             [
              0.3333333333333333,
              "#9c179e"
             ],
             [
              0.4444444444444444,
              "#bd3786"
             ],
             [
              0.5555555555555556,
              "#d8576b"
             ],
             [
              0.6666666666666666,
              "#ed7953"
             ],
             [
              0.7777777777777778,
              "#fb9f3a"
             ],
             [
              0.8888888888888888,
              "#fdca26"
             ],
             [
              1,
              "#f0f921"
             ]
            ],
            "type": "contour"
           }
          ],
          "contourcarpet": [
           {
            "colorbar": {
             "outlinewidth": 0,
             "ticks": ""
            },
            "type": "contourcarpet"
           }
          ],
          "heatmap": [
           {
            "colorbar": {
             "outlinewidth": 0,
             "ticks": ""
            },
            "colorscale": [
             [
              0,
              "#0d0887"
             ],
             [
              0.1111111111111111,
              "#46039f"
             ],
             [
              0.2222222222222222,
              "#7201a8"
             ],
             [
              0.3333333333333333,
              "#9c179e"
             ],
             [
              0.4444444444444444,
              "#bd3786"
             ],
             [
              0.5555555555555556,
              "#d8576b"
             ],
             [
              0.6666666666666666,
              "#ed7953"
             ],
             [
              0.7777777777777778,
              "#fb9f3a"
             ],
             [
              0.8888888888888888,
              "#fdca26"
             ],
             [
              1,
              "#f0f921"
             ]
            ],
            "type": "heatmap"
           }
          ],
          "heatmapgl": [
           {
            "colorbar": {
             "outlinewidth": 0,
             "ticks": ""
            },
            "colorscale": [
             [
              0,
              "#0d0887"
             ],
             [
              0.1111111111111111,
              "#46039f"
             ],
             [
              0.2222222222222222,
              "#7201a8"
             ],
             [
              0.3333333333333333,
              "#9c179e"
             ],
             [
              0.4444444444444444,
              "#bd3786"
             ],
             [
              0.5555555555555556,
              "#d8576b"
             ],
             [
              0.6666666666666666,
              "#ed7953"
             ],
             [
              0.7777777777777778,
              "#fb9f3a"
             ],
             [
              0.8888888888888888,
              "#fdca26"
             ],
             [
              1,
              "#f0f921"
             ]
            ],
            "type": "heatmapgl"
           }
          ],
          "histogram": [
           {
            "marker": {
             "pattern": {
              "fillmode": "overlay",
              "size": 10,
              "solidity": 0.2
             }
            },
            "type": "histogram"
           }
          ],
          "histogram2d": [
           {
            "colorbar": {
             "outlinewidth": 0,
             "ticks": ""
            },
            "colorscale": [
             [
              0,
              "#0d0887"
             ],
             [
              0.1111111111111111,
              "#46039f"
             ],
             [
              0.2222222222222222,
              "#7201a8"
             ],
             [
              0.3333333333333333,
              "#9c179e"
             ],
             [
              0.4444444444444444,
              "#bd3786"
             ],
             [
              0.5555555555555556,
              "#d8576b"
             ],
             [
              0.6666666666666666,
              "#ed7953"
             ],
             [
              0.7777777777777778,
              "#fb9f3a"
             ],
             [
              0.8888888888888888,
              "#fdca26"
             ],
             [
              1,
              "#f0f921"
             ]
            ],
            "type": "histogram2d"
           }
          ],
          "histogram2dcontour": [
           {
            "colorbar": {
             "outlinewidth": 0,
             "ticks": ""
            },
            "colorscale": [
             [
              0,
              "#0d0887"
             ],
             [
              0.1111111111111111,
              "#46039f"
             ],
             [
              0.2222222222222222,
              "#7201a8"
             ],
             [
              0.3333333333333333,
              "#9c179e"
             ],
             [
              0.4444444444444444,
              "#bd3786"
             ],
             [
              0.5555555555555556,
              "#d8576b"
             ],
             [
              0.6666666666666666,
              "#ed7953"
             ],
             [
              0.7777777777777778,
              "#fb9f3a"
             ],
             [
              0.8888888888888888,
              "#fdca26"
             ],
             [
              1,
              "#f0f921"
             ]
            ],
            "type": "histogram2dcontour"
           }
          ],
          "mesh3d": [
           {
            "colorbar": {
             "outlinewidth": 0,
             "ticks": ""
            },
            "type": "mesh3d"
           }
          ],
          "parcoords": [
           {
            "line": {
             "colorbar": {
              "outlinewidth": 0,
              "ticks": ""
             }
            },
            "type": "parcoords"
           }
          ],
          "pie": [
           {
            "automargin": true,
            "type": "pie"
           }
          ],
          "scatter": [
           {
            "marker": {
             "colorbar": {
              "outlinewidth": 0,
              "ticks": ""
             }
            },
            "type": "scatter"
           }
          ],
          "scatter3d": [
           {
            "line": {
             "colorbar": {
              "outlinewidth": 0,
              "ticks": ""
             }
            },
            "marker": {
             "colorbar": {
              "outlinewidth": 0,
              "ticks": ""
             }
            },
            "type": "scatter3d"
           }
          ],
          "scattercarpet": [
           {
            "marker": {
             "colorbar": {
              "outlinewidth": 0,
              "ticks": ""
             }
            },
            "type": "scattercarpet"
           }
          ],
          "scattergeo": [
           {
            "marker": {
             "colorbar": {
              "outlinewidth": 0,
              "ticks": ""
             }
            },
            "type": "scattergeo"
           }
          ],
          "scattergl": [
           {
            "marker": {
             "colorbar": {
              "outlinewidth": 0,
              "ticks": ""
             }
            },
            "type": "scattergl"
           }
          ],
          "scattermapbox": [
           {
            "marker": {
             "colorbar": {
              "outlinewidth": 0,
              "ticks": ""
             }
            },
            "type": "scattermapbox"
           }
          ],
          "scatterpolar": [
           {
            "marker": {
             "colorbar": {
              "outlinewidth": 0,
              "ticks": ""
             }
            },
            "type": "scatterpolar"
           }
          ],
          "scatterpolargl": [
           {
            "marker": {
             "colorbar": {
              "outlinewidth": 0,
              "ticks": ""
             }
            },
            "type": "scatterpolargl"
           }
          ],
          "scatterternary": [
           {
            "marker": {
             "colorbar": {
              "outlinewidth": 0,
              "ticks": ""
             }
            },
            "type": "scatterternary"
           }
          ],
          "surface": [
           {
            "colorbar": {
             "outlinewidth": 0,
             "ticks": ""
            },
            "colorscale": [
             [
              0,
              "#0d0887"
             ],
             [
              0.1111111111111111,
              "#46039f"
             ],
             [
              0.2222222222222222,
              "#7201a8"
             ],
             [
              0.3333333333333333,
              "#9c179e"
             ],
             [
              0.4444444444444444,
              "#bd3786"
             ],
             [
              0.5555555555555556,
              "#d8576b"
             ],
             [
              0.6666666666666666,
              "#ed7953"
             ],
             [
              0.7777777777777778,
              "#fb9f3a"
             ],
             [
              0.8888888888888888,
              "#fdca26"
             ],
             [
              1,
              "#f0f921"
             ]
            ],
            "type": "surface"
           }
          ],
          "table": [
           {
            "cells": {
             "fill": {
              "color": "#EBF0F8"
             },
             "line": {
              "color": "white"
             }
            },
            "header": {
             "fill": {
              "color": "#C8D4E3"
             },
             "line": {
              "color": "white"
             }
            },
            "type": "table"
           }
          ]
         },
         "layout": {
          "annotationdefaults": {
           "arrowcolor": "#2a3f5f",
           "arrowhead": 0,
           "arrowwidth": 1
          },
          "autotypenumbers": "strict",
          "coloraxis": {
           "colorbar": {
            "outlinewidth": 0,
            "ticks": ""
           }
          },
          "colorscale": {
           "diverging": [
            [
             0,
             "#8e0152"
            ],
            [
             0.1,
             "#c51b7d"
            ],
            [
             0.2,
             "#de77ae"
            ],
            [
             0.3,
             "#f1b6da"
            ],
            [
             0.4,
             "#fde0ef"
            ],
            [
             0.5,
             "#f7f7f7"
            ],
            [
             0.6,
             "#e6f5d0"
            ],
            [
             0.7,
             "#b8e186"
            ],
            [
             0.8,
             "#7fbc41"
            ],
            [
             0.9,
             "#4d9221"
            ],
            [
             1,
             "#276419"
            ]
           ],
           "sequential": [
            [
             0,
             "#0d0887"
            ],
            [
             0.1111111111111111,
             "#46039f"
            ],
            [
             0.2222222222222222,
             "#7201a8"
            ],
            [
             0.3333333333333333,
             "#9c179e"
            ],
            [
             0.4444444444444444,
             "#bd3786"
            ],
            [
             0.5555555555555556,
             "#d8576b"
            ],
            [
             0.6666666666666666,
             "#ed7953"
            ],
            [
             0.7777777777777778,
             "#fb9f3a"
            ],
            [
             0.8888888888888888,
             "#fdca26"
            ],
            [
             1,
             "#f0f921"
            ]
           ],
           "sequentialminus": [
            [
             0,
             "#0d0887"
            ],
            [
             0.1111111111111111,
             "#46039f"
            ],
            [
             0.2222222222222222,
             "#7201a8"
            ],
            [
             0.3333333333333333,
             "#9c179e"
            ],
            [
             0.4444444444444444,
             "#bd3786"
            ],
            [
             0.5555555555555556,
             "#d8576b"
            ],
            [
             0.6666666666666666,
             "#ed7953"
            ],
            [
             0.7777777777777778,
             "#fb9f3a"
            ],
            [
             0.8888888888888888,
             "#fdca26"
            ],
            [
             1,
             "#f0f921"
            ]
           ]
          },
          "colorway": [
           "#636efa",
           "#EF553B",
           "#00cc96",
           "#ab63fa",
           "#FFA15A",
           "#19d3f3",
           "#FF6692",
           "#B6E880",
           "#FF97FF",
           "#FECB52"
          ],
          "font": {
           "color": "#2a3f5f"
          },
          "geo": {
           "bgcolor": "white",
           "lakecolor": "white",
           "landcolor": "#E5ECF6",
           "showlakes": true,
           "showland": true,
           "subunitcolor": "white"
          },
          "hoverlabel": {
           "align": "left"
          },
          "hovermode": "closest",
          "mapbox": {
           "style": "light"
          },
          "paper_bgcolor": "white",
          "plot_bgcolor": "#E5ECF6",
          "polar": {
           "angularaxis": {
            "gridcolor": "white",
            "linecolor": "white",
            "ticks": ""
           },
           "bgcolor": "#E5ECF6",
           "radialaxis": {
            "gridcolor": "white",
            "linecolor": "white",
            "ticks": ""
           }
          },
          "scene": {
           "xaxis": {
            "backgroundcolor": "#E5ECF6",
            "gridcolor": "white",
            "gridwidth": 2,
            "linecolor": "white",
            "showbackground": true,
            "ticks": "",
            "zerolinecolor": "white"
           },
           "yaxis": {
            "backgroundcolor": "#E5ECF6",
            "gridcolor": "white",
            "gridwidth": 2,
            "linecolor": "white",
            "showbackground": true,
            "ticks": "",
            "zerolinecolor": "white"
           },
           "zaxis": {
            "backgroundcolor": "#E5ECF6",
            "gridcolor": "white",
            "gridwidth": 2,
            "linecolor": "white",
            "showbackground": true,
            "ticks": "",
            "zerolinecolor": "white"
           }
          },
          "shapedefaults": {
           "line": {
            "color": "#2a3f5f"
           }
          },
          "ternary": {
           "aaxis": {
            "gridcolor": "white",
            "linecolor": "white",
            "ticks": ""
           },
           "baxis": {
            "gridcolor": "white",
            "linecolor": "white",
            "ticks": ""
           },
           "bgcolor": "#E5ECF6",
           "caxis": {
            "gridcolor": "white",
            "linecolor": "white",
            "ticks": ""
           }
          },
          "title": {
           "x": 0.05
          },
          "xaxis": {
           "automargin": true,
           "gridcolor": "white",
           "linecolor": "white",
           "ticks": "",
           "title": {
            "standoff": 15
           },
           "zerolinecolor": "white",
           "zerolinewidth": 2
          },
          "yaxis": {
           "automargin": true,
           "gridcolor": "white",
           "linecolor": "white",
           "ticks": "",
           "title": {
            "standoff": 15
           },
           "zerolinecolor": "white",
           "zerolinewidth": 2
          }
         }
        },
        "title": {
         "font": {
          "color": "#4D5663"
         }
        },
        "xaxis": {
         "gridcolor": "#E1E5ED",
         "showgrid": true,
         "tickfont": {
          "color": "#4D5663"
         },
         "title": {
          "font": {
           "color": "#4D5663"
          },
          "text": ""
         },
         "zerolinecolor": "#E1E5ED"
        },
        "yaxis": {
         "gridcolor": "#E1E5ED",
         "showgrid": true,
         "tickfont": {
          "color": "#4D5663"
         },
         "title": {
          "font": {
           "color": "#4D5663"
          },
          "text": ""
         },
         "zerolinecolor": "#E1E5ED"
        }
       }
      },
      "text/html": "<div>                            <div id=\"51356c2d-f8f9-4a38-b803-ecd6eb7f9505\" class=\"plotly-graph-div\" style=\"height:525px; width:100%;\"></div>            <script type=\"text/javascript\">                require([\"plotly\"], function(Plotly) {                    window.PLOTLYENV=window.PLOTLYENV || {};\n                    window.PLOTLYENV.BASE_URL='https://plot.ly';                                    if (document.getElementById(\"51356c2d-f8f9-4a38-b803-ecd6eb7f9505\")) {                    Plotly.newPlot(                        \"51356c2d-f8f9-4a38-b803-ecd6eb7f9505\",                        [{\"histfunc\":\"count\",\"histnorm\":\"\",\"marker\":{\"color\":\"rgba(255, 153, 51, 1.0)\",\"line\":{\"color\":\"#4D5663\",\"width\":1.3}},\"name\":\"A\",\"nbinsx\":25,\"opacity\":0.8,\"orientation\":\"v\",\"type\":\"histogram\",\"x\":[-0.25227118008665145,0.06172597997312884,-0.09007588736177649,0.9655665553973772,0.4854660192833101,0.26701802645320244,1.0923931195785344,1.6867856846022133,0.1055984372563579,1.4884028777300893,1.2544325383218051,-0.7041177662348228,-0.6119001641424259,0.18014447538600833,1.155263713036101,-0.3425063374551015,-1.067126111336395,-0.7221525466373608,0.7651090750646531,-1.004545495950125,-0.2637463201554845,0.9270246371655807,-0.5193031631501195,2.2167780068744793,0.3862748792441888,1.1991319730362835,-1.557404376140031,-0.14901869535222126,-1.0024020287011886,0.13131176544298556,0.264598537852816,1.5531042912324888,0.4723615756752949,1.2296567723864706,1.4838948908571272,-0.27145625647809307,1.221844725244573,0.01469204642486503,1.3665996903567188,1.5443386446287324,-1.025123286950699,0.9819935474844267,1.1611796816047524,0.6991418032344212,-0.09106560471621786,-0.28426957089284277,-0.4016892297490613,-0.7774782732898965,-1.7223561231552598,2.460641905242768,0.4815183047281549,0.035806349576061165,0.910594759012117,-2.111067286320529,0.4238597156449524,1.9696836406375793,1.2332022682950836,-0.36656460758235637,1.8230451716552216,0.06966636861757851,1.1458785678701724,1.7385076252864209,-0.7410792987434056,-1.03176211548569,-0.10499217997687547,0.8659742608682182,-1.5783493333238372,-0.3489892902332464,1.4205913357741387,0.3282768542802037,1.20624805647062,0.2784530549906407,-0.7660315306574534,-0.3624752352324765,0.16231001478679416,0.9015722306033053,-0.7315391441263145,0.12354605275732658,0.4762171976821261,-2.0282995125317,0.46788204967415586,-0.2701368232370625,-0.9321784813202924,1.1780347596600362,-0.11206602609647033,0.21176886719477322,-0.8424944426011093,-1.166873584439773,-0.26288821705556603,-1.1033996783872577,0.6627858300113253,-0.6656295927166045,1.1961132505894427,1.9949738834989803,0.07004738586976976,-0.7715662014536142,-0.4528018588980907,-1.25185572951221,0.7625147154525329,-0.6660630083136009]}],                        {\"barmode\":\"overlay\",\"legend\":{\"bgcolor\":\"#F5F6F9\",\"font\":{\"color\":\"#4D5663\"}},\"paper_bgcolor\":\"#F5F6F9\",\"plot_bgcolor\":\"#F5F6F9\",\"template\":{\"data\":{\"bar\":[{\"error_x\":{\"color\":\"#2a3f5f\"},\"error_y\":{\"color\":\"#2a3f5f\"},\"marker\":{\"line\":{\"color\":\"#E5ECF6\",\"width\":0.5},\"pattern\":{\"fillmode\":\"overlay\",\"size\":10,\"solidity\":0.2}},\"type\":\"bar\"}],\"barpolar\":[{\"marker\":{\"line\":{\"color\":\"#E5ECF6\",\"width\":0.5},\"pattern\":{\"fillmode\":\"overlay\",\"size\":10,\"solidity\":0.2}},\"type\":\"barpolar\"}],\"carpet\":[{\"aaxis\":{\"endlinecolor\":\"#2a3f5f\",\"gridcolor\":\"white\",\"linecolor\":\"white\",\"minorgridcolor\":\"white\",\"startlinecolor\":\"#2a3f5f\"},\"baxis\":{\"endlinecolor\":\"#2a3f5f\",\"gridcolor\":\"white\",\"linecolor\":\"white\",\"minorgridcolor\":\"white\",\"startlinecolor\":\"#2a3f5f\"},\"type\":\"carpet\"}],\"choropleth\":[{\"colorbar\":{\"outlinewidth\":0,\"ticks\":\"\"},\"type\":\"choropleth\"}],\"contour\":[{\"colorbar\":{\"outlinewidth\":0,\"ticks\":\"\"},\"colorscale\":[[0.0,\"#0d0887\"],[0.1111111111111111,\"#46039f\"],[0.2222222222222222,\"#7201a8\"],[0.3333333333333333,\"#9c179e\"],[0.4444444444444444,\"#bd3786\"],[0.5555555555555556,\"#d8576b\"],[0.6666666666666666,\"#ed7953\"],[0.7777777777777778,\"#fb9f3a\"],[0.8888888888888888,\"#fdca26\"],[1.0,\"#f0f921\"]],\"type\":\"contour\"}],\"contourcarpet\":[{\"colorbar\":{\"outlinewidth\":0,\"ticks\":\"\"},\"type\":\"contourcarpet\"}],\"heatmap\":[{\"colorbar\":{\"outlinewidth\":0,\"ticks\":\"\"},\"colorscale\":[[0.0,\"#0d0887\"],[0.1111111111111111,\"#46039f\"],[0.2222222222222222,\"#7201a8\"],[0.3333333333333333,\"#9c179e\"],[0.4444444444444444,\"#bd3786\"],[0.5555555555555556,\"#d8576b\"],[0.6666666666666666,\"#ed7953\"],[0.7777777777777778,\"#fb9f3a\"],[0.8888888888888888,\"#fdca26\"],[1.0,\"#f0f921\"]],\"type\":\"heatmap\"}],\"heatmapgl\":[{\"colorbar\":{\"outlinewidth\":0,\"ticks\":\"\"},\"colorscale\":[[0.0,\"#0d0887\"],[0.1111111111111111,\"#46039f\"],[0.2222222222222222,\"#7201a8\"],[0.3333333333333333,\"#9c179e\"],[0.4444444444444444,\"#bd3786\"],[0.5555555555555556,\"#d8576b\"],[0.6666666666666666,\"#ed7953\"],[0.7777777777777778,\"#fb9f3a\"],[0.8888888888888888,\"#fdca26\"],[1.0,\"#f0f921\"]],\"type\":\"heatmapgl\"}],\"histogram\":[{\"marker\":{\"pattern\":{\"fillmode\":\"overlay\",\"size\":10,\"solidity\":0.2}},\"type\":\"histogram\"}],\"histogram2d\":[{\"colorbar\":{\"outlinewidth\":0,\"ticks\":\"\"},\"colorscale\":[[0.0,\"#0d0887\"],[0.1111111111111111,\"#46039f\"],[0.2222222222222222,\"#7201a8\"],[0.3333333333333333,\"#9c179e\"],[0.4444444444444444,\"#bd3786\"],[0.5555555555555556,\"#d8576b\"],[0.6666666666666666,\"#ed7953\"],[0.7777777777777778,\"#fb9f3a\"],[0.8888888888888888,\"#fdca26\"],[1.0,\"#f0f921\"]],\"type\":\"histogram2d\"}],\"histogram2dcontour\":[{\"colorbar\":{\"outlinewidth\":0,\"ticks\":\"\"},\"colorscale\":[[0.0,\"#0d0887\"],[0.1111111111111111,\"#46039f\"],[0.2222222222222222,\"#7201a8\"],[0.3333333333333333,\"#9c179e\"],[0.4444444444444444,\"#bd3786\"],[0.5555555555555556,\"#d8576b\"],[0.6666666666666666,\"#ed7953\"],[0.7777777777777778,\"#fb9f3a\"],[0.8888888888888888,\"#fdca26\"],[1.0,\"#f0f921\"]],\"type\":\"histogram2dcontour\"}],\"mesh3d\":[{\"colorbar\":{\"outlinewidth\":0,\"ticks\":\"\"},\"type\":\"mesh3d\"}],\"parcoords\":[{\"line\":{\"colorbar\":{\"outlinewidth\":0,\"ticks\":\"\"}},\"type\":\"parcoords\"}],\"pie\":[{\"automargin\":true,\"type\":\"pie\"}],\"scatter\":[{\"marker\":{\"colorbar\":{\"outlinewidth\":0,\"ticks\":\"\"}},\"type\":\"scatter\"}],\"scatter3d\":[{\"line\":{\"colorbar\":{\"outlinewidth\":0,\"ticks\":\"\"}},\"marker\":{\"colorbar\":{\"outlinewidth\":0,\"ticks\":\"\"}},\"type\":\"scatter3d\"}],\"scattercarpet\":[{\"marker\":{\"colorbar\":{\"outlinewidth\":0,\"ticks\":\"\"}},\"type\":\"scattercarpet\"}],\"scattergeo\":[{\"marker\":{\"colorbar\":{\"outlinewidth\":0,\"ticks\":\"\"}},\"type\":\"scattergeo\"}],\"scattergl\":[{\"marker\":{\"colorbar\":{\"outlinewidth\":0,\"ticks\":\"\"}},\"type\":\"scattergl\"}],\"scattermapbox\":[{\"marker\":{\"colorbar\":{\"outlinewidth\":0,\"ticks\":\"\"}},\"type\":\"scattermapbox\"}],\"scatterpolar\":[{\"marker\":{\"colorbar\":{\"outlinewidth\":0,\"ticks\":\"\"}},\"type\":\"scatterpolar\"}],\"scatterpolargl\":[{\"marker\":{\"colorbar\":{\"outlinewidth\":0,\"ticks\":\"\"}},\"type\":\"scatterpolargl\"}],\"scatterternary\":[{\"marker\":{\"colorbar\":{\"outlinewidth\":0,\"ticks\":\"\"}},\"type\":\"scatterternary\"}],\"surface\":[{\"colorbar\":{\"outlinewidth\":0,\"ticks\":\"\"},\"colorscale\":[[0.0,\"#0d0887\"],[0.1111111111111111,\"#46039f\"],[0.2222222222222222,\"#7201a8\"],[0.3333333333333333,\"#9c179e\"],[0.4444444444444444,\"#bd3786\"],[0.5555555555555556,\"#d8576b\"],[0.6666666666666666,\"#ed7953\"],[0.7777777777777778,\"#fb9f3a\"],[0.8888888888888888,\"#fdca26\"],[1.0,\"#f0f921\"]],\"type\":\"surface\"}],\"table\":[{\"cells\":{\"fill\":{\"color\":\"#EBF0F8\"},\"line\":{\"color\":\"white\"}},\"header\":{\"fill\":{\"color\":\"#C8D4E3\"},\"line\":{\"color\":\"white\"}},\"type\":\"table\"}]},\"layout\":{\"annotationdefaults\":{\"arrowcolor\":\"#2a3f5f\",\"arrowhead\":0,\"arrowwidth\":1},\"autotypenumbers\":\"strict\",\"coloraxis\":{\"colorbar\":{\"outlinewidth\":0,\"ticks\":\"\"}},\"colorscale\":{\"diverging\":[[0,\"#8e0152\"],[0.1,\"#c51b7d\"],[0.2,\"#de77ae\"],[0.3,\"#f1b6da\"],[0.4,\"#fde0ef\"],[0.5,\"#f7f7f7\"],[0.6,\"#e6f5d0\"],[0.7,\"#b8e186\"],[0.8,\"#7fbc41\"],[0.9,\"#4d9221\"],[1,\"#276419\"]],\"sequential\":[[0.0,\"#0d0887\"],[0.1111111111111111,\"#46039f\"],[0.2222222222222222,\"#7201a8\"],[0.3333333333333333,\"#9c179e\"],[0.4444444444444444,\"#bd3786\"],[0.5555555555555556,\"#d8576b\"],[0.6666666666666666,\"#ed7953\"],[0.7777777777777778,\"#fb9f3a\"],[0.8888888888888888,\"#fdca26\"],[1.0,\"#f0f921\"]],\"sequentialminus\":[[0.0,\"#0d0887\"],[0.1111111111111111,\"#46039f\"],[0.2222222222222222,\"#7201a8\"],[0.3333333333333333,\"#9c179e\"],[0.4444444444444444,\"#bd3786\"],[0.5555555555555556,\"#d8576b\"],[0.6666666666666666,\"#ed7953\"],[0.7777777777777778,\"#fb9f3a\"],[0.8888888888888888,\"#fdca26\"],[1.0,\"#f0f921\"]]},\"colorway\":[\"#636efa\",\"#EF553B\",\"#00cc96\",\"#ab63fa\",\"#FFA15A\",\"#19d3f3\",\"#FF6692\",\"#B6E880\",\"#FF97FF\",\"#FECB52\"],\"font\":{\"color\":\"#2a3f5f\"},\"geo\":{\"bgcolor\":\"white\",\"lakecolor\":\"white\",\"landcolor\":\"#E5ECF6\",\"showlakes\":true,\"showland\":true,\"subunitcolor\":\"white\"},\"hoverlabel\":{\"align\":\"left\"},\"hovermode\":\"closest\",\"mapbox\":{\"style\":\"light\"},\"paper_bgcolor\":\"white\",\"plot_bgcolor\":\"#E5ECF6\",\"polar\":{\"angularaxis\":{\"gridcolor\":\"white\",\"linecolor\":\"white\",\"ticks\":\"\"},\"bgcolor\":\"#E5ECF6\",\"radialaxis\":{\"gridcolor\":\"white\",\"linecolor\":\"white\",\"ticks\":\"\"}},\"scene\":{\"xaxis\":{\"backgroundcolor\":\"#E5ECF6\",\"gridcolor\":\"white\",\"gridwidth\":2,\"linecolor\":\"white\",\"showbackground\":true,\"ticks\":\"\",\"zerolinecolor\":\"white\"},\"yaxis\":{\"backgroundcolor\":\"#E5ECF6\",\"gridcolor\":\"white\",\"gridwidth\":2,\"linecolor\":\"white\",\"showbackground\":true,\"ticks\":\"\",\"zerolinecolor\":\"white\"},\"zaxis\":{\"backgroundcolor\":\"#E5ECF6\",\"gridcolor\":\"white\",\"gridwidth\":2,\"linecolor\":\"white\",\"showbackground\":true,\"ticks\":\"\",\"zerolinecolor\":\"white\"}},\"shapedefaults\":{\"line\":{\"color\":\"#2a3f5f\"}},\"ternary\":{\"aaxis\":{\"gridcolor\":\"white\",\"linecolor\":\"white\",\"ticks\":\"\"},\"baxis\":{\"gridcolor\":\"white\",\"linecolor\":\"white\",\"ticks\":\"\"},\"bgcolor\":\"#E5ECF6\",\"caxis\":{\"gridcolor\":\"white\",\"linecolor\":\"white\",\"ticks\":\"\"}},\"title\":{\"x\":0.05},\"xaxis\":{\"automargin\":true,\"gridcolor\":\"white\",\"linecolor\":\"white\",\"ticks\":\"\",\"title\":{\"standoff\":15},\"zerolinecolor\":\"white\",\"zerolinewidth\":2},\"yaxis\":{\"automargin\":true,\"gridcolor\":\"white\",\"linecolor\":\"white\",\"ticks\":\"\",\"title\":{\"standoff\":15},\"zerolinecolor\":\"white\",\"zerolinewidth\":2}}},\"title\":{\"font\":{\"color\":\"#4D5663\"}},\"xaxis\":{\"gridcolor\":\"#E1E5ED\",\"showgrid\":true,\"tickfont\":{\"color\":\"#4D5663\"},\"title\":{\"font\":{\"color\":\"#4D5663\"},\"text\":\"\"},\"zerolinecolor\":\"#E1E5ED\"},\"yaxis\":{\"gridcolor\":\"#E1E5ED\",\"showgrid\":true,\"tickfont\":{\"color\":\"#4D5663\"},\"title\":{\"font\":{\"color\":\"#4D5663\"},\"text\":\"\"},\"zerolinecolor\":\"#E1E5ED\"}},                        {\"showLink\": true, \"linkText\": \"Export to plot.ly\", \"plotlyServerURL\": \"https://plot.ly\", \"responsive\": true}                    ).then(function(){\n                            \nvar gd = document.getElementById('51356c2d-f8f9-4a38-b803-ecd6eb7f9505');\nvar x = new MutationObserver(function (mutations, observer) {{\n        var display = window.getComputedStyle(gd).display;\n        if (!display || display === 'none') {{\n            console.log([gd, 'removed!']);\n            Plotly.purge(gd);\n            observer.disconnect();\n        }}\n}});\n\n// Listen for the removal of the full notebook cells\nvar notebookContainer = gd.closest('#notebook-container');\nif (notebookContainer) {{\n    x.observe(notebookContainer, {childList: true});\n}}\n\n// Listen for the clearing of the current output cell\nvar outputEl = gd.closest('.output');\nif (outputEl) {{\n    x.observe(outputEl, {childList: true});\n}}\n\n                        })                };                });            </script>        </div>"
     },
     "metadata": {}
    }
   ],
   "source": [
    "df['A'].iplot(kind='hist',bins=25)"
   ]
  },
  {
   "cell_type": "code",
   "execution_count": 18,
   "metadata": {
    "collapsed": false
   },
   "outputs": [
    {
     "output_type": "display_data",
     "data": {
      "application/vnd.plotly.v1+json": {
       "config": {
        "linkText": "Export to plot.ly",
        "plotlyServerURL": "https://plot.ly",
        "showLink": true
       },
       "data": [
        {
         "marker": {
          "color": [
           "rgb(255, 153, 51)",
           "rgb(55, 128, 191)",
           "rgb(50, 171, 96)",
           "rgb(128, 0, 128)",
           "rgb(219, 64, 82)",
           "rgb(0, 128, 128)",
           "rgb(255, 255, 51)",
           "rgb(128, 128, 0)",
           "rgb(251, 128, 114)",
           "rgb(128, 177, 211)"
          ],
          "line": {
           "width": 1.3
          },
          "size": [
           90,
           55,
           21,
           64,
           19,
           58,
           32,
           77,
           54,
           73,
           33,
           23,
           61,
           79,
           84,
           53,
           39,
           68,
           48,
           72,
           68,
           112,
           78,
           92,
           92,
           100,
           45,
           70,
           76,
           47,
           59,
           65,
           67,
           79,
           78,
           97,
           36,
           41,
           47,
           55,
           77,
           74,
           66,
           99,
           85,
           70,
           43,
           48,
           75,
           56,
           58,
           51,
           40,
           29,
           56,
           77,
           94,
           66,
           44,
           100,
           49,
           57,
           58,
           67,
           93,
           98,
           58,
           64,
           12,
           70,
           26,
           38,
           55,
           65,
           60,
           85,
           15,
           53,
           89,
           55,
           14,
           32,
           80,
           58,
           78,
           52,
           82,
           52,
           32,
           38,
           67,
           37,
           86,
           104,
           68,
           70,
           80,
           75,
           33,
           75
          ],
          "symbol": "circle"
         },
         "mode": "markers",
         "text": "",
         "type": "scatter",
         "x": [
          -0.25227118008665145,
          0.06172597997312884,
          -0.09007588736177649,
          0.9655665553973772,
          0.4854660192833101,
          0.26701802645320244,
          1.0923931195785344,
          1.6867856846022133,
          0.1055984372563579,
          1.4884028777300893,
          1.2544325383218051,
          -0.7041177662348228,
          -0.6119001641424259,
          0.18014447538600833,
          1.155263713036101,
          -0.3425063374551015,
          -1.067126111336395,
          -0.7221525466373608,
          0.7651090750646531,
          -1.004545495950125,
          -0.2637463201554845,
          0.9270246371655807,
          -0.5193031631501195,
          2.2167780068744793,
          0.3862748792441888,
          1.1991319730362835,
          -1.557404376140031,
          -0.14901869535222126,
          -1.0024020287011886,
          0.13131176544298556,
          0.264598537852816,
          1.5531042912324888,
          0.4723615756752949,
          1.2296567723864706,
          1.4838948908571272,
          -0.27145625647809307,
          1.221844725244573,
          0.01469204642486503,
          1.3665996903567188,
          1.5443386446287324,
          -1.025123286950699,
          0.9819935474844267,
          1.1611796816047524,
          0.6991418032344212,
          -0.09106560471621786,
          -0.28426957089284277,
          -0.4016892297490613,
          -0.7774782732898965,
          -1.7223561231552598,
          2.460641905242768,
          0.4815183047281549,
          0.035806349576061165,
          0.910594759012117,
          -2.111067286320529,
          0.4238597156449524,
          1.9696836406375793,
          1.2332022682950836,
          -0.36656460758235637,
          1.8230451716552216,
          0.06966636861757851,
          1.1458785678701724,
          1.7385076252864209,
          -0.7410792987434056,
          -1.03176211548569,
          -0.10499217997687547,
          0.8659742608682182,
          -1.5783493333238372,
          -0.3489892902332464,
          1.4205913357741387,
          0.3282768542802037,
          1.20624805647062,
          0.2784530549906407,
          -0.7660315306574534,
          -0.3624752352324765,
          0.16231001478679416,
          0.9015722306033053,
          -0.7315391441263145,
          0.12354605275732658,
          0.4762171976821261,
          -2.0282995125317,
          0.46788204967415586,
          -0.2701368232370625,
          -0.9321784813202924,
          1.1780347596600362,
          -0.11206602609647033,
          0.21176886719477322,
          -0.8424944426011093,
          -1.166873584439773,
          -0.26288821705556603,
          -1.1033996783872577,
          0.6627858300113253,
          -0.6656295927166045,
          1.1961132505894427,
          1.9949738834989803,
          0.07004738586976976,
          -0.7715662014536142,
          -0.4528018588980907,
          -1.25185572951221,
          0.7625147154525329,
          -0.6660630083136009
         ],
         "y": [
          -0.24429798139803324,
          -0.08140072026070258,
          -0.3440352221324289,
          -2.3053151000556555,
          -0.6497290247349842,
          0.995013179423379,
          1.4482732817312591,
          -0.9725458639710425,
          -0.0466569137740196,
          -1.3294228665276946,
          -0.8247119481275208,
          0.27609613535962857,
          -0.09473417124123408,
          1.2352309586310322,
          -1.9737731840246349,
          1.61911094645423,
          -0.26661304242337575,
          -0.2883173900689931,
          -1.1166915254776921,
          -0.2944092679714753,
          -0.8519120009667719,
          1.5669506335703582,
          1.3055588979130333,
          1.2996456459533428,
          0.9298325077994817,
          0.5737059413597119,
          0.901327794240818,
          -0.6131682683010122,
          1.9757524385077965,
          0.02801892591066275,
          1.169958911979349,
          0.8337790525973593,
          -1.0860858018918167,
          2.127483822808999,
          -1.1224068626293964,
          0.14436058310809521,
          0.8523129002351462,
          -0.9339966382509564,
          -0.5246945159001554,
          1.7368746659269374,
          0.7841996410852168,
          0.24964765334285305,
          2.0156034157433926,
          1.0005055998758337,
          1.661505139907902,
          1.2799660531362713,
          0.7706834184475058,
          0.5369875645341228,
          -0.09155641558534112,
          -0.49511281408638624,
          1.5529183028908848,
          2.4609964757075518,
          1.1664358569786706,
          -2.0914361872843417,
          -0.6989200878865848,
          0.5066218678795223,
          -0.49718418195862507,
          -0.8960658802881825,
          0.7227373881394722,
          -0.13499945108069203,
          -0.8630493471228109,
          0.15196771672118464,
          -1.2069214985814378,
          0.8226934690856887,
          -0.71909089288083,
          0.45993752341927757,
          -0.034813632030634006,
          -0.28989428438974524,
          -1.8318618123062496,
          -1.221478771149326,
          -1.600010335978149,
          -0.7345603641391674,
          -0.15027775675031024,
          -1.3646714770060189,
          -0.7785787421800132,
          -0.9751390197139149,
          0.6132892263431378,
          -1.3768478976549485,
          -1.4490455174948522,
          -0.03822645435966252,
          0.31517972419972795,
          -0.8588798522560479,
          1.1898640603599298,
          -1.6626037943520315,
          0.2667829198371369,
          2.1921221149600263,
          0.29320163830816354,
          0.43158584935104316,
          -0.4676397959356081,
          -0.5065838296651279,
          0.6305038259893719,
          0.2450240269975526,
          0.2752188120259105,
          0.6218735185660969,
          -1.69428883235597,
          -0.1425658102952103,
          -0.38355665675155454,
          -0.2571761083843813,
          -0.571611317316897,
          -0.9584551972239918
         ]
        }
       ],
       "layout": {
        "legend": {
         "bgcolor": "#F5F6F9",
         "font": {
          "color": "#4D5663"
         }
        },
        "paper_bgcolor": "#F5F6F9",
        "plot_bgcolor": "#F5F6F9",
        "template": {
         "data": {
          "bar": [
           {
            "error_x": {
             "color": "#2a3f5f"
            },
            "error_y": {
             "color": "#2a3f5f"
            },
            "marker": {
             "line": {
              "color": "#E5ECF6",
              "width": 0.5
             },
             "pattern": {
              "fillmode": "overlay",
              "size": 10,
              "solidity": 0.2
             }
            },
            "type": "bar"
           }
          ],
          "barpolar": [
           {
            "marker": {
             "line": {
              "color": "#E5ECF6",
              "width": 0.5
             },
             "pattern": {
              "fillmode": "overlay",
              "size": 10,
              "solidity": 0.2
             }
            },
            "type": "barpolar"
           }
          ],
          "carpet": [
           {
            "aaxis": {
             "endlinecolor": "#2a3f5f",
             "gridcolor": "white",
             "linecolor": "white",
             "minorgridcolor": "white",
             "startlinecolor": "#2a3f5f"
            },
            "baxis": {
             "endlinecolor": "#2a3f5f",
             "gridcolor": "white",
             "linecolor": "white",
             "minorgridcolor": "white",
             "startlinecolor": "#2a3f5f"
            },
            "type": "carpet"
           }
          ],
          "choropleth": [
           {
            "colorbar": {
             "outlinewidth": 0,
             "ticks": ""
            },
            "type": "choropleth"
           }
          ],
          "contour": [
           {
            "colorbar": {
             "outlinewidth": 0,
             "ticks": ""
            },
            "colorscale": [
             [
              0,
              "#0d0887"
             ],
             [
              0.1111111111111111,
              "#46039f"
             ],
             [
              0.2222222222222222,
              "#7201a8"
             ],
             [
              0.3333333333333333,
              "#9c179e"
             ],
             [
              0.4444444444444444,
              "#bd3786"
             ],
             [
              0.5555555555555556,
              "#d8576b"
             ],
             [
              0.6666666666666666,
              "#ed7953"
             ],
             [
              0.7777777777777778,
              "#fb9f3a"
             ],
             [
              0.8888888888888888,
              "#fdca26"
             ],
             [
              1,
              "#f0f921"
             ]
            ],
            "type": "contour"
           }
          ],
          "contourcarpet": [
           {
            "colorbar": {
             "outlinewidth": 0,
             "ticks": ""
            },
            "type": "contourcarpet"
           }
          ],
          "heatmap": [
           {
            "colorbar": {
             "outlinewidth": 0,
             "ticks": ""
            },
            "colorscale": [
             [
              0,
              "#0d0887"
             ],
             [
              0.1111111111111111,
              "#46039f"
             ],
             [
              0.2222222222222222,
              "#7201a8"
             ],
             [
              0.3333333333333333,
              "#9c179e"
             ],
             [
              0.4444444444444444,
              "#bd3786"
             ],
             [
              0.5555555555555556,
              "#d8576b"
             ],
             [
              0.6666666666666666,
              "#ed7953"
             ],
             [
              0.7777777777777778,
              "#fb9f3a"
             ],
             [
              0.8888888888888888,
              "#fdca26"
             ],
             [
              1,
              "#f0f921"
             ]
            ],
            "type": "heatmap"
           }
          ],
          "heatmapgl": [
           {
            "colorbar": {
             "outlinewidth": 0,
             "ticks": ""
            },
            "colorscale": [
             [
              0,
              "#0d0887"
             ],
             [
              0.1111111111111111,
              "#46039f"
             ],
             [
              0.2222222222222222,
              "#7201a8"
             ],
             [
              0.3333333333333333,
              "#9c179e"
             ],
             [
              0.4444444444444444,
              "#bd3786"
             ],
             [
              0.5555555555555556,
              "#d8576b"
             ],
             [
              0.6666666666666666,
              "#ed7953"
             ],
             [
              0.7777777777777778,
              "#fb9f3a"
             ],
             [
              0.8888888888888888,
              "#fdca26"
             ],
             [
              1,
              "#f0f921"
             ]
            ],
            "type": "heatmapgl"
           }
          ],
          "histogram": [
           {
            "marker": {
             "pattern": {
              "fillmode": "overlay",
              "size": 10,
              "solidity": 0.2
             }
            },
            "type": "histogram"
           }
          ],
          "histogram2d": [
           {
            "colorbar": {
             "outlinewidth": 0,
             "ticks": ""
            },
            "colorscale": [
             [
              0,
              "#0d0887"
             ],
             [
              0.1111111111111111,
              "#46039f"
             ],
             [
              0.2222222222222222,
              "#7201a8"
             ],
             [
              0.3333333333333333,
              "#9c179e"
             ],
             [
              0.4444444444444444,
              "#bd3786"
             ],
             [
              0.5555555555555556,
              "#d8576b"
             ],
             [
              0.6666666666666666,
              "#ed7953"
             ],
             [
              0.7777777777777778,
              "#fb9f3a"
             ],
             [
              0.8888888888888888,
              "#fdca26"
             ],
             [
              1,
              "#f0f921"
             ]
            ],
            "type": "histogram2d"
           }
          ],
          "histogram2dcontour": [
           {
            "colorbar": {
             "outlinewidth": 0,
             "ticks": ""
            },
            "colorscale": [
             [
              0,
              "#0d0887"
             ],
             [
              0.1111111111111111,
              "#46039f"
             ],
             [
              0.2222222222222222,
              "#7201a8"
             ],
             [
              0.3333333333333333,
              "#9c179e"
             ],
             [
              0.4444444444444444,
              "#bd3786"
             ],
             [
              0.5555555555555556,
              "#d8576b"
             ],
             [
              0.6666666666666666,
              "#ed7953"
             ],
             [
              0.7777777777777778,
              "#fb9f3a"
             ],
             [
              0.8888888888888888,
              "#fdca26"
             ],
             [
              1,
              "#f0f921"
             ]
            ],
            "type": "histogram2dcontour"
           }
          ],
          "mesh3d": [
           {
            "colorbar": {
             "outlinewidth": 0,
             "ticks": ""
            },
            "type": "mesh3d"
           }
          ],
          "parcoords": [
           {
            "line": {
             "colorbar": {
              "outlinewidth": 0,
              "ticks": ""
             }
            },
            "type": "parcoords"
           }
          ],
          "pie": [
           {
            "automargin": true,
            "type": "pie"
           }
          ],
          "scatter": [
           {
            "marker": {
             "colorbar": {
              "outlinewidth": 0,
              "ticks": ""
             }
            },
            "type": "scatter"
           }
          ],
          "scatter3d": [
           {
            "line": {
             "colorbar": {
              "outlinewidth": 0,
              "ticks": ""
             }
            },
            "marker": {
             "colorbar": {
              "outlinewidth": 0,
              "ticks": ""
             }
            },
            "type": "scatter3d"
           }
          ],
          "scattercarpet": [
           {
            "marker": {
             "colorbar": {
              "outlinewidth": 0,
              "ticks": ""
             }
            },
            "type": "scattercarpet"
           }
          ],
          "scattergeo": [
           {
            "marker": {
             "colorbar": {
              "outlinewidth": 0,
              "ticks": ""
             }
            },
            "type": "scattergeo"
           }
          ],
          "scattergl": [
           {
            "marker": {
             "colorbar": {
              "outlinewidth": 0,
              "ticks": ""
             }
            },
            "type": "scattergl"
           }
          ],
          "scattermapbox": [
           {
            "marker": {
             "colorbar": {
              "outlinewidth": 0,
              "ticks": ""
             }
            },
            "type": "scattermapbox"
           }
          ],
          "scatterpolar": [
           {
            "marker": {
             "colorbar": {
              "outlinewidth": 0,
              "ticks": ""
             }
            },
            "type": "scatterpolar"
           }
          ],
          "scatterpolargl": [
           {
            "marker": {
             "colorbar": {
              "outlinewidth": 0,
              "ticks": ""
             }
            },
            "type": "scatterpolargl"
           }
          ],
          "scatterternary": [
           {
            "marker": {
             "colorbar": {
              "outlinewidth": 0,
              "ticks": ""
             }
            },
            "type": "scatterternary"
           }
          ],
          "surface": [
           {
            "colorbar": {
             "outlinewidth": 0,
             "ticks": ""
            },
            "colorscale": [
             [
              0,
              "#0d0887"
             ],
             [
              0.1111111111111111,
              "#46039f"
             ],
             [
              0.2222222222222222,
              "#7201a8"
             ],
             [
              0.3333333333333333,
              "#9c179e"
             ],
             [
              0.4444444444444444,
              "#bd3786"
             ],
             [
              0.5555555555555556,
              "#d8576b"
             ],
             [
              0.6666666666666666,
              "#ed7953"
             ],
             [
              0.7777777777777778,
              "#fb9f3a"
             ],
             [
              0.8888888888888888,
              "#fdca26"
             ],
             [
              1,
              "#f0f921"
             ]
            ],
            "type": "surface"
           }
          ],
          "table": [
           {
            "cells": {
             "fill": {
              "color": "#EBF0F8"
             },
             "line": {
              "color": "white"
             }
            },
            "header": {
             "fill": {
              "color": "#C8D4E3"
             },
             "line": {
              "color": "white"
             }
            },
            "type": "table"
           }
          ]
         },
         "layout": {
          "annotationdefaults": {
           "arrowcolor": "#2a3f5f",
           "arrowhead": 0,
           "arrowwidth": 1
          },
          "autotypenumbers": "strict",
          "coloraxis": {
           "colorbar": {
            "outlinewidth": 0,
            "ticks": ""
           }
          },
          "colorscale": {
           "diverging": [
            [
             0,
             "#8e0152"
            ],
            [
             0.1,
             "#c51b7d"
            ],
            [
             0.2,
             "#de77ae"
            ],
            [
             0.3,
             "#f1b6da"
            ],
            [
             0.4,
             "#fde0ef"
            ],
            [
             0.5,
             "#f7f7f7"
            ],
            [
             0.6,
             "#e6f5d0"
            ],
            [
             0.7,
             "#b8e186"
            ],
            [
             0.8,
             "#7fbc41"
            ],
            [
             0.9,
             "#4d9221"
            ],
            [
             1,
             "#276419"
            ]
           ],
           "sequential": [
            [
             0,
             "#0d0887"
            ],
            [
             0.1111111111111111,
             "#46039f"
            ],
            [
             0.2222222222222222,
             "#7201a8"
            ],
            [
             0.3333333333333333,
             "#9c179e"
            ],
            [
             0.4444444444444444,
             "#bd3786"
            ],
            [
             0.5555555555555556,
             "#d8576b"
            ],
            [
             0.6666666666666666,
             "#ed7953"
            ],
            [
             0.7777777777777778,
             "#fb9f3a"
            ],
            [
             0.8888888888888888,
             "#fdca26"
            ],
            [
             1,
             "#f0f921"
            ]
           ],
           "sequentialminus": [
            [
             0,
             "#0d0887"
            ],
            [
             0.1111111111111111,
             "#46039f"
            ],
            [
             0.2222222222222222,
             "#7201a8"
            ],
            [
             0.3333333333333333,
             "#9c179e"
            ],
            [
             0.4444444444444444,
             "#bd3786"
            ],
            [
             0.5555555555555556,
             "#d8576b"
            ],
            [
             0.6666666666666666,
             "#ed7953"
            ],
            [
             0.7777777777777778,
             "#fb9f3a"
            ],
            [
             0.8888888888888888,
             "#fdca26"
            ],
            [
             1,
             "#f0f921"
            ]
           ]
          },
          "colorway": [
           "#636efa",
           "#EF553B",
           "#00cc96",
           "#ab63fa",
           "#FFA15A",
           "#19d3f3",
           "#FF6692",
           "#B6E880",
           "#FF97FF",
           "#FECB52"
          ],
          "font": {
           "color": "#2a3f5f"
          },
          "geo": {
           "bgcolor": "white",
           "lakecolor": "white",
           "landcolor": "#E5ECF6",
           "showlakes": true,
           "showland": true,
           "subunitcolor": "white"
          },
          "hoverlabel": {
           "align": "left"
          },
          "hovermode": "closest",
          "mapbox": {
           "style": "light"
          },
          "paper_bgcolor": "white",
          "plot_bgcolor": "#E5ECF6",
          "polar": {
           "angularaxis": {
            "gridcolor": "white",
            "linecolor": "white",
            "ticks": ""
           },
           "bgcolor": "#E5ECF6",
           "radialaxis": {
            "gridcolor": "white",
            "linecolor": "white",
            "ticks": ""
           }
          },
          "scene": {
           "xaxis": {
            "backgroundcolor": "#E5ECF6",
            "gridcolor": "white",
            "gridwidth": 2,
            "linecolor": "white",
            "showbackground": true,
            "ticks": "",
            "zerolinecolor": "white"
           },
           "yaxis": {
            "backgroundcolor": "#E5ECF6",
            "gridcolor": "white",
            "gridwidth": 2,
            "linecolor": "white",
            "showbackground": true,
            "ticks": "",
            "zerolinecolor": "white"
           },
           "zaxis": {
            "backgroundcolor": "#E5ECF6",
            "gridcolor": "white",
            "gridwidth": 2,
            "linecolor": "white",
            "showbackground": true,
            "ticks": "",
            "zerolinecolor": "white"
           }
          },
          "shapedefaults": {
           "line": {
            "color": "#2a3f5f"
           }
          },
          "ternary": {
           "aaxis": {
            "gridcolor": "white",
            "linecolor": "white",
            "ticks": ""
           },
           "baxis": {
            "gridcolor": "white",
            "linecolor": "white",
            "ticks": ""
           },
           "bgcolor": "#E5ECF6",
           "caxis": {
            "gridcolor": "white",
            "linecolor": "white",
            "ticks": ""
           }
          },
          "title": {
           "x": 0.05
          },
          "xaxis": {
           "automargin": true,
           "gridcolor": "white",
           "linecolor": "white",
           "ticks": "",
           "title": {
            "standoff": 15
           },
           "zerolinecolor": "white",
           "zerolinewidth": 2
          },
          "yaxis": {
           "automargin": true,
           "gridcolor": "white",
           "linecolor": "white",
           "ticks": "",
           "title": {
            "standoff": 15
           },
           "zerolinecolor": "white",
           "zerolinewidth": 2
          }
         }
        },
        "title": {
         "font": {
          "color": "#4D5663"
         }
        },
        "xaxis": {
         "gridcolor": "#E1E5ED",
         "showgrid": true,
         "tickfont": {
          "color": "#4D5663"
         },
         "title": {
          "font": {
           "color": "#4D5663"
          },
          "text": ""
         },
         "zerolinecolor": "#E1E5ED"
        },
        "yaxis": {
         "gridcolor": "#E1E5ED",
         "showgrid": true,
         "tickfont": {
          "color": "#4D5663"
         },
         "title": {
          "font": {
           "color": "#4D5663"
          },
          "text": ""
         },
         "zerolinecolor": "#E1E5ED"
        }
       }
      },
      "text/html": "<div>                            <div id=\"45d86c52-0f16-464b-a3aa-af91ef83b9e4\" class=\"plotly-graph-div\" style=\"height:525px; width:100%;\"></div>            <script type=\"text/javascript\">                require([\"plotly\"], function(Plotly) {                    window.PLOTLYENV=window.PLOTLYENV || {};\n                    window.PLOTLYENV.BASE_URL='https://plot.ly';                                    if (document.getElementById(\"45d86c52-0f16-464b-a3aa-af91ef83b9e4\")) {                    Plotly.newPlot(                        \"45d86c52-0f16-464b-a3aa-af91ef83b9e4\",                        [{\"marker\":{\"color\":[\"rgb(255, 153, 51)\",\"rgb(55, 128, 191)\",\"rgb(50, 171, 96)\",\"rgb(128, 0, 128)\",\"rgb(219, 64, 82)\",\"rgb(0, 128, 128)\",\"rgb(255, 255, 51)\",\"rgb(128, 128, 0)\",\"rgb(251, 128, 114)\",\"rgb(128, 177, 211)\"],\"line\":{\"width\":1.3},\"size\":[90,55,21,64,19,58,32,77,54,73,33,23,61,79,84,53,39,68,48,72,68,112,78,92,92,100,45,70,76,47,59,65,67,79,78,97,36,41,47,55,77,74,66,99,85,70,43,48,75,56,58,51,40,29,56,77,94,66,44,100,49,57,58,67,93,98,58,64,12,70,26,38,55,65,60,85,15,53,89,55,14,32,80,58,78,52,82,52,32,38,67,37,86,104,68,70,80,75,33,75],\"symbol\":\"circle\"},\"mode\":\"markers\",\"text\":\"\",\"type\":\"scatter\",\"x\":[-0.25227118008665145,0.06172597997312884,-0.09007588736177649,0.9655665553973772,0.4854660192833101,0.26701802645320244,1.0923931195785344,1.6867856846022133,0.1055984372563579,1.4884028777300893,1.2544325383218051,-0.7041177662348228,-0.6119001641424259,0.18014447538600833,1.155263713036101,-0.3425063374551015,-1.067126111336395,-0.7221525466373608,0.7651090750646531,-1.004545495950125,-0.2637463201554845,0.9270246371655807,-0.5193031631501195,2.2167780068744793,0.3862748792441888,1.1991319730362835,-1.557404376140031,-0.14901869535222126,-1.0024020287011886,0.13131176544298556,0.264598537852816,1.5531042912324888,0.4723615756752949,1.2296567723864706,1.4838948908571272,-0.27145625647809307,1.221844725244573,0.01469204642486503,1.3665996903567188,1.5443386446287324,-1.025123286950699,0.9819935474844267,1.1611796816047524,0.6991418032344212,-0.09106560471621786,-0.28426957089284277,-0.4016892297490613,-0.7774782732898965,-1.7223561231552598,2.460641905242768,0.4815183047281549,0.035806349576061165,0.910594759012117,-2.111067286320529,0.4238597156449524,1.9696836406375793,1.2332022682950836,-0.36656460758235637,1.8230451716552216,0.06966636861757851,1.1458785678701724,1.7385076252864209,-0.7410792987434056,-1.03176211548569,-0.10499217997687547,0.8659742608682182,-1.5783493333238372,-0.3489892902332464,1.4205913357741387,0.3282768542802037,1.20624805647062,0.2784530549906407,-0.7660315306574534,-0.3624752352324765,0.16231001478679416,0.9015722306033053,-0.7315391441263145,0.12354605275732658,0.4762171976821261,-2.0282995125317,0.46788204967415586,-0.2701368232370625,-0.9321784813202924,1.1780347596600362,-0.11206602609647033,0.21176886719477322,-0.8424944426011093,-1.166873584439773,-0.26288821705556603,-1.1033996783872577,0.6627858300113253,-0.6656295927166045,1.1961132505894427,1.9949738834989803,0.07004738586976976,-0.7715662014536142,-0.4528018588980907,-1.25185572951221,0.7625147154525329,-0.6660630083136009],\"y\":[-0.24429798139803324,-0.08140072026070258,-0.3440352221324289,-2.3053151000556555,-0.6497290247349842,0.995013179423379,1.4482732817312591,-0.9725458639710425,-0.0466569137740196,-1.3294228665276946,-0.8247119481275208,0.27609613535962857,-0.09473417124123408,1.2352309586310322,-1.9737731840246349,1.61911094645423,-0.26661304242337575,-0.2883173900689931,-1.1166915254776921,-0.2944092679714753,-0.8519120009667719,1.5669506335703582,1.3055588979130333,1.2996456459533428,0.9298325077994817,0.5737059413597119,0.901327794240818,-0.6131682683010122,1.9757524385077965,0.02801892591066275,1.169958911979349,0.8337790525973593,-1.0860858018918167,2.127483822808999,-1.1224068626293964,0.14436058310809521,0.8523129002351462,-0.9339966382509564,-0.5246945159001554,1.7368746659269374,0.7841996410852168,0.24964765334285305,2.0156034157433926,1.0005055998758337,1.661505139907902,1.2799660531362713,0.7706834184475058,0.5369875645341228,-0.09155641558534112,-0.49511281408638624,1.5529183028908848,2.4609964757075518,1.1664358569786706,-2.0914361872843417,-0.6989200878865848,0.5066218678795223,-0.49718418195862507,-0.8960658802881825,0.7227373881394722,-0.13499945108069203,-0.8630493471228109,0.15196771672118464,-1.2069214985814378,0.8226934690856887,-0.71909089288083,0.45993752341927757,-0.034813632030634006,-0.28989428438974524,-1.8318618123062496,-1.221478771149326,-1.600010335978149,-0.7345603641391674,-0.15027775675031024,-1.3646714770060189,-0.7785787421800132,-0.9751390197139149,0.6132892263431378,-1.3768478976549485,-1.4490455174948522,-0.03822645435966252,0.31517972419972795,-0.8588798522560479,1.1898640603599298,-1.6626037943520315,0.2667829198371369,2.1921221149600263,0.29320163830816354,0.43158584935104316,-0.4676397959356081,-0.5065838296651279,0.6305038259893719,0.2450240269975526,0.2752188120259105,0.6218735185660969,-1.69428883235597,-0.1425658102952103,-0.38355665675155454,-0.2571761083843813,-0.571611317316897,-0.9584551972239918]}],                        {\"legend\":{\"bgcolor\":\"#F5F6F9\",\"font\":{\"color\":\"#4D5663\"}},\"paper_bgcolor\":\"#F5F6F9\",\"plot_bgcolor\":\"#F5F6F9\",\"template\":{\"data\":{\"bar\":[{\"error_x\":{\"color\":\"#2a3f5f\"},\"error_y\":{\"color\":\"#2a3f5f\"},\"marker\":{\"line\":{\"color\":\"#E5ECF6\",\"width\":0.5},\"pattern\":{\"fillmode\":\"overlay\",\"size\":10,\"solidity\":0.2}},\"type\":\"bar\"}],\"barpolar\":[{\"marker\":{\"line\":{\"color\":\"#E5ECF6\",\"width\":0.5},\"pattern\":{\"fillmode\":\"overlay\",\"size\":10,\"solidity\":0.2}},\"type\":\"barpolar\"}],\"carpet\":[{\"aaxis\":{\"endlinecolor\":\"#2a3f5f\",\"gridcolor\":\"white\",\"linecolor\":\"white\",\"minorgridcolor\":\"white\",\"startlinecolor\":\"#2a3f5f\"},\"baxis\":{\"endlinecolor\":\"#2a3f5f\",\"gridcolor\":\"white\",\"linecolor\":\"white\",\"minorgridcolor\":\"white\",\"startlinecolor\":\"#2a3f5f\"},\"type\":\"carpet\"}],\"choropleth\":[{\"colorbar\":{\"outlinewidth\":0,\"ticks\":\"\"},\"type\":\"choropleth\"}],\"contour\":[{\"colorbar\":{\"outlinewidth\":0,\"ticks\":\"\"},\"colorscale\":[[0.0,\"#0d0887\"],[0.1111111111111111,\"#46039f\"],[0.2222222222222222,\"#7201a8\"],[0.3333333333333333,\"#9c179e\"],[0.4444444444444444,\"#bd3786\"],[0.5555555555555556,\"#d8576b\"],[0.6666666666666666,\"#ed7953\"],[0.7777777777777778,\"#fb9f3a\"],[0.8888888888888888,\"#fdca26\"],[1.0,\"#f0f921\"]],\"type\":\"contour\"}],\"contourcarpet\":[{\"colorbar\":{\"outlinewidth\":0,\"ticks\":\"\"},\"type\":\"contourcarpet\"}],\"heatmap\":[{\"colorbar\":{\"outlinewidth\":0,\"ticks\":\"\"},\"colorscale\":[[0.0,\"#0d0887\"],[0.1111111111111111,\"#46039f\"],[0.2222222222222222,\"#7201a8\"],[0.3333333333333333,\"#9c179e\"],[0.4444444444444444,\"#bd3786\"],[0.5555555555555556,\"#d8576b\"],[0.6666666666666666,\"#ed7953\"],[0.7777777777777778,\"#fb9f3a\"],[0.8888888888888888,\"#fdca26\"],[1.0,\"#f0f921\"]],\"type\":\"heatmap\"}],\"heatmapgl\":[{\"colorbar\":{\"outlinewidth\":0,\"ticks\":\"\"},\"colorscale\":[[0.0,\"#0d0887\"],[0.1111111111111111,\"#46039f\"],[0.2222222222222222,\"#7201a8\"],[0.3333333333333333,\"#9c179e\"],[0.4444444444444444,\"#bd3786\"],[0.5555555555555556,\"#d8576b\"],[0.6666666666666666,\"#ed7953\"],[0.7777777777777778,\"#fb9f3a\"],[0.8888888888888888,\"#fdca26\"],[1.0,\"#f0f921\"]],\"type\":\"heatmapgl\"}],\"histogram\":[{\"marker\":{\"pattern\":{\"fillmode\":\"overlay\",\"size\":10,\"solidity\":0.2}},\"type\":\"histogram\"}],\"histogram2d\":[{\"colorbar\":{\"outlinewidth\":0,\"ticks\":\"\"},\"colorscale\":[[0.0,\"#0d0887\"],[0.1111111111111111,\"#46039f\"],[0.2222222222222222,\"#7201a8\"],[0.3333333333333333,\"#9c179e\"],[0.4444444444444444,\"#bd3786\"],[0.5555555555555556,\"#d8576b\"],[0.6666666666666666,\"#ed7953\"],[0.7777777777777778,\"#fb9f3a\"],[0.8888888888888888,\"#fdca26\"],[1.0,\"#f0f921\"]],\"type\":\"histogram2d\"}],\"histogram2dcontour\":[{\"colorbar\":{\"outlinewidth\":0,\"ticks\":\"\"},\"colorscale\":[[0.0,\"#0d0887\"],[0.1111111111111111,\"#46039f\"],[0.2222222222222222,\"#7201a8\"],[0.3333333333333333,\"#9c179e\"],[0.4444444444444444,\"#bd3786\"],[0.5555555555555556,\"#d8576b\"],[0.6666666666666666,\"#ed7953\"],[0.7777777777777778,\"#fb9f3a\"],[0.8888888888888888,\"#fdca26\"],[1.0,\"#f0f921\"]],\"type\":\"histogram2dcontour\"}],\"mesh3d\":[{\"colorbar\":{\"outlinewidth\":0,\"ticks\":\"\"},\"type\":\"mesh3d\"}],\"parcoords\":[{\"line\":{\"colorbar\":{\"outlinewidth\":0,\"ticks\":\"\"}},\"type\":\"parcoords\"}],\"pie\":[{\"automargin\":true,\"type\":\"pie\"}],\"scatter\":[{\"marker\":{\"colorbar\":{\"outlinewidth\":0,\"ticks\":\"\"}},\"type\":\"scatter\"}],\"scatter3d\":[{\"line\":{\"colorbar\":{\"outlinewidth\":0,\"ticks\":\"\"}},\"marker\":{\"colorbar\":{\"outlinewidth\":0,\"ticks\":\"\"}},\"type\":\"scatter3d\"}],\"scattercarpet\":[{\"marker\":{\"colorbar\":{\"outlinewidth\":0,\"ticks\":\"\"}},\"type\":\"scattercarpet\"}],\"scattergeo\":[{\"marker\":{\"colorbar\":{\"outlinewidth\":0,\"ticks\":\"\"}},\"type\":\"scattergeo\"}],\"scattergl\":[{\"marker\":{\"colorbar\":{\"outlinewidth\":0,\"ticks\":\"\"}},\"type\":\"scattergl\"}],\"scattermapbox\":[{\"marker\":{\"colorbar\":{\"outlinewidth\":0,\"ticks\":\"\"}},\"type\":\"scattermapbox\"}],\"scatterpolar\":[{\"marker\":{\"colorbar\":{\"outlinewidth\":0,\"ticks\":\"\"}},\"type\":\"scatterpolar\"}],\"scatterpolargl\":[{\"marker\":{\"colorbar\":{\"outlinewidth\":0,\"ticks\":\"\"}},\"type\":\"scatterpolargl\"}],\"scatterternary\":[{\"marker\":{\"colorbar\":{\"outlinewidth\":0,\"ticks\":\"\"}},\"type\":\"scatterternary\"}],\"surface\":[{\"colorbar\":{\"outlinewidth\":0,\"ticks\":\"\"},\"colorscale\":[[0.0,\"#0d0887\"],[0.1111111111111111,\"#46039f\"],[0.2222222222222222,\"#7201a8\"],[0.3333333333333333,\"#9c179e\"],[0.4444444444444444,\"#bd3786\"],[0.5555555555555556,\"#d8576b\"],[0.6666666666666666,\"#ed7953\"],[0.7777777777777778,\"#fb9f3a\"],[0.8888888888888888,\"#fdca26\"],[1.0,\"#f0f921\"]],\"type\":\"surface\"}],\"table\":[{\"cells\":{\"fill\":{\"color\":\"#EBF0F8\"},\"line\":{\"color\":\"white\"}},\"header\":{\"fill\":{\"color\":\"#C8D4E3\"},\"line\":{\"color\":\"white\"}},\"type\":\"table\"}]},\"layout\":{\"annotationdefaults\":{\"arrowcolor\":\"#2a3f5f\",\"arrowhead\":0,\"arrowwidth\":1},\"autotypenumbers\":\"strict\",\"coloraxis\":{\"colorbar\":{\"outlinewidth\":0,\"ticks\":\"\"}},\"colorscale\":{\"diverging\":[[0,\"#8e0152\"],[0.1,\"#c51b7d\"],[0.2,\"#de77ae\"],[0.3,\"#f1b6da\"],[0.4,\"#fde0ef\"],[0.5,\"#f7f7f7\"],[0.6,\"#e6f5d0\"],[0.7,\"#b8e186\"],[0.8,\"#7fbc41\"],[0.9,\"#4d9221\"],[1,\"#276419\"]],\"sequential\":[[0.0,\"#0d0887\"],[0.1111111111111111,\"#46039f\"],[0.2222222222222222,\"#7201a8\"],[0.3333333333333333,\"#9c179e\"],[0.4444444444444444,\"#bd3786\"],[0.5555555555555556,\"#d8576b\"],[0.6666666666666666,\"#ed7953\"],[0.7777777777777778,\"#fb9f3a\"],[0.8888888888888888,\"#fdca26\"],[1.0,\"#f0f921\"]],\"sequentialminus\":[[0.0,\"#0d0887\"],[0.1111111111111111,\"#46039f\"],[0.2222222222222222,\"#7201a8\"],[0.3333333333333333,\"#9c179e\"],[0.4444444444444444,\"#bd3786\"],[0.5555555555555556,\"#d8576b\"],[0.6666666666666666,\"#ed7953\"],[0.7777777777777778,\"#fb9f3a\"],[0.8888888888888888,\"#fdca26\"],[1.0,\"#f0f921\"]]},\"colorway\":[\"#636efa\",\"#EF553B\",\"#00cc96\",\"#ab63fa\",\"#FFA15A\",\"#19d3f3\",\"#FF6692\",\"#B6E880\",\"#FF97FF\",\"#FECB52\"],\"font\":{\"color\":\"#2a3f5f\"},\"geo\":{\"bgcolor\":\"white\",\"lakecolor\":\"white\",\"landcolor\":\"#E5ECF6\",\"showlakes\":true,\"showland\":true,\"subunitcolor\":\"white\"},\"hoverlabel\":{\"align\":\"left\"},\"hovermode\":\"closest\",\"mapbox\":{\"style\":\"light\"},\"paper_bgcolor\":\"white\",\"plot_bgcolor\":\"#E5ECF6\",\"polar\":{\"angularaxis\":{\"gridcolor\":\"white\",\"linecolor\":\"white\",\"ticks\":\"\"},\"bgcolor\":\"#E5ECF6\",\"radialaxis\":{\"gridcolor\":\"white\",\"linecolor\":\"white\",\"ticks\":\"\"}},\"scene\":{\"xaxis\":{\"backgroundcolor\":\"#E5ECF6\",\"gridcolor\":\"white\",\"gridwidth\":2,\"linecolor\":\"white\",\"showbackground\":true,\"ticks\":\"\",\"zerolinecolor\":\"white\"},\"yaxis\":{\"backgroundcolor\":\"#E5ECF6\",\"gridcolor\":\"white\",\"gridwidth\":2,\"linecolor\":\"white\",\"showbackground\":true,\"ticks\":\"\",\"zerolinecolor\":\"white\"},\"zaxis\":{\"backgroundcolor\":\"#E5ECF6\",\"gridcolor\":\"white\",\"gridwidth\":2,\"linecolor\":\"white\",\"showbackground\":true,\"ticks\":\"\",\"zerolinecolor\":\"white\"}},\"shapedefaults\":{\"line\":{\"color\":\"#2a3f5f\"}},\"ternary\":{\"aaxis\":{\"gridcolor\":\"white\",\"linecolor\":\"white\",\"ticks\":\"\"},\"baxis\":{\"gridcolor\":\"white\",\"linecolor\":\"white\",\"ticks\":\"\"},\"bgcolor\":\"#E5ECF6\",\"caxis\":{\"gridcolor\":\"white\",\"linecolor\":\"white\",\"ticks\":\"\"}},\"title\":{\"x\":0.05},\"xaxis\":{\"automargin\":true,\"gridcolor\":\"white\",\"linecolor\":\"white\",\"ticks\":\"\",\"title\":{\"standoff\":15},\"zerolinecolor\":\"white\",\"zerolinewidth\":2},\"yaxis\":{\"automargin\":true,\"gridcolor\":\"white\",\"linecolor\":\"white\",\"ticks\":\"\",\"title\":{\"standoff\":15},\"zerolinecolor\":\"white\",\"zerolinewidth\":2}}},\"title\":{\"font\":{\"color\":\"#4D5663\"}},\"xaxis\":{\"gridcolor\":\"#E1E5ED\",\"showgrid\":true,\"tickfont\":{\"color\":\"#4D5663\"},\"title\":{\"font\":{\"color\":\"#4D5663\"},\"text\":\"\"},\"zerolinecolor\":\"#E1E5ED\"},\"yaxis\":{\"gridcolor\":\"#E1E5ED\",\"showgrid\":true,\"tickfont\":{\"color\":\"#4D5663\"},\"title\":{\"font\":{\"color\":\"#4D5663\"},\"text\":\"\"},\"zerolinecolor\":\"#E1E5ED\"}},                        {\"showLink\": true, \"linkText\": \"Export to plot.ly\", \"plotlyServerURL\": \"https://plot.ly\", \"responsive\": true}                    ).then(function(){\n                            \nvar gd = document.getElementById('45d86c52-0f16-464b-a3aa-af91ef83b9e4');\nvar x = new MutationObserver(function (mutations, observer) {{\n        var display = window.getComputedStyle(gd).display;\n        if (!display || display === 'none') {{\n            console.log([gd, 'removed!']);\n            Plotly.purge(gd);\n            observer.disconnect();\n        }}\n}});\n\n// Listen for the removal of the full notebook cells\nvar notebookContainer = gd.closest('#notebook-container');\nif (notebookContainer) {{\n    x.observe(notebookContainer, {childList: true});\n}}\n\n// Listen for the clearing of the current output cell\nvar outputEl = gd.closest('.output');\nif (outputEl) {{\n    x.observe(outputEl, {childList: true});\n}}\n\n                        })                };                });            </script>        </div>"
     },
     "metadata": {}
    }
   ],
   "source": [
    "df.iplot(kind='bubble',x='A',y='B',size='C')"
   ]
  },
  {
   "cell_type": "markdown",
   "metadata": {},
   "source": [
    "## scatter_matrix()\n",
    "\n",
    "Similar to sns.pairplot()"
   ]
  },
  {
   "cell_type": "code",
   "execution_count": 19,
   "metadata": {
    "collapsed": false
   },
   "outputs": [
    {
     "output_type": "display_data",
     "data": {
      "application/vnd.plotly.v1+json": {
       "config": {
        "linkText": "Export to plot.ly",
        "plotlyServerURL": "https://plot.ly",
        "showLink": true
       },
       "data": [
        {
         "histfunc": "count",
         "histnorm": "",
         "marker": {
          "color": "rgba(255, 153, 51, 1.0)",
          "line": {
           "color": "#4D5663",
           "width": 1.3
          }
         },
         "name": "A",
         "nbinsx": 10,
         "opacity": 0.8,
         "orientation": "v",
         "type": "histogram",
         "x": [
          -0.25227118008665145,
          0.06172597997312884,
          -0.09007588736177649,
          0.9655665553973772,
          0.4854660192833101,
          0.26701802645320244,
          1.0923931195785344,
          1.6867856846022133,
          0.1055984372563579,
          1.4884028777300893,
          1.2544325383218051,
          -0.7041177662348228,
          -0.6119001641424259,
          0.18014447538600833,
          1.155263713036101,
          -0.3425063374551015,
          -1.067126111336395,
          -0.7221525466373608,
          0.7651090750646531,
          -1.004545495950125,
          -0.2637463201554845,
          0.9270246371655807,
          -0.5193031631501195,
          2.2167780068744793,
          0.3862748792441888,
          1.1991319730362835,
          -1.557404376140031,
          -0.14901869535222126,
          -1.0024020287011886,
          0.13131176544298556,
          0.264598537852816,
          1.5531042912324888,
          0.4723615756752949,
          1.2296567723864706,
          1.4838948908571272,
          -0.27145625647809307,
          1.221844725244573,
          0.01469204642486503,
          1.3665996903567188,
          1.5443386446287324,
          -1.025123286950699,
          0.9819935474844267,
          1.1611796816047524,
          0.6991418032344212,
          -0.09106560471621786,
          -0.28426957089284277,
          -0.4016892297490613,
          -0.7774782732898965,
          -1.7223561231552598,
          2.460641905242768,
          0.4815183047281549,
          0.035806349576061165,
          0.910594759012117,
          -2.111067286320529,
          0.4238597156449524,
          1.9696836406375793,
          1.2332022682950836,
          -0.36656460758235637,
          1.8230451716552216,
          0.06966636861757851,
          1.1458785678701724,
          1.7385076252864209,
          -0.7410792987434056,
          -1.03176211548569,
          -0.10499217997687547,
          0.8659742608682182,
          -1.5783493333238372,
          -0.3489892902332464,
          1.4205913357741387,
          0.3282768542802037,
          1.20624805647062,
          0.2784530549906407,
          -0.7660315306574534,
          -0.3624752352324765,
          0.16231001478679416,
          0.9015722306033053,
          -0.7315391441263145,
          0.12354605275732658,
          0.4762171976821261,
          -2.0282995125317,
          0.46788204967415586,
          -0.2701368232370625,
          -0.9321784813202924,
          1.1780347596600362,
          -0.11206602609647033,
          0.21176886719477322,
          -0.8424944426011093,
          -1.166873584439773,
          -0.26288821705556603,
          -1.1033996783872577,
          0.6627858300113253,
          -0.6656295927166045,
          1.1961132505894427,
          1.9949738834989803,
          0.07004738586976976,
          -0.7715662014536142,
          -0.4528018588980907,
          -1.25185572951221,
          0.7625147154525329,
          -0.6660630083136009
         ],
         "xaxis": "x",
         "yaxis": "y"
        },
        {
         "line": {
          "color": "rgba(128, 128, 128, 1.0)",
          "dash": "solid",
          "shape": "linear",
          "width": 1.3
         },
         "marker": {
          "size": 2,
          "symbol": "circle"
         },
         "mode": "markers",
         "name": "A",
         "text": "",
         "type": "scatter",
         "x": [
          -0.24429798139803324,
          -0.08140072026070258,
          -0.3440352221324289,
          -2.3053151000556555,
          -0.6497290247349842,
          0.995013179423379,
          1.4482732817312591,
          -0.9725458639710425,
          -0.0466569137740196,
          -1.3294228665276946,
          -0.8247119481275208,
          0.27609613535962857,
          -0.09473417124123408,
          1.2352309586310322,
          -1.9737731840246349,
          1.61911094645423,
          -0.26661304242337575,
          -0.2883173900689931,
          -1.1166915254776921,
          -0.2944092679714753,
          -0.8519120009667719,
          1.5669506335703582,
          1.3055588979130333,
          1.2996456459533428,
          0.9298325077994817,
          0.5737059413597119,
          0.901327794240818,
          -0.6131682683010122,
          1.9757524385077965,
          0.02801892591066275,
          1.169958911979349,
          0.8337790525973593,
          -1.0860858018918167,
          2.127483822808999,
          -1.1224068626293964,
          0.14436058310809521,
          0.8523129002351462,
          -0.9339966382509564,
          -0.5246945159001554,
          1.7368746659269374,
          0.7841996410852168,
          0.24964765334285305,
          2.0156034157433926,
          1.0005055998758337,
          1.661505139907902,
          1.2799660531362713,
          0.7706834184475058,
          0.5369875645341228,
          -0.09155641558534112,
          -0.49511281408638624,
          1.5529183028908848,
          2.4609964757075518,
          1.1664358569786706,
          -2.0914361872843417,
          -0.6989200878865848,
          0.5066218678795223,
          -0.49718418195862507,
          -0.8960658802881825,
          0.7227373881394722,
          -0.13499945108069203,
          -0.8630493471228109,
          0.15196771672118464,
          -1.2069214985814378,
          0.8226934690856887,
          -0.71909089288083,
          0.45993752341927757,
          -0.034813632030634006,
          -0.28989428438974524,
          -1.8318618123062496,
          -1.221478771149326,
          -1.600010335978149,
          -0.7345603641391674,
          -0.15027775675031024,
          -1.3646714770060189,
          -0.7785787421800132,
          -0.9751390197139149,
          0.6132892263431378,
          -1.3768478976549485,
          -1.4490455174948522,
          -0.03822645435966252,
          0.31517972419972795,
          -0.8588798522560479,
          1.1898640603599298,
          -1.6626037943520315,
          0.2667829198371369,
          2.1921221149600263,
          0.29320163830816354,
          0.43158584935104316,
          -0.4676397959356081,
          -0.5065838296651279,
          0.6305038259893719,
          0.2450240269975526,
          0.2752188120259105,
          0.6218735185660969,
          -1.69428883235597,
          -0.1425658102952103,
          -0.38355665675155454,
          -0.2571761083843813,
          -0.571611317316897,
          -0.9584551972239918
         ],
         "xaxis": "x2",
         "y": [
          -0.25227118008665145,
          0.06172597997312884,
          -0.09007588736177649,
          0.9655665553973772,
          0.4854660192833101,
          0.26701802645320244,
          1.0923931195785344,
          1.6867856846022133,
          0.1055984372563579,
          1.4884028777300893,
          1.2544325383218051,
          -0.7041177662348228,
          -0.6119001641424259,
          0.18014447538600833,
          1.155263713036101,
          -0.3425063374551015,
          -1.067126111336395,
          -0.7221525466373608,
          0.7651090750646531,
          -1.004545495950125,
          -0.2637463201554845,
          0.9270246371655807,
          -0.5193031631501195,
          2.2167780068744793,
          0.3862748792441888,
          1.1991319730362835,
          -1.557404376140031,
          -0.14901869535222126,
          -1.0024020287011886,
          0.13131176544298556,
          0.264598537852816,
          1.5531042912324888,
          0.4723615756752949,
          1.2296567723864706,
          1.4838948908571272,
          -0.27145625647809307,
          1.221844725244573,
          0.01469204642486503,
          1.3665996903567188,
          1.5443386446287324,
          -1.025123286950699,
          0.9819935474844267,
          1.1611796816047524,
          0.6991418032344212,
          -0.09106560471621786,
          -0.28426957089284277,
          -0.4016892297490613,
          -0.7774782732898965,
          -1.7223561231552598,
          2.460641905242768,
          0.4815183047281549,
          0.035806349576061165,
          0.910594759012117,
          -2.111067286320529,
          0.4238597156449524,
          1.9696836406375793,
          1.2332022682950836,
          -0.36656460758235637,
          1.8230451716552216,
          0.06966636861757851,
          1.1458785678701724,
          1.7385076252864209,
          -0.7410792987434056,
          -1.03176211548569,
          -0.10499217997687547,
          0.8659742608682182,
          -1.5783493333238372,
          -0.3489892902332464,
          1.4205913357741387,
          0.3282768542802037,
          1.20624805647062,
          0.2784530549906407,
          -0.7660315306574534,
          -0.3624752352324765,
          0.16231001478679416,
          0.9015722306033053,
          -0.7315391441263145,
          0.12354605275732658,
          0.4762171976821261,
          -2.0282995125317,
          0.46788204967415586,
          -0.2701368232370625,
          -0.9321784813202924,
          1.1780347596600362,
          -0.11206602609647033,
          0.21176886719477322,
          -0.8424944426011093,
          -1.166873584439773,
          -0.26288821705556603,
          -1.1033996783872577,
          0.6627858300113253,
          -0.6656295927166045,
          1.1961132505894427,
          1.9949738834989803,
          0.07004738586976976,
          -0.7715662014536142,
          -0.4528018588980907,
          -1.25185572951221,
          0.7625147154525329,
          -0.6660630083136009
         ],
         "yaxis": "y2"
        },
        {
         "line": {
          "color": "rgba(128, 128, 128, 1.0)",
          "dash": "solid",
          "shape": "linear",
          "width": 1.3
         },
         "marker": {
          "size": 2,
          "symbol": "circle"
         },
         "mode": "markers",
         "name": "A",
         "text": "",
         "type": "scatter",
         "x": [
          1.2351224845344935,
          -0.38669785570242604,
          -2.0011962318993453,
          0.04116458951516984,
          -2.09722903349474,
          -0.28032324451393703,
          -1.472950341135185,
          0.6114744607840525,
          -0.43117860125878604,
          0.4606296236813941,
          -1.4495540904678994,
          -1.8957680454010697,
          -0.11290971315892948,
          0.7234316529374472,
          0.9413183842924042,
          -0.5137523462209654,
          -1.1423370502459385,
          0.23001828325840296,
          -0.7426076875528073,
          0.3760412643606102,
          0.21063017660062394,
          2.247217455951604,
          0.6975429161270316,
          1.342722266728234,
          1.3515213148127823,
          1.6892878099370587,
          -0.888827307303063,
          0.32297016807173135,
          0.5897513548602424,
          -0.7838460590770665,
          -0.21301277447107383,
          0.08069855359882595,
          0.17874768625456458,
          0.7181907811171023,
          0.6608543626555075,
          1.5868423598738286,
          -1.29289455032478,
          -1.0481060502192365,
          -0.7555287029548189,
          -0.4002005968895799,
          0.6442888936212734,
          0.5098534474640429,
          0.10481736334959846,
          1.6750834771798557,
          1.013568237425307,
          0.3105576641026045,
          -0.944906938052571,
          -0.725069921520946,
          0.5420141780202964,
          -0.359414820187637,
          -0.2689747476153853,
          -0.572906789700986,
          -1.097647061212322,
          -1.6047584912724986,
          -0.3712938081317608,
          0.633753918553161,
          1.4439566140849132,
          0.11952563318730945,
          -0.9085176840006997,
          1.7156401840521192,
          -0.6648845085682261,
          -0.3310236656211434,
          -0.2587809104334033,
          0.17772915462571165,
          1.39071011340516,
          1.6011706192351332,
          -0.2672962900711946,
          -0.0029242455426668227,
          -2.44327057061105,
          0.31030687845889543,
          -1.7500243910283217,
          -1.178351008552562,
          -0.41867244872730824,
          0.05886464051794897,
          -0.1698502902804518,
          0.9919412863914042,
          -2.285050248051403,
          -0.5139587648731763,
          1.2109801105938256,
          -0.4197300329111014,
          -2.319493600418936,
          -1.4744456583474723,
          0.7891309681663189,
          -0.26154628626111515,
          0.6575503750283542,
          -0.5358549396888171,
          0.8671677733021019,
          -0.554645876720916,
          -1.4653449386069937,
          -1.2123031376582982,
          0.16561904168799216,
          -1.2293903181090093,
          1.042927914738034,
          1.9003904456760932,
          0.19864835028272926,
          0.3026402942278122,
          0.7699164934511995,
          0.53041906286024,
          -1.434147311412444,
          0.5568780840044606
         ],
         "xaxis": "x3",
         "y": [
          -0.25227118008665145,
          0.06172597997312884,
          -0.09007588736177649,
          0.9655665553973772,
          0.4854660192833101,
          0.26701802645320244,
          1.0923931195785344,
          1.6867856846022133,
          0.1055984372563579,
          1.4884028777300893,
          1.2544325383218051,
          -0.7041177662348228,
          -0.6119001641424259,
          0.18014447538600833,
          1.155263713036101,
          -0.3425063374551015,
          -1.067126111336395,
          -0.7221525466373608,
          0.7651090750646531,
          -1.004545495950125,
          -0.2637463201554845,
          0.9270246371655807,
          -0.5193031631501195,
          2.2167780068744793,
          0.3862748792441888,
          1.1991319730362835,
          -1.557404376140031,
          -0.14901869535222126,
          -1.0024020287011886,
          0.13131176544298556,
          0.264598537852816,
          1.5531042912324888,
          0.4723615756752949,
          1.2296567723864706,
          1.4838948908571272,
          -0.27145625647809307,
          1.221844725244573,
          0.01469204642486503,
          1.3665996903567188,
          1.5443386446287324,
          -1.025123286950699,
          0.9819935474844267,
          1.1611796816047524,
          0.6991418032344212,
          -0.09106560471621786,
          -0.28426957089284277,
          -0.4016892297490613,
          -0.7774782732898965,
          -1.7223561231552598,
          2.460641905242768,
          0.4815183047281549,
          0.035806349576061165,
          0.910594759012117,
          -2.111067286320529,
          0.4238597156449524,
          1.9696836406375793,
          1.2332022682950836,
          -0.36656460758235637,
          1.8230451716552216,
          0.06966636861757851,
          1.1458785678701724,
          1.7385076252864209,
          -0.7410792987434056,
          -1.03176211548569,
          -0.10499217997687547,
          0.8659742608682182,
          -1.5783493333238372,
          -0.3489892902332464,
          1.4205913357741387,
          0.3282768542802037,
          1.20624805647062,
          0.2784530549906407,
          -0.7660315306574534,
          -0.3624752352324765,
          0.16231001478679416,
          0.9015722306033053,
          -0.7315391441263145,
          0.12354605275732658,
          0.4762171976821261,
          -2.0282995125317,
          0.46788204967415586,
          -0.2701368232370625,
          -0.9321784813202924,
          1.1780347596600362,
          -0.11206602609647033,
          0.21176886719477322,
          -0.8424944426011093,
          -1.166873584439773,
          -0.26288821705556603,
          -1.1033996783872577,
          0.6627858300113253,
          -0.6656295927166045,
          1.1961132505894427,
          1.9949738834989803,
          0.07004738586976976,
          -0.7715662014536142,
          -0.4528018588980907,
          -1.25185572951221,
          0.7625147154525329,
          -0.6660630083136009
         ],
         "yaxis": "y3"
        },
        {
         "line": {
          "color": "rgba(128, 128, 128, 1.0)",
          "dash": "solid",
          "shape": "linear",
          "width": 1.3
         },
         "marker": {
          "size": 2,
          "symbol": "circle"
         },
         "mode": "markers",
         "name": "A",
         "text": "",
         "type": "scatter",
         "x": [
          0.14732054436157588,
          -0.10016409969461607,
          -0.19853875024356474,
          0.1850679369234906,
          -0.07318226785197171,
          -0.8269943020767107,
          0.06505588662622032,
          -1.942691625809125,
          -0.4536076219495638,
          0.6572374031953897,
          -0.6652868237332036,
          0.11043148047080958,
          -0.019587584405579422,
          -0.7482707881992258,
          -1.2988682280280754,
          0.38621519604522314,
          -1.696404193406195,
          -0.3429186785322637,
          0.09279042937172309,
          -0.8063559082110902,
          0.7551055679237417,
          0.7869716093538546,
          1.4897661151575377,
          -0.8476304516840218,
          -0.9183721974615116,
          0.9860168544542203,
          0.40401118797691415,
          -0.8354349934311642,
          0.013125381519689614,
          0.05835298386757851,
          0.01912873321815849,
          -0.36612674935060724,
          0.7103671274554275,
          0.9966137970779217,
          -0.12432651280157953,
          0.2549968513299937,
          1.8862718160515375,
          1.3558612042392981,
          0.6093905381111977,
          -0.9061719545195042,
          0.7711898370854324,
          -1.095951761102537,
          0.13348196976153492,
          0.9039699635821302,
          -0.3517848783858705,
          -0.6331003822846138,
          -0.4667940221111615,
          0.780454011601283,
          -0.07297727067912188,
          -0.6653273203052653,
          1.5538029630201264,
          0.29688351635133814,
          0.19052116589596443,
          0.8778995158352625,
          -1.5922439115592986,
          -1.1579696051963828,
          0.56294450486414,
          -1.3601680416927817,
          -0.6337829815066541,
          0.6365968998404121,
          0.08974500010512594,
          0.06728786790245704,
          -0.5680241487267365,
          1.0250648322407485,
          -0.5757506256019281,
          -0.6718655107659853,
          -0.2410840766133584,
          0.34116939469619667,
          -0.20603144163430348,
          -0.27456229446142555,
          -2.3230121903835736,
          0.8629439039881185,
          0.1513111118912714,
          -0.2432729276020875,
          -0.2522990196379048,
          1.2011552889075532,
          0.8743023640764342,
          0.2439043012493187,
          -1.6101601185619678,
          -0.07991728172782873,
          -0.9092689428157388,
          1.6862372884389945,
          -0.9418538634870914,
          -1.1384561395310642,
          -2.0194627370098406,
          1.8485355450809546,
          0.4903854406052378,
          -0.395778586981528,
          -0.5610001541216844,
          1.2667544216609101,
          1.2451239599125243,
          0.31712089159970824,
          1.3461438978582148,
          0.32589285964725956,
          0.7696204882117698,
          -1.9426326459418741,
          -0.23961594598989663,
          1.7119656381810588,
          0.5012605925697431,
          2.150903549226858
         ],
         "xaxis": "x4",
         "y": [
          -0.25227118008665145,
          0.06172597997312884,
          -0.09007588736177649,
          0.9655665553973772,
          0.4854660192833101,
          0.26701802645320244,
          1.0923931195785344,
          1.6867856846022133,
          0.1055984372563579,
          1.4884028777300893,
          1.2544325383218051,
          -0.7041177662348228,
          -0.6119001641424259,
          0.18014447538600833,
          1.155263713036101,
          -0.3425063374551015,
          -1.067126111336395,
          -0.7221525466373608,
          0.7651090750646531,
          -1.004545495950125,
          -0.2637463201554845,
          0.9270246371655807,
          -0.5193031631501195,
          2.2167780068744793,
          0.3862748792441888,
          1.1991319730362835,
          -1.557404376140031,
          -0.14901869535222126,
          -1.0024020287011886,
          0.13131176544298556,
          0.264598537852816,
          1.5531042912324888,
          0.4723615756752949,
          1.2296567723864706,
          1.4838948908571272,
          -0.27145625647809307,
          1.221844725244573,
          0.01469204642486503,
          1.3665996903567188,
          1.5443386446287324,
          -1.025123286950699,
          0.9819935474844267,
          1.1611796816047524,
          0.6991418032344212,
          -0.09106560471621786,
          -0.28426957089284277,
          -0.4016892297490613,
          -0.7774782732898965,
          -1.7223561231552598,
          2.460641905242768,
          0.4815183047281549,
          0.035806349576061165,
          0.910594759012117,
          -2.111067286320529,
          0.4238597156449524,
          1.9696836406375793,
          1.2332022682950836,
          -0.36656460758235637,
          1.8230451716552216,
          0.06966636861757851,
          1.1458785678701724,
          1.7385076252864209,
          -0.7410792987434056,
          -1.03176211548569,
          -0.10499217997687547,
          0.8659742608682182,
          -1.5783493333238372,
          -0.3489892902332464,
          1.4205913357741387,
          0.3282768542802037,
          1.20624805647062,
          0.2784530549906407,
          -0.7660315306574534,
          -0.3624752352324765,
          0.16231001478679416,
          0.9015722306033053,
          -0.7315391441263145,
          0.12354605275732658,
          0.4762171976821261,
          -2.0282995125317,
          0.46788204967415586,
          -0.2701368232370625,
          -0.9321784813202924,
          1.1780347596600362,
          -0.11206602609647033,
          0.21176886719477322,
          -0.8424944426011093,
          -1.166873584439773,
          -0.26288821705556603,
          -1.1033996783872577,
          0.6627858300113253,
          -0.6656295927166045,
          1.1961132505894427,
          1.9949738834989803,
          0.07004738586976976,
          -0.7715662014536142,
          -0.4528018588980907,
          -1.25185572951221,
          0.7625147154525329,
          -0.6660630083136009
         ],
         "yaxis": "y4"
        },
        {
         "line": {
          "color": "rgba(128, 128, 128, 1.0)",
          "dash": "solid",
          "shape": "linear",
          "width": 1.3
         },
         "marker": {
          "size": 2,
          "symbol": "circle"
         },
         "mode": "markers",
         "name": "B",
         "text": "",
         "type": "scatter",
         "x": [
          -0.25227118008665145,
          0.06172597997312884,
          -0.09007588736177649,
          0.9655665553973772,
          0.4854660192833101,
          0.26701802645320244,
          1.0923931195785344,
          1.6867856846022133,
          0.1055984372563579,
          1.4884028777300893,
          1.2544325383218051,
          -0.7041177662348228,
          -0.6119001641424259,
          0.18014447538600833,
          1.155263713036101,
          -0.3425063374551015,
          -1.067126111336395,
          -0.7221525466373608,
          0.7651090750646531,
          -1.004545495950125,
          -0.2637463201554845,
          0.9270246371655807,
          -0.5193031631501195,
          2.2167780068744793,
          0.3862748792441888,
          1.1991319730362835,
          -1.557404376140031,
          -0.14901869535222126,
          -1.0024020287011886,
          0.13131176544298556,
          0.264598537852816,
          1.5531042912324888,
          0.4723615756752949,
          1.2296567723864706,
          1.4838948908571272,
          -0.27145625647809307,
          1.221844725244573,
          0.01469204642486503,
          1.3665996903567188,
          1.5443386446287324,
          -1.025123286950699,
          0.9819935474844267,
          1.1611796816047524,
          0.6991418032344212,
          -0.09106560471621786,
          -0.28426957089284277,
          -0.4016892297490613,
          -0.7774782732898965,
          -1.7223561231552598,
          2.460641905242768,
          0.4815183047281549,
          0.035806349576061165,
          0.910594759012117,
          -2.111067286320529,
          0.4238597156449524,
          1.9696836406375793,
          1.2332022682950836,
          -0.36656460758235637,
          1.8230451716552216,
          0.06966636861757851,
          1.1458785678701724,
          1.7385076252864209,
          -0.7410792987434056,
          -1.03176211548569,
          -0.10499217997687547,
          0.8659742608682182,
          -1.5783493333238372,
          -0.3489892902332464,
          1.4205913357741387,
          0.3282768542802037,
          1.20624805647062,
          0.2784530549906407,
          -0.7660315306574534,
          -0.3624752352324765,
          0.16231001478679416,
          0.9015722306033053,
          -0.7315391441263145,
          0.12354605275732658,
          0.4762171976821261,
          -2.0282995125317,
          0.46788204967415586,
          -0.2701368232370625,
          -0.9321784813202924,
          1.1780347596600362,
          -0.11206602609647033,
          0.21176886719477322,
          -0.8424944426011093,
          -1.166873584439773,
          -0.26288821705556603,
          -1.1033996783872577,
          0.6627858300113253,
          -0.6656295927166045,
          1.1961132505894427,
          1.9949738834989803,
          0.07004738586976976,
          -0.7715662014536142,
          -0.4528018588980907,
          -1.25185572951221,
          0.7625147154525329,
          -0.6660630083136009
         ],
         "xaxis": "x5",
         "y": [
          -0.24429798139803324,
          -0.08140072026070258,
          -0.3440352221324289,
          -2.3053151000556555,
          -0.6497290247349842,
          0.995013179423379,
          1.4482732817312591,
          -0.9725458639710425,
          -0.0466569137740196,
          -1.3294228665276946,
          -0.8247119481275208,
          0.27609613535962857,
          -0.09473417124123408,
          1.2352309586310322,
          -1.9737731840246349,
          1.61911094645423,
          -0.26661304242337575,
          -0.2883173900689931,
          -1.1166915254776921,
          -0.2944092679714753,
          -0.8519120009667719,
          1.5669506335703582,
          1.3055588979130333,
          1.2996456459533428,
          0.9298325077994817,
          0.5737059413597119,
          0.901327794240818,
          -0.6131682683010122,
          1.9757524385077965,
          0.02801892591066275,
          1.169958911979349,
          0.8337790525973593,
          -1.0860858018918167,
          2.127483822808999,
          -1.1224068626293964,
          0.14436058310809521,
          0.8523129002351462,
          -0.9339966382509564,
          -0.5246945159001554,
          1.7368746659269374,
          0.7841996410852168,
          0.24964765334285305,
          2.0156034157433926,
          1.0005055998758337,
          1.661505139907902,
          1.2799660531362713,
          0.7706834184475058,
          0.5369875645341228,
          -0.09155641558534112,
          -0.49511281408638624,
          1.5529183028908848,
          2.4609964757075518,
          1.1664358569786706,
          -2.0914361872843417,
          -0.6989200878865848,
          0.5066218678795223,
          -0.49718418195862507,
          -0.8960658802881825,
          0.7227373881394722,
          -0.13499945108069203,
          -0.8630493471228109,
          0.15196771672118464,
          -1.2069214985814378,
          0.8226934690856887,
          -0.71909089288083,
          0.45993752341927757,
          -0.034813632030634006,
          -0.28989428438974524,
          -1.8318618123062496,
          -1.221478771149326,
          -1.600010335978149,
          -0.7345603641391674,
          -0.15027775675031024,
          -1.3646714770060189,
          -0.7785787421800132,
          -0.9751390197139149,
          0.6132892263431378,
          -1.3768478976549485,
          -1.4490455174948522,
          -0.03822645435966252,
          0.31517972419972795,
          -0.8588798522560479,
          1.1898640603599298,
          -1.6626037943520315,
          0.2667829198371369,
          2.1921221149600263,
          0.29320163830816354,
          0.43158584935104316,
          -0.4676397959356081,
          -0.5065838296651279,
          0.6305038259893719,
          0.2450240269975526,
          0.2752188120259105,
          0.6218735185660969,
          -1.69428883235597,
          -0.1425658102952103,
          -0.38355665675155454,
          -0.2571761083843813,
          -0.571611317316897,
          -0.9584551972239918
         ],
         "yaxis": "y5"
        },
        {
         "histfunc": "count",
         "histnorm": "",
         "marker": {
          "color": "rgba(55, 128, 191, 1.0)",
          "line": {
           "color": "#4D5663",
           "width": 1.3
          }
         },
         "name": "B",
         "nbinsx": 10,
         "opacity": 0.8,
         "orientation": "v",
         "type": "histogram",
         "x": [
          -0.24429798139803324,
          -0.08140072026070258,
          -0.3440352221324289,
          -2.3053151000556555,
          -0.6497290247349842,
          0.995013179423379,
          1.4482732817312591,
          -0.9725458639710425,
          -0.0466569137740196,
          -1.3294228665276946,
          -0.8247119481275208,
          0.27609613535962857,
          -0.09473417124123408,
          1.2352309586310322,
          -1.9737731840246349,
          1.61911094645423,
          -0.26661304242337575,
          -0.2883173900689931,
          -1.1166915254776921,
          -0.2944092679714753,
          -0.8519120009667719,
          1.5669506335703582,
          1.3055588979130333,
          1.2996456459533428,
          0.9298325077994817,
          0.5737059413597119,
          0.901327794240818,
          -0.6131682683010122,
          1.9757524385077965,
          0.02801892591066275,
          1.169958911979349,
          0.8337790525973593,
          -1.0860858018918167,
          2.127483822808999,
          -1.1224068626293964,
          0.14436058310809521,
          0.8523129002351462,
          -0.9339966382509564,
          -0.5246945159001554,
          1.7368746659269374,
          0.7841996410852168,
          0.24964765334285305,
          2.0156034157433926,
          1.0005055998758337,
          1.661505139907902,
          1.2799660531362713,
          0.7706834184475058,
          0.5369875645341228,
          -0.09155641558534112,
          -0.49511281408638624,
          1.5529183028908848,
          2.4609964757075518,
          1.1664358569786706,
          -2.0914361872843417,
          -0.6989200878865848,
          0.5066218678795223,
          -0.49718418195862507,
          -0.8960658802881825,
          0.7227373881394722,
          -0.13499945108069203,
          -0.8630493471228109,
          0.15196771672118464,
          -1.2069214985814378,
          0.8226934690856887,
          -0.71909089288083,
          0.45993752341927757,
          -0.034813632030634006,
          -0.28989428438974524,
          -1.8318618123062496,
          -1.221478771149326,
          -1.600010335978149,
          -0.7345603641391674,
          -0.15027775675031024,
          -1.3646714770060189,
          -0.7785787421800132,
          -0.9751390197139149,
          0.6132892263431378,
          -1.3768478976549485,
          -1.4490455174948522,
          -0.03822645435966252,
          0.31517972419972795,
          -0.8588798522560479,
          1.1898640603599298,
          -1.6626037943520315,
          0.2667829198371369,
          2.1921221149600263,
          0.29320163830816354,
          0.43158584935104316,
          -0.4676397959356081,
          -0.5065838296651279,
          0.6305038259893719,
          0.2450240269975526,
          0.2752188120259105,
          0.6218735185660969,
          -1.69428883235597,
          -0.1425658102952103,
          -0.38355665675155454,
          -0.2571761083843813,
          -0.571611317316897,
          -0.9584551972239918
         ],
         "xaxis": "x6",
         "yaxis": "y6"
        },
        {
         "line": {
          "color": "rgba(128, 128, 128, 1.0)",
          "dash": "solid",
          "shape": "linear",
          "width": 1.3
         },
         "marker": {
          "size": 2,
          "symbol": "circle"
         },
         "mode": "markers",
         "name": "B",
         "text": "",
         "type": "scatter",
         "x": [
          1.2351224845344935,
          -0.38669785570242604,
          -2.0011962318993453,
          0.04116458951516984,
          -2.09722903349474,
          -0.28032324451393703,
          -1.472950341135185,
          0.6114744607840525,
          -0.43117860125878604,
          0.4606296236813941,
          -1.4495540904678994,
          -1.8957680454010697,
          -0.11290971315892948,
          0.7234316529374472,
          0.9413183842924042,
          -0.5137523462209654,
          -1.1423370502459385,
          0.23001828325840296,
          -0.7426076875528073,
          0.3760412643606102,
          0.21063017660062394,
          2.247217455951604,
          0.6975429161270316,
          1.342722266728234,
          1.3515213148127823,
          1.6892878099370587,
          -0.888827307303063,
          0.32297016807173135,
          0.5897513548602424,
          -0.7838460590770665,
          -0.21301277447107383,
          0.08069855359882595,
          0.17874768625456458,
          0.7181907811171023,
          0.6608543626555075,
          1.5868423598738286,
          -1.29289455032478,
          -1.0481060502192365,
          -0.7555287029548189,
          -0.4002005968895799,
          0.6442888936212734,
          0.5098534474640429,
          0.10481736334959846,
          1.6750834771798557,
          1.013568237425307,
          0.3105576641026045,
          -0.944906938052571,
          -0.725069921520946,
          0.5420141780202964,
          -0.359414820187637,
          -0.2689747476153853,
          -0.572906789700986,
          -1.097647061212322,
          -1.6047584912724986,
          -0.3712938081317608,
          0.633753918553161,
          1.4439566140849132,
          0.11952563318730945,
          -0.9085176840006997,
          1.7156401840521192,
          -0.6648845085682261,
          -0.3310236656211434,
          -0.2587809104334033,
          0.17772915462571165,
          1.39071011340516,
          1.6011706192351332,
          -0.2672962900711946,
          -0.0029242455426668227,
          -2.44327057061105,
          0.31030687845889543,
          -1.7500243910283217,
          -1.178351008552562,
          -0.41867244872730824,
          0.05886464051794897,
          -0.1698502902804518,
          0.9919412863914042,
          -2.285050248051403,
          -0.5139587648731763,
          1.2109801105938256,
          -0.4197300329111014,
          -2.319493600418936,
          -1.4744456583474723,
          0.7891309681663189,
          -0.26154628626111515,
          0.6575503750283542,
          -0.5358549396888171,
          0.8671677733021019,
          -0.554645876720916,
          -1.4653449386069937,
          -1.2123031376582982,
          0.16561904168799216,
          -1.2293903181090093,
          1.042927914738034,
          1.9003904456760932,
          0.19864835028272926,
          0.3026402942278122,
          0.7699164934511995,
          0.53041906286024,
          -1.434147311412444,
          0.5568780840044606
         ],
         "xaxis": "x7",
         "y": [
          -0.24429798139803324,
          -0.08140072026070258,
          -0.3440352221324289,
          -2.3053151000556555,
          -0.6497290247349842,
          0.995013179423379,
          1.4482732817312591,
          -0.9725458639710425,
          -0.0466569137740196,
          -1.3294228665276946,
          -0.8247119481275208,
          0.27609613535962857,
          -0.09473417124123408,
          1.2352309586310322,
          -1.9737731840246349,
          1.61911094645423,
          -0.26661304242337575,
          -0.2883173900689931,
          -1.1166915254776921,
          -0.2944092679714753,
          -0.8519120009667719,
          1.5669506335703582,
          1.3055588979130333,
          1.2996456459533428,
          0.9298325077994817,
          0.5737059413597119,
          0.901327794240818,
          -0.6131682683010122,
          1.9757524385077965,
          0.02801892591066275,
          1.169958911979349,
          0.8337790525973593,
          -1.0860858018918167,
          2.127483822808999,
          -1.1224068626293964,
          0.14436058310809521,
          0.8523129002351462,
          -0.9339966382509564,
          -0.5246945159001554,
          1.7368746659269374,
          0.7841996410852168,
          0.24964765334285305,
          2.0156034157433926,
          1.0005055998758337,
          1.661505139907902,
          1.2799660531362713,
          0.7706834184475058,
          0.5369875645341228,
          -0.09155641558534112,
          -0.49511281408638624,
          1.5529183028908848,
          2.4609964757075518,
          1.1664358569786706,
          -2.0914361872843417,
          -0.6989200878865848,
          0.5066218678795223,
          -0.49718418195862507,
          -0.8960658802881825,
          0.7227373881394722,
          -0.13499945108069203,
          -0.8630493471228109,
          0.15196771672118464,
          -1.2069214985814378,
          0.8226934690856887,
          -0.71909089288083,
          0.45993752341927757,
          -0.034813632030634006,
          -0.28989428438974524,
          -1.8318618123062496,
          -1.221478771149326,
          -1.600010335978149,
          -0.7345603641391674,
          -0.15027775675031024,
          -1.3646714770060189,
          -0.7785787421800132,
          -0.9751390197139149,
          0.6132892263431378,
          -1.3768478976549485,
          -1.4490455174948522,
          -0.03822645435966252,
          0.31517972419972795,
          -0.8588798522560479,
          1.1898640603599298,
          -1.6626037943520315,
          0.2667829198371369,
          2.1921221149600263,
          0.29320163830816354,
          0.43158584935104316,
          -0.4676397959356081,
          -0.5065838296651279,
          0.6305038259893719,
          0.2450240269975526,
          0.2752188120259105,
          0.6218735185660969,
          -1.69428883235597,
          -0.1425658102952103,
          -0.38355665675155454,
          -0.2571761083843813,
          -0.571611317316897,
          -0.9584551972239918
         ],
         "yaxis": "y7"
        },
        {
         "line": {
          "color": "rgba(128, 128, 128, 1.0)",
          "dash": "solid",
          "shape": "linear",
          "width": 1.3
         },
         "marker": {
          "size": 2,
          "symbol": "circle"
         },
         "mode": "markers",
         "name": "B",
         "text": "",
         "type": "scatter",
         "x": [
          0.14732054436157588,
          -0.10016409969461607,
          -0.19853875024356474,
          0.1850679369234906,
          -0.07318226785197171,
          -0.8269943020767107,
          0.06505588662622032,
          -1.942691625809125,
          -0.4536076219495638,
          0.6572374031953897,
          -0.6652868237332036,
          0.11043148047080958,
          -0.019587584405579422,
          -0.7482707881992258,
          -1.2988682280280754,
          0.38621519604522314,
          -1.696404193406195,
          -0.3429186785322637,
          0.09279042937172309,
          -0.8063559082110902,
          0.7551055679237417,
          0.7869716093538546,
          1.4897661151575377,
          -0.8476304516840218,
          -0.9183721974615116,
          0.9860168544542203,
          0.40401118797691415,
          -0.8354349934311642,
          0.013125381519689614,
          0.05835298386757851,
          0.01912873321815849,
          -0.36612674935060724,
          0.7103671274554275,
          0.9966137970779217,
          -0.12432651280157953,
          0.2549968513299937,
          1.8862718160515375,
          1.3558612042392981,
          0.6093905381111977,
          -0.9061719545195042,
          0.7711898370854324,
          -1.095951761102537,
          0.13348196976153492,
          0.9039699635821302,
          -0.3517848783858705,
          -0.6331003822846138,
          -0.4667940221111615,
          0.780454011601283,
          -0.07297727067912188,
          -0.6653273203052653,
          1.5538029630201264,
          0.29688351635133814,
          0.19052116589596443,
          0.8778995158352625,
          -1.5922439115592986,
          -1.1579696051963828,
          0.56294450486414,
          -1.3601680416927817,
          -0.6337829815066541,
          0.6365968998404121,
          0.08974500010512594,
          0.06728786790245704,
          -0.5680241487267365,
          1.0250648322407485,
          -0.5757506256019281,
          -0.6718655107659853,
          -0.2410840766133584,
          0.34116939469619667,
          -0.20603144163430348,
          -0.27456229446142555,
          -2.3230121903835736,
          0.8629439039881185,
          0.1513111118912714,
          -0.2432729276020875,
          -0.2522990196379048,
          1.2011552889075532,
          0.8743023640764342,
          0.2439043012493187,
          -1.6101601185619678,
          -0.07991728172782873,
          -0.9092689428157388,
          1.6862372884389945,
          -0.9418538634870914,
          -1.1384561395310642,
          -2.0194627370098406,
          1.8485355450809546,
          0.4903854406052378,
          -0.395778586981528,
          -0.5610001541216844,
          1.2667544216609101,
          1.2451239599125243,
          0.31712089159970824,
          1.3461438978582148,
          0.32589285964725956,
          0.7696204882117698,
          -1.9426326459418741,
          -0.23961594598989663,
          1.7119656381810588,
          0.5012605925697431,
          2.150903549226858
         ],
         "xaxis": "x8",
         "y": [
          -0.24429798139803324,
          -0.08140072026070258,
          -0.3440352221324289,
          -2.3053151000556555,
          -0.6497290247349842,
          0.995013179423379,
          1.4482732817312591,
          -0.9725458639710425,
          -0.0466569137740196,
          -1.3294228665276946,
          -0.8247119481275208,
          0.27609613535962857,
          -0.09473417124123408,
          1.2352309586310322,
          -1.9737731840246349,
          1.61911094645423,
          -0.26661304242337575,
          -0.2883173900689931,
          -1.1166915254776921,
          -0.2944092679714753,
          -0.8519120009667719,
          1.5669506335703582,
          1.3055588979130333,
          1.2996456459533428,
          0.9298325077994817,
          0.5737059413597119,
          0.901327794240818,
          -0.6131682683010122,
          1.9757524385077965,
          0.02801892591066275,
          1.169958911979349,
          0.8337790525973593,
          -1.0860858018918167,
          2.127483822808999,
          -1.1224068626293964,
          0.14436058310809521,
          0.8523129002351462,
          -0.9339966382509564,
          -0.5246945159001554,
          1.7368746659269374,
          0.7841996410852168,
          0.24964765334285305,
          2.0156034157433926,
          1.0005055998758337,
          1.661505139907902,
          1.2799660531362713,
          0.7706834184475058,
          0.5369875645341228,
          -0.09155641558534112,
          -0.49511281408638624,
          1.5529183028908848,
          2.4609964757075518,
          1.1664358569786706,
          -2.0914361872843417,
          -0.6989200878865848,
          0.5066218678795223,
          -0.49718418195862507,
          -0.8960658802881825,
          0.7227373881394722,
          -0.13499945108069203,
          -0.8630493471228109,
          0.15196771672118464,
          -1.2069214985814378,
          0.8226934690856887,
          -0.71909089288083,
          0.45993752341927757,
          -0.034813632030634006,
          -0.28989428438974524,
          -1.8318618123062496,
          -1.221478771149326,
          -1.600010335978149,
          -0.7345603641391674,
          -0.15027775675031024,
          -1.3646714770060189,
          -0.7785787421800132,
          -0.9751390197139149,
          0.6132892263431378,
          -1.3768478976549485,
          -1.4490455174948522,
          -0.03822645435966252,
          0.31517972419972795,
          -0.8588798522560479,
          1.1898640603599298,
          -1.6626037943520315,
          0.2667829198371369,
          2.1921221149600263,
          0.29320163830816354,
          0.43158584935104316,
          -0.4676397959356081,
          -0.5065838296651279,
          0.6305038259893719,
          0.2450240269975526,
          0.2752188120259105,
          0.6218735185660969,
          -1.69428883235597,
          -0.1425658102952103,
          -0.38355665675155454,
          -0.2571761083843813,
          -0.571611317316897,
          -0.9584551972239918
         ],
         "yaxis": "y8"
        },
        {
         "line": {
          "color": "rgba(128, 128, 128, 1.0)",
          "dash": "solid",
          "shape": "linear",
          "width": 1.3
         },
         "marker": {
          "size": 2,
          "symbol": "circle"
         },
         "mode": "markers",
         "name": "C",
         "text": "",
         "type": "scatter",
         "x": [
          -0.25227118008665145,
          0.06172597997312884,
          -0.09007588736177649,
          0.9655665553973772,
          0.4854660192833101,
          0.26701802645320244,
          1.0923931195785344,
          1.6867856846022133,
          0.1055984372563579,
          1.4884028777300893,
          1.2544325383218051,
          -0.7041177662348228,
          -0.6119001641424259,
          0.18014447538600833,
          1.155263713036101,
          -0.3425063374551015,
          -1.067126111336395,
          -0.7221525466373608,
          0.7651090750646531,
          -1.004545495950125,
          -0.2637463201554845,
          0.9270246371655807,
          -0.5193031631501195,
          2.2167780068744793,
          0.3862748792441888,
          1.1991319730362835,
          -1.557404376140031,
          -0.14901869535222126,
          -1.0024020287011886,
          0.13131176544298556,
          0.264598537852816,
          1.5531042912324888,
          0.4723615756752949,
          1.2296567723864706,
          1.4838948908571272,
          -0.27145625647809307,
          1.221844725244573,
          0.01469204642486503,
          1.3665996903567188,
          1.5443386446287324,
          -1.025123286950699,
          0.9819935474844267,
          1.1611796816047524,
          0.6991418032344212,
          -0.09106560471621786,
          -0.28426957089284277,
          -0.4016892297490613,
          -0.7774782732898965,
          -1.7223561231552598,
          2.460641905242768,
          0.4815183047281549,
          0.035806349576061165,
          0.910594759012117,
          -2.111067286320529,
          0.4238597156449524,
          1.9696836406375793,
          1.2332022682950836,
          -0.36656460758235637,
          1.8230451716552216,
          0.06966636861757851,
          1.1458785678701724,
          1.7385076252864209,
          -0.7410792987434056,
          -1.03176211548569,
          -0.10499217997687547,
          0.8659742608682182,
          -1.5783493333238372,
          -0.3489892902332464,
          1.4205913357741387,
          0.3282768542802037,
          1.20624805647062,
          0.2784530549906407,
          -0.7660315306574534,
          -0.3624752352324765,
          0.16231001478679416,
          0.9015722306033053,
          -0.7315391441263145,
          0.12354605275732658,
          0.4762171976821261,
          -2.0282995125317,
          0.46788204967415586,
          -0.2701368232370625,
          -0.9321784813202924,
          1.1780347596600362,
          -0.11206602609647033,
          0.21176886719477322,
          -0.8424944426011093,
          -1.166873584439773,
          -0.26288821705556603,
          -1.1033996783872577,
          0.6627858300113253,
          -0.6656295927166045,
          1.1961132505894427,
          1.9949738834989803,
          0.07004738586976976,
          -0.7715662014536142,
          -0.4528018588980907,
          -1.25185572951221,
          0.7625147154525329,
          -0.6660630083136009
         ],
         "xaxis": "x9",
         "y": [
          1.2351224845344935,
          -0.38669785570242604,
          -2.0011962318993453,
          0.04116458951516984,
          -2.09722903349474,
          -0.28032324451393703,
          -1.472950341135185,
          0.6114744607840525,
          -0.43117860125878604,
          0.4606296236813941,
          -1.4495540904678994,
          -1.8957680454010697,
          -0.11290971315892948,
          0.7234316529374472,
          0.9413183842924042,
          -0.5137523462209654,
          -1.1423370502459385,
          0.23001828325840296,
          -0.7426076875528073,
          0.3760412643606102,
          0.21063017660062394,
          2.247217455951604,
          0.6975429161270316,
          1.342722266728234,
          1.3515213148127823,
          1.6892878099370587,
          -0.888827307303063,
          0.32297016807173135,
          0.5897513548602424,
          -0.7838460590770665,
          -0.21301277447107383,
          0.08069855359882595,
          0.17874768625456458,
          0.7181907811171023,
          0.6608543626555075,
          1.5868423598738286,
          -1.29289455032478,
          -1.0481060502192365,
          -0.7555287029548189,
          -0.4002005968895799,
          0.6442888936212734,
          0.5098534474640429,
          0.10481736334959846,
          1.6750834771798557,
          1.013568237425307,
          0.3105576641026045,
          -0.944906938052571,
          -0.725069921520946,
          0.5420141780202964,
          -0.359414820187637,
          -0.2689747476153853,
          -0.572906789700986,
          -1.097647061212322,
          -1.6047584912724986,
          -0.3712938081317608,
          0.633753918553161,
          1.4439566140849132,
          0.11952563318730945,
          -0.9085176840006997,
          1.7156401840521192,
          -0.6648845085682261,
          -0.3310236656211434,
          -0.2587809104334033,
          0.17772915462571165,
          1.39071011340516,
          1.6011706192351332,
          -0.2672962900711946,
          -0.0029242455426668227,
          -2.44327057061105,
          0.31030687845889543,
          -1.7500243910283217,
          -1.178351008552562,
          -0.41867244872730824,
          0.05886464051794897,
          -0.1698502902804518,
          0.9919412863914042,
          -2.285050248051403,
          -0.5139587648731763,
          1.2109801105938256,
          -0.4197300329111014,
          -2.319493600418936,
          -1.4744456583474723,
          0.7891309681663189,
          -0.26154628626111515,
          0.6575503750283542,
          -0.5358549396888171,
          0.8671677733021019,
          -0.554645876720916,
          -1.4653449386069937,
          -1.2123031376582982,
          0.16561904168799216,
          -1.2293903181090093,
          1.042927914738034,
          1.9003904456760932,
          0.19864835028272926,
          0.3026402942278122,
          0.7699164934511995,
          0.53041906286024,
          -1.434147311412444,
          0.5568780840044606
         ],
         "yaxis": "y9"
        },
        {
         "line": {
          "color": "rgba(128, 128, 128, 1.0)",
          "dash": "solid",
          "shape": "linear",
          "width": 1.3
         },
         "marker": {
          "size": 2,
          "symbol": "circle"
         },
         "mode": "markers",
         "name": "C",
         "text": "",
         "type": "scatter",
         "x": [
          -0.24429798139803324,
          -0.08140072026070258,
          -0.3440352221324289,
          -2.3053151000556555,
          -0.6497290247349842,
          0.995013179423379,
          1.4482732817312591,
          -0.9725458639710425,
          -0.0466569137740196,
          -1.3294228665276946,
          -0.8247119481275208,
          0.27609613535962857,
          -0.09473417124123408,
          1.2352309586310322,
          -1.9737731840246349,
          1.61911094645423,
          -0.26661304242337575,
          -0.2883173900689931,
          -1.1166915254776921,
          -0.2944092679714753,
          -0.8519120009667719,
          1.5669506335703582,
          1.3055588979130333,
          1.2996456459533428,
          0.9298325077994817,
          0.5737059413597119,
          0.901327794240818,
          -0.6131682683010122,
          1.9757524385077965,
          0.02801892591066275,
          1.169958911979349,
          0.8337790525973593,
          -1.0860858018918167,
          2.127483822808999,
          -1.1224068626293964,
          0.14436058310809521,
          0.8523129002351462,
          -0.9339966382509564,
          -0.5246945159001554,
          1.7368746659269374,
          0.7841996410852168,
          0.24964765334285305,
          2.0156034157433926,
          1.0005055998758337,
          1.661505139907902,
          1.2799660531362713,
          0.7706834184475058,
          0.5369875645341228,
          -0.09155641558534112,
          -0.49511281408638624,
          1.5529183028908848,
          2.4609964757075518,
          1.1664358569786706,
          -2.0914361872843417,
          -0.6989200878865848,
          0.5066218678795223,
          -0.49718418195862507,
          -0.8960658802881825,
          0.7227373881394722,
          -0.13499945108069203,
          -0.8630493471228109,
          0.15196771672118464,
          -1.2069214985814378,
          0.8226934690856887,
          -0.71909089288083,
          0.45993752341927757,
          -0.034813632030634006,
          -0.28989428438974524,
          -1.8318618123062496,
          -1.221478771149326,
          -1.600010335978149,
          -0.7345603641391674,
          -0.15027775675031024,
          -1.3646714770060189,
          -0.7785787421800132,
          -0.9751390197139149,
          0.6132892263431378,
          -1.3768478976549485,
          -1.4490455174948522,
          -0.03822645435966252,
          0.31517972419972795,
          -0.8588798522560479,
          1.1898640603599298,
          -1.6626037943520315,
          0.2667829198371369,
          2.1921221149600263,
          0.29320163830816354,
          0.43158584935104316,
          -0.4676397959356081,
          -0.5065838296651279,
          0.6305038259893719,
          0.2450240269975526,
          0.2752188120259105,
          0.6218735185660969,
          -1.69428883235597,
          -0.1425658102952103,
          -0.38355665675155454,
          -0.2571761083843813,
          -0.571611317316897,
          -0.9584551972239918
         ],
         "xaxis": "x10",
         "y": [
          1.2351224845344935,
          -0.38669785570242604,
          -2.0011962318993453,
          0.04116458951516984,
          -2.09722903349474,
          -0.28032324451393703,
          -1.472950341135185,
          0.6114744607840525,
          -0.43117860125878604,
          0.4606296236813941,
          -1.4495540904678994,
          -1.8957680454010697,
          -0.11290971315892948,
          0.7234316529374472,
          0.9413183842924042,
          -0.5137523462209654,
          -1.1423370502459385,
          0.23001828325840296,
          -0.7426076875528073,
          0.3760412643606102,
          0.21063017660062394,
          2.247217455951604,
          0.6975429161270316,
          1.342722266728234,
          1.3515213148127823,
          1.6892878099370587,
          -0.888827307303063,
          0.32297016807173135,
          0.5897513548602424,
          -0.7838460590770665,
          -0.21301277447107383,
          0.08069855359882595,
          0.17874768625456458,
          0.7181907811171023,
          0.6608543626555075,
          1.5868423598738286,
          -1.29289455032478,
          -1.0481060502192365,
          -0.7555287029548189,
          -0.4002005968895799,
          0.6442888936212734,
          0.5098534474640429,
          0.10481736334959846,
          1.6750834771798557,
          1.013568237425307,
          0.3105576641026045,
          -0.944906938052571,
          -0.725069921520946,
          0.5420141780202964,
          -0.359414820187637,
          -0.2689747476153853,
          -0.572906789700986,
          -1.097647061212322,
          -1.6047584912724986,
          -0.3712938081317608,
          0.633753918553161,
          1.4439566140849132,
          0.11952563318730945,
          -0.9085176840006997,
          1.7156401840521192,
          -0.6648845085682261,
          -0.3310236656211434,
          -0.2587809104334033,
          0.17772915462571165,
          1.39071011340516,
          1.6011706192351332,
          -0.2672962900711946,
          -0.0029242455426668227,
          -2.44327057061105,
          0.31030687845889543,
          -1.7500243910283217,
          -1.178351008552562,
          -0.41867244872730824,
          0.05886464051794897,
          -0.1698502902804518,
          0.9919412863914042,
          -2.285050248051403,
          -0.5139587648731763,
          1.2109801105938256,
          -0.4197300329111014,
          -2.319493600418936,
          -1.4744456583474723,
          0.7891309681663189,
          -0.26154628626111515,
          0.6575503750283542,
          -0.5358549396888171,
          0.8671677733021019,
          -0.554645876720916,
          -1.4653449386069937,
          -1.2123031376582982,
          0.16561904168799216,
          -1.2293903181090093,
          1.042927914738034,
          1.9003904456760932,
          0.19864835028272926,
          0.3026402942278122,
          0.7699164934511995,
          0.53041906286024,
          -1.434147311412444,
          0.5568780840044606
         ],
         "yaxis": "y10"
        },
        {
         "histfunc": "count",
         "histnorm": "",
         "marker": {
          "color": "rgba(50, 171, 96, 1.0)",
          "line": {
           "color": "#4D5663",
           "width": 1.3
          }
         },
         "name": "C",
         "nbinsx": 10,
         "opacity": 0.8,
         "orientation": "v",
         "type": "histogram",
         "x": [
          1.2351224845344935,
          -0.38669785570242604,
          -2.0011962318993453,
          0.04116458951516984,
          -2.09722903349474,
          -0.28032324451393703,
          -1.472950341135185,
          0.6114744607840525,
          -0.43117860125878604,
          0.4606296236813941,
          -1.4495540904678994,
          -1.8957680454010697,
          -0.11290971315892948,
          0.7234316529374472,
          0.9413183842924042,
          -0.5137523462209654,
          -1.1423370502459385,
          0.23001828325840296,
          -0.7426076875528073,
          0.3760412643606102,
          0.21063017660062394,
          2.247217455951604,
          0.6975429161270316,
          1.342722266728234,
          1.3515213148127823,
          1.6892878099370587,
          -0.888827307303063,
          0.32297016807173135,
          0.5897513548602424,
          -0.7838460590770665,
          -0.21301277447107383,
          0.08069855359882595,
          0.17874768625456458,
          0.7181907811171023,
          0.6608543626555075,
          1.5868423598738286,
          -1.29289455032478,
          -1.0481060502192365,
          -0.7555287029548189,
          -0.4002005968895799,
          0.6442888936212734,
          0.5098534474640429,
          0.10481736334959846,
          1.6750834771798557,
          1.013568237425307,
          0.3105576641026045,
          -0.944906938052571,
          -0.725069921520946,
          0.5420141780202964,
          -0.359414820187637,
          -0.2689747476153853,
          -0.572906789700986,
          -1.097647061212322,
          -1.6047584912724986,
          -0.3712938081317608,
          0.633753918553161,
          1.4439566140849132,
          0.11952563318730945,
          -0.9085176840006997,
          1.7156401840521192,
          -0.6648845085682261,
          -0.3310236656211434,
          -0.2587809104334033,
          0.17772915462571165,
          1.39071011340516,
          1.6011706192351332,
          -0.2672962900711946,
          -0.0029242455426668227,
          -2.44327057061105,
          0.31030687845889543,
          -1.7500243910283217,
          -1.178351008552562,
          -0.41867244872730824,
          0.05886464051794897,
          -0.1698502902804518,
          0.9919412863914042,
          -2.285050248051403,
          -0.5139587648731763,
          1.2109801105938256,
          -0.4197300329111014,
          -2.319493600418936,
          -1.4744456583474723,
          0.7891309681663189,
          -0.26154628626111515,
          0.6575503750283542,
          -0.5358549396888171,
          0.8671677733021019,
          -0.554645876720916,
          -1.4653449386069937,
          -1.2123031376582982,
          0.16561904168799216,
          -1.2293903181090093,
          1.042927914738034,
          1.9003904456760932,
          0.19864835028272926,
          0.3026402942278122,
          0.7699164934511995,
          0.53041906286024,
          -1.434147311412444,
          0.5568780840044606
         ],
         "xaxis": "x11",
         "yaxis": "y11"
        },
        {
         "line": {
          "color": "rgba(128, 128, 128, 1.0)",
          "dash": "solid",
          "shape": "linear",
          "width": 1.3
         },
         "marker": {
          "size": 2,
          "symbol": "circle"
         },
         "mode": "markers",
         "name": "C",
         "text": "",
         "type": "scatter",
         "x": [
          0.14732054436157588,
          -0.10016409969461607,
          -0.19853875024356474,
          0.1850679369234906,
          -0.07318226785197171,
          -0.8269943020767107,
          0.06505588662622032,
          -1.942691625809125,
          -0.4536076219495638,
          0.6572374031953897,
          -0.6652868237332036,
          0.11043148047080958,
          -0.019587584405579422,
          -0.7482707881992258,
          -1.2988682280280754,
          0.38621519604522314,
          -1.696404193406195,
          -0.3429186785322637,
          0.09279042937172309,
          -0.8063559082110902,
          0.7551055679237417,
          0.7869716093538546,
          1.4897661151575377,
          -0.8476304516840218,
          -0.9183721974615116,
          0.9860168544542203,
          0.40401118797691415,
          -0.8354349934311642,
          0.013125381519689614,
          0.05835298386757851,
          0.01912873321815849,
          -0.36612674935060724,
          0.7103671274554275,
          0.9966137970779217,
          -0.12432651280157953,
          0.2549968513299937,
          1.8862718160515375,
          1.3558612042392981,
          0.6093905381111977,
          -0.9061719545195042,
          0.7711898370854324,
          -1.095951761102537,
          0.13348196976153492,
          0.9039699635821302,
          -0.3517848783858705,
          -0.6331003822846138,
          -0.4667940221111615,
          0.780454011601283,
          -0.07297727067912188,
          -0.6653273203052653,
          1.5538029630201264,
          0.29688351635133814,
          0.19052116589596443,
          0.8778995158352625,
          -1.5922439115592986,
          -1.1579696051963828,
          0.56294450486414,
          -1.3601680416927817,
          -0.6337829815066541,
          0.6365968998404121,
          0.08974500010512594,
          0.06728786790245704,
          -0.5680241487267365,
          1.0250648322407485,
          -0.5757506256019281,
          -0.6718655107659853,
          -0.2410840766133584,
          0.34116939469619667,
          -0.20603144163430348,
          -0.27456229446142555,
          -2.3230121903835736,
          0.8629439039881185,
          0.1513111118912714,
          -0.2432729276020875,
          -0.2522990196379048,
          1.2011552889075532,
          0.8743023640764342,
          0.2439043012493187,
          -1.6101601185619678,
          -0.07991728172782873,
          -0.9092689428157388,
          1.6862372884389945,
          -0.9418538634870914,
          -1.1384561395310642,
          -2.0194627370098406,
          1.8485355450809546,
          0.4903854406052378,
          -0.395778586981528,
          -0.5610001541216844,
          1.2667544216609101,
          1.2451239599125243,
          0.31712089159970824,
          1.3461438978582148,
          0.32589285964725956,
          0.7696204882117698,
          -1.9426326459418741,
          -0.23961594598989663,
          1.7119656381810588,
          0.5012605925697431,
          2.150903549226858
         ],
         "xaxis": "x12",
         "y": [
          1.2351224845344935,
          -0.38669785570242604,
          -2.0011962318993453,
          0.04116458951516984,
          -2.09722903349474,
          -0.28032324451393703,
          -1.472950341135185,
          0.6114744607840525,
          -0.43117860125878604,
          0.4606296236813941,
          -1.4495540904678994,
          -1.8957680454010697,
          -0.11290971315892948,
          0.7234316529374472,
          0.9413183842924042,
          -0.5137523462209654,
          -1.1423370502459385,
          0.23001828325840296,
          -0.7426076875528073,
          0.3760412643606102,
          0.21063017660062394,
          2.247217455951604,
          0.6975429161270316,
          1.342722266728234,
          1.3515213148127823,
          1.6892878099370587,
          -0.888827307303063,
          0.32297016807173135,
          0.5897513548602424,
          -0.7838460590770665,
          -0.21301277447107383,
          0.08069855359882595,
          0.17874768625456458,
          0.7181907811171023,
          0.6608543626555075,
          1.5868423598738286,
          -1.29289455032478,
          -1.0481060502192365,
          -0.7555287029548189,
          -0.4002005968895799,
          0.6442888936212734,
          0.5098534474640429,
          0.10481736334959846,
          1.6750834771798557,
          1.013568237425307,
          0.3105576641026045,
          -0.944906938052571,
          -0.725069921520946,
          0.5420141780202964,
          -0.359414820187637,
          -0.2689747476153853,
          -0.572906789700986,
          -1.097647061212322,
          -1.6047584912724986,
          -0.3712938081317608,
          0.633753918553161,
          1.4439566140849132,
          0.11952563318730945,
          -0.9085176840006997,
          1.7156401840521192,
          -0.6648845085682261,
          -0.3310236656211434,
          -0.2587809104334033,
          0.17772915462571165,
          1.39071011340516,
          1.6011706192351332,
          -0.2672962900711946,
          -0.0029242455426668227,
          -2.44327057061105,
          0.31030687845889543,
          -1.7500243910283217,
          -1.178351008552562,
          -0.41867244872730824,
          0.05886464051794897,
          -0.1698502902804518,
          0.9919412863914042,
          -2.285050248051403,
          -0.5139587648731763,
          1.2109801105938256,
          -0.4197300329111014,
          -2.319493600418936,
          -1.4744456583474723,
          0.7891309681663189,
          -0.26154628626111515,
          0.6575503750283542,
          -0.5358549396888171,
          0.8671677733021019,
          -0.554645876720916,
          -1.4653449386069937,
          -1.2123031376582982,
          0.16561904168799216,
          -1.2293903181090093,
          1.042927914738034,
          1.9003904456760932,
          0.19864835028272926,
          0.3026402942278122,
          0.7699164934511995,
          0.53041906286024,
          -1.434147311412444,
          0.5568780840044606
         ],
         "yaxis": "y12"
        },
        {
         "line": {
          "color": "rgba(128, 128, 128, 1.0)",
          "dash": "solid",
          "shape": "linear",
          "width": 1.3
         },
         "marker": {
          "size": 2,
          "symbol": "circle"
         },
         "mode": "markers",
         "name": "D",
         "text": "",
         "type": "scatter",
         "x": [
          -0.25227118008665145,
          0.06172597997312884,
          -0.09007588736177649,
          0.9655665553973772,
          0.4854660192833101,
          0.26701802645320244,
          1.0923931195785344,
          1.6867856846022133,
          0.1055984372563579,
          1.4884028777300893,
          1.2544325383218051,
          -0.7041177662348228,
          -0.6119001641424259,
          0.18014447538600833,
          1.155263713036101,
          -0.3425063374551015,
          -1.067126111336395,
          -0.7221525466373608,
          0.7651090750646531,
          -1.004545495950125,
          -0.2637463201554845,
          0.9270246371655807,
          -0.5193031631501195,
          2.2167780068744793,
          0.3862748792441888,
          1.1991319730362835,
          -1.557404376140031,
          -0.14901869535222126,
          -1.0024020287011886,
          0.13131176544298556,
          0.264598537852816,
          1.5531042912324888,
          0.4723615756752949,
          1.2296567723864706,
          1.4838948908571272,
          -0.27145625647809307,
          1.221844725244573,
          0.01469204642486503,
          1.3665996903567188,
          1.5443386446287324,
          -1.025123286950699,
          0.9819935474844267,
          1.1611796816047524,
          0.6991418032344212,
          -0.09106560471621786,
          -0.28426957089284277,
          -0.4016892297490613,
          -0.7774782732898965,
          -1.7223561231552598,
          2.460641905242768,
          0.4815183047281549,
          0.035806349576061165,
          0.910594759012117,
          -2.111067286320529,
          0.4238597156449524,
          1.9696836406375793,
          1.2332022682950836,
          -0.36656460758235637,
          1.8230451716552216,
          0.06966636861757851,
          1.1458785678701724,
          1.7385076252864209,
          -0.7410792987434056,
          -1.03176211548569,
          -0.10499217997687547,
          0.8659742608682182,
          -1.5783493333238372,
          -0.3489892902332464,
          1.4205913357741387,
          0.3282768542802037,
          1.20624805647062,
          0.2784530549906407,
          -0.7660315306574534,
          -0.3624752352324765,
          0.16231001478679416,
          0.9015722306033053,
          -0.7315391441263145,
          0.12354605275732658,
          0.4762171976821261,
          -2.0282995125317,
          0.46788204967415586,
          -0.2701368232370625,
          -0.9321784813202924,
          1.1780347596600362,
          -0.11206602609647033,
          0.21176886719477322,
          -0.8424944426011093,
          -1.166873584439773,
          -0.26288821705556603,
          -1.1033996783872577,
          0.6627858300113253,
          -0.6656295927166045,
          1.1961132505894427,
          1.9949738834989803,
          0.07004738586976976,
          -0.7715662014536142,
          -0.4528018588980907,
          -1.25185572951221,
          0.7625147154525329,
          -0.6660630083136009
         ],
         "xaxis": "x13",
         "y": [
          0.14732054436157588,
          -0.10016409969461607,
          -0.19853875024356474,
          0.1850679369234906,
          -0.07318226785197171,
          -0.8269943020767107,
          0.06505588662622032,
          -1.942691625809125,
          -0.4536076219495638,
          0.6572374031953897,
          -0.6652868237332036,
          0.11043148047080958,
          -0.019587584405579422,
          -0.7482707881992258,
          -1.2988682280280754,
          0.38621519604522314,
          -1.696404193406195,
          -0.3429186785322637,
          0.09279042937172309,
          -0.8063559082110902,
          0.7551055679237417,
          0.7869716093538546,
          1.4897661151575377,
          -0.8476304516840218,
          -0.9183721974615116,
          0.9860168544542203,
          0.40401118797691415,
          -0.8354349934311642,
          0.013125381519689614,
          0.05835298386757851,
          0.01912873321815849,
          -0.36612674935060724,
          0.7103671274554275,
          0.9966137970779217,
          -0.12432651280157953,
          0.2549968513299937,
          1.8862718160515375,
          1.3558612042392981,
          0.6093905381111977,
          -0.9061719545195042,
          0.7711898370854324,
          -1.095951761102537,
          0.13348196976153492,
          0.9039699635821302,
          -0.3517848783858705,
          -0.6331003822846138,
          -0.4667940221111615,
          0.780454011601283,
          -0.07297727067912188,
          -0.6653273203052653,
          1.5538029630201264,
          0.29688351635133814,
          0.19052116589596443,
          0.8778995158352625,
          -1.5922439115592986,
          -1.1579696051963828,
          0.56294450486414,
          -1.3601680416927817,
          -0.6337829815066541,
          0.6365968998404121,
          0.08974500010512594,
          0.06728786790245704,
          -0.5680241487267365,
          1.0250648322407485,
          -0.5757506256019281,
          -0.6718655107659853,
          -0.2410840766133584,
          0.34116939469619667,
          -0.20603144163430348,
          -0.27456229446142555,
          -2.3230121903835736,
          0.8629439039881185,
          0.1513111118912714,
          -0.2432729276020875,
          -0.2522990196379048,
          1.2011552889075532,
          0.8743023640764342,
          0.2439043012493187,
          -1.6101601185619678,
          -0.07991728172782873,
          -0.9092689428157388,
          1.6862372884389945,
          -0.9418538634870914,
          -1.1384561395310642,
          -2.0194627370098406,
          1.8485355450809546,
          0.4903854406052378,
          -0.395778586981528,
          -0.5610001541216844,
          1.2667544216609101,
          1.2451239599125243,
          0.31712089159970824,
          1.3461438978582148,
          0.32589285964725956,
          0.7696204882117698,
          -1.9426326459418741,
          -0.23961594598989663,
          1.7119656381810588,
          0.5012605925697431,
          2.150903549226858
         ],
         "yaxis": "y13"
        },
        {
         "line": {
          "color": "rgba(128, 128, 128, 1.0)",
          "dash": "solid",
          "shape": "linear",
          "width": 1.3
         },
         "marker": {
          "size": 2,
          "symbol": "circle"
         },
         "mode": "markers",
         "name": "D",
         "text": "",
         "type": "scatter",
         "x": [
          -0.24429798139803324,
          -0.08140072026070258,
          -0.3440352221324289,
          -2.3053151000556555,
          -0.6497290247349842,
          0.995013179423379,
          1.4482732817312591,
          -0.9725458639710425,
          -0.0466569137740196,
          -1.3294228665276946,
          -0.8247119481275208,
          0.27609613535962857,
          -0.09473417124123408,
          1.2352309586310322,
          -1.9737731840246349,
          1.61911094645423,
          -0.26661304242337575,
          -0.2883173900689931,
          -1.1166915254776921,
          -0.2944092679714753,
          -0.8519120009667719,
          1.5669506335703582,
          1.3055588979130333,
          1.2996456459533428,
          0.9298325077994817,
          0.5737059413597119,
          0.901327794240818,
          -0.6131682683010122,
          1.9757524385077965,
          0.02801892591066275,
          1.169958911979349,
          0.8337790525973593,
          -1.0860858018918167,
          2.127483822808999,
          -1.1224068626293964,
          0.14436058310809521,
          0.8523129002351462,
          -0.9339966382509564,
          -0.5246945159001554,
          1.7368746659269374,
          0.7841996410852168,
          0.24964765334285305,
          2.0156034157433926,
          1.0005055998758337,
          1.661505139907902,
          1.2799660531362713,
          0.7706834184475058,
          0.5369875645341228,
          -0.09155641558534112,
          -0.49511281408638624,
          1.5529183028908848,
          2.4609964757075518,
          1.1664358569786706,
          -2.0914361872843417,
          -0.6989200878865848,
          0.5066218678795223,
          -0.49718418195862507,
          -0.8960658802881825,
          0.7227373881394722,
          -0.13499945108069203,
          -0.8630493471228109,
          0.15196771672118464,
          -1.2069214985814378,
          0.8226934690856887,
          -0.71909089288083,
          0.45993752341927757,
          -0.034813632030634006,
          -0.28989428438974524,
          -1.8318618123062496,
          -1.221478771149326,
          -1.600010335978149,
          -0.7345603641391674,
          -0.15027775675031024,
          -1.3646714770060189,
          -0.7785787421800132,
          -0.9751390197139149,
          0.6132892263431378,
          -1.3768478976549485,
          -1.4490455174948522,
          -0.03822645435966252,
          0.31517972419972795,
          -0.8588798522560479,
          1.1898640603599298,
          -1.6626037943520315,
          0.2667829198371369,
          2.1921221149600263,
          0.29320163830816354,
          0.43158584935104316,
          -0.4676397959356081,
          -0.5065838296651279,
          0.6305038259893719,
          0.2450240269975526,
          0.2752188120259105,
          0.6218735185660969,
          -1.69428883235597,
          -0.1425658102952103,
          -0.38355665675155454,
          -0.2571761083843813,
          -0.571611317316897,
          -0.9584551972239918
         ],
         "xaxis": "x14",
         "y": [
          0.14732054436157588,
          -0.10016409969461607,
          -0.19853875024356474,
          0.1850679369234906,
          -0.07318226785197171,
          -0.8269943020767107,
          0.06505588662622032,
          -1.942691625809125,
          -0.4536076219495638,
          0.6572374031953897,
          -0.6652868237332036,
          0.11043148047080958,
          -0.019587584405579422,
          -0.7482707881992258,
          -1.2988682280280754,
          0.38621519604522314,
          -1.696404193406195,
          -0.3429186785322637,
          0.09279042937172309,
          -0.8063559082110902,
          0.7551055679237417,
          0.7869716093538546,
          1.4897661151575377,
          -0.8476304516840218,
          -0.9183721974615116,
          0.9860168544542203,
          0.40401118797691415,
          -0.8354349934311642,
          0.013125381519689614,
          0.05835298386757851,
          0.01912873321815849,
          -0.36612674935060724,
          0.7103671274554275,
          0.9966137970779217,
          -0.12432651280157953,
          0.2549968513299937,
          1.8862718160515375,
          1.3558612042392981,
          0.6093905381111977,
          -0.9061719545195042,
          0.7711898370854324,
          -1.095951761102537,
          0.13348196976153492,
          0.9039699635821302,
          -0.3517848783858705,
          -0.6331003822846138,
          -0.4667940221111615,
          0.780454011601283,
          -0.07297727067912188,
          -0.6653273203052653,
          1.5538029630201264,
          0.29688351635133814,
          0.19052116589596443,
          0.8778995158352625,
          -1.5922439115592986,
          -1.1579696051963828,
          0.56294450486414,
          -1.3601680416927817,
          -0.6337829815066541,
          0.6365968998404121,
          0.08974500010512594,
          0.06728786790245704,
          -0.5680241487267365,
          1.0250648322407485,
          -0.5757506256019281,
          -0.6718655107659853,
          -0.2410840766133584,
          0.34116939469619667,
          -0.20603144163430348,
          -0.27456229446142555,
          -2.3230121903835736,
          0.8629439039881185,
          0.1513111118912714,
          -0.2432729276020875,
          -0.2522990196379048,
          1.2011552889075532,
          0.8743023640764342,
          0.2439043012493187,
          -1.6101601185619678,
          -0.07991728172782873,
          -0.9092689428157388,
          1.6862372884389945,
          -0.9418538634870914,
          -1.1384561395310642,
          -2.0194627370098406,
          1.8485355450809546,
          0.4903854406052378,
          -0.395778586981528,
          -0.5610001541216844,
          1.2667544216609101,
          1.2451239599125243,
          0.31712089159970824,
          1.3461438978582148,
          0.32589285964725956,
          0.7696204882117698,
          -1.9426326459418741,
          -0.23961594598989663,
          1.7119656381810588,
          0.5012605925697431,
          2.150903549226858
         ],
         "yaxis": "y14"
        },
        {
         "line": {
          "color": "rgba(128, 128, 128, 1.0)",
          "dash": "solid",
          "shape": "linear",
          "width": 1.3
         },
         "marker": {
          "size": 2,
          "symbol": "circle"
         },
         "mode": "markers",
         "name": "D",
         "text": "",
         "type": "scatter",
         "x": [
          1.2351224845344935,
          -0.38669785570242604,
          -2.0011962318993453,
          0.04116458951516984,
          -2.09722903349474,
          -0.28032324451393703,
          -1.472950341135185,
          0.6114744607840525,
          -0.43117860125878604,
          0.4606296236813941,
          -1.4495540904678994,
          -1.8957680454010697,
          -0.11290971315892948,
          0.7234316529374472,
          0.9413183842924042,
          -0.5137523462209654,
          -1.1423370502459385,
          0.23001828325840296,
          -0.7426076875528073,
          0.3760412643606102,
          0.21063017660062394,
          2.247217455951604,
          0.6975429161270316,
          1.342722266728234,
          1.3515213148127823,
          1.6892878099370587,
          -0.888827307303063,
          0.32297016807173135,
          0.5897513548602424,
          -0.7838460590770665,
          -0.21301277447107383,
          0.08069855359882595,
          0.17874768625456458,
          0.7181907811171023,
          0.6608543626555075,
          1.5868423598738286,
          -1.29289455032478,
          -1.0481060502192365,
          -0.7555287029548189,
          -0.4002005968895799,
          0.6442888936212734,
          0.5098534474640429,
          0.10481736334959846,
          1.6750834771798557,
          1.013568237425307,
          0.3105576641026045,
          -0.944906938052571,
          -0.725069921520946,
          0.5420141780202964,
          -0.359414820187637,
          -0.2689747476153853,
          -0.572906789700986,
          -1.097647061212322,
          -1.6047584912724986,
          -0.3712938081317608,
          0.633753918553161,
          1.4439566140849132,
          0.11952563318730945,
          -0.9085176840006997,
          1.7156401840521192,
          -0.6648845085682261,
          -0.3310236656211434,
          -0.2587809104334033,
          0.17772915462571165,
          1.39071011340516,
          1.6011706192351332,
          -0.2672962900711946,
          -0.0029242455426668227,
          -2.44327057061105,
          0.31030687845889543,
          -1.7500243910283217,
          -1.178351008552562,
          -0.41867244872730824,
          0.05886464051794897,
          -0.1698502902804518,
          0.9919412863914042,
          -2.285050248051403,
          -0.5139587648731763,
          1.2109801105938256,
          -0.4197300329111014,
          -2.319493600418936,
          -1.4744456583474723,
          0.7891309681663189,
          -0.26154628626111515,
          0.6575503750283542,
          -0.5358549396888171,
          0.8671677733021019,
          -0.554645876720916,
          -1.4653449386069937,
          -1.2123031376582982,
          0.16561904168799216,
          -1.2293903181090093,
          1.042927914738034,
          1.9003904456760932,
          0.19864835028272926,
          0.3026402942278122,
          0.7699164934511995,
          0.53041906286024,
          -1.434147311412444,
          0.5568780840044606
         ],
         "xaxis": "x15",
         "y": [
          0.14732054436157588,
          -0.10016409969461607,
          -0.19853875024356474,
          0.1850679369234906,
          -0.07318226785197171,
          -0.8269943020767107,
          0.06505588662622032,
          -1.942691625809125,
          -0.4536076219495638,
          0.6572374031953897,
          -0.6652868237332036,
          0.11043148047080958,
          -0.019587584405579422,
          -0.7482707881992258,
          -1.2988682280280754,
          0.38621519604522314,
          -1.696404193406195,
          -0.3429186785322637,
          0.09279042937172309,
          -0.8063559082110902,
          0.7551055679237417,
          0.7869716093538546,
          1.4897661151575377,
          -0.8476304516840218,
          -0.9183721974615116,
          0.9860168544542203,
          0.40401118797691415,
          -0.8354349934311642,
          0.013125381519689614,
          0.05835298386757851,
          0.01912873321815849,
          -0.36612674935060724,
          0.7103671274554275,
          0.9966137970779217,
          -0.12432651280157953,
          0.2549968513299937,
          1.8862718160515375,
          1.3558612042392981,
          0.6093905381111977,
          -0.9061719545195042,
          0.7711898370854324,
          -1.095951761102537,
          0.13348196976153492,
          0.9039699635821302,
          -0.3517848783858705,
          -0.6331003822846138,
          -0.4667940221111615,
          0.780454011601283,
          -0.07297727067912188,
          -0.6653273203052653,
          1.5538029630201264,
          0.29688351635133814,
          0.19052116589596443,
          0.8778995158352625,
          -1.5922439115592986,
          -1.1579696051963828,
          0.56294450486414,
          -1.3601680416927817,
          -0.6337829815066541,
          0.6365968998404121,
          0.08974500010512594,
          0.06728786790245704,
          -0.5680241487267365,
          1.0250648322407485,
          -0.5757506256019281,
          -0.6718655107659853,
          -0.2410840766133584,
          0.34116939469619667,
          -0.20603144163430348,
          -0.27456229446142555,
          -2.3230121903835736,
          0.8629439039881185,
          0.1513111118912714,
          -0.2432729276020875,
          -0.2522990196379048,
          1.2011552889075532,
          0.8743023640764342,
          0.2439043012493187,
          -1.6101601185619678,
          -0.07991728172782873,
          -0.9092689428157388,
          1.6862372884389945,
          -0.9418538634870914,
          -1.1384561395310642,
          -2.0194627370098406,
          1.8485355450809546,
          0.4903854406052378,
          -0.395778586981528,
          -0.5610001541216844,
          1.2667544216609101,
          1.2451239599125243,
          0.31712089159970824,
          1.3461438978582148,
          0.32589285964725956,
          0.7696204882117698,
          -1.9426326459418741,
          -0.23961594598989663,
          1.7119656381810588,
          0.5012605925697431,
          2.150903549226858
         ],
         "yaxis": "y15"
        },
        {
         "histfunc": "count",
         "histnorm": "",
         "marker": {
          "color": "rgba(128, 0, 128, 1.0)",
          "line": {
           "color": "#4D5663",
           "width": 1.3
          }
         },
         "name": "D",
         "nbinsx": 10,
         "opacity": 0.8,
         "orientation": "v",
         "type": "histogram",
         "x": [
          0.14732054436157588,
          -0.10016409969461607,
          -0.19853875024356474,
          0.1850679369234906,
          -0.07318226785197171,
          -0.8269943020767107,
          0.06505588662622032,
          -1.942691625809125,
          -0.4536076219495638,
          0.6572374031953897,
          -0.6652868237332036,
          0.11043148047080958,
          -0.019587584405579422,
          -0.7482707881992258,
          -1.2988682280280754,
          0.38621519604522314,
          -1.696404193406195,
          -0.3429186785322637,
          0.09279042937172309,
          -0.8063559082110902,
          0.7551055679237417,
          0.7869716093538546,
          1.4897661151575377,
          -0.8476304516840218,
          -0.9183721974615116,
          0.9860168544542203,
          0.40401118797691415,
          -0.8354349934311642,
          0.013125381519689614,
          0.05835298386757851,
          0.01912873321815849,
          -0.36612674935060724,
          0.7103671274554275,
          0.9966137970779217,
          -0.12432651280157953,
          0.2549968513299937,
          1.8862718160515375,
          1.3558612042392981,
          0.6093905381111977,
          -0.9061719545195042,
          0.7711898370854324,
          -1.095951761102537,
          0.13348196976153492,
          0.9039699635821302,
          -0.3517848783858705,
          -0.6331003822846138,
          -0.4667940221111615,
          0.780454011601283,
          -0.07297727067912188,
          -0.6653273203052653,
          1.5538029630201264,
          0.29688351635133814,
          0.19052116589596443,
          0.8778995158352625,
          -1.5922439115592986,
          -1.1579696051963828,
          0.56294450486414,
          -1.3601680416927817,
          -0.6337829815066541,
          0.6365968998404121,
          0.08974500010512594,
          0.06728786790245704,
          -0.5680241487267365,
          1.0250648322407485,
          -0.5757506256019281,
          -0.6718655107659853,
          -0.2410840766133584,
          0.34116939469619667,
          -0.20603144163430348,
          -0.27456229446142555,
          -2.3230121903835736,
          0.8629439039881185,
          0.1513111118912714,
          -0.2432729276020875,
          -0.2522990196379048,
          1.2011552889075532,
          0.8743023640764342,
          0.2439043012493187,
          -1.6101601185619678,
          -0.07991728172782873,
          -0.9092689428157388,
          1.6862372884389945,
          -0.9418538634870914,
          -1.1384561395310642,
          -2.0194627370098406,
          1.8485355450809546,
          0.4903854406052378,
          -0.395778586981528,
          -0.5610001541216844,
          1.2667544216609101,
          1.2451239599125243,
          0.31712089159970824,
          1.3461438978582148,
          0.32589285964725956,
          0.7696204882117698,
          -1.9426326459418741,
          -0.23961594598989663,
          1.7119656381810588,
          0.5012605925697431,
          2.150903549226858
         ],
         "xaxis": "x16",
         "yaxis": "y16"
        }
       ],
       "layout": {
        "bargap": 0.02,
        "legend": {
         "bgcolor": "#F5F6F9",
         "font": {
          "color": "#4D5663"
         }
        },
        "paper_bgcolor": "#F5F6F9",
        "plot_bgcolor": "#F5F6F9",
        "showlegend": false,
        "template": {
         "data": {
          "bar": [
           {
            "error_x": {
             "color": "#2a3f5f"
            },
            "error_y": {
             "color": "#2a3f5f"
            },
            "marker": {
             "line": {
              "color": "#E5ECF6",
              "width": 0.5
             },
             "pattern": {
              "fillmode": "overlay",
              "size": 10,
              "solidity": 0.2
             }
            },
            "type": "bar"
           }
          ],
          "barpolar": [
           {
            "marker": {
             "line": {
              "color": "#E5ECF6",
              "width": 0.5
             },
             "pattern": {
              "fillmode": "overlay",
              "size": 10,
              "solidity": 0.2
             }
            },
            "type": "barpolar"
           }
          ],
          "carpet": [
           {
            "aaxis": {
             "endlinecolor": "#2a3f5f",
             "gridcolor": "white",
             "linecolor": "white",
             "minorgridcolor": "white",
             "startlinecolor": "#2a3f5f"
            },
            "baxis": {
             "endlinecolor": "#2a3f5f",
             "gridcolor": "white",
             "linecolor": "white",
             "minorgridcolor": "white",
             "startlinecolor": "#2a3f5f"
            },
            "type": "carpet"
           }
          ],
          "choropleth": [
           {
            "colorbar": {
             "outlinewidth": 0,
             "ticks": ""
            },
            "type": "choropleth"
           }
          ],
          "contour": [
           {
            "colorbar": {
             "outlinewidth": 0,
             "ticks": ""
            },
            "colorscale": [
             [
              0,
              "#0d0887"
             ],
             [
              0.1111111111111111,
              "#46039f"
             ],
             [
              0.2222222222222222,
              "#7201a8"
             ],
             [
              0.3333333333333333,
              "#9c179e"
             ],
             [
              0.4444444444444444,
              "#bd3786"
             ],
             [
              0.5555555555555556,
              "#d8576b"
             ],
             [
              0.6666666666666666,
              "#ed7953"
             ],
             [
              0.7777777777777778,
              "#fb9f3a"
             ],
             [
              0.8888888888888888,
              "#fdca26"
             ],
             [
              1,
              "#f0f921"
             ]
            ],
            "type": "contour"
           }
          ],
          "contourcarpet": [
           {
            "colorbar": {
             "outlinewidth": 0,
             "ticks": ""
            },
            "type": "contourcarpet"
           }
          ],
          "heatmap": [
           {
            "colorbar": {
             "outlinewidth": 0,
             "ticks": ""
            },
            "colorscale": [
             [
              0,
              "#0d0887"
             ],
             [
              0.1111111111111111,
              "#46039f"
             ],
             [
              0.2222222222222222,
              "#7201a8"
             ],
             [
              0.3333333333333333,
              "#9c179e"
             ],
             [
              0.4444444444444444,
              "#bd3786"
             ],
             [
              0.5555555555555556,
              "#d8576b"
             ],
             [
              0.6666666666666666,
              "#ed7953"
             ],
             [
              0.7777777777777778,
              "#fb9f3a"
             ],
             [
              0.8888888888888888,
              "#fdca26"
             ],
             [
              1,
              "#f0f921"
             ]
            ],
            "type": "heatmap"
           }
          ],
          "heatmapgl": [
           {
            "colorbar": {
             "outlinewidth": 0,
             "ticks": ""
            },
            "colorscale": [
             [
              0,
              "#0d0887"
             ],
             [
              0.1111111111111111,
              "#46039f"
             ],
             [
              0.2222222222222222,
              "#7201a8"
             ],
             [
              0.3333333333333333,
              "#9c179e"
             ],
             [
              0.4444444444444444,
              "#bd3786"
             ],
             [
              0.5555555555555556,
              "#d8576b"
             ],
             [
              0.6666666666666666,
              "#ed7953"
             ],
             [
              0.7777777777777778,
              "#fb9f3a"
             ],
             [
              0.8888888888888888,
              "#fdca26"
             ],
             [
              1,
              "#f0f921"
             ]
            ],
            "type": "heatmapgl"
           }
          ],
          "histogram": [
           {
            "marker": {
             "pattern": {
              "fillmode": "overlay",
              "size": 10,
              "solidity": 0.2
             }
            },
            "type": "histogram"
           }
          ],
          "histogram2d": [
           {
            "colorbar": {
             "outlinewidth": 0,
             "ticks": ""
            },
            "colorscale": [
             [
              0,
              "#0d0887"
             ],
             [
              0.1111111111111111,
              "#46039f"
             ],
             [
              0.2222222222222222,
              "#7201a8"
             ],
             [
              0.3333333333333333,
              "#9c179e"
             ],
             [
              0.4444444444444444,
              "#bd3786"
             ],
             [
              0.5555555555555556,
              "#d8576b"
             ],
             [
              0.6666666666666666,
              "#ed7953"
             ],
             [
              0.7777777777777778,
              "#fb9f3a"
             ],
             [
              0.8888888888888888,
              "#fdca26"
             ],
             [
              1,
              "#f0f921"
             ]
            ],
            "type": "histogram2d"
           }
          ],
          "histogram2dcontour": [
           {
            "colorbar": {
             "outlinewidth": 0,
             "ticks": ""
            },
            "colorscale": [
             [
              0,
              "#0d0887"
             ],
             [
              0.1111111111111111,
              "#46039f"
             ],
             [
              0.2222222222222222,
              "#7201a8"
             ],
             [
              0.3333333333333333,
              "#9c179e"
             ],
             [
              0.4444444444444444,
              "#bd3786"
             ],
             [
              0.5555555555555556,
              "#d8576b"
             ],
             [
              0.6666666666666666,
              "#ed7953"
             ],
             [
              0.7777777777777778,
              "#fb9f3a"
             ],
             [
              0.8888888888888888,
              "#fdca26"
             ],
             [
              1,
              "#f0f921"
             ]
            ],
            "type": "histogram2dcontour"
           }
          ],
          "mesh3d": [
           {
            "colorbar": {
             "outlinewidth": 0,
             "ticks": ""
            },
            "type": "mesh3d"
           }
          ],
          "parcoords": [
           {
            "line": {
             "colorbar": {
              "outlinewidth": 0,
              "ticks": ""
             }
            },
            "type": "parcoords"
           }
          ],
          "pie": [
           {
            "automargin": true,
            "type": "pie"
           }
          ],
          "scatter": [
           {
            "marker": {
             "colorbar": {
              "outlinewidth": 0,
              "ticks": ""
             }
            },
            "type": "scatter"
           }
          ],
          "scatter3d": [
           {
            "line": {
             "colorbar": {
              "outlinewidth": 0,
              "ticks": ""
             }
            },
            "marker": {
             "colorbar": {
              "outlinewidth": 0,
              "ticks": ""
             }
            },
            "type": "scatter3d"
           }
          ],
          "scattercarpet": [
           {
            "marker": {
             "colorbar": {
              "outlinewidth": 0,
              "ticks": ""
             }
            },
            "type": "scattercarpet"
           }
          ],
          "scattergeo": [
           {
            "marker": {
             "colorbar": {
              "outlinewidth": 0,
              "ticks": ""
             }
            },
            "type": "scattergeo"
           }
          ],
          "scattergl": [
           {
            "marker": {
             "colorbar": {
              "outlinewidth": 0,
              "ticks": ""
             }
            },
            "type": "scattergl"
           }
          ],
          "scattermapbox": [
           {
            "marker": {
             "colorbar": {
              "outlinewidth": 0,
              "ticks": ""
             }
            },
            "type": "scattermapbox"
           }
          ],
          "scatterpolar": [
           {
            "marker": {
             "colorbar": {
              "outlinewidth": 0,
              "ticks": ""
             }
            },
            "type": "scatterpolar"
           }
          ],
          "scatterpolargl": [
           {
            "marker": {
             "colorbar": {
              "outlinewidth": 0,
              "ticks": ""
             }
            },
            "type": "scatterpolargl"
           }
          ],
          "scatterternary": [
           {
            "marker": {
             "colorbar": {
              "outlinewidth": 0,
              "ticks": ""
             }
            },
            "type": "scatterternary"
           }
          ],
          "surface": [
           {
            "colorbar": {
             "outlinewidth": 0,
             "ticks": ""
            },
            "colorscale": [
             [
              0,
              "#0d0887"
             ],
             [
              0.1111111111111111,
              "#46039f"
             ],
             [
              0.2222222222222222,
              "#7201a8"
             ],
             [
              0.3333333333333333,
              "#9c179e"
             ],
             [
              0.4444444444444444,
              "#bd3786"
             ],
             [
              0.5555555555555556,
              "#d8576b"
             ],
             [
              0.6666666666666666,
              "#ed7953"
             ],
             [
              0.7777777777777778,
              "#fb9f3a"
             ],
             [
              0.8888888888888888,
              "#fdca26"
             ],
             [
              1,
              "#f0f921"
             ]
            ],
            "type": "surface"
           }
          ],
          "table": [
           {
            "cells": {
             "fill": {
              "color": "#EBF0F8"
             },
             "line": {
              "color": "white"
             }
            },
            "header": {
             "fill": {
              "color": "#C8D4E3"
             },
             "line": {
              "color": "white"
             }
            },
            "type": "table"
           }
          ]
         },
         "layout": {
          "annotationdefaults": {
           "arrowcolor": "#2a3f5f",
           "arrowhead": 0,
           "arrowwidth": 1
          },
          "autotypenumbers": "strict",
          "coloraxis": {
           "colorbar": {
            "outlinewidth": 0,
            "ticks": ""
           }
          },
          "colorscale": {
           "diverging": [
            [
             0,
             "#8e0152"
            ],
            [
             0.1,
             "#c51b7d"
            ],
            [
             0.2,
             "#de77ae"
            ],
            [
             0.3,
             "#f1b6da"
            ],
            [
             0.4,
             "#fde0ef"
            ],
            [
             0.5,
             "#f7f7f7"
            ],
            [
             0.6,
             "#e6f5d0"
            ],
            [
             0.7,
             "#b8e186"
            ],
            [
             0.8,
             "#7fbc41"
            ],
            [
             0.9,
             "#4d9221"
            ],
            [
             1,
             "#276419"
            ]
           ],
           "sequential": [
            [
             0,
             "#0d0887"
            ],
            [
             0.1111111111111111,
             "#46039f"
            ],
            [
             0.2222222222222222,
             "#7201a8"
            ],
            [
             0.3333333333333333,
             "#9c179e"
            ],
            [
             0.4444444444444444,
             "#bd3786"
            ],
            [
             0.5555555555555556,
             "#d8576b"
            ],
            [
             0.6666666666666666,
             "#ed7953"
            ],
            [
             0.7777777777777778,
             "#fb9f3a"
            ],
            [
             0.8888888888888888,
             "#fdca26"
            ],
            [
             1,
             "#f0f921"
            ]
           ],
           "sequentialminus": [
            [
             0,
             "#0d0887"
            ],
            [
             0.1111111111111111,
             "#46039f"
            ],
            [
             0.2222222222222222,
             "#7201a8"
            ],
            [
             0.3333333333333333,
             "#9c179e"
            ],
            [
             0.4444444444444444,
             "#bd3786"
            ],
            [
             0.5555555555555556,
             "#d8576b"
            ],
            [
             0.6666666666666666,
             "#ed7953"
            ],
            [
             0.7777777777777778,
             "#fb9f3a"
            ],
            [
             0.8888888888888888,
             "#fdca26"
            ],
            [
             1,
             "#f0f921"
            ]
           ]
          },
          "colorway": [
           "#636efa",
           "#EF553B",
           "#00cc96",
           "#ab63fa",
           "#FFA15A",
           "#19d3f3",
           "#FF6692",
           "#B6E880",
           "#FF97FF",
           "#FECB52"
          ],
          "font": {
           "color": "#2a3f5f"
          },
          "geo": {
           "bgcolor": "white",
           "lakecolor": "white",
           "landcolor": "#E5ECF6",
           "showlakes": true,
           "showland": true,
           "subunitcolor": "white"
          },
          "hoverlabel": {
           "align": "left"
          },
          "hovermode": "closest",
          "mapbox": {
           "style": "light"
          },
          "paper_bgcolor": "white",
          "plot_bgcolor": "#E5ECF6",
          "polar": {
           "angularaxis": {
            "gridcolor": "white",
            "linecolor": "white",
            "ticks": ""
           },
           "bgcolor": "#E5ECF6",
           "radialaxis": {
            "gridcolor": "white",
            "linecolor": "white",
            "ticks": ""
           }
          },
          "scene": {
           "xaxis": {
            "backgroundcolor": "#E5ECF6",
            "gridcolor": "white",
            "gridwidth": 2,
            "linecolor": "white",
            "showbackground": true,
            "ticks": "",
            "zerolinecolor": "white"
           },
           "yaxis": {
            "backgroundcolor": "#E5ECF6",
            "gridcolor": "white",
            "gridwidth": 2,
            "linecolor": "white",
            "showbackground": true,
            "ticks": "",
            "zerolinecolor": "white"
           },
           "zaxis": {
            "backgroundcolor": "#E5ECF6",
            "gridcolor": "white",
            "gridwidth": 2,
            "linecolor": "white",
            "showbackground": true,
            "ticks": "",
            "zerolinecolor": "white"
           }
          },
          "shapedefaults": {
           "line": {
            "color": "#2a3f5f"
           }
          },
          "ternary": {
           "aaxis": {
            "gridcolor": "white",
            "linecolor": "white",
            "ticks": ""
           },
           "baxis": {
            "gridcolor": "white",
            "linecolor": "white",
            "ticks": ""
           },
           "bgcolor": "#E5ECF6",
           "caxis": {
            "gridcolor": "white",
            "linecolor": "white",
            "ticks": ""
           }
          },
          "title": {
           "x": 0.05
          },
          "xaxis": {
           "automargin": true,
           "gridcolor": "white",
           "linecolor": "white",
           "ticks": "",
           "title": {
            "standoff": 15
           },
           "zerolinecolor": "white",
           "zerolinewidth": 2
          },
          "yaxis": {
           "automargin": true,
           "gridcolor": "white",
           "linecolor": "white",
           "ticks": "",
           "title": {
            "standoff": 15
           },
           "zerolinecolor": "white",
           "zerolinewidth": 2
          }
         }
        },
        "title": {
         "font": {
          "color": "#4D5663"
         }
        },
        "xaxis": {
         "anchor": "y",
         "domain": [
          0,
          0.2125
         ],
         "gridcolor": "#E1E5ED",
         "showgrid": false,
         "tickfont": {
          "color": "#4D5663"
         },
         "title": {
          "font": {
           "color": "#4D5663"
          },
          "text": ""
         },
         "zerolinecolor": "#E1E5ED"
        },
        "xaxis10": {
         "anchor": "y10",
         "domain": [
          0.2625,
          0.475
         ],
         "gridcolor": "#E1E5ED",
         "showgrid": false,
         "tickfont": {
          "color": "#4D5663"
         },
         "title": {
          "font": {
           "color": "#4D5663"
          },
          "text": ""
         },
         "zerolinecolor": "#E1E5ED"
        },
        "xaxis11": {
         "anchor": "y11",
         "domain": [
          0.525,
          0.7375
         ],
         "gridcolor": "#E1E5ED",
         "showgrid": false,
         "tickfont": {
          "color": "#4D5663"
         },
         "title": {
          "font": {
           "color": "#4D5663"
          },
          "text": ""
         },
         "zerolinecolor": "#E1E5ED"
        },
        "xaxis12": {
         "anchor": "y12",
         "domain": [
          0.7875,
          1
         ],
         "gridcolor": "#E1E5ED",
         "showgrid": false,
         "tickfont": {
          "color": "#4D5663"
         },
         "title": {
          "font": {
           "color": "#4D5663"
          },
          "text": ""
         },
         "zerolinecolor": "#E1E5ED"
        },
        "xaxis13": {
         "anchor": "y13",
         "domain": [
          0,
          0.2125
         ],
         "gridcolor": "#E1E5ED",
         "showgrid": false,
         "tickfont": {
          "color": "#4D5663"
         },
         "title": {
          "font": {
           "color": "#4D5663"
          },
          "text": ""
         },
         "zerolinecolor": "#E1E5ED"
        },
        "xaxis14": {
         "anchor": "y14",
         "domain": [
          0.2625,
          0.475
         ],
         "gridcolor": "#E1E5ED",
         "showgrid": false,
         "tickfont": {
          "color": "#4D5663"
         },
         "title": {
          "font": {
           "color": "#4D5663"
          },
          "text": ""
         },
         "zerolinecolor": "#E1E5ED"
        },
        "xaxis15": {
         "anchor": "y15",
         "domain": [
          0.525,
          0.7375
         ],
         "gridcolor": "#E1E5ED",
         "showgrid": false,
         "tickfont": {
          "color": "#4D5663"
         },
         "title": {
          "font": {
           "color": "#4D5663"
          },
          "text": ""
         },
         "zerolinecolor": "#E1E5ED"
        },
        "xaxis16": {
         "anchor": "y16",
         "domain": [
          0.7875,
          1
         ],
         "gridcolor": "#E1E5ED",
         "showgrid": false,
         "tickfont": {
          "color": "#4D5663"
         },
         "title": {
          "font": {
           "color": "#4D5663"
          },
          "text": ""
         },
         "zerolinecolor": "#E1E5ED"
        },
        "xaxis2": {
         "anchor": "y2",
         "domain": [
          0.2625,
          0.475
         ],
         "gridcolor": "#E1E5ED",
         "showgrid": false,
         "tickfont": {
          "color": "#4D5663"
         },
         "title": {
          "font": {
           "color": "#4D5663"
          },
          "text": ""
         },
         "zerolinecolor": "#E1E5ED"
        },
        "xaxis3": {
         "anchor": "y3",
         "domain": [
          0.525,
          0.7375
         ],
         "gridcolor": "#E1E5ED",
         "showgrid": false,
         "tickfont": {
          "color": "#4D5663"
         },
         "title": {
          "font": {
           "color": "#4D5663"
          },
          "text": ""
         },
         "zerolinecolor": "#E1E5ED"
        },
        "xaxis4": {
         "anchor": "y4",
         "domain": [
          0.7875,
          1
         ],
         "gridcolor": "#E1E5ED",
         "showgrid": false,
         "tickfont": {
          "color": "#4D5663"
         },
         "title": {
          "font": {
           "color": "#4D5663"
          },
          "text": ""
         },
         "zerolinecolor": "#E1E5ED"
        },
        "xaxis5": {
         "anchor": "y5",
         "domain": [
          0,
          0.2125
         ],
         "gridcolor": "#E1E5ED",
         "showgrid": false,
         "tickfont": {
          "color": "#4D5663"
         },
         "title": {
          "font": {
           "color": "#4D5663"
          },
          "text": ""
         },
         "zerolinecolor": "#E1E5ED"
        },
        "xaxis6": {
         "anchor": "y6",
         "domain": [
          0.2625,
          0.475
         ],
         "gridcolor": "#E1E5ED",
         "showgrid": false,
         "tickfont": {
          "color": "#4D5663"
         },
         "title": {
          "font": {
           "color": "#4D5663"
          },
          "text": ""
         },
         "zerolinecolor": "#E1E5ED"
        },
        "xaxis7": {
         "anchor": "y7",
         "domain": [
          0.525,
          0.7375
         ],
         "gridcolor": "#E1E5ED",
         "showgrid": false,
         "tickfont": {
          "color": "#4D5663"
         },
         "title": {
          "font": {
           "color": "#4D5663"
          },
          "text": ""
         },
         "zerolinecolor": "#E1E5ED"
        },
        "xaxis8": {
         "anchor": "y8",
         "domain": [
          0.7875,
          1
         ],
         "gridcolor": "#E1E5ED",
         "showgrid": false,
         "tickfont": {
          "color": "#4D5663"
         },
         "title": {
          "font": {
           "color": "#4D5663"
          },
          "text": ""
         },
         "zerolinecolor": "#E1E5ED"
        },
        "xaxis9": {
         "anchor": "y9",
         "domain": [
          0,
          0.2125
         ],
         "gridcolor": "#E1E5ED",
         "showgrid": false,
         "tickfont": {
          "color": "#4D5663"
         },
         "title": {
          "font": {
           "color": "#4D5663"
          },
          "text": ""
         },
         "zerolinecolor": "#E1E5ED"
        },
        "yaxis": {
         "anchor": "x",
         "domain": [
          0.8025,
          1
         ],
         "gridcolor": "#E1E5ED",
         "showgrid": false,
         "tickfont": {
          "color": "#4D5663"
         },
         "title": {
          "font": {
           "color": "#4D5663"
          },
          "text": ""
         },
         "zerolinecolor": "#E1E5ED"
        },
        "yaxis10": {
         "anchor": "x10",
         "domain": [
          0.2675,
          0.465
         ],
         "gridcolor": "#E1E5ED",
         "showgrid": false,
         "tickfont": {
          "color": "#4D5663"
         },
         "title": {
          "font": {
           "color": "#4D5663"
          },
          "text": ""
         },
         "zerolinecolor": "#E1E5ED"
        },
        "yaxis11": {
         "anchor": "x11",
         "domain": [
          0.2675,
          0.465
         ],
         "gridcolor": "#E1E5ED",
         "showgrid": false,
         "tickfont": {
          "color": "#4D5663"
         },
         "title": {
          "font": {
           "color": "#4D5663"
          },
          "text": ""
         },
         "zerolinecolor": "#E1E5ED"
        },
        "yaxis12": {
         "anchor": "x12",
         "domain": [
          0.2675,
          0.465
         ],
         "gridcolor": "#E1E5ED",
         "showgrid": false,
         "tickfont": {
          "color": "#4D5663"
         },
         "title": {
          "font": {
           "color": "#4D5663"
          },
          "text": ""
         },
         "zerolinecolor": "#E1E5ED"
        },
        "yaxis13": {
         "anchor": "x13",
         "domain": [
          0,
          0.1975
         ],
         "gridcolor": "#E1E5ED",
         "showgrid": false,
         "tickfont": {
          "color": "#4D5663"
         },
         "title": {
          "font": {
           "color": "#4D5663"
          },
          "text": ""
         },
         "zerolinecolor": "#E1E5ED"
        },
        "yaxis14": {
         "anchor": "x14",
         "domain": [
          0,
          0.1975
         ],
         "gridcolor": "#E1E5ED",
         "showgrid": false,
         "tickfont": {
          "color": "#4D5663"
         },
         "title": {
          "font": {
           "color": "#4D5663"
          },
          "text": ""
         },
         "zerolinecolor": "#E1E5ED"
        },
        "yaxis15": {
         "anchor": "x15",
         "domain": [
          0,
          0.1975
         ],
         "gridcolor": "#E1E5ED",
         "showgrid": false,
         "tickfont": {
          "color": "#4D5663"
         },
         "title": {
          "font": {
           "color": "#4D5663"
          },
          "text": ""
         },
         "zerolinecolor": "#E1E5ED"
        },
        "yaxis16": {
         "anchor": "x16",
         "domain": [
          0,
          0.1975
         ],
         "gridcolor": "#E1E5ED",
         "showgrid": false,
         "tickfont": {
          "color": "#4D5663"
         },
         "title": {
          "font": {
           "color": "#4D5663"
          },
          "text": ""
         },
         "zerolinecolor": "#E1E5ED"
        },
        "yaxis2": {
         "anchor": "x2",
         "domain": [
          0.8025,
          1
         ],
         "gridcolor": "#E1E5ED",
         "showgrid": false,
         "tickfont": {
          "color": "#4D5663"
         },
         "title": {
          "font": {
           "color": "#4D5663"
          },
          "text": ""
         },
         "zerolinecolor": "#E1E5ED"
        },
        "yaxis3": {
         "anchor": "x3",
         "domain": [
          0.8025,
          1
         ],
         "gridcolor": "#E1E5ED",
         "showgrid": false,
         "tickfont": {
          "color": "#4D5663"
         },
         "title": {
          "font": {
           "color": "#4D5663"
          },
          "text": ""
         },
         "zerolinecolor": "#E1E5ED"
        },
        "yaxis4": {
         "anchor": "x4",
         "domain": [
          0.8025,
          1
         ],
         "gridcolor": "#E1E5ED",
         "showgrid": false,
         "tickfont": {
          "color": "#4D5663"
         },
         "title": {
          "font": {
           "color": "#4D5663"
          },
          "text": ""
         },
         "zerolinecolor": "#E1E5ED"
        },
        "yaxis5": {
         "anchor": "x5",
         "domain": [
          0.535,
          0.7325
         ],
         "gridcolor": "#E1E5ED",
         "showgrid": false,
         "tickfont": {
          "color": "#4D5663"
         },
         "title": {
          "font": {
           "color": "#4D5663"
          },
          "text": ""
         },
         "zerolinecolor": "#E1E5ED"
        },
        "yaxis6": {
         "anchor": "x6",
         "domain": [
          0.535,
          0.7325
         ],
         "gridcolor": "#E1E5ED",
         "showgrid": false,
         "tickfont": {
          "color": "#4D5663"
         },
         "title": {
          "font": {
           "color": "#4D5663"
          },
          "text": ""
         },
         "zerolinecolor": "#E1E5ED"
        },
        "yaxis7": {
         "anchor": "x7",
         "domain": [
          0.535,
          0.7325
         ],
         "gridcolor": "#E1E5ED",
         "showgrid": false,
         "tickfont": {
          "color": "#4D5663"
         },
         "title": {
          "font": {
           "color": "#4D5663"
          },
          "text": ""
         },
         "zerolinecolor": "#E1E5ED"
        },
        "yaxis8": {
         "anchor": "x8",
         "domain": [
          0.535,
          0.7325
         ],
         "gridcolor": "#E1E5ED",
         "showgrid": false,
         "tickfont": {
          "color": "#4D5663"
         },
         "title": {
          "font": {
           "color": "#4D5663"
          },
          "text": ""
         },
         "zerolinecolor": "#E1E5ED"
        },
        "yaxis9": {
         "anchor": "x9",
         "domain": [
          0.2675,
          0.465
         ],
         "gridcolor": "#E1E5ED",
         "showgrid": false,
         "tickfont": {
          "color": "#4D5663"
         },
         "title": {
          "font": {
           "color": "#4D5663"
          },
          "text": ""
         },
         "zerolinecolor": "#E1E5ED"
        }
       }
      },
      "text/html": "<div>                            <div id=\"58834994-1367-44b8-b704-09a0da8ba14e\" class=\"plotly-graph-div\" style=\"height:525px; width:100%;\"></div>            <script type=\"text/javascript\">                require([\"plotly\"], function(Plotly) {                    window.PLOTLYENV=window.PLOTLYENV || {};\n                    window.PLOTLYENV.BASE_URL='https://plot.ly';                                    if (document.getElementById(\"58834994-1367-44b8-b704-09a0da8ba14e\")) {                    Plotly.newPlot(                        \"58834994-1367-44b8-b704-09a0da8ba14e\",                        [{\"histfunc\":\"count\",\"histnorm\":\"\",\"marker\":{\"color\":\"rgba(255, 153, 51, 1.0)\",\"line\":{\"color\":\"#4D5663\",\"width\":1.3}},\"name\":\"A\",\"nbinsx\":10,\"opacity\":0.8,\"orientation\":\"v\",\"type\":\"histogram\",\"x\":[-0.25227118008665145,0.06172597997312884,-0.09007588736177649,0.9655665553973772,0.4854660192833101,0.26701802645320244,1.0923931195785344,1.6867856846022133,0.1055984372563579,1.4884028777300893,1.2544325383218051,-0.7041177662348228,-0.6119001641424259,0.18014447538600833,1.155263713036101,-0.3425063374551015,-1.067126111336395,-0.7221525466373608,0.7651090750646531,-1.004545495950125,-0.2637463201554845,0.9270246371655807,-0.5193031631501195,2.2167780068744793,0.3862748792441888,1.1991319730362835,-1.557404376140031,-0.14901869535222126,-1.0024020287011886,0.13131176544298556,0.264598537852816,1.5531042912324888,0.4723615756752949,1.2296567723864706,1.4838948908571272,-0.27145625647809307,1.221844725244573,0.01469204642486503,1.3665996903567188,1.5443386446287324,-1.025123286950699,0.9819935474844267,1.1611796816047524,0.6991418032344212,-0.09106560471621786,-0.28426957089284277,-0.4016892297490613,-0.7774782732898965,-1.7223561231552598,2.460641905242768,0.4815183047281549,0.035806349576061165,0.910594759012117,-2.111067286320529,0.4238597156449524,1.9696836406375793,1.2332022682950836,-0.36656460758235637,1.8230451716552216,0.06966636861757851,1.1458785678701724,1.7385076252864209,-0.7410792987434056,-1.03176211548569,-0.10499217997687547,0.8659742608682182,-1.5783493333238372,-0.3489892902332464,1.4205913357741387,0.3282768542802037,1.20624805647062,0.2784530549906407,-0.7660315306574534,-0.3624752352324765,0.16231001478679416,0.9015722306033053,-0.7315391441263145,0.12354605275732658,0.4762171976821261,-2.0282995125317,0.46788204967415586,-0.2701368232370625,-0.9321784813202924,1.1780347596600362,-0.11206602609647033,0.21176886719477322,-0.8424944426011093,-1.166873584439773,-0.26288821705556603,-1.1033996783872577,0.6627858300113253,-0.6656295927166045,1.1961132505894427,1.9949738834989803,0.07004738586976976,-0.7715662014536142,-0.4528018588980907,-1.25185572951221,0.7625147154525329,-0.6660630083136009],\"xaxis\":\"x\",\"yaxis\":\"y\"},{\"line\":{\"color\":\"rgba(128, 128, 128, 1.0)\",\"dash\":\"solid\",\"shape\":\"linear\",\"width\":1.3},\"marker\":{\"size\":2,\"symbol\":\"circle\"},\"mode\":\"markers\",\"name\":\"A\",\"text\":\"\",\"type\":\"scatter\",\"x\":[-0.24429798139803324,-0.08140072026070258,-0.3440352221324289,-2.3053151000556555,-0.6497290247349842,0.995013179423379,1.4482732817312591,-0.9725458639710425,-0.0466569137740196,-1.3294228665276946,-0.8247119481275208,0.27609613535962857,-0.09473417124123408,1.2352309586310322,-1.9737731840246349,1.61911094645423,-0.26661304242337575,-0.2883173900689931,-1.1166915254776921,-0.2944092679714753,-0.8519120009667719,1.5669506335703582,1.3055588979130333,1.2996456459533428,0.9298325077994817,0.5737059413597119,0.901327794240818,-0.6131682683010122,1.9757524385077965,0.02801892591066275,1.169958911979349,0.8337790525973593,-1.0860858018918167,2.127483822808999,-1.1224068626293964,0.14436058310809521,0.8523129002351462,-0.9339966382509564,-0.5246945159001554,1.7368746659269374,0.7841996410852168,0.24964765334285305,2.0156034157433926,1.0005055998758337,1.661505139907902,1.2799660531362713,0.7706834184475058,0.5369875645341228,-0.09155641558534112,-0.49511281408638624,1.5529183028908848,2.4609964757075518,1.1664358569786706,-2.0914361872843417,-0.6989200878865848,0.5066218678795223,-0.49718418195862507,-0.8960658802881825,0.7227373881394722,-0.13499945108069203,-0.8630493471228109,0.15196771672118464,-1.2069214985814378,0.8226934690856887,-0.71909089288083,0.45993752341927757,-0.034813632030634006,-0.28989428438974524,-1.8318618123062496,-1.221478771149326,-1.600010335978149,-0.7345603641391674,-0.15027775675031024,-1.3646714770060189,-0.7785787421800132,-0.9751390197139149,0.6132892263431378,-1.3768478976549485,-1.4490455174948522,-0.03822645435966252,0.31517972419972795,-0.8588798522560479,1.1898640603599298,-1.6626037943520315,0.2667829198371369,2.1921221149600263,0.29320163830816354,0.43158584935104316,-0.4676397959356081,-0.5065838296651279,0.6305038259893719,0.2450240269975526,0.2752188120259105,0.6218735185660969,-1.69428883235597,-0.1425658102952103,-0.38355665675155454,-0.2571761083843813,-0.571611317316897,-0.9584551972239918],\"xaxis\":\"x2\",\"y\":[-0.25227118008665145,0.06172597997312884,-0.09007588736177649,0.9655665553973772,0.4854660192833101,0.26701802645320244,1.0923931195785344,1.6867856846022133,0.1055984372563579,1.4884028777300893,1.2544325383218051,-0.7041177662348228,-0.6119001641424259,0.18014447538600833,1.155263713036101,-0.3425063374551015,-1.067126111336395,-0.7221525466373608,0.7651090750646531,-1.004545495950125,-0.2637463201554845,0.9270246371655807,-0.5193031631501195,2.2167780068744793,0.3862748792441888,1.1991319730362835,-1.557404376140031,-0.14901869535222126,-1.0024020287011886,0.13131176544298556,0.264598537852816,1.5531042912324888,0.4723615756752949,1.2296567723864706,1.4838948908571272,-0.27145625647809307,1.221844725244573,0.01469204642486503,1.3665996903567188,1.5443386446287324,-1.025123286950699,0.9819935474844267,1.1611796816047524,0.6991418032344212,-0.09106560471621786,-0.28426957089284277,-0.4016892297490613,-0.7774782732898965,-1.7223561231552598,2.460641905242768,0.4815183047281549,0.035806349576061165,0.910594759012117,-2.111067286320529,0.4238597156449524,1.9696836406375793,1.2332022682950836,-0.36656460758235637,1.8230451716552216,0.06966636861757851,1.1458785678701724,1.7385076252864209,-0.7410792987434056,-1.03176211548569,-0.10499217997687547,0.8659742608682182,-1.5783493333238372,-0.3489892902332464,1.4205913357741387,0.3282768542802037,1.20624805647062,0.2784530549906407,-0.7660315306574534,-0.3624752352324765,0.16231001478679416,0.9015722306033053,-0.7315391441263145,0.12354605275732658,0.4762171976821261,-2.0282995125317,0.46788204967415586,-0.2701368232370625,-0.9321784813202924,1.1780347596600362,-0.11206602609647033,0.21176886719477322,-0.8424944426011093,-1.166873584439773,-0.26288821705556603,-1.1033996783872577,0.6627858300113253,-0.6656295927166045,1.1961132505894427,1.9949738834989803,0.07004738586976976,-0.7715662014536142,-0.4528018588980907,-1.25185572951221,0.7625147154525329,-0.6660630083136009],\"yaxis\":\"y2\"},{\"line\":{\"color\":\"rgba(128, 128, 128, 1.0)\",\"dash\":\"solid\",\"shape\":\"linear\",\"width\":1.3},\"marker\":{\"size\":2,\"symbol\":\"circle\"},\"mode\":\"markers\",\"name\":\"A\",\"text\":\"\",\"type\":\"scatter\",\"x\":[1.2351224845344935,-0.38669785570242604,-2.0011962318993453,0.04116458951516984,-2.09722903349474,-0.28032324451393703,-1.472950341135185,0.6114744607840525,-0.43117860125878604,0.4606296236813941,-1.4495540904678994,-1.8957680454010697,-0.11290971315892948,0.7234316529374472,0.9413183842924042,-0.5137523462209654,-1.1423370502459385,0.23001828325840296,-0.7426076875528073,0.3760412643606102,0.21063017660062394,2.247217455951604,0.6975429161270316,1.342722266728234,1.3515213148127823,1.6892878099370587,-0.888827307303063,0.32297016807173135,0.5897513548602424,-0.7838460590770665,-0.21301277447107383,0.08069855359882595,0.17874768625456458,0.7181907811171023,0.6608543626555075,1.5868423598738286,-1.29289455032478,-1.0481060502192365,-0.7555287029548189,-0.4002005968895799,0.6442888936212734,0.5098534474640429,0.10481736334959846,1.6750834771798557,1.013568237425307,0.3105576641026045,-0.944906938052571,-0.725069921520946,0.5420141780202964,-0.359414820187637,-0.2689747476153853,-0.572906789700986,-1.097647061212322,-1.6047584912724986,-0.3712938081317608,0.633753918553161,1.4439566140849132,0.11952563318730945,-0.9085176840006997,1.7156401840521192,-0.6648845085682261,-0.3310236656211434,-0.2587809104334033,0.17772915462571165,1.39071011340516,1.6011706192351332,-0.2672962900711946,-0.0029242455426668227,-2.44327057061105,0.31030687845889543,-1.7500243910283217,-1.178351008552562,-0.41867244872730824,0.05886464051794897,-0.1698502902804518,0.9919412863914042,-2.285050248051403,-0.5139587648731763,1.2109801105938256,-0.4197300329111014,-2.319493600418936,-1.4744456583474723,0.7891309681663189,-0.26154628626111515,0.6575503750283542,-0.5358549396888171,0.8671677733021019,-0.554645876720916,-1.4653449386069937,-1.2123031376582982,0.16561904168799216,-1.2293903181090093,1.042927914738034,1.9003904456760932,0.19864835028272926,0.3026402942278122,0.7699164934511995,0.53041906286024,-1.434147311412444,0.5568780840044606],\"xaxis\":\"x3\",\"y\":[-0.25227118008665145,0.06172597997312884,-0.09007588736177649,0.9655665553973772,0.4854660192833101,0.26701802645320244,1.0923931195785344,1.6867856846022133,0.1055984372563579,1.4884028777300893,1.2544325383218051,-0.7041177662348228,-0.6119001641424259,0.18014447538600833,1.155263713036101,-0.3425063374551015,-1.067126111336395,-0.7221525466373608,0.7651090750646531,-1.004545495950125,-0.2637463201554845,0.9270246371655807,-0.5193031631501195,2.2167780068744793,0.3862748792441888,1.1991319730362835,-1.557404376140031,-0.14901869535222126,-1.0024020287011886,0.13131176544298556,0.264598537852816,1.5531042912324888,0.4723615756752949,1.2296567723864706,1.4838948908571272,-0.27145625647809307,1.221844725244573,0.01469204642486503,1.3665996903567188,1.5443386446287324,-1.025123286950699,0.9819935474844267,1.1611796816047524,0.6991418032344212,-0.09106560471621786,-0.28426957089284277,-0.4016892297490613,-0.7774782732898965,-1.7223561231552598,2.460641905242768,0.4815183047281549,0.035806349576061165,0.910594759012117,-2.111067286320529,0.4238597156449524,1.9696836406375793,1.2332022682950836,-0.36656460758235637,1.8230451716552216,0.06966636861757851,1.1458785678701724,1.7385076252864209,-0.7410792987434056,-1.03176211548569,-0.10499217997687547,0.8659742608682182,-1.5783493333238372,-0.3489892902332464,1.4205913357741387,0.3282768542802037,1.20624805647062,0.2784530549906407,-0.7660315306574534,-0.3624752352324765,0.16231001478679416,0.9015722306033053,-0.7315391441263145,0.12354605275732658,0.4762171976821261,-2.0282995125317,0.46788204967415586,-0.2701368232370625,-0.9321784813202924,1.1780347596600362,-0.11206602609647033,0.21176886719477322,-0.8424944426011093,-1.166873584439773,-0.26288821705556603,-1.1033996783872577,0.6627858300113253,-0.6656295927166045,1.1961132505894427,1.9949738834989803,0.07004738586976976,-0.7715662014536142,-0.4528018588980907,-1.25185572951221,0.7625147154525329,-0.6660630083136009],\"yaxis\":\"y3\"},{\"line\":{\"color\":\"rgba(128, 128, 128, 1.0)\",\"dash\":\"solid\",\"shape\":\"linear\",\"width\":1.3},\"marker\":{\"size\":2,\"symbol\":\"circle\"},\"mode\":\"markers\",\"name\":\"A\",\"text\":\"\",\"type\":\"scatter\",\"x\":[0.14732054436157588,-0.10016409969461607,-0.19853875024356474,0.1850679369234906,-0.07318226785197171,-0.8269943020767107,0.06505588662622032,-1.942691625809125,-0.4536076219495638,0.6572374031953897,-0.6652868237332036,0.11043148047080958,-0.019587584405579422,-0.7482707881992258,-1.2988682280280754,0.38621519604522314,-1.696404193406195,-0.3429186785322637,0.09279042937172309,-0.8063559082110902,0.7551055679237417,0.7869716093538546,1.4897661151575377,-0.8476304516840218,-0.9183721974615116,0.9860168544542203,0.40401118797691415,-0.8354349934311642,0.013125381519689614,0.05835298386757851,0.01912873321815849,-0.36612674935060724,0.7103671274554275,0.9966137970779217,-0.12432651280157953,0.2549968513299937,1.8862718160515375,1.3558612042392981,0.6093905381111977,-0.9061719545195042,0.7711898370854324,-1.095951761102537,0.13348196976153492,0.9039699635821302,-0.3517848783858705,-0.6331003822846138,-0.4667940221111615,0.780454011601283,-0.07297727067912188,-0.6653273203052653,1.5538029630201264,0.29688351635133814,0.19052116589596443,0.8778995158352625,-1.5922439115592986,-1.1579696051963828,0.56294450486414,-1.3601680416927817,-0.6337829815066541,0.6365968998404121,0.08974500010512594,0.06728786790245704,-0.5680241487267365,1.0250648322407485,-0.5757506256019281,-0.6718655107659853,-0.2410840766133584,0.34116939469619667,-0.20603144163430348,-0.27456229446142555,-2.3230121903835736,0.8629439039881185,0.1513111118912714,-0.2432729276020875,-0.2522990196379048,1.2011552889075532,0.8743023640764342,0.2439043012493187,-1.6101601185619678,-0.07991728172782873,-0.9092689428157388,1.6862372884389945,-0.9418538634870914,-1.1384561395310642,-2.0194627370098406,1.8485355450809546,0.4903854406052378,-0.395778586981528,-0.5610001541216844,1.2667544216609101,1.2451239599125243,0.31712089159970824,1.3461438978582148,0.32589285964725956,0.7696204882117698,-1.9426326459418741,-0.23961594598989663,1.7119656381810588,0.5012605925697431,2.150903549226858],\"xaxis\":\"x4\",\"y\":[-0.25227118008665145,0.06172597997312884,-0.09007588736177649,0.9655665553973772,0.4854660192833101,0.26701802645320244,1.0923931195785344,1.6867856846022133,0.1055984372563579,1.4884028777300893,1.2544325383218051,-0.7041177662348228,-0.6119001641424259,0.18014447538600833,1.155263713036101,-0.3425063374551015,-1.067126111336395,-0.7221525466373608,0.7651090750646531,-1.004545495950125,-0.2637463201554845,0.9270246371655807,-0.5193031631501195,2.2167780068744793,0.3862748792441888,1.1991319730362835,-1.557404376140031,-0.14901869535222126,-1.0024020287011886,0.13131176544298556,0.264598537852816,1.5531042912324888,0.4723615756752949,1.2296567723864706,1.4838948908571272,-0.27145625647809307,1.221844725244573,0.01469204642486503,1.3665996903567188,1.5443386446287324,-1.025123286950699,0.9819935474844267,1.1611796816047524,0.6991418032344212,-0.09106560471621786,-0.28426957089284277,-0.4016892297490613,-0.7774782732898965,-1.7223561231552598,2.460641905242768,0.4815183047281549,0.035806349576061165,0.910594759012117,-2.111067286320529,0.4238597156449524,1.9696836406375793,1.2332022682950836,-0.36656460758235637,1.8230451716552216,0.06966636861757851,1.1458785678701724,1.7385076252864209,-0.7410792987434056,-1.03176211548569,-0.10499217997687547,0.8659742608682182,-1.5783493333238372,-0.3489892902332464,1.4205913357741387,0.3282768542802037,1.20624805647062,0.2784530549906407,-0.7660315306574534,-0.3624752352324765,0.16231001478679416,0.9015722306033053,-0.7315391441263145,0.12354605275732658,0.4762171976821261,-2.0282995125317,0.46788204967415586,-0.2701368232370625,-0.9321784813202924,1.1780347596600362,-0.11206602609647033,0.21176886719477322,-0.8424944426011093,-1.166873584439773,-0.26288821705556603,-1.1033996783872577,0.6627858300113253,-0.6656295927166045,1.1961132505894427,1.9949738834989803,0.07004738586976976,-0.7715662014536142,-0.4528018588980907,-1.25185572951221,0.7625147154525329,-0.6660630083136009],\"yaxis\":\"y4\"},{\"line\":{\"color\":\"rgba(128, 128, 128, 1.0)\",\"dash\":\"solid\",\"shape\":\"linear\",\"width\":1.3},\"marker\":{\"size\":2,\"symbol\":\"circle\"},\"mode\":\"markers\",\"name\":\"B\",\"text\":\"\",\"type\":\"scatter\",\"x\":[-0.25227118008665145,0.06172597997312884,-0.09007588736177649,0.9655665553973772,0.4854660192833101,0.26701802645320244,1.0923931195785344,1.6867856846022133,0.1055984372563579,1.4884028777300893,1.2544325383218051,-0.7041177662348228,-0.6119001641424259,0.18014447538600833,1.155263713036101,-0.3425063374551015,-1.067126111336395,-0.7221525466373608,0.7651090750646531,-1.004545495950125,-0.2637463201554845,0.9270246371655807,-0.5193031631501195,2.2167780068744793,0.3862748792441888,1.1991319730362835,-1.557404376140031,-0.14901869535222126,-1.0024020287011886,0.13131176544298556,0.264598537852816,1.5531042912324888,0.4723615756752949,1.2296567723864706,1.4838948908571272,-0.27145625647809307,1.221844725244573,0.01469204642486503,1.3665996903567188,1.5443386446287324,-1.025123286950699,0.9819935474844267,1.1611796816047524,0.6991418032344212,-0.09106560471621786,-0.28426957089284277,-0.4016892297490613,-0.7774782732898965,-1.7223561231552598,2.460641905242768,0.4815183047281549,0.035806349576061165,0.910594759012117,-2.111067286320529,0.4238597156449524,1.9696836406375793,1.2332022682950836,-0.36656460758235637,1.8230451716552216,0.06966636861757851,1.1458785678701724,1.7385076252864209,-0.7410792987434056,-1.03176211548569,-0.10499217997687547,0.8659742608682182,-1.5783493333238372,-0.3489892902332464,1.4205913357741387,0.3282768542802037,1.20624805647062,0.2784530549906407,-0.7660315306574534,-0.3624752352324765,0.16231001478679416,0.9015722306033053,-0.7315391441263145,0.12354605275732658,0.4762171976821261,-2.0282995125317,0.46788204967415586,-0.2701368232370625,-0.9321784813202924,1.1780347596600362,-0.11206602609647033,0.21176886719477322,-0.8424944426011093,-1.166873584439773,-0.26288821705556603,-1.1033996783872577,0.6627858300113253,-0.6656295927166045,1.1961132505894427,1.9949738834989803,0.07004738586976976,-0.7715662014536142,-0.4528018588980907,-1.25185572951221,0.7625147154525329,-0.6660630083136009],\"xaxis\":\"x5\",\"y\":[-0.24429798139803324,-0.08140072026070258,-0.3440352221324289,-2.3053151000556555,-0.6497290247349842,0.995013179423379,1.4482732817312591,-0.9725458639710425,-0.0466569137740196,-1.3294228665276946,-0.8247119481275208,0.27609613535962857,-0.09473417124123408,1.2352309586310322,-1.9737731840246349,1.61911094645423,-0.26661304242337575,-0.2883173900689931,-1.1166915254776921,-0.2944092679714753,-0.8519120009667719,1.5669506335703582,1.3055588979130333,1.2996456459533428,0.9298325077994817,0.5737059413597119,0.901327794240818,-0.6131682683010122,1.9757524385077965,0.02801892591066275,1.169958911979349,0.8337790525973593,-1.0860858018918167,2.127483822808999,-1.1224068626293964,0.14436058310809521,0.8523129002351462,-0.9339966382509564,-0.5246945159001554,1.7368746659269374,0.7841996410852168,0.24964765334285305,2.0156034157433926,1.0005055998758337,1.661505139907902,1.2799660531362713,0.7706834184475058,0.5369875645341228,-0.09155641558534112,-0.49511281408638624,1.5529183028908848,2.4609964757075518,1.1664358569786706,-2.0914361872843417,-0.6989200878865848,0.5066218678795223,-0.49718418195862507,-0.8960658802881825,0.7227373881394722,-0.13499945108069203,-0.8630493471228109,0.15196771672118464,-1.2069214985814378,0.8226934690856887,-0.71909089288083,0.45993752341927757,-0.034813632030634006,-0.28989428438974524,-1.8318618123062496,-1.221478771149326,-1.600010335978149,-0.7345603641391674,-0.15027775675031024,-1.3646714770060189,-0.7785787421800132,-0.9751390197139149,0.6132892263431378,-1.3768478976549485,-1.4490455174948522,-0.03822645435966252,0.31517972419972795,-0.8588798522560479,1.1898640603599298,-1.6626037943520315,0.2667829198371369,2.1921221149600263,0.29320163830816354,0.43158584935104316,-0.4676397959356081,-0.5065838296651279,0.6305038259893719,0.2450240269975526,0.2752188120259105,0.6218735185660969,-1.69428883235597,-0.1425658102952103,-0.38355665675155454,-0.2571761083843813,-0.571611317316897,-0.9584551972239918],\"yaxis\":\"y5\"},{\"histfunc\":\"count\",\"histnorm\":\"\",\"marker\":{\"color\":\"rgba(55, 128, 191, 1.0)\",\"line\":{\"color\":\"#4D5663\",\"width\":1.3}},\"name\":\"B\",\"nbinsx\":10,\"opacity\":0.8,\"orientation\":\"v\",\"type\":\"histogram\",\"x\":[-0.24429798139803324,-0.08140072026070258,-0.3440352221324289,-2.3053151000556555,-0.6497290247349842,0.995013179423379,1.4482732817312591,-0.9725458639710425,-0.0466569137740196,-1.3294228665276946,-0.8247119481275208,0.27609613535962857,-0.09473417124123408,1.2352309586310322,-1.9737731840246349,1.61911094645423,-0.26661304242337575,-0.2883173900689931,-1.1166915254776921,-0.2944092679714753,-0.8519120009667719,1.5669506335703582,1.3055588979130333,1.2996456459533428,0.9298325077994817,0.5737059413597119,0.901327794240818,-0.6131682683010122,1.9757524385077965,0.02801892591066275,1.169958911979349,0.8337790525973593,-1.0860858018918167,2.127483822808999,-1.1224068626293964,0.14436058310809521,0.8523129002351462,-0.9339966382509564,-0.5246945159001554,1.7368746659269374,0.7841996410852168,0.24964765334285305,2.0156034157433926,1.0005055998758337,1.661505139907902,1.2799660531362713,0.7706834184475058,0.5369875645341228,-0.09155641558534112,-0.49511281408638624,1.5529183028908848,2.4609964757075518,1.1664358569786706,-2.0914361872843417,-0.6989200878865848,0.5066218678795223,-0.49718418195862507,-0.8960658802881825,0.7227373881394722,-0.13499945108069203,-0.8630493471228109,0.15196771672118464,-1.2069214985814378,0.8226934690856887,-0.71909089288083,0.45993752341927757,-0.034813632030634006,-0.28989428438974524,-1.8318618123062496,-1.221478771149326,-1.600010335978149,-0.7345603641391674,-0.15027775675031024,-1.3646714770060189,-0.7785787421800132,-0.9751390197139149,0.6132892263431378,-1.3768478976549485,-1.4490455174948522,-0.03822645435966252,0.31517972419972795,-0.8588798522560479,1.1898640603599298,-1.6626037943520315,0.2667829198371369,2.1921221149600263,0.29320163830816354,0.43158584935104316,-0.4676397959356081,-0.5065838296651279,0.6305038259893719,0.2450240269975526,0.2752188120259105,0.6218735185660969,-1.69428883235597,-0.1425658102952103,-0.38355665675155454,-0.2571761083843813,-0.571611317316897,-0.9584551972239918],\"xaxis\":\"x6\",\"yaxis\":\"y6\"},{\"line\":{\"color\":\"rgba(128, 128, 128, 1.0)\",\"dash\":\"solid\",\"shape\":\"linear\",\"width\":1.3},\"marker\":{\"size\":2,\"symbol\":\"circle\"},\"mode\":\"markers\",\"name\":\"B\",\"text\":\"\",\"type\":\"scatter\",\"x\":[1.2351224845344935,-0.38669785570242604,-2.0011962318993453,0.04116458951516984,-2.09722903349474,-0.28032324451393703,-1.472950341135185,0.6114744607840525,-0.43117860125878604,0.4606296236813941,-1.4495540904678994,-1.8957680454010697,-0.11290971315892948,0.7234316529374472,0.9413183842924042,-0.5137523462209654,-1.1423370502459385,0.23001828325840296,-0.7426076875528073,0.3760412643606102,0.21063017660062394,2.247217455951604,0.6975429161270316,1.342722266728234,1.3515213148127823,1.6892878099370587,-0.888827307303063,0.32297016807173135,0.5897513548602424,-0.7838460590770665,-0.21301277447107383,0.08069855359882595,0.17874768625456458,0.7181907811171023,0.6608543626555075,1.5868423598738286,-1.29289455032478,-1.0481060502192365,-0.7555287029548189,-0.4002005968895799,0.6442888936212734,0.5098534474640429,0.10481736334959846,1.6750834771798557,1.013568237425307,0.3105576641026045,-0.944906938052571,-0.725069921520946,0.5420141780202964,-0.359414820187637,-0.2689747476153853,-0.572906789700986,-1.097647061212322,-1.6047584912724986,-0.3712938081317608,0.633753918553161,1.4439566140849132,0.11952563318730945,-0.9085176840006997,1.7156401840521192,-0.6648845085682261,-0.3310236656211434,-0.2587809104334033,0.17772915462571165,1.39071011340516,1.6011706192351332,-0.2672962900711946,-0.0029242455426668227,-2.44327057061105,0.31030687845889543,-1.7500243910283217,-1.178351008552562,-0.41867244872730824,0.05886464051794897,-0.1698502902804518,0.9919412863914042,-2.285050248051403,-0.5139587648731763,1.2109801105938256,-0.4197300329111014,-2.319493600418936,-1.4744456583474723,0.7891309681663189,-0.26154628626111515,0.6575503750283542,-0.5358549396888171,0.8671677733021019,-0.554645876720916,-1.4653449386069937,-1.2123031376582982,0.16561904168799216,-1.2293903181090093,1.042927914738034,1.9003904456760932,0.19864835028272926,0.3026402942278122,0.7699164934511995,0.53041906286024,-1.434147311412444,0.5568780840044606],\"xaxis\":\"x7\",\"y\":[-0.24429798139803324,-0.08140072026070258,-0.3440352221324289,-2.3053151000556555,-0.6497290247349842,0.995013179423379,1.4482732817312591,-0.9725458639710425,-0.0466569137740196,-1.3294228665276946,-0.8247119481275208,0.27609613535962857,-0.09473417124123408,1.2352309586310322,-1.9737731840246349,1.61911094645423,-0.26661304242337575,-0.2883173900689931,-1.1166915254776921,-0.2944092679714753,-0.8519120009667719,1.5669506335703582,1.3055588979130333,1.2996456459533428,0.9298325077994817,0.5737059413597119,0.901327794240818,-0.6131682683010122,1.9757524385077965,0.02801892591066275,1.169958911979349,0.8337790525973593,-1.0860858018918167,2.127483822808999,-1.1224068626293964,0.14436058310809521,0.8523129002351462,-0.9339966382509564,-0.5246945159001554,1.7368746659269374,0.7841996410852168,0.24964765334285305,2.0156034157433926,1.0005055998758337,1.661505139907902,1.2799660531362713,0.7706834184475058,0.5369875645341228,-0.09155641558534112,-0.49511281408638624,1.5529183028908848,2.4609964757075518,1.1664358569786706,-2.0914361872843417,-0.6989200878865848,0.5066218678795223,-0.49718418195862507,-0.8960658802881825,0.7227373881394722,-0.13499945108069203,-0.8630493471228109,0.15196771672118464,-1.2069214985814378,0.8226934690856887,-0.71909089288083,0.45993752341927757,-0.034813632030634006,-0.28989428438974524,-1.8318618123062496,-1.221478771149326,-1.600010335978149,-0.7345603641391674,-0.15027775675031024,-1.3646714770060189,-0.7785787421800132,-0.9751390197139149,0.6132892263431378,-1.3768478976549485,-1.4490455174948522,-0.03822645435966252,0.31517972419972795,-0.8588798522560479,1.1898640603599298,-1.6626037943520315,0.2667829198371369,2.1921221149600263,0.29320163830816354,0.43158584935104316,-0.4676397959356081,-0.5065838296651279,0.6305038259893719,0.2450240269975526,0.2752188120259105,0.6218735185660969,-1.69428883235597,-0.1425658102952103,-0.38355665675155454,-0.2571761083843813,-0.571611317316897,-0.9584551972239918],\"yaxis\":\"y7\"},{\"line\":{\"color\":\"rgba(128, 128, 128, 1.0)\",\"dash\":\"solid\",\"shape\":\"linear\",\"width\":1.3},\"marker\":{\"size\":2,\"symbol\":\"circle\"},\"mode\":\"markers\",\"name\":\"B\",\"text\":\"\",\"type\":\"scatter\",\"x\":[0.14732054436157588,-0.10016409969461607,-0.19853875024356474,0.1850679369234906,-0.07318226785197171,-0.8269943020767107,0.06505588662622032,-1.942691625809125,-0.4536076219495638,0.6572374031953897,-0.6652868237332036,0.11043148047080958,-0.019587584405579422,-0.7482707881992258,-1.2988682280280754,0.38621519604522314,-1.696404193406195,-0.3429186785322637,0.09279042937172309,-0.8063559082110902,0.7551055679237417,0.7869716093538546,1.4897661151575377,-0.8476304516840218,-0.9183721974615116,0.9860168544542203,0.40401118797691415,-0.8354349934311642,0.013125381519689614,0.05835298386757851,0.01912873321815849,-0.36612674935060724,0.7103671274554275,0.9966137970779217,-0.12432651280157953,0.2549968513299937,1.8862718160515375,1.3558612042392981,0.6093905381111977,-0.9061719545195042,0.7711898370854324,-1.095951761102537,0.13348196976153492,0.9039699635821302,-0.3517848783858705,-0.6331003822846138,-0.4667940221111615,0.780454011601283,-0.07297727067912188,-0.6653273203052653,1.5538029630201264,0.29688351635133814,0.19052116589596443,0.8778995158352625,-1.5922439115592986,-1.1579696051963828,0.56294450486414,-1.3601680416927817,-0.6337829815066541,0.6365968998404121,0.08974500010512594,0.06728786790245704,-0.5680241487267365,1.0250648322407485,-0.5757506256019281,-0.6718655107659853,-0.2410840766133584,0.34116939469619667,-0.20603144163430348,-0.27456229446142555,-2.3230121903835736,0.8629439039881185,0.1513111118912714,-0.2432729276020875,-0.2522990196379048,1.2011552889075532,0.8743023640764342,0.2439043012493187,-1.6101601185619678,-0.07991728172782873,-0.9092689428157388,1.6862372884389945,-0.9418538634870914,-1.1384561395310642,-2.0194627370098406,1.8485355450809546,0.4903854406052378,-0.395778586981528,-0.5610001541216844,1.2667544216609101,1.2451239599125243,0.31712089159970824,1.3461438978582148,0.32589285964725956,0.7696204882117698,-1.9426326459418741,-0.23961594598989663,1.7119656381810588,0.5012605925697431,2.150903549226858],\"xaxis\":\"x8\",\"y\":[-0.24429798139803324,-0.08140072026070258,-0.3440352221324289,-2.3053151000556555,-0.6497290247349842,0.995013179423379,1.4482732817312591,-0.9725458639710425,-0.0466569137740196,-1.3294228665276946,-0.8247119481275208,0.27609613535962857,-0.09473417124123408,1.2352309586310322,-1.9737731840246349,1.61911094645423,-0.26661304242337575,-0.2883173900689931,-1.1166915254776921,-0.2944092679714753,-0.8519120009667719,1.5669506335703582,1.3055588979130333,1.2996456459533428,0.9298325077994817,0.5737059413597119,0.901327794240818,-0.6131682683010122,1.9757524385077965,0.02801892591066275,1.169958911979349,0.8337790525973593,-1.0860858018918167,2.127483822808999,-1.1224068626293964,0.14436058310809521,0.8523129002351462,-0.9339966382509564,-0.5246945159001554,1.7368746659269374,0.7841996410852168,0.24964765334285305,2.0156034157433926,1.0005055998758337,1.661505139907902,1.2799660531362713,0.7706834184475058,0.5369875645341228,-0.09155641558534112,-0.49511281408638624,1.5529183028908848,2.4609964757075518,1.1664358569786706,-2.0914361872843417,-0.6989200878865848,0.5066218678795223,-0.49718418195862507,-0.8960658802881825,0.7227373881394722,-0.13499945108069203,-0.8630493471228109,0.15196771672118464,-1.2069214985814378,0.8226934690856887,-0.71909089288083,0.45993752341927757,-0.034813632030634006,-0.28989428438974524,-1.8318618123062496,-1.221478771149326,-1.600010335978149,-0.7345603641391674,-0.15027775675031024,-1.3646714770060189,-0.7785787421800132,-0.9751390197139149,0.6132892263431378,-1.3768478976549485,-1.4490455174948522,-0.03822645435966252,0.31517972419972795,-0.8588798522560479,1.1898640603599298,-1.6626037943520315,0.2667829198371369,2.1921221149600263,0.29320163830816354,0.43158584935104316,-0.4676397959356081,-0.5065838296651279,0.6305038259893719,0.2450240269975526,0.2752188120259105,0.6218735185660969,-1.69428883235597,-0.1425658102952103,-0.38355665675155454,-0.2571761083843813,-0.571611317316897,-0.9584551972239918],\"yaxis\":\"y8\"},{\"line\":{\"color\":\"rgba(128, 128, 128, 1.0)\",\"dash\":\"solid\",\"shape\":\"linear\",\"width\":1.3},\"marker\":{\"size\":2,\"symbol\":\"circle\"},\"mode\":\"markers\",\"name\":\"C\",\"text\":\"\",\"type\":\"scatter\",\"x\":[-0.25227118008665145,0.06172597997312884,-0.09007588736177649,0.9655665553973772,0.4854660192833101,0.26701802645320244,1.0923931195785344,1.6867856846022133,0.1055984372563579,1.4884028777300893,1.2544325383218051,-0.7041177662348228,-0.6119001641424259,0.18014447538600833,1.155263713036101,-0.3425063374551015,-1.067126111336395,-0.7221525466373608,0.7651090750646531,-1.004545495950125,-0.2637463201554845,0.9270246371655807,-0.5193031631501195,2.2167780068744793,0.3862748792441888,1.1991319730362835,-1.557404376140031,-0.14901869535222126,-1.0024020287011886,0.13131176544298556,0.264598537852816,1.5531042912324888,0.4723615756752949,1.2296567723864706,1.4838948908571272,-0.27145625647809307,1.221844725244573,0.01469204642486503,1.3665996903567188,1.5443386446287324,-1.025123286950699,0.9819935474844267,1.1611796816047524,0.6991418032344212,-0.09106560471621786,-0.28426957089284277,-0.4016892297490613,-0.7774782732898965,-1.7223561231552598,2.460641905242768,0.4815183047281549,0.035806349576061165,0.910594759012117,-2.111067286320529,0.4238597156449524,1.9696836406375793,1.2332022682950836,-0.36656460758235637,1.8230451716552216,0.06966636861757851,1.1458785678701724,1.7385076252864209,-0.7410792987434056,-1.03176211548569,-0.10499217997687547,0.8659742608682182,-1.5783493333238372,-0.3489892902332464,1.4205913357741387,0.3282768542802037,1.20624805647062,0.2784530549906407,-0.7660315306574534,-0.3624752352324765,0.16231001478679416,0.9015722306033053,-0.7315391441263145,0.12354605275732658,0.4762171976821261,-2.0282995125317,0.46788204967415586,-0.2701368232370625,-0.9321784813202924,1.1780347596600362,-0.11206602609647033,0.21176886719477322,-0.8424944426011093,-1.166873584439773,-0.26288821705556603,-1.1033996783872577,0.6627858300113253,-0.6656295927166045,1.1961132505894427,1.9949738834989803,0.07004738586976976,-0.7715662014536142,-0.4528018588980907,-1.25185572951221,0.7625147154525329,-0.6660630083136009],\"xaxis\":\"x9\",\"y\":[1.2351224845344935,-0.38669785570242604,-2.0011962318993453,0.04116458951516984,-2.09722903349474,-0.28032324451393703,-1.472950341135185,0.6114744607840525,-0.43117860125878604,0.4606296236813941,-1.4495540904678994,-1.8957680454010697,-0.11290971315892948,0.7234316529374472,0.9413183842924042,-0.5137523462209654,-1.1423370502459385,0.23001828325840296,-0.7426076875528073,0.3760412643606102,0.21063017660062394,2.247217455951604,0.6975429161270316,1.342722266728234,1.3515213148127823,1.6892878099370587,-0.888827307303063,0.32297016807173135,0.5897513548602424,-0.7838460590770665,-0.21301277447107383,0.08069855359882595,0.17874768625456458,0.7181907811171023,0.6608543626555075,1.5868423598738286,-1.29289455032478,-1.0481060502192365,-0.7555287029548189,-0.4002005968895799,0.6442888936212734,0.5098534474640429,0.10481736334959846,1.6750834771798557,1.013568237425307,0.3105576641026045,-0.944906938052571,-0.725069921520946,0.5420141780202964,-0.359414820187637,-0.2689747476153853,-0.572906789700986,-1.097647061212322,-1.6047584912724986,-0.3712938081317608,0.633753918553161,1.4439566140849132,0.11952563318730945,-0.9085176840006997,1.7156401840521192,-0.6648845085682261,-0.3310236656211434,-0.2587809104334033,0.17772915462571165,1.39071011340516,1.6011706192351332,-0.2672962900711946,-0.0029242455426668227,-2.44327057061105,0.31030687845889543,-1.7500243910283217,-1.178351008552562,-0.41867244872730824,0.05886464051794897,-0.1698502902804518,0.9919412863914042,-2.285050248051403,-0.5139587648731763,1.2109801105938256,-0.4197300329111014,-2.319493600418936,-1.4744456583474723,0.7891309681663189,-0.26154628626111515,0.6575503750283542,-0.5358549396888171,0.8671677733021019,-0.554645876720916,-1.4653449386069937,-1.2123031376582982,0.16561904168799216,-1.2293903181090093,1.042927914738034,1.9003904456760932,0.19864835028272926,0.3026402942278122,0.7699164934511995,0.53041906286024,-1.434147311412444,0.5568780840044606],\"yaxis\":\"y9\"},{\"line\":{\"color\":\"rgba(128, 128, 128, 1.0)\",\"dash\":\"solid\",\"shape\":\"linear\",\"width\":1.3},\"marker\":{\"size\":2,\"symbol\":\"circle\"},\"mode\":\"markers\",\"name\":\"C\",\"text\":\"\",\"type\":\"scatter\",\"x\":[-0.24429798139803324,-0.08140072026070258,-0.3440352221324289,-2.3053151000556555,-0.6497290247349842,0.995013179423379,1.4482732817312591,-0.9725458639710425,-0.0466569137740196,-1.3294228665276946,-0.8247119481275208,0.27609613535962857,-0.09473417124123408,1.2352309586310322,-1.9737731840246349,1.61911094645423,-0.26661304242337575,-0.2883173900689931,-1.1166915254776921,-0.2944092679714753,-0.8519120009667719,1.5669506335703582,1.3055588979130333,1.2996456459533428,0.9298325077994817,0.5737059413597119,0.901327794240818,-0.6131682683010122,1.9757524385077965,0.02801892591066275,1.169958911979349,0.8337790525973593,-1.0860858018918167,2.127483822808999,-1.1224068626293964,0.14436058310809521,0.8523129002351462,-0.9339966382509564,-0.5246945159001554,1.7368746659269374,0.7841996410852168,0.24964765334285305,2.0156034157433926,1.0005055998758337,1.661505139907902,1.2799660531362713,0.7706834184475058,0.5369875645341228,-0.09155641558534112,-0.49511281408638624,1.5529183028908848,2.4609964757075518,1.1664358569786706,-2.0914361872843417,-0.6989200878865848,0.5066218678795223,-0.49718418195862507,-0.8960658802881825,0.7227373881394722,-0.13499945108069203,-0.8630493471228109,0.15196771672118464,-1.2069214985814378,0.8226934690856887,-0.71909089288083,0.45993752341927757,-0.034813632030634006,-0.28989428438974524,-1.8318618123062496,-1.221478771149326,-1.600010335978149,-0.7345603641391674,-0.15027775675031024,-1.3646714770060189,-0.7785787421800132,-0.9751390197139149,0.6132892263431378,-1.3768478976549485,-1.4490455174948522,-0.03822645435966252,0.31517972419972795,-0.8588798522560479,1.1898640603599298,-1.6626037943520315,0.2667829198371369,2.1921221149600263,0.29320163830816354,0.43158584935104316,-0.4676397959356081,-0.5065838296651279,0.6305038259893719,0.2450240269975526,0.2752188120259105,0.6218735185660969,-1.69428883235597,-0.1425658102952103,-0.38355665675155454,-0.2571761083843813,-0.571611317316897,-0.9584551972239918],\"xaxis\":\"x10\",\"y\":[1.2351224845344935,-0.38669785570242604,-2.0011962318993453,0.04116458951516984,-2.09722903349474,-0.28032324451393703,-1.472950341135185,0.6114744607840525,-0.43117860125878604,0.4606296236813941,-1.4495540904678994,-1.8957680454010697,-0.11290971315892948,0.7234316529374472,0.9413183842924042,-0.5137523462209654,-1.1423370502459385,0.23001828325840296,-0.7426076875528073,0.3760412643606102,0.21063017660062394,2.247217455951604,0.6975429161270316,1.342722266728234,1.3515213148127823,1.6892878099370587,-0.888827307303063,0.32297016807173135,0.5897513548602424,-0.7838460590770665,-0.21301277447107383,0.08069855359882595,0.17874768625456458,0.7181907811171023,0.6608543626555075,1.5868423598738286,-1.29289455032478,-1.0481060502192365,-0.7555287029548189,-0.4002005968895799,0.6442888936212734,0.5098534474640429,0.10481736334959846,1.6750834771798557,1.013568237425307,0.3105576641026045,-0.944906938052571,-0.725069921520946,0.5420141780202964,-0.359414820187637,-0.2689747476153853,-0.572906789700986,-1.097647061212322,-1.6047584912724986,-0.3712938081317608,0.633753918553161,1.4439566140849132,0.11952563318730945,-0.9085176840006997,1.7156401840521192,-0.6648845085682261,-0.3310236656211434,-0.2587809104334033,0.17772915462571165,1.39071011340516,1.6011706192351332,-0.2672962900711946,-0.0029242455426668227,-2.44327057061105,0.31030687845889543,-1.7500243910283217,-1.178351008552562,-0.41867244872730824,0.05886464051794897,-0.1698502902804518,0.9919412863914042,-2.285050248051403,-0.5139587648731763,1.2109801105938256,-0.4197300329111014,-2.319493600418936,-1.4744456583474723,0.7891309681663189,-0.26154628626111515,0.6575503750283542,-0.5358549396888171,0.8671677733021019,-0.554645876720916,-1.4653449386069937,-1.2123031376582982,0.16561904168799216,-1.2293903181090093,1.042927914738034,1.9003904456760932,0.19864835028272926,0.3026402942278122,0.7699164934511995,0.53041906286024,-1.434147311412444,0.5568780840044606],\"yaxis\":\"y10\"},{\"histfunc\":\"count\",\"histnorm\":\"\",\"marker\":{\"color\":\"rgba(50, 171, 96, 1.0)\",\"line\":{\"color\":\"#4D5663\",\"width\":1.3}},\"name\":\"C\",\"nbinsx\":10,\"opacity\":0.8,\"orientation\":\"v\",\"type\":\"histogram\",\"x\":[1.2351224845344935,-0.38669785570242604,-2.0011962318993453,0.04116458951516984,-2.09722903349474,-0.28032324451393703,-1.472950341135185,0.6114744607840525,-0.43117860125878604,0.4606296236813941,-1.4495540904678994,-1.8957680454010697,-0.11290971315892948,0.7234316529374472,0.9413183842924042,-0.5137523462209654,-1.1423370502459385,0.23001828325840296,-0.7426076875528073,0.3760412643606102,0.21063017660062394,2.247217455951604,0.6975429161270316,1.342722266728234,1.3515213148127823,1.6892878099370587,-0.888827307303063,0.32297016807173135,0.5897513548602424,-0.7838460590770665,-0.21301277447107383,0.08069855359882595,0.17874768625456458,0.7181907811171023,0.6608543626555075,1.5868423598738286,-1.29289455032478,-1.0481060502192365,-0.7555287029548189,-0.4002005968895799,0.6442888936212734,0.5098534474640429,0.10481736334959846,1.6750834771798557,1.013568237425307,0.3105576641026045,-0.944906938052571,-0.725069921520946,0.5420141780202964,-0.359414820187637,-0.2689747476153853,-0.572906789700986,-1.097647061212322,-1.6047584912724986,-0.3712938081317608,0.633753918553161,1.4439566140849132,0.11952563318730945,-0.9085176840006997,1.7156401840521192,-0.6648845085682261,-0.3310236656211434,-0.2587809104334033,0.17772915462571165,1.39071011340516,1.6011706192351332,-0.2672962900711946,-0.0029242455426668227,-2.44327057061105,0.31030687845889543,-1.7500243910283217,-1.178351008552562,-0.41867244872730824,0.05886464051794897,-0.1698502902804518,0.9919412863914042,-2.285050248051403,-0.5139587648731763,1.2109801105938256,-0.4197300329111014,-2.319493600418936,-1.4744456583474723,0.7891309681663189,-0.26154628626111515,0.6575503750283542,-0.5358549396888171,0.8671677733021019,-0.554645876720916,-1.4653449386069937,-1.2123031376582982,0.16561904168799216,-1.2293903181090093,1.042927914738034,1.9003904456760932,0.19864835028272926,0.3026402942278122,0.7699164934511995,0.53041906286024,-1.434147311412444,0.5568780840044606],\"xaxis\":\"x11\",\"yaxis\":\"y11\"},{\"line\":{\"color\":\"rgba(128, 128, 128, 1.0)\",\"dash\":\"solid\",\"shape\":\"linear\",\"width\":1.3},\"marker\":{\"size\":2,\"symbol\":\"circle\"},\"mode\":\"markers\",\"name\":\"C\",\"text\":\"\",\"type\":\"scatter\",\"x\":[0.14732054436157588,-0.10016409969461607,-0.19853875024356474,0.1850679369234906,-0.07318226785197171,-0.8269943020767107,0.06505588662622032,-1.942691625809125,-0.4536076219495638,0.6572374031953897,-0.6652868237332036,0.11043148047080958,-0.019587584405579422,-0.7482707881992258,-1.2988682280280754,0.38621519604522314,-1.696404193406195,-0.3429186785322637,0.09279042937172309,-0.8063559082110902,0.7551055679237417,0.7869716093538546,1.4897661151575377,-0.8476304516840218,-0.9183721974615116,0.9860168544542203,0.40401118797691415,-0.8354349934311642,0.013125381519689614,0.05835298386757851,0.01912873321815849,-0.36612674935060724,0.7103671274554275,0.9966137970779217,-0.12432651280157953,0.2549968513299937,1.8862718160515375,1.3558612042392981,0.6093905381111977,-0.9061719545195042,0.7711898370854324,-1.095951761102537,0.13348196976153492,0.9039699635821302,-0.3517848783858705,-0.6331003822846138,-0.4667940221111615,0.780454011601283,-0.07297727067912188,-0.6653273203052653,1.5538029630201264,0.29688351635133814,0.19052116589596443,0.8778995158352625,-1.5922439115592986,-1.1579696051963828,0.56294450486414,-1.3601680416927817,-0.6337829815066541,0.6365968998404121,0.08974500010512594,0.06728786790245704,-0.5680241487267365,1.0250648322407485,-0.5757506256019281,-0.6718655107659853,-0.2410840766133584,0.34116939469619667,-0.20603144163430348,-0.27456229446142555,-2.3230121903835736,0.8629439039881185,0.1513111118912714,-0.2432729276020875,-0.2522990196379048,1.2011552889075532,0.8743023640764342,0.2439043012493187,-1.6101601185619678,-0.07991728172782873,-0.9092689428157388,1.6862372884389945,-0.9418538634870914,-1.1384561395310642,-2.0194627370098406,1.8485355450809546,0.4903854406052378,-0.395778586981528,-0.5610001541216844,1.2667544216609101,1.2451239599125243,0.31712089159970824,1.3461438978582148,0.32589285964725956,0.7696204882117698,-1.9426326459418741,-0.23961594598989663,1.7119656381810588,0.5012605925697431,2.150903549226858],\"xaxis\":\"x12\",\"y\":[1.2351224845344935,-0.38669785570242604,-2.0011962318993453,0.04116458951516984,-2.09722903349474,-0.28032324451393703,-1.472950341135185,0.6114744607840525,-0.43117860125878604,0.4606296236813941,-1.4495540904678994,-1.8957680454010697,-0.11290971315892948,0.7234316529374472,0.9413183842924042,-0.5137523462209654,-1.1423370502459385,0.23001828325840296,-0.7426076875528073,0.3760412643606102,0.21063017660062394,2.247217455951604,0.6975429161270316,1.342722266728234,1.3515213148127823,1.6892878099370587,-0.888827307303063,0.32297016807173135,0.5897513548602424,-0.7838460590770665,-0.21301277447107383,0.08069855359882595,0.17874768625456458,0.7181907811171023,0.6608543626555075,1.5868423598738286,-1.29289455032478,-1.0481060502192365,-0.7555287029548189,-0.4002005968895799,0.6442888936212734,0.5098534474640429,0.10481736334959846,1.6750834771798557,1.013568237425307,0.3105576641026045,-0.944906938052571,-0.725069921520946,0.5420141780202964,-0.359414820187637,-0.2689747476153853,-0.572906789700986,-1.097647061212322,-1.6047584912724986,-0.3712938081317608,0.633753918553161,1.4439566140849132,0.11952563318730945,-0.9085176840006997,1.7156401840521192,-0.6648845085682261,-0.3310236656211434,-0.2587809104334033,0.17772915462571165,1.39071011340516,1.6011706192351332,-0.2672962900711946,-0.0029242455426668227,-2.44327057061105,0.31030687845889543,-1.7500243910283217,-1.178351008552562,-0.41867244872730824,0.05886464051794897,-0.1698502902804518,0.9919412863914042,-2.285050248051403,-0.5139587648731763,1.2109801105938256,-0.4197300329111014,-2.319493600418936,-1.4744456583474723,0.7891309681663189,-0.26154628626111515,0.6575503750283542,-0.5358549396888171,0.8671677733021019,-0.554645876720916,-1.4653449386069937,-1.2123031376582982,0.16561904168799216,-1.2293903181090093,1.042927914738034,1.9003904456760932,0.19864835028272926,0.3026402942278122,0.7699164934511995,0.53041906286024,-1.434147311412444,0.5568780840044606],\"yaxis\":\"y12\"},{\"line\":{\"color\":\"rgba(128, 128, 128, 1.0)\",\"dash\":\"solid\",\"shape\":\"linear\",\"width\":1.3},\"marker\":{\"size\":2,\"symbol\":\"circle\"},\"mode\":\"markers\",\"name\":\"D\",\"text\":\"\",\"type\":\"scatter\",\"x\":[-0.25227118008665145,0.06172597997312884,-0.09007588736177649,0.9655665553973772,0.4854660192833101,0.26701802645320244,1.0923931195785344,1.6867856846022133,0.1055984372563579,1.4884028777300893,1.2544325383218051,-0.7041177662348228,-0.6119001641424259,0.18014447538600833,1.155263713036101,-0.3425063374551015,-1.067126111336395,-0.7221525466373608,0.7651090750646531,-1.004545495950125,-0.2637463201554845,0.9270246371655807,-0.5193031631501195,2.2167780068744793,0.3862748792441888,1.1991319730362835,-1.557404376140031,-0.14901869535222126,-1.0024020287011886,0.13131176544298556,0.264598537852816,1.5531042912324888,0.4723615756752949,1.2296567723864706,1.4838948908571272,-0.27145625647809307,1.221844725244573,0.01469204642486503,1.3665996903567188,1.5443386446287324,-1.025123286950699,0.9819935474844267,1.1611796816047524,0.6991418032344212,-0.09106560471621786,-0.28426957089284277,-0.4016892297490613,-0.7774782732898965,-1.7223561231552598,2.460641905242768,0.4815183047281549,0.035806349576061165,0.910594759012117,-2.111067286320529,0.4238597156449524,1.9696836406375793,1.2332022682950836,-0.36656460758235637,1.8230451716552216,0.06966636861757851,1.1458785678701724,1.7385076252864209,-0.7410792987434056,-1.03176211548569,-0.10499217997687547,0.8659742608682182,-1.5783493333238372,-0.3489892902332464,1.4205913357741387,0.3282768542802037,1.20624805647062,0.2784530549906407,-0.7660315306574534,-0.3624752352324765,0.16231001478679416,0.9015722306033053,-0.7315391441263145,0.12354605275732658,0.4762171976821261,-2.0282995125317,0.46788204967415586,-0.2701368232370625,-0.9321784813202924,1.1780347596600362,-0.11206602609647033,0.21176886719477322,-0.8424944426011093,-1.166873584439773,-0.26288821705556603,-1.1033996783872577,0.6627858300113253,-0.6656295927166045,1.1961132505894427,1.9949738834989803,0.07004738586976976,-0.7715662014536142,-0.4528018588980907,-1.25185572951221,0.7625147154525329,-0.6660630083136009],\"xaxis\":\"x13\",\"y\":[0.14732054436157588,-0.10016409969461607,-0.19853875024356474,0.1850679369234906,-0.07318226785197171,-0.8269943020767107,0.06505588662622032,-1.942691625809125,-0.4536076219495638,0.6572374031953897,-0.6652868237332036,0.11043148047080958,-0.019587584405579422,-0.7482707881992258,-1.2988682280280754,0.38621519604522314,-1.696404193406195,-0.3429186785322637,0.09279042937172309,-0.8063559082110902,0.7551055679237417,0.7869716093538546,1.4897661151575377,-0.8476304516840218,-0.9183721974615116,0.9860168544542203,0.40401118797691415,-0.8354349934311642,0.013125381519689614,0.05835298386757851,0.01912873321815849,-0.36612674935060724,0.7103671274554275,0.9966137970779217,-0.12432651280157953,0.2549968513299937,1.8862718160515375,1.3558612042392981,0.6093905381111977,-0.9061719545195042,0.7711898370854324,-1.095951761102537,0.13348196976153492,0.9039699635821302,-0.3517848783858705,-0.6331003822846138,-0.4667940221111615,0.780454011601283,-0.07297727067912188,-0.6653273203052653,1.5538029630201264,0.29688351635133814,0.19052116589596443,0.8778995158352625,-1.5922439115592986,-1.1579696051963828,0.56294450486414,-1.3601680416927817,-0.6337829815066541,0.6365968998404121,0.08974500010512594,0.06728786790245704,-0.5680241487267365,1.0250648322407485,-0.5757506256019281,-0.6718655107659853,-0.2410840766133584,0.34116939469619667,-0.20603144163430348,-0.27456229446142555,-2.3230121903835736,0.8629439039881185,0.1513111118912714,-0.2432729276020875,-0.2522990196379048,1.2011552889075532,0.8743023640764342,0.2439043012493187,-1.6101601185619678,-0.07991728172782873,-0.9092689428157388,1.6862372884389945,-0.9418538634870914,-1.1384561395310642,-2.0194627370098406,1.8485355450809546,0.4903854406052378,-0.395778586981528,-0.5610001541216844,1.2667544216609101,1.2451239599125243,0.31712089159970824,1.3461438978582148,0.32589285964725956,0.7696204882117698,-1.9426326459418741,-0.23961594598989663,1.7119656381810588,0.5012605925697431,2.150903549226858],\"yaxis\":\"y13\"},{\"line\":{\"color\":\"rgba(128, 128, 128, 1.0)\",\"dash\":\"solid\",\"shape\":\"linear\",\"width\":1.3},\"marker\":{\"size\":2,\"symbol\":\"circle\"},\"mode\":\"markers\",\"name\":\"D\",\"text\":\"\",\"type\":\"scatter\",\"x\":[-0.24429798139803324,-0.08140072026070258,-0.3440352221324289,-2.3053151000556555,-0.6497290247349842,0.995013179423379,1.4482732817312591,-0.9725458639710425,-0.0466569137740196,-1.3294228665276946,-0.8247119481275208,0.27609613535962857,-0.09473417124123408,1.2352309586310322,-1.9737731840246349,1.61911094645423,-0.26661304242337575,-0.2883173900689931,-1.1166915254776921,-0.2944092679714753,-0.8519120009667719,1.5669506335703582,1.3055588979130333,1.2996456459533428,0.9298325077994817,0.5737059413597119,0.901327794240818,-0.6131682683010122,1.9757524385077965,0.02801892591066275,1.169958911979349,0.8337790525973593,-1.0860858018918167,2.127483822808999,-1.1224068626293964,0.14436058310809521,0.8523129002351462,-0.9339966382509564,-0.5246945159001554,1.7368746659269374,0.7841996410852168,0.24964765334285305,2.0156034157433926,1.0005055998758337,1.661505139907902,1.2799660531362713,0.7706834184475058,0.5369875645341228,-0.09155641558534112,-0.49511281408638624,1.5529183028908848,2.4609964757075518,1.1664358569786706,-2.0914361872843417,-0.6989200878865848,0.5066218678795223,-0.49718418195862507,-0.8960658802881825,0.7227373881394722,-0.13499945108069203,-0.8630493471228109,0.15196771672118464,-1.2069214985814378,0.8226934690856887,-0.71909089288083,0.45993752341927757,-0.034813632030634006,-0.28989428438974524,-1.8318618123062496,-1.221478771149326,-1.600010335978149,-0.7345603641391674,-0.15027775675031024,-1.3646714770060189,-0.7785787421800132,-0.9751390197139149,0.6132892263431378,-1.3768478976549485,-1.4490455174948522,-0.03822645435966252,0.31517972419972795,-0.8588798522560479,1.1898640603599298,-1.6626037943520315,0.2667829198371369,2.1921221149600263,0.29320163830816354,0.43158584935104316,-0.4676397959356081,-0.5065838296651279,0.6305038259893719,0.2450240269975526,0.2752188120259105,0.6218735185660969,-1.69428883235597,-0.1425658102952103,-0.38355665675155454,-0.2571761083843813,-0.571611317316897,-0.9584551972239918],\"xaxis\":\"x14\",\"y\":[0.14732054436157588,-0.10016409969461607,-0.19853875024356474,0.1850679369234906,-0.07318226785197171,-0.8269943020767107,0.06505588662622032,-1.942691625809125,-0.4536076219495638,0.6572374031953897,-0.6652868237332036,0.11043148047080958,-0.019587584405579422,-0.7482707881992258,-1.2988682280280754,0.38621519604522314,-1.696404193406195,-0.3429186785322637,0.09279042937172309,-0.8063559082110902,0.7551055679237417,0.7869716093538546,1.4897661151575377,-0.8476304516840218,-0.9183721974615116,0.9860168544542203,0.40401118797691415,-0.8354349934311642,0.013125381519689614,0.05835298386757851,0.01912873321815849,-0.36612674935060724,0.7103671274554275,0.9966137970779217,-0.12432651280157953,0.2549968513299937,1.8862718160515375,1.3558612042392981,0.6093905381111977,-0.9061719545195042,0.7711898370854324,-1.095951761102537,0.13348196976153492,0.9039699635821302,-0.3517848783858705,-0.6331003822846138,-0.4667940221111615,0.780454011601283,-0.07297727067912188,-0.6653273203052653,1.5538029630201264,0.29688351635133814,0.19052116589596443,0.8778995158352625,-1.5922439115592986,-1.1579696051963828,0.56294450486414,-1.3601680416927817,-0.6337829815066541,0.6365968998404121,0.08974500010512594,0.06728786790245704,-0.5680241487267365,1.0250648322407485,-0.5757506256019281,-0.6718655107659853,-0.2410840766133584,0.34116939469619667,-0.20603144163430348,-0.27456229446142555,-2.3230121903835736,0.8629439039881185,0.1513111118912714,-0.2432729276020875,-0.2522990196379048,1.2011552889075532,0.8743023640764342,0.2439043012493187,-1.6101601185619678,-0.07991728172782873,-0.9092689428157388,1.6862372884389945,-0.9418538634870914,-1.1384561395310642,-2.0194627370098406,1.8485355450809546,0.4903854406052378,-0.395778586981528,-0.5610001541216844,1.2667544216609101,1.2451239599125243,0.31712089159970824,1.3461438978582148,0.32589285964725956,0.7696204882117698,-1.9426326459418741,-0.23961594598989663,1.7119656381810588,0.5012605925697431,2.150903549226858],\"yaxis\":\"y14\"},{\"line\":{\"color\":\"rgba(128, 128, 128, 1.0)\",\"dash\":\"solid\",\"shape\":\"linear\",\"width\":1.3},\"marker\":{\"size\":2,\"symbol\":\"circle\"},\"mode\":\"markers\",\"name\":\"D\",\"text\":\"\",\"type\":\"scatter\",\"x\":[1.2351224845344935,-0.38669785570242604,-2.0011962318993453,0.04116458951516984,-2.09722903349474,-0.28032324451393703,-1.472950341135185,0.6114744607840525,-0.43117860125878604,0.4606296236813941,-1.4495540904678994,-1.8957680454010697,-0.11290971315892948,0.7234316529374472,0.9413183842924042,-0.5137523462209654,-1.1423370502459385,0.23001828325840296,-0.7426076875528073,0.3760412643606102,0.21063017660062394,2.247217455951604,0.6975429161270316,1.342722266728234,1.3515213148127823,1.6892878099370587,-0.888827307303063,0.32297016807173135,0.5897513548602424,-0.7838460590770665,-0.21301277447107383,0.08069855359882595,0.17874768625456458,0.7181907811171023,0.6608543626555075,1.5868423598738286,-1.29289455032478,-1.0481060502192365,-0.7555287029548189,-0.4002005968895799,0.6442888936212734,0.5098534474640429,0.10481736334959846,1.6750834771798557,1.013568237425307,0.3105576641026045,-0.944906938052571,-0.725069921520946,0.5420141780202964,-0.359414820187637,-0.2689747476153853,-0.572906789700986,-1.097647061212322,-1.6047584912724986,-0.3712938081317608,0.633753918553161,1.4439566140849132,0.11952563318730945,-0.9085176840006997,1.7156401840521192,-0.6648845085682261,-0.3310236656211434,-0.2587809104334033,0.17772915462571165,1.39071011340516,1.6011706192351332,-0.2672962900711946,-0.0029242455426668227,-2.44327057061105,0.31030687845889543,-1.7500243910283217,-1.178351008552562,-0.41867244872730824,0.05886464051794897,-0.1698502902804518,0.9919412863914042,-2.285050248051403,-0.5139587648731763,1.2109801105938256,-0.4197300329111014,-2.319493600418936,-1.4744456583474723,0.7891309681663189,-0.26154628626111515,0.6575503750283542,-0.5358549396888171,0.8671677733021019,-0.554645876720916,-1.4653449386069937,-1.2123031376582982,0.16561904168799216,-1.2293903181090093,1.042927914738034,1.9003904456760932,0.19864835028272926,0.3026402942278122,0.7699164934511995,0.53041906286024,-1.434147311412444,0.5568780840044606],\"xaxis\":\"x15\",\"y\":[0.14732054436157588,-0.10016409969461607,-0.19853875024356474,0.1850679369234906,-0.07318226785197171,-0.8269943020767107,0.06505588662622032,-1.942691625809125,-0.4536076219495638,0.6572374031953897,-0.6652868237332036,0.11043148047080958,-0.019587584405579422,-0.7482707881992258,-1.2988682280280754,0.38621519604522314,-1.696404193406195,-0.3429186785322637,0.09279042937172309,-0.8063559082110902,0.7551055679237417,0.7869716093538546,1.4897661151575377,-0.8476304516840218,-0.9183721974615116,0.9860168544542203,0.40401118797691415,-0.8354349934311642,0.013125381519689614,0.05835298386757851,0.01912873321815849,-0.36612674935060724,0.7103671274554275,0.9966137970779217,-0.12432651280157953,0.2549968513299937,1.8862718160515375,1.3558612042392981,0.6093905381111977,-0.9061719545195042,0.7711898370854324,-1.095951761102537,0.13348196976153492,0.9039699635821302,-0.3517848783858705,-0.6331003822846138,-0.4667940221111615,0.780454011601283,-0.07297727067912188,-0.6653273203052653,1.5538029630201264,0.29688351635133814,0.19052116589596443,0.8778995158352625,-1.5922439115592986,-1.1579696051963828,0.56294450486414,-1.3601680416927817,-0.6337829815066541,0.6365968998404121,0.08974500010512594,0.06728786790245704,-0.5680241487267365,1.0250648322407485,-0.5757506256019281,-0.6718655107659853,-0.2410840766133584,0.34116939469619667,-0.20603144163430348,-0.27456229446142555,-2.3230121903835736,0.8629439039881185,0.1513111118912714,-0.2432729276020875,-0.2522990196379048,1.2011552889075532,0.8743023640764342,0.2439043012493187,-1.6101601185619678,-0.07991728172782873,-0.9092689428157388,1.6862372884389945,-0.9418538634870914,-1.1384561395310642,-2.0194627370098406,1.8485355450809546,0.4903854406052378,-0.395778586981528,-0.5610001541216844,1.2667544216609101,1.2451239599125243,0.31712089159970824,1.3461438978582148,0.32589285964725956,0.7696204882117698,-1.9426326459418741,-0.23961594598989663,1.7119656381810588,0.5012605925697431,2.150903549226858],\"yaxis\":\"y15\"},{\"histfunc\":\"count\",\"histnorm\":\"\",\"marker\":{\"color\":\"rgba(128, 0, 128, 1.0)\",\"line\":{\"color\":\"#4D5663\",\"width\":1.3}},\"name\":\"D\",\"nbinsx\":10,\"opacity\":0.8,\"orientation\":\"v\",\"type\":\"histogram\",\"x\":[0.14732054436157588,-0.10016409969461607,-0.19853875024356474,0.1850679369234906,-0.07318226785197171,-0.8269943020767107,0.06505588662622032,-1.942691625809125,-0.4536076219495638,0.6572374031953897,-0.6652868237332036,0.11043148047080958,-0.019587584405579422,-0.7482707881992258,-1.2988682280280754,0.38621519604522314,-1.696404193406195,-0.3429186785322637,0.09279042937172309,-0.8063559082110902,0.7551055679237417,0.7869716093538546,1.4897661151575377,-0.8476304516840218,-0.9183721974615116,0.9860168544542203,0.40401118797691415,-0.8354349934311642,0.013125381519689614,0.05835298386757851,0.01912873321815849,-0.36612674935060724,0.7103671274554275,0.9966137970779217,-0.12432651280157953,0.2549968513299937,1.8862718160515375,1.3558612042392981,0.6093905381111977,-0.9061719545195042,0.7711898370854324,-1.095951761102537,0.13348196976153492,0.9039699635821302,-0.3517848783858705,-0.6331003822846138,-0.4667940221111615,0.780454011601283,-0.07297727067912188,-0.6653273203052653,1.5538029630201264,0.29688351635133814,0.19052116589596443,0.8778995158352625,-1.5922439115592986,-1.1579696051963828,0.56294450486414,-1.3601680416927817,-0.6337829815066541,0.6365968998404121,0.08974500010512594,0.06728786790245704,-0.5680241487267365,1.0250648322407485,-0.5757506256019281,-0.6718655107659853,-0.2410840766133584,0.34116939469619667,-0.20603144163430348,-0.27456229446142555,-2.3230121903835736,0.8629439039881185,0.1513111118912714,-0.2432729276020875,-0.2522990196379048,1.2011552889075532,0.8743023640764342,0.2439043012493187,-1.6101601185619678,-0.07991728172782873,-0.9092689428157388,1.6862372884389945,-0.9418538634870914,-1.1384561395310642,-2.0194627370098406,1.8485355450809546,0.4903854406052378,-0.395778586981528,-0.5610001541216844,1.2667544216609101,1.2451239599125243,0.31712089159970824,1.3461438978582148,0.32589285964725956,0.7696204882117698,-1.9426326459418741,-0.23961594598989663,1.7119656381810588,0.5012605925697431,2.150903549226858],\"xaxis\":\"x16\",\"yaxis\":\"y16\"}],                        {\"bargap\":0.02,\"legend\":{\"bgcolor\":\"#F5F6F9\",\"font\":{\"color\":\"#4D5663\"}},\"paper_bgcolor\":\"#F5F6F9\",\"plot_bgcolor\":\"#F5F6F9\",\"showlegend\":false,\"template\":{\"data\":{\"bar\":[{\"error_x\":{\"color\":\"#2a3f5f\"},\"error_y\":{\"color\":\"#2a3f5f\"},\"marker\":{\"line\":{\"color\":\"#E5ECF6\",\"width\":0.5},\"pattern\":{\"fillmode\":\"overlay\",\"size\":10,\"solidity\":0.2}},\"type\":\"bar\"}],\"barpolar\":[{\"marker\":{\"line\":{\"color\":\"#E5ECF6\",\"width\":0.5},\"pattern\":{\"fillmode\":\"overlay\",\"size\":10,\"solidity\":0.2}},\"type\":\"barpolar\"}],\"carpet\":[{\"aaxis\":{\"endlinecolor\":\"#2a3f5f\",\"gridcolor\":\"white\",\"linecolor\":\"white\",\"minorgridcolor\":\"white\",\"startlinecolor\":\"#2a3f5f\"},\"baxis\":{\"endlinecolor\":\"#2a3f5f\",\"gridcolor\":\"white\",\"linecolor\":\"white\",\"minorgridcolor\":\"white\",\"startlinecolor\":\"#2a3f5f\"},\"type\":\"carpet\"}],\"choropleth\":[{\"colorbar\":{\"outlinewidth\":0,\"ticks\":\"\"},\"type\":\"choropleth\"}],\"contour\":[{\"colorbar\":{\"outlinewidth\":0,\"ticks\":\"\"},\"colorscale\":[[0.0,\"#0d0887\"],[0.1111111111111111,\"#46039f\"],[0.2222222222222222,\"#7201a8\"],[0.3333333333333333,\"#9c179e\"],[0.4444444444444444,\"#bd3786\"],[0.5555555555555556,\"#d8576b\"],[0.6666666666666666,\"#ed7953\"],[0.7777777777777778,\"#fb9f3a\"],[0.8888888888888888,\"#fdca26\"],[1.0,\"#f0f921\"]],\"type\":\"contour\"}],\"contourcarpet\":[{\"colorbar\":{\"outlinewidth\":0,\"ticks\":\"\"},\"type\":\"contourcarpet\"}],\"heatmap\":[{\"colorbar\":{\"outlinewidth\":0,\"ticks\":\"\"},\"colorscale\":[[0.0,\"#0d0887\"],[0.1111111111111111,\"#46039f\"],[0.2222222222222222,\"#7201a8\"],[0.3333333333333333,\"#9c179e\"],[0.4444444444444444,\"#bd3786\"],[0.5555555555555556,\"#d8576b\"],[0.6666666666666666,\"#ed7953\"],[0.7777777777777778,\"#fb9f3a\"],[0.8888888888888888,\"#fdca26\"],[1.0,\"#f0f921\"]],\"type\":\"heatmap\"}],\"heatmapgl\":[{\"colorbar\":{\"outlinewidth\":0,\"ticks\":\"\"},\"colorscale\":[[0.0,\"#0d0887\"],[0.1111111111111111,\"#46039f\"],[0.2222222222222222,\"#7201a8\"],[0.3333333333333333,\"#9c179e\"],[0.4444444444444444,\"#bd3786\"],[0.5555555555555556,\"#d8576b\"],[0.6666666666666666,\"#ed7953\"],[0.7777777777777778,\"#fb9f3a\"],[0.8888888888888888,\"#fdca26\"],[1.0,\"#f0f921\"]],\"type\":\"heatmapgl\"}],\"histogram\":[{\"marker\":{\"pattern\":{\"fillmode\":\"overlay\",\"size\":10,\"solidity\":0.2}},\"type\":\"histogram\"}],\"histogram2d\":[{\"colorbar\":{\"outlinewidth\":0,\"ticks\":\"\"},\"colorscale\":[[0.0,\"#0d0887\"],[0.1111111111111111,\"#46039f\"],[0.2222222222222222,\"#7201a8\"],[0.3333333333333333,\"#9c179e\"],[0.4444444444444444,\"#bd3786\"],[0.5555555555555556,\"#d8576b\"],[0.6666666666666666,\"#ed7953\"],[0.7777777777777778,\"#fb9f3a\"],[0.8888888888888888,\"#fdca26\"],[1.0,\"#f0f921\"]],\"type\":\"histogram2d\"}],\"histogram2dcontour\":[{\"colorbar\":{\"outlinewidth\":0,\"ticks\":\"\"},\"colorscale\":[[0.0,\"#0d0887\"],[0.1111111111111111,\"#46039f\"],[0.2222222222222222,\"#7201a8\"],[0.3333333333333333,\"#9c179e\"],[0.4444444444444444,\"#bd3786\"],[0.5555555555555556,\"#d8576b\"],[0.6666666666666666,\"#ed7953\"],[0.7777777777777778,\"#fb9f3a\"],[0.8888888888888888,\"#fdca26\"],[1.0,\"#f0f921\"]],\"type\":\"histogram2dcontour\"}],\"mesh3d\":[{\"colorbar\":{\"outlinewidth\":0,\"ticks\":\"\"},\"type\":\"mesh3d\"}],\"parcoords\":[{\"line\":{\"colorbar\":{\"outlinewidth\":0,\"ticks\":\"\"}},\"type\":\"parcoords\"}],\"pie\":[{\"automargin\":true,\"type\":\"pie\"}],\"scatter\":[{\"marker\":{\"colorbar\":{\"outlinewidth\":0,\"ticks\":\"\"}},\"type\":\"scatter\"}],\"scatter3d\":[{\"line\":{\"colorbar\":{\"outlinewidth\":0,\"ticks\":\"\"}},\"marker\":{\"colorbar\":{\"outlinewidth\":0,\"ticks\":\"\"}},\"type\":\"scatter3d\"}],\"scattercarpet\":[{\"marker\":{\"colorbar\":{\"outlinewidth\":0,\"ticks\":\"\"}},\"type\":\"scattercarpet\"}],\"scattergeo\":[{\"marker\":{\"colorbar\":{\"outlinewidth\":0,\"ticks\":\"\"}},\"type\":\"scattergeo\"}],\"scattergl\":[{\"marker\":{\"colorbar\":{\"outlinewidth\":0,\"ticks\":\"\"}},\"type\":\"scattergl\"}],\"scattermapbox\":[{\"marker\":{\"colorbar\":{\"outlinewidth\":0,\"ticks\":\"\"}},\"type\":\"scattermapbox\"}],\"scatterpolar\":[{\"marker\":{\"colorbar\":{\"outlinewidth\":0,\"ticks\":\"\"}},\"type\":\"scatterpolar\"}],\"scatterpolargl\":[{\"marker\":{\"colorbar\":{\"outlinewidth\":0,\"ticks\":\"\"}},\"type\":\"scatterpolargl\"}],\"scatterternary\":[{\"marker\":{\"colorbar\":{\"outlinewidth\":0,\"ticks\":\"\"}},\"type\":\"scatterternary\"}],\"surface\":[{\"colorbar\":{\"outlinewidth\":0,\"ticks\":\"\"},\"colorscale\":[[0.0,\"#0d0887\"],[0.1111111111111111,\"#46039f\"],[0.2222222222222222,\"#7201a8\"],[0.3333333333333333,\"#9c179e\"],[0.4444444444444444,\"#bd3786\"],[0.5555555555555556,\"#d8576b\"],[0.6666666666666666,\"#ed7953\"],[0.7777777777777778,\"#fb9f3a\"],[0.8888888888888888,\"#fdca26\"],[1.0,\"#f0f921\"]],\"type\":\"surface\"}],\"table\":[{\"cells\":{\"fill\":{\"color\":\"#EBF0F8\"},\"line\":{\"color\":\"white\"}},\"header\":{\"fill\":{\"color\":\"#C8D4E3\"},\"line\":{\"color\":\"white\"}},\"type\":\"table\"}]},\"layout\":{\"annotationdefaults\":{\"arrowcolor\":\"#2a3f5f\",\"arrowhead\":0,\"arrowwidth\":1},\"autotypenumbers\":\"strict\",\"coloraxis\":{\"colorbar\":{\"outlinewidth\":0,\"ticks\":\"\"}},\"colorscale\":{\"diverging\":[[0,\"#8e0152\"],[0.1,\"#c51b7d\"],[0.2,\"#de77ae\"],[0.3,\"#f1b6da\"],[0.4,\"#fde0ef\"],[0.5,\"#f7f7f7\"],[0.6,\"#e6f5d0\"],[0.7,\"#b8e186\"],[0.8,\"#7fbc41\"],[0.9,\"#4d9221\"],[1,\"#276419\"]],\"sequential\":[[0.0,\"#0d0887\"],[0.1111111111111111,\"#46039f\"],[0.2222222222222222,\"#7201a8\"],[0.3333333333333333,\"#9c179e\"],[0.4444444444444444,\"#bd3786\"],[0.5555555555555556,\"#d8576b\"],[0.6666666666666666,\"#ed7953\"],[0.7777777777777778,\"#fb9f3a\"],[0.8888888888888888,\"#fdca26\"],[1.0,\"#f0f921\"]],\"sequentialminus\":[[0.0,\"#0d0887\"],[0.1111111111111111,\"#46039f\"],[0.2222222222222222,\"#7201a8\"],[0.3333333333333333,\"#9c179e\"],[0.4444444444444444,\"#bd3786\"],[0.5555555555555556,\"#d8576b\"],[0.6666666666666666,\"#ed7953\"],[0.7777777777777778,\"#fb9f3a\"],[0.8888888888888888,\"#fdca26\"],[1.0,\"#f0f921\"]]},\"colorway\":[\"#636efa\",\"#EF553B\",\"#00cc96\",\"#ab63fa\",\"#FFA15A\",\"#19d3f3\",\"#FF6692\",\"#B6E880\",\"#FF97FF\",\"#FECB52\"],\"font\":{\"color\":\"#2a3f5f\"},\"geo\":{\"bgcolor\":\"white\",\"lakecolor\":\"white\",\"landcolor\":\"#E5ECF6\",\"showlakes\":true,\"showland\":true,\"subunitcolor\":\"white\"},\"hoverlabel\":{\"align\":\"left\"},\"hovermode\":\"closest\",\"mapbox\":{\"style\":\"light\"},\"paper_bgcolor\":\"white\",\"plot_bgcolor\":\"#E5ECF6\",\"polar\":{\"angularaxis\":{\"gridcolor\":\"white\",\"linecolor\":\"white\",\"ticks\":\"\"},\"bgcolor\":\"#E5ECF6\",\"radialaxis\":{\"gridcolor\":\"white\",\"linecolor\":\"white\",\"ticks\":\"\"}},\"scene\":{\"xaxis\":{\"backgroundcolor\":\"#E5ECF6\",\"gridcolor\":\"white\",\"gridwidth\":2,\"linecolor\":\"white\",\"showbackground\":true,\"ticks\":\"\",\"zerolinecolor\":\"white\"},\"yaxis\":{\"backgroundcolor\":\"#E5ECF6\",\"gridcolor\":\"white\",\"gridwidth\":2,\"linecolor\":\"white\",\"showbackground\":true,\"ticks\":\"\",\"zerolinecolor\":\"white\"},\"zaxis\":{\"backgroundcolor\":\"#E5ECF6\",\"gridcolor\":\"white\",\"gridwidth\":2,\"linecolor\":\"white\",\"showbackground\":true,\"ticks\":\"\",\"zerolinecolor\":\"white\"}},\"shapedefaults\":{\"line\":{\"color\":\"#2a3f5f\"}},\"ternary\":{\"aaxis\":{\"gridcolor\":\"white\",\"linecolor\":\"white\",\"ticks\":\"\"},\"baxis\":{\"gridcolor\":\"white\",\"linecolor\":\"white\",\"ticks\":\"\"},\"bgcolor\":\"#E5ECF6\",\"caxis\":{\"gridcolor\":\"white\",\"linecolor\":\"white\",\"ticks\":\"\"}},\"title\":{\"x\":0.05},\"xaxis\":{\"automargin\":true,\"gridcolor\":\"white\",\"linecolor\":\"white\",\"ticks\":\"\",\"title\":{\"standoff\":15},\"zerolinecolor\":\"white\",\"zerolinewidth\":2},\"yaxis\":{\"automargin\":true,\"gridcolor\":\"white\",\"linecolor\":\"white\",\"ticks\":\"\",\"title\":{\"standoff\":15},\"zerolinecolor\":\"white\",\"zerolinewidth\":2}}},\"title\":{\"font\":{\"color\":\"#4D5663\"}},\"xaxis\":{\"anchor\":\"y\",\"domain\":[0.0,0.2125],\"gridcolor\":\"#E1E5ED\",\"showgrid\":false,\"tickfont\":{\"color\":\"#4D5663\"},\"title\":{\"font\":{\"color\":\"#4D5663\"},\"text\":\"\"},\"zerolinecolor\":\"#E1E5ED\"},\"xaxis10\":{\"anchor\":\"y10\",\"domain\":[0.2625,0.475],\"gridcolor\":\"#E1E5ED\",\"showgrid\":false,\"tickfont\":{\"color\":\"#4D5663\"},\"title\":{\"font\":{\"color\":\"#4D5663\"},\"text\":\"\"},\"zerolinecolor\":\"#E1E5ED\"},\"xaxis11\":{\"anchor\":\"y11\",\"domain\":[0.525,0.7375],\"gridcolor\":\"#E1E5ED\",\"showgrid\":false,\"tickfont\":{\"color\":\"#4D5663\"},\"title\":{\"font\":{\"color\":\"#4D5663\"},\"text\":\"\"},\"zerolinecolor\":\"#E1E5ED\"},\"xaxis12\":{\"anchor\":\"y12\",\"domain\":[0.7875,1.0],\"gridcolor\":\"#E1E5ED\",\"showgrid\":false,\"tickfont\":{\"color\":\"#4D5663\"},\"title\":{\"font\":{\"color\":\"#4D5663\"},\"text\":\"\"},\"zerolinecolor\":\"#E1E5ED\"},\"xaxis13\":{\"anchor\":\"y13\",\"domain\":[0.0,0.2125],\"gridcolor\":\"#E1E5ED\",\"showgrid\":false,\"tickfont\":{\"color\":\"#4D5663\"},\"title\":{\"font\":{\"color\":\"#4D5663\"},\"text\":\"\"},\"zerolinecolor\":\"#E1E5ED\"},\"xaxis14\":{\"anchor\":\"y14\",\"domain\":[0.2625,0.475],\"gridcolor\":\"#E1E5ED\",\"showgrid\":false,\"tickfont\":{\"color\":\"#4D5663\"},\"title\":{\"font\":{\"color\":\"#4D5663\"},\"text\":\"\"},\"zerolinecolor\":\"#E1E5ED\"},\"xaxis15\":{\"anchor\":\"y15\",\"domain\":[0.525,0.7375],\"gridcolor\":\"#E1E5ED\",\"showgrid\":false,\"tickfont\":{\"color\":\"#4D5663\"},\"title\":{\"font\":{\"color\":\"#4D5663\"},\"text\":\"\"},\"zerolinecolor\":\"#E1E5ED\"},\"xaxis16\":{\"anchor\":\"y16\",\"domain\":[0.7875,1.0],\"gridcolor\":\"#E1E5ED\",\"showgrid\":false,\"tickfont\":{\"color\":\"#4D5663\"},\"title\":{\"font\":{\"color\":\"#4D5663\"},\"text\":\"\"},\"zerolinecolor\":\"#E1E5ED\"},\"xaxis2\":{\"anchor\":\"y2\",\"domain\":[0.2625,0.475],\"gridcolor\":\"#E1E5ED\",\"showgrid\":false,\"tickfont\":{\"color\":\"#4D5663\"},\"title\":{\"font\":{\"color\":\"#4D5663\"},\"text\":\"\"},\"zerolinecolor\":\"#E1E5ED\"},\"xaxis3\":{\"anchor\":\"y3\",\"domain\":[0.525,0.7375],\"gridcolor\":\"#E1E5ED\",\"showgrid\":false,\"tickfont\":{\"color\":\"#4D5663\"},\"title\":{\"font\":{\"color\":\"#4D5663\"},\"text\":\"\"},\"zerolinecolor\":\"#E1E5ED\"},\"xaxis4\":{\"anchor\":\"y4\",\"domain\":[0.7875,1.0],\"gridcolor\":\"#E1E5ED\",\"showgrid\":false,\"tickfont\":{\"color\":\"#4D5663\"},\"title\":{\"font\":{\"color\":\"#4D5663\"},\"text\":\"\"},\"zerolinecolor\":\"#E1E5ED\"},\"xaxis5\":{\"anchor\":\"y5\",\"domain\":[0.0,0.2125],\"gridcolor\":\"#E1E5ED\",\"showgrid\":false,\"tickfont\":{\"color\":\"#4D5663\"},\"title\":{\"font\":{\"color\":\"#4D5663\"},\"text\":\"\"},\"zerolinecolor\":\"#E1E5ED\"},\"xaxis6\":{\"anchor\":\"y6\",\"domain\":[0.2625,0.475],\"gridcolor\":\"#E1E5ED\",\"showgrid\":false,\"tickfont\":{\"color\":\"#4D5663\"},\"title\":{\"font\":{\"color\":\"#4D5663\"},\"text\":\"\"},\"zerolinecolor\":\"#E1E5ED\"},\"xaxis7\":{\"anchor\":\"y7\",\"domain\":[0.525,0.7375],\"gridcolor\":\"#E1E5ED\",\"showgrid\":false,\"tickfont\":{\"color\":\"#4D5663\"},\"title\":{\"font\":{\"color\":\"#4D5663\"},\"text\":\"\"},\"zerolinecolor\":\"#E1E5ED\"},\"xaxis8\":{\"anchor\":\"y8\",\"domain\":[0.7875,1.0],\"gridcolor\":\"#E1E5ED\",\"showgrid\":false,\"tickfont\":{\"color\":\"#4D5663\"},\"title\":{\"font\":{\"color\":\"#4D5663\"},\"text\":\"\"},\"zerolinecolor\":\"#E1E5ED\"},\"xaxis9\":{\"anchor\":\"y9\",\"domain\":[0.0,0.2125],\"gridcolor\":\"#E1E5ED\",\"showgrid\":false,\"tickfont\":{\"color\":\"#4D5663\"},\"title\":{\"font\":{\"color\":\"#4D5663\"},\"text\":\"\"},\"zerolinecolor\":\"#E1E5ED\"},\"yaxis\":{\"anchor\":\"x\",\"domain\":[0.8025,1.0],\"gridcolor\":\"#E1E5ED\",\"showgrid\":false,\"tickfont\":{\"color\":\"#4D5663\"},\"title\":{\"font\":{\"color\":\"#4D5663\"},\"text\":\"\"},\"zerolinecolor\":\"#E1E5ED\"},\"yaxis10\":{\"anchor\":\"x10\",\"domain\":[0.2675,0.465],\"gridcolor\":\"#E1E5ED\",\"showgrid\":false,\"tickfont\":{\"color\":\"#4D5663\"},\"title\":{\"font\":{\"color\":\"#4D5663\"},\"text\":\"\"},\"zerolinecolor\":\"#E1E5ED\"},\"yaxis11\":{\"anchor\":\"x11\",\"domain\":[0.2675,0.465],\"gridcolor\":\"#E1E5ED\",\"showgrid\":false,\"tickfont\":{\"color\":\"#4D5663\"},\"title\":{\"font\":{\"color\":\"#4D5663\"},\"text\":\"\"},\"zerolinecolor\":\"#E1E5ED\"},\"yaxis12\":{\"anchor\":\"x12\",\"domain\":[0.2675,0.465],\"gridcolor\":\"#E1E5ED\",\"showgrid\":false,\"tickfont\":{\"color\":\"#4D5663\"},\"title\":{\"font\":{\"color\":\"#4D5663\"},\"text\":\"\"},\"zerolinecolor\":\"#E1E5ED\"},\"yaxis13\":{\"anchor\":\"x13\",\"domain\":[0.0,0.1975],\"gridcolor\":\"#E1E5ED\",\"showgrid\":false,\"tickfont\":{\"color\":\"#4D5663\"},\"title\":{\"font\":{\"color\":\"#4D5663\"},\"text\":\"\"},\"zerolinecolor\":\"#E1E5ED\"},\"yaxis14\":{\"anchor\":\"x14\",\"domain\":[0.0,0.1975],\"gridcolor\":\"#E1E5ED\",\"showgrid\":false,\"tickfont\":{\"color\":\"#4D5663\"},\"title\":{\"font\":{\"color\":\"#4D5663\"},\"text\":\"\"},\"zerolinecolor\":\"#E1E5ED\"},\"yaxis15\":{\"anchor\":\"x15\",\"domain\":[0.0,0.1975],\"gridcolor\":\"#E1E5ED\",\"showgrid\":false,\"tickfont\":{\"color\":\"#4D5663\"},\"title\":{\"font\":{\"color\":\"#4D5663\"},\"text\":\"\"},\"zerolinecolor\":\"#E1E5ED\"},\"yaxis16\":{\"anchor\":\"x16\",\"domain\":[0.0,0.1975],\"gridcolor\":\"#E1E5ED\",\"showgrid\":false,\"tickfont\":{\"color\":\"#4D5663\"},\"title\":{\"font\":{\"color\":\"#4D5663\"},\"text\":\"\"},\"zerolinecolor\":\"#E1E5ED\"},\"yaxis2\":{\"anchor\":\"x2\",\"domain\":[0.8025,1.0],\"gridcolor\":\"#E1E5ED\",\"showgrid\":false,\"tickfont\":{\"color\":\"#4D5663\"},\"title\":{\"font\":{\"color\":\"#4D5663\"},\"text\":\"\"},\"zerolinecolor\":\"#E1E5ED\"},\"yaxis3\":{\"anchor\":\"x3\",\"domain\":[0.8025,1.0],\"gridcolor\":\"#E1E5ED\",\"showgrid\":false,\"tickfont\":{\"color\":\"#4D5663\"},\"title\":{\"font\":{\"color\":\"#4D5663\"},\"text\":\"\"},\"zerolinecolor\":\"#E1E5ED\"},\"yaxis4\":{\"anchor\":\"x4\",\"domain\":[0.8025,1.0],\"gridcolor\":\"#E1E5ED\",\"showgrid\":false,\"tickfont\":{\"color\":\"#4D5663\"},\"title\":{\"font\":{\"color\":\"#4D5663\"},\"text\":\"\"},\"zerolinecolor\":\"#E1E5ED\"},\"yaxis5\":{\"anchor\":\"x5\",\"domain\":[0.535,0.7325],\"gridcolor\":\"#E1E5ED\",\"showgrid\":false,\"tickfont\":{\"color\":\"#4D5663\"},\"title\":{\"font\":{\"color\":\"#4D5663\"},\"text\":\"\"},\"zerolinecolor\":\"#E1E5ED\"},\"yaxis6\":{\"anchor\":\"x6\",\"domain\":[0.535,0.7325],\"gridcolor\":\"#E1E5ED\",\"showgrid\":false,\"tickfont\":{\"color\":\"#4D5663\"},\"title\":{\"font\":{\"color\":\"#4D5663\"},\"text\":\"\"},\"zerolinecolor\":\"#E1E5ED\"},\"yaxis7\":{\"anchor\":\"x7\",\"domain\":[0.535,0.7325],\"gridcolor\":\"#E1E5ED\",\"showgrid\":false,\"tickfont\":{\"color\":\"#4D5663\"},\"title\":{\"font\":{\"color\":\"#4D5663\"},\"text\":\"\"},\"zerolinecolor\":\"#E1E5ED\"},\"yaxis8\":{\"anchor\":\"x8\",\"domain\":[0.535,0.7325],\"gridcolor\":\"#E1E5ED\",\"showgrid\":false,\"tickfont\":{\"color\":\"#4D5663\"},\"title\":{\"font\":{\"color\":\"#4D5663\"},\"text\":\"\"},\"zerolinecolor\":\"#E1E5ED\"},\"yaxis9\":{\"anchor\":\"x9\",\"domain\":[0.2675,0.465],\"gridcolor\":\"#E1E5ED\",\"showgrid\":false,\"tickfont\":{\"color\":\"#4D5663\"},\"title\":{\"font\":{\"color\":\"#4D5663\"},\"text\":\"\"},\"zerolinecolor\":\"#E1E5ED\"}},                        {\"showLink\": true, \"linkText\": \"Export to plot.ly\", \"plotlyServerURL\": \"https://plot.ly\", \"responsive\": true}                    ).then(function(){\n                            \nvar gd = document.getElementById('58834994-1367-44b8-b704-09a0da8ba14e');\nvar x = new MutationObserver(function (mutations, observer) {{\n        var display = window.getComputedStyle(gd).display;\n        if (!display || display === 'none') {{\n            console.log([gd, 'removed!']);\n            Plotly.purge(gd);\n            observer.disconnect();\n        }}\n}});\n\n// Listen for the removal of the full notebook cells\nvar notebookContainer = gd.closest('#notebook-container');\nif (notebookContainer) {{\n    x.observe(notebookContainer, {childList: true});\n}}\n\n// Listen for the clearing of the current output cell\nvar outputEl = gd.closest('.output');\nif (outputEl) {{\n    x.observe(outputEl, {childList: true});\n}}\n\n                        })                };                });            </script>        </div>"
     },
     "metadata": {}
    }
   ],
   "source": [
    "df.scatter_matrix()"
   ]
  },
  {
   "cell_type": "code",
   "execution_count": null,
   "metadata": {},
   "outputs": [],
   "source": []
  }
 ],
 "metadata": {
  "kernelspec": {
   "name": "python3",
   "display_name": "Python 3.8.5 64-bit"
  },
  "language_info": {
   "codemirror_mode": {
    "name": "ipython",
    "version": 3
   },
   "file_extension": ".py",
   "mimetype": "text/x-python",
   "name": "python",
   "nbconvert_exporter": "python",
   "pygments_lexer": "ipython3",
   "version": "3.8.5"
  },
  "interpreter": {
   "hash": "31f2aee4e71d21fbe5cf8b01ff0e069b9275f58929596ceb00d14d90e3e16cd6"
  }
 },
 "nbformat": 4,
 "nbformat_minor": 0
}